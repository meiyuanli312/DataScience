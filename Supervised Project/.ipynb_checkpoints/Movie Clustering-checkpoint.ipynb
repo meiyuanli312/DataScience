{
 "cells": [
  {
   "cell_type": "markdown",
   "metadata": {},
   "source": [
    "# Project Motives\n",
    "This project uses unsupervised learning algorithm KMeans and LDA to perform text clustering on 239 movie plots.    \n",
    "Movies will be seperated into different clusters/topics with top 5 their keywords.    \n",
    "This is useful for movie recommendation system. "
   ]
  },
  {
   "cell_type": "markdown",
   "metadata": {},
   "source": [
    "## Step 1: Dataset Description and  Data Preparation"
   ]
  },
  {
   "cell_type": "markdown",
   "metadata": {},
   "source": [
    "**Dataset Description**   \n",
    "We web crawled the IMDB website and extract these following info:  \n",
    "Moive ID: Movie's unique ID on that site. It can be used to crawl all other information of that movie  \n",
    "Raking: Their ranking in the top rated 250 movies   \n",
    "Moive Name: Movie's English name and its production year   \n",
    "Movie Plot: Movies' story, summary"
   ]
  },
  {
   "cell_type": "markdown",
   "metadata": {},
   "source": [
    "**Data Preparation**"
   ]
  },
  {
   "cell_type": "code",
   "execution_count": 2,
   "metadata": {
    "collapsed": false
   },
   "outputs": [],
   "source": [
    "import pandas as pd\n",
    "from urllib.request import urlopen \n",
    "from bs4 import BeautifulSoup\n",
    "import re\n",
    "import warnings\n",
    "warnings.filterwarnings('ignore')\n",
    "import numpy as np\n",
    "import nltk\n",
    "import os"
   ]
  },
  {
   "cell_type": "markdown",
   "metadata": {},
   "source": [
    "Connect with IMDB top rated 250 movies and get their raw movie Ids, movie names and their production years."
   ]
  },
  {
   "cell_type": "code",
   "execution_count": 2,
   "metadata": {
    "collapsed": false
   },
   "outputs": [],
   "source": [
    "html = urlopen(\"http://www.imdb.com/chart/top\") \n",
    "bsObj = BeautifulSoup(html.read(),'html.parser')\n",
    "movieEntries = bsObj .findAll('div', {'class':'wlb_ribbon'})\n",
    "movieNames = bsObj.findAll('a', {'href':re.compile(\"/title/tt[0-9]{7}/\")})\n",
    "years = bsObj.findAll('span', {'class':\"secondaryInfo\"})"
   ]
  },
  {
   "cell_type": "markdown",
   "metadata": {},
   "source": [
    "Concatenate movie names and thier production years"
   ]
  },
  {
   "cell_type": "code",
   "execution_count": 3,
   "metadata": {
    "collapsed": false
   },
   "outputs": [
    {
     "data": {
      "text/plain": [
       "['The Shawshank Redemption(1994)',\n",
       " 'The Godfather(1972)',\n",
       " 'The Godfather: Part II(1974)',\n",
       " 'The Dark Knight(2008)',\n",
       " '12 Angry Men(1957)']"
      ]
     },
     "execution_count": 3,
     "metadata": {},
     "output_type": "execute_result"
    }
   ],
   "source": [
    "completeNames = []\n",
    "for i in range(250):\n",
    "    completeName = movieNames[(2 * i) + 1].get_text() + years[i].get_text()\n",
    "    completeNames.append(completeName)\n",
    "\n",
    "# Inspect \n",
    "completeNames[:5]"
   ]
  },
  {
   "cell_type": "markdown",
   "metadata": {},
   "source": [
    "Retrieve movie IDs for movie plots crawling on another page of the IMDB site"
   ]
  },
  {
   "cell_type": "code",
   "execution_count": 4,
   "metadata": {
    "collapsed": false
   },
   "outputs": [
    {
     "data": {
      "text/plain": [
       "['tt0111161', 'tt0068646', 'tt0071562', 'tt0468569', 'tt0050083']"
      ]
     },
     "execution_count": 4,
     "metadata": {},
     "output_type": "execute_result"
    }
   ],
   "source": [
    "movieIds=[]\n",
    "for entry in movieEntries:\n",
    "    movieIds.append(entry['data-tconst'])\n",
    "\n",
    "# Inspect\n",
    "movieIds[:5]"
   ]
  },
  {
   "cell_type": "code",
   "execution_count": 5,
   "metadata": {
    "collapsed": true
   },
   "outputs": [],
   "source": [
    "# Define a function to use movie ID to crawl movie plot on other IMDB pages\n",
    "def getPlot(movieId):\n",
    "    html = urlopen('http://www.imdb.com/title/' + movieId + '/plotsummary')\n",
    "    bsobj = BeautifulSoup(html.read(),'html.parser').find('li', {'id':re.compile(\"synopsis-py*\")})\n",
    "    if bsobj == None:\n",
    "        return movieId\n",
    "    else:\n",
    "        return bsobj.get_text()"
   ]
  },
  {
   "cell_type": "markdown",
   "metadata": {},
   "source": [
    "Retrieve movie plots "
   ]
  },
  {
   "cell_type": "code",
   "execution_count": 6,
   "metadata": {
    "collapsed": true
   },
   "outputs": [],
   "source": [
    "moviePlots = []\n",
    "for movieId in movieIds:\n",
    "    plot = getPlot(movieId)\n",
    "    moviePlots.append(plot)"
   ]
  },
  {
   "cell_type": "code",
   "execution_count": 7,
   "metadata": {
    "collapsed": true
   },
   "outputs": [
    {
     "data": {
      "text/plain": [
       "'In 1947, Andy Dufresne (Tim Robbins), a banker in Maine, is convicted of murdering his wife and her lover, a golf pro. Since the state of Maine has no death penalty, he is given two consecutive life sentences and sent to the notoriously harsh Shawshank Prison. Andy always claims his innocence, but his cold and measured demeanor led many to doubt his word.During the first night, the chief guard, Byron Hadley (Clancy Brown), savagely beats an overweight and newly arrived inmate because of his crying and hysterics. The inmate later dies in the infirmary because the prison doctor had left for the night. Meanwhile, Andy remained steadfast and composed. Ellis Boyd Redding (Morgan Freeman), known as Red, bet against others that Andy would be the one to break down first and loses a considerable amount of cash. Red has been in prison for several years having been given three consecutive life sentences for the murder of his wife and two others.About a month later, Andy approaches Red, who runs contraband inside the walls of Shawshank. He asks Red to find him a rock hammer, an instrument he claims is necessary for his hobby of rock collecting and sculpting. Though other prisoners consider Andy \"a really cold fish,\" Red sees something in Andy, and likes him from the start. Red believes Andy intends to use the hammer to engineer his escape in the future but when the tool arrives and he sees how small it is, Red puts aside the thought that Andy could ever use it to dig his way out of prison.During the first two years of his incarceration, Andy works in the prison laundry. He attracts attention from \"the Sisters,\" a group of prisoners who sexually assault other prisoners. Though he persistently resists and fights them, Andy is beaten and raped on a regular basis.Red pulls some strings and gets Andy and a few of their mutual friends a break by getting them all on a work detail tarring the roof of one of the prison\\'s buildings. During the job Andy overhears Hadley complaining about having to pay taxes for an upcoming inheritance. Drawing on his expertise as a banker, Andy lets Hadley know how he can shelter his money from the IRS, turning it into a one-time gift for his wife. He says he\\'ll assist in exchange for some cold beers for his fellow inmates while on the tarring job. Though he at first threatens to throw Andy off the roof, Hadley, the most brutal guard in the prison, agrees, providing the men with cold beer before the job is finished. Red remarks that Andy may have engineered the privilege to build favor with the prison guards as much as with his fellow inmates, but Red also thinks Andy did it simply to \"feel free.\"While watching a movie, Andy demands \"Rita Hayworth\" from Red. Soon after, Andy once more encounters the Sisters and is brutally beaten, putting him in the infirmary for a month. Boggs (Mark Rolston), the leader of the Sisters, spends a week in solitary for the beating. When he comes out, he finds Hadley and his men waiting in his cell. They beat him so badly he\\'s left paralyzed, transferred to a prison hospital upstate, and the Sisters never bother Andy again. When Andy gets out of the infirmary, he finds a bunch of rocks and a poster of Rita Hayworth in his cell: presents from Red and his buddies.Warden Samuel Norton (Bob Gunton) hears about how Andy helped Hadley and uses a surprise cell inspection to size Andy up. The warden meets with Andy and sends him to work with aging inmate Brooks Hatlen (James Whitmore) in the prison library, where he sets up a make-shift desk to provide services to other guards (and the warden himself) with income tax returns and other financial advice. Andy sees an opportunity to expand the prison library; he starts by asking the Maine state senate for funds. He writes letters every week. His financial support practice is so appreciated that even guards from other prisons, when they visit for inter-prison baseball matches, seek Andy\\'s financial advice. Andy prepares Norton\\'s tax returns the next season.Not long afterward, Brooks, the old librarian, threatens to kill another prisoner, Heywood, in order to avoid being paroled. Andy is able to talk him down and Brooks is paroled. He goes to a halfway house but finds it impossible to adjust to life outside the prison. He eventually commits suicide. When his friends suggest that he was crazy for doing so, Red tells them that Brooks had obviously become \"institutionalized,\" essentially conditioned to be a prisoner for the rest of his life and unable to adapt to the outside world. Red remarks: \"These walls are funny. First you hate \\'em, then you get used to \\'em. Enough time passes, you get so you depend on them.\"After six years of writing letters, Andy receives $200 from the state for the library, along with a collection of old books and phonograph records. Though the state Senate thinks this will be enough to get Andy to halt his letter-writing campaign, he is undaunted and redoubles his efforts.When the donations of old books and records arrive at the warden\\'s office, Andy finds a copy of Mozart\\'s The Marriage of Figaro among the records. He locks the guard assigned to the warden\\'s office in the bathroom and plays the record over the prison\\'s PA system. The entire prison seems captivated by the music &mdash; Red remarks that the voices of the women in the intro made everyone feel free, if only for a brief time. Outside the office, Norton appears, furious at the act of defiance, and orders Andy to turn off the record player. Andy reaches for the needle arm at first, then turns the volume on the phonograph up. The warden orders Hadley to break into the office and Andy is sent immediately to solitary confinement for two weeks. When he gets out, he tells his friends that the stretch was the \"easiest time\" he ever did in the hole because he spent it thinking about Mozart\\'s Figaro. When the other prisoners tell him how unlikely that is, he replies that hope can sustain them. Red is not convinced and leaves, bitter at the thought.With the enlarged library and more materials, Andy begins to teach those inmates who want to receive their high school diplomas. After Andy is able to secure a steady stream of funding from various sources, the library is further renovated and named for Brooks.Warden Norton profits on Andy\\'s knowledge of accounting and devises a scheme whereby he puts prison inmates to work in public projects which he wins by outbidding other contractors (prisoners are cheap labor). Occasionally, he lets others get some contracts if they bribe him. Andy launders money for the warden by setting up many accounts in different banks, along with several investments, using a fake identity: \"Randall Stephens.\" He shares the details only with his friend, Red, noting that he had to \"go to prison to learn how to be a criminal.\"In 1965, a young prisoner named Tommy (Gil Bellows) comes to Shawshank to serve time for armed robbery. Tommy is easy going, charismatic, and popular among the other inmates. Andy suggests that Tommy take up another line of work besides theft. The suggestion really gets to Tommy and he works on earning his high school equivalency diploma. Though Tommy is a good student, he is still frustrated when he takes the exam itself, crumpling it up and tossing it in the trash. Andy retrieves it and sends it in.One day Red tells Tommy about Andy\\'s case. Tommy is visibly upset at hearing Andy\\'s story and tells Andy and Red that he had a cellmate in another prison who boasted about killing a man who was a pro golfer at the country club he worked at, along with his lover. The woman\\'s husband, a banker, had gone to prison for those murders. With this new information, Andy, full of hope, meets with the warden, expecting North to help him get another trial with Tommy as a witness. The reaction from Norton is completely contrary to what Andy hoped for. When Andy says emphatically that he would never reveal the money laundering schemes he set up for Norton over the years, the warden becomes furious and orders him to solitary for a month. The warden later meets with Tommy alone and asks him if he\\'ll testify on Andy\\'s behalf. Tommy enthusiastically agrees and the warden has him shot dead by Hadley.When the warden visits Andy in solitary, he tells him that Tommy was killed while attempting escape. Andy tells Norton that the financial schemes will stop. The warden counters, saying the library will be destroyed and all its materials burned. Andy will also lose his private cell and be sent to the block with the most hardened criminals. The warden gives Andy another month in solitary.Afterwards, Andy returns to the usual daily life at Shawshank, a seemingly broken man. One day he talks to Red, about how although he didn\\'t kill his wife, his personality drove her away, which led to her infidelity and death. He says if he\\'s ever freed or escapes, he\\'d like to go to Zihuatanejo, a beach town on the Pacific coast of Mexico. He also tells Red how he got engaged. He and his future wife went up to a farm in Buxton, Maine, to a large oak tree at the end of a stone wall. The two made love under the tree, after which he proposed to her. He tells Red that, if he should ever be paroled, he should look for that field, and that oak tree. There, under a large black volcanic rock that would look out of place, Andy has buried a box that he wants Red to have. Andy refuses to reveal what might be in that box.Later, Andy asks for a length of rope, leading Red and his buddies to suspect he will commit suicide. At the end of the day, Norton asks Andy to shine his shoes for him and put his suit in for dry-cleaning before retiring for the night.The following morning, Andy is not accounted for as usual in his cell. At the same time, Norton becomes alarmed when he finds Andy\\'s shoes in his shoebox instead of his own. He rushes to Andy\\'s cell and demands an explanation. Hadley brings in Red, but Red insists he knows nothing of Andy\\'s plans. Becoming increasing hostile and paranoid, Norton starts throwing Andy\\'s sculpted rocks around the cell. When he throws one at Andy\\'s poster of Raquel Welch (in the spot previously occupied by Marilyn Monroe, and before that by Rita Hayworth), the rock punches through and into the wall. Norton tears the poster away from the wall and finds a tunnel just wide enough for a man to crawl through.During the previous night\\'s thunderstorm, Andy wore Norton\\'s shoes to his cell, catching a lucky break when no one notices. He packed some papers and Norton\\'s clothes into a plastic bag, tied it to himself with the rope he\\'d asked for, and escaped through his hole. The tunnel he\\'d excavated led him to a space between two walls of the prison where he found a sewer main line. Using a rock, he hit the sewer line in time with the lightning strikes and eventually burst it. Crawling through 500 yards in the pipe and through the raw sewage contained in it, Andy emerged in a brook outside the walls. A search team later found his uniform and his rock hammer, which had been worn nearly to nothing.That morning, Andy walks into the Maine National Bank in Portland, where he had put Warden Norton\\'s money. Using his assumed identity as Randall Stephens, and with all the necessary documentation, he closes the account and walks out with a cashier\\'s check. Before he leaves, he asks them to drop a package in the mail. He continues his visitations to nearly a dozen other local banks, ending up with some $370,000. The package contains Warden Norton\\'s account books, which are delivered straight to the Portland Daily Bugle newspaper.Not long after, the police storm Shawshank Prison. Hadley is arrested for murder; Red says he was taken away \"crying like a little girl.\" Warden Norton finally opens his safe, which he hadn\\'t touched since Andy escaped, and instead of his books, he finds the Bible he had given Andy. Norton opens it to the book of Exodus and finds that the pages have been cut out in the shape of Andy\\'s rock hammer. Norton walks back to his desk as the police pound on his door, takes out a small revolver and shoots himself under the chin. Red remarks that he wondered if the warden thought, right before pulling the trigger, how \"Andy could ever have gotten the best of him.\"Shortly after, Red receives a postcard from Fort Hancock, Texas, with nothing written on it. Red takes it as a sign that Andy made it into Mexico to freedom. Red and his buddies kill time talking about Andy\\'s exploits (with a lot of embellishments), but Red just misses his friend.At Red\\'s next parole hearing in 1967, he talks to the parole board about how \"rehabilitated\" was a made-up word, and how he regretted his actions of the past of murder over 40 years ago and no longer expects anything from them. His parole is granted this time. He goes to work at a grocery store, and stays at the same halfway house room Brooks had stayed in. He frequently walks by a pawn shop which has several guns and compasses in the window. At times he contemplates trying to get back into prison feeling that he has no life outside of prison where he has spent most of his adult life, but he remembers the promise he made to Andy.One day, with a compass he bought from the pawn shop, he follows Andy\\'s instructions, hitchhiking to Buxton and arriving at the stone wall Andy described. Just as Andy said, there was a large black stone. Under it was a small box containing a large sum of cash and instructions to find him. He said he needed somebody \"who could get things\" for a \"project\" of his.Red violates parole and leaves the halfway house, unconcerned since no one is likely to do an extensive manhunt for \"an old crook like [him].\" He takes a bus to Fort Hancock, where he crosses into Mexico. The two friends are finally reunited on the beach of Zihuatanejo on the Pacific coast.'"
      ]
     },
     "execution_count": 7,
     "metadata": {},
     "output_type": "execute_result"
    }
   ],
   "source": [
    "# Inspect \n",
    "moviePlots[0]"
   ]
  },
  {
   "cell_type": "markdown",
   "metadata": {},
   "source": [
    "Build a datafram which has movie ID, movie ranking, movie name and movie plot as its columns"
   ]
  },
  {
   "cell_type": "code",
   "execution_count": 8,
   "metadata": {
    "collapsed": false
   },
   "outputs": [],
   "source": [
    "df = pd.DataFrame(movieIds, columns = ['MovieId'])"
   ]
  },
  {
   "cell_type": "code",
   "execution_count": 9,
   "metadata": {
    "collapsed": false
   },
   "outputs": [],
   "source": [
    "df['Ranking'] = range(1,251)\n",
    "df['MovieName'] = completeNames\n",
    "df['MoviePlot'] = moviePlots"
   ]
  },
  {
   "cell_type": "markdown",
   "metadata": {},
   "source": [
    "There are 11 movies that have no plots available on the IMDB site"
   ]
  },
  {
   "cell_type": "code",
   "execution_count": 10,
   "metadata": {
    "collapsed": false
   },
   "outputs": [
    {
     "data": {
      "text/html": [
       "<div>\n",
       "<style>\n",
       "    .dataframe thead tr:only-child th {\n",
       "        text-align: right;\n",
       "    }\n",
       "\n",
       "    .dataframe thead th {\n",
       "        text-align: left;\n",
       "    }\n",
       "\n",
       "    .dataframe tbody tr th {\n",
       "        vertical-align: top;\n",
       "    }\n",
       "</style>\n",
       "<table border=\"1\" class=\"dataframe\">\n",
       "  <thead>\n",
       "    <tr style=\"text-align: right;\">\n",
       "      <th></th>\n",
       "      <th>MovieId</th>\n",
       "      <th>Ranking</th>\n",
       "      <th>MovieName</th>\n",
       "      <th>MoviePlot</th>\n",
       "    </tr>\n",
       "  </thead>\n",
       "  <tbody>\n",
       "    <tr>\n",
       "      <th>37</th>\n",
       "      <td>tt0027977</td>\n",
       "      <td>38</td>\n",
       "      <td>Modern Times(1936)</td>\n",
       "      <td>tt0027977</td>\n",
       "    </tr>\n",
       "    <tr>\n",
       "      <th>99</th>\n",
       "      <td>tt0012349</td>\n",
       "      <td>100</td>\n",
       "      <td>The Kid(1921)</td>\n",
       "      <td>tt0012349</td>\n",
       "    </tr>\n",
       "    <tr>\n",
       "      <th>114</th>\n",
       "      <td>tt0476735</td>\n",
       "      <td>115</td>\n",
       "      <td>Babam ve Oglum(2005)</td>\n",
       "      <td>tt0476735</td>\n",
       "    </tr>\n",
       "    <tr>\n",
       "      <th>127</th>\n",
       "      <td>tt0044741</td>\n",
       "      <td>128</td>\n",
       "      <td>Ikiru(1952)</td>\n",
       "      <td>tt0044741</td>\n",
       "    </tr>\n",
       "    <tr>\n",
       "      <th>166</th>\n",
       "      <td>tt0116231</td>\n",
       "      <td>167</td>\n",
       "      <td>The Bandit(1996)</td>\n",
       "      <td>tt0116231</td>\n",
       "    </tr>\n",
       "    <tr>\n",
       "      <th>170</th>\n",
       "      <td>tt0091251</td>\n",
       "      <td>171</td>\n",
       "      <td>Come and See(1985)</td>\n",
       "      <td>tt0091251</td>\n",
       "    </tr>\n",
       "    <tr>\n",
       "      <th>185</th>\n",
       "      <td>tt3011894</td>\n",
       "      <td>186</td>\n",
       "      <td>Relatos salvajes(2014)</td>\n",
       "      <td>tt3011894</td>\n",
       "    </tr>\n",
       "    <tr>\n",
       "      <th>198</th>\n",
       "      <td>tt0053198</td>\n",
       "      <td>199</td>\n",
       "      <td>The 400 Blows(1959)</td>\n",
       "      <td>tt0053198</td>\n",
       "    </tr>\n",
       "    <tr>\n",
       "      <th>210</th>\n",
       "      <td>tt0087544</td>\n",
       "      <td>211</td>\n",
       "      <td>Nausicaä of the Valley of the Wind(1984)</td>\n",
       "      <td>tt0087544</td>\n",
       "    </tr>\n",
       "    <tr>\n",
       "      <th>234</th>\n",
       "      <td>tt0113247</td>\n",
       "      <td>235</td>\n",
       "      <td>La Haine(1995)</td>\n",
       "      <td>tt0113247</td>\n",
       "    </tr>\n",
       "    <tr>\n",
       "      <th>235</th>\n",
       "      <td>tt0056801</td>\n",
       "      <td>236</td>\n",
       "      <td>8½(1963)</td>\n",
       "      <td>tt0056801</td>\n",
       "    </tr>\n",
       "  </tbody>\n",
       "</table>\n",
       "</div>"
      ],
      "text/plain": [
       "       MovieId  Ranking                                 MovieName  MoviePlot\n",
       "37   tt0027977       38                        Modern Times(1936)  tt0027977\n",
       "99   tt0012349      100                             The Kid(1921)  tt0012349\n",
       "114  tt0476735      115                      Babam ve Oglum(2005)  tt0476735\n",
       "127  tt0044741      128                               Ikiru(1952)  tt0044741\n",
       "166  tt0116231      167                          The Bandit(1996)  tt0116231\n",
       "170  tt0091251      171                        Come and See(1985)  tt0091251\n",
       "185  tt3011894      186                    Relatos salvajes(2014)  tt3011894\n",
       "198  tt0053198      199                       The 400 Blows(1959)  tt0053198\n",
       "210  tt0087544      211  Nausicaä of the Valley of the Wind(1984)  tt0087544\n",
       "234  tt0113247      235                            La Haine(1995)  tt0113247\n",
       "235  tt0056801      236                                  8½(1963)  tt0056801"
      ]
     },
     "execution_count": 10,
     "metadata": {},
     "output_type": "execute_result"
    }
   ],
   "source": [
    "df[df.MovieId == df.MoviePlot]"
   ]
  },
  {
   "cell_type": "markdown",
   "metadata": {},
   "source": [
    "So, we filter out above movies and create a new dataframe"
   ]
  },
  {
   "cell_type": "code",
   "execution_count": 230,
   "metadata": {
    "collapsed": false
   },
   "outputs": [],
   "source": [
    "df2 = df[df.MovieId != df.MoviePlot]"
   ]
  },
  {
   "cell_type": "markdown",
   "metadata": {},
   "source": [
    "## Step 2: Tokenizing and Stemming"
   ]
  },
  {
   "cell_type": "markdown",
   "metadata": {},
   "source": [
    "**What is tokenizing?**  \n",
    "In layman's terms, it means break long document(aka. movie plots) into single words"
   ]
  },
  {
   "cell_type": "markdown",
   "metadata": {},
   "source": [
    "** What is stemming?**   \n",
    "Also in layman's terms, it means transform words back to their 'root' states.    \n",
    "For example, unstemmed  word 'likes' -> stemmed word 'like'."
   ]
  },
  {
   "cell_type": "markdown",
   "metadata": {},
   "source": [
    "**Why do we need tokenizing and stemming?**  \n",
    "Useful unigrams is the key of text clustering.   \n",
    "These two steps are considered as the necessary steps for data preparation."
   ]
  },
  {
   "cell_type": "markdown",
   "metadata": {},
   "source": [
    "** How do we make use of tokenizing and stemming? **\n",
    "1. We define a function called tokenize_and_stem to prepare data for the TF-IDF model.    \n",
    "    This function will be set as a parameter for the TF-IDF model.\n",
    "2. We also build a dict that has structure {unstemmed_word: stemmed_word}   \n",
    "    When we anaylze the clustering and topic modeling, we can use this dict to show the actual words"
   ]
  },
  {
   "cell_type": "markdown",
   "metadata": {},
   "source": [
    "** Get started **\n",
    "<li> Load stopwords and stemmer function from NLTK library.  \n",
    "<li> Stop words are words like \"a\", \"the\", or \"in\" which don't convey significant meaning.  "
   ]
  },
  {
   "cell_type": "code",
   "execution_count": 12,
   "metadata": {
    "collapsed": false
   },
   "outputs": [],
   "source": [
    "# Use nltk's English stopwords.\n",
    "stopwords = nltk.corpus.stopwords.words('english')"
   ]
  },
  {
   "cell_type": "code",
   "execution_count": 13,
   "metadata": {
    "collapsed": false
   },
   "outputs": [
    {
     "data": {
      "text/plain": [
       "153"
      ]
     },
     "execution_count": 13,
     "metadata": {},
     "output_type": "execute_result"
    }
   ],
   "source": [
    "# We use this many stopwords\n",
    "len(stopwords)"
   ]
  },
  {
   "cell_type": "code",
   "execution_count": 14,
   "metadata": {
    "collapsed": false
   },
   "outputs": [
    {
     "data": {
      "text/plain": [
       "['i', 'me', 'my', 'myself', 'we', 'our', 'ours', 'ourselves', 'you', 'your']"
      ]
     },
     "execution_count": 14,
     "metadata": {},
     "output_type": "execute_result"
    }
   ],
   "source": [
    "# Inspect\n",
    "stopwords[:10]"
   ]
  },
  {
   "cell_type": "markdown",
   "metadata": {},
   "source": [
    "Here we define a function 'tokenize' to transform words in the movie plots   \n",
    "e.g. 'He loves python' will be tokenized to ['he', 'loves','python']"
   ]
  },
  {
   "cell_type": "code",
   "execution_count": 150,
   "metadata": {
    "collapsed": true
   },
   "outputs": [],
   "source": [
    "# Use this function to tokenize each plot \n",
    "def tokenize(plot):\n",
    "    # Break one movie plot into words, numbers and punctuations\n",
    "    tokens=[]\n",
    "    for word in nltk.word_tokenize(plot): \n",
    "        if word not in stopwords:\n",
    "            tokens.append(word)  \n",
    "    \n",
    "    # filter out any tokens not containing letters (numbers and punctuations)\n",
    "    filteredTokens = []\n",
    "    for token in tokens:\n",
    "        if re.match('^[a-zA-Z][a-zA-Z]*[a-zA-Z]$', token):\n",
    "            filteredTokens.append(token)\n",
    "    return filteredTokens"
   ]
  },
  {
   "cell_type": "markdown",
   "metadata": {},
   "source": [
    "<li> Stemming is the process of breaking a word down into its root.\n",
    "<li> ['He', 'loves','python'] will be transformed to ['he', 'love','python']"
   ]
  },
  {
   "cell_type": "markdown",
   "metadata": {},
   "source": [
    "Here we define a function to tokenize and stem words in the movie plots"
   ]
  },
  {
   "cell_type": "code",
   "execution_count": 232,
   "metadata": {
    "collapsed": false
   },
   "outputs": [],
   "source": [
    "# Use this function to stem the previous tokenized words\n",
    "from nltk.stem.snowball import SnowballStemmer\n",
    "stemmer = SnowballStemmer(\"english\")\n",
    "\n",
    "def tokenize_and_stem(plot):\n",
    "    # Call tokenize function first\n",
    "    filteredTokens = tokenize(plot)\n",
    "    \n",
    "    # Stem the filtered tokens\n",
    "    stemedTokens = []\n",
    "    for filteredTD in filteredTokens:\n",
    "        stemedTokens.append(stemmer.stem(filteredTD))\n",
    "    return stemedTokens"
   ]
  },
  {
   "cell_type": "markdown",
   "metadata": {},
   "source": [
    "Use our defined functions to transform 239 movie plots into 2 giant lists of words"
   ]
  },
  {
   "cell_type": "code",
   "execution_count": 152,
   "metadata": {
    "collapsed": false
   },
   "outputs": [],
   "source": [
    "all_words_tokenized = []\n",
    "all_words_stemmed = []\n",
    "for plot in df2.MoviePlot:\n",
    "    tokenized_Results = tokenize(plot)\n",
    "    all_words_tokenized.extend(tokenized_Results)\n",
    "    \n",
    "    tokenized_stemmed_Results = tokenize_and_stem(plot)\n",
    "    all_words_stemmed.extend(tokenized_stemmed_Results )"
   ]
  },
  {
   "cell_type": "code",
   "execution_count": 159,
   "metadata": {
    "collapsed": false,
    "scrolled": true
   },
   "outputs": [
    {
     "data": {
      "text/plain": [
       "['In', 'Andy', 'Dufresne', 'Tim', 'Robbins']"
      ]
     },
     "execution_count": 159,
     "metadata": {},
     "output_type": "execute_result"
    }
   ],
   "source": [
    "# Inspect\n",
    "all_words_tokenized[:5]"
   ]
  },
  {
   "cell_type": "code",
   "execution_count": 158,
   "metadata": {
    "collapsed": false
   },
   "outputs": [
    {
     "data": {
      "text/plain": [
       "['in', 'andi', 'dufresn', 'tim', 'robbin']"
      ]
     },
     "execution_count": 158,
     "metadata": {},
     "output_type": "execute_result"
    }
   ],
   "source": [
    "# Inspect\n",
    "all_words_stemmed[:5]"
   ]
  },
  {
   "cell_type": "markdown",
   "metadata": {},
   "source": [
    "Zip these two into a dict for Kmeans and Topic Modeling results analysis use"
   ]
  },
  {
   "cell_type": "code",
   "execution_count": 156,
   "metadata": {
    "collapsed": false
   },
   "outputs": [],
   "source": [
    "stemmed_unstemmed_dict = dict(zip(all_words_stemmed,all_words_tokenized))"
   ]
  },
  {
   "cell_type": "code",
   "execution_count": 157,
   "metadata": {
    "collapsed": true
   },
   "outputs": [
    {
     "data": {
      "text/plain": [
       "{'in': 'In',\n",
       " 'andi': 'Andy',\n",
       " 'dufresn': 'Dufresne',\n",
       " 'tim': 'Tim',\n",
       " 'robbin': 'Robbins',\n",
       " 'banker': 'banker',\n",
       " 'main': 'main',\n",
       " 'convict': 'convict',\n",
       " 'murder': 'murder',\n",
       " 'wife': 'wife',\n",
       " 'lover': 'lover',\n",
       " 'golf': 'golf',\n",
       " 'pro': 'pro',\n",
       " 'sinc': 'since',\n",
       " 'state': 'state',\n",
       " 'death': 'death',\n",
       " 'penalti': 'penalty',\n",
       " 'given': 'given',\n",
       " 'two': 'two',\n",
       " 'consecut': 'consecutive',\n",
       " 'life': 'life',\n",
       " 'sentenc': 'sentences',\n",
       " 'sent': 'sent',\n",
       " 'notori': 'notorious',\n",
       " 'harsh': 'harshly',\n",
       " 'shawshank': 'Shawshank',\n",
       " 'prison': 'prisoner',\n",
       " 'alway': 'always',\n",
       " 'claim': 'claiming',\n",
       " 'innoc': 'innocently',\n",
       " 'cold': 'Cold',\n",
       " 'measur': 'measures',\n",
       " 'demeanor': 'demeanor',\n",
       " 'led': 'led',\n",
       " 'mani': 'many',\n",
       " 'doubt': 'doubts',\n",
       " 'first': 'First',\n",
       " 'night': 'night',\n",
       " 'chief': 'Chief',\n",
       " 'guard': 'guard',\n",
       " 'byron': 'Byron',\n",
       " 'hadley': 'Hadley',\n",
       " 'clanci': 'Clancy',\n",
       " 'brown': 'Brown',\n",
       " 'savag': 'Savage',\n",
       " 'beat': 'beats',\n",
       " 'overweight': 'overweight',\n",
       " 'newli': 'newly',\n",
       " 'arriv': 'arrives',\n",
       " 'inmat': 'inmate',\n",
       " 'cri': 'cries',\n",
       " 'hyster': 'hysterically',\n",
       " 'the': 'The',\n",
       " 'later': 'Later',\n",
       " 'die': 'dies',\n",
       " 'infirmari': 'infirmary',\n",
       " 'doctor': 'doctor',\n",
       " 'left': 'left',\n",
       " 'meanwhil': 'Meanwhile',\n",
       " 'remain': 'remaining',\n",
       " 'steadfast': 'steadfast',\n",
       " 'compos': 'composes',\n",
       " 'elli': 'Ellis',\n",
       " 'boyd': 'Boyd',\n",
       " 'red': 'red',\n",
       " 'morgan': 'Morgan',\n",
       " 'freeman': 'Freeman',\n",
       " 'known': 'known',\n",
       " 'bet': 'bets',\n",
       " 'other': 'others',\n",
       " 'would': 'would',\n",
       " 'one': 'one',\n",
       " 'break': 'breaking',\n",
       " 'lose': 'loses',\n",
       " 'consider': 'considerable',\n",
       " 'amount': 'amount',\n",
       " 'cash': 'cash',\n",
       " 'sever': 'severance',\n",
       " 'year': 'years',\n",
       " 'three': 'three',\n",
       " 'month': 'month',\n",
       " 'approach': 'approaches',\n",
       " 'run': 'running',\n",
       " 'contraband': 'contraband',\n",
       " 'insid': 'inside',\n",
       " 'wall': 'wall',\n",
       " 'he': 'He',\n",
       " 'ask': 'asks',\n",
       " 'find': 'finds',\n",
       " 'rock': 'Rock',\n",
       " 'hammer': 'hammer',\n",
       " 'instrument': 'instrument',\n",
       " 'necessari': 'necessary',\n",
       " 'hobbi': 'hobbies',\n",
       " 'collect': 'collect',\n",
       " 'sculpt': 'sculpt',\n",
       " 'though': 'Though',\n",
       " 'consid': 'considered',\n",
       " 'realli': 'really',\n",
       " 'fish': 'fish',\n",
       " 'see': 'see',\n",
       " 'someth': 'something',\n",
       " 'like': 'like',\n",
       " 'start': 'starts',\n",
       " 'believ': 'Believing',\n",
       " 'intend': 'intended',\n",
       " 'use': 'used',\n",
       " 'engin': 'engine',\n",
       " 'escap': 'escaped',\n",
       " 'futur': 'futures',\n",
       " 'tool': 'tool',\n",
       " 'small': 'small',\n",
       " 'put': 'putting',\n",
       " 'asid': 'aside',\n",
       " 'thought': 'thoughts',\n",
       " 'could': 'could',\n",
       " 'ever': 'ever',\n",
       " 'dig': 'dig',\n",
       " 'way': 'way',\n",
       " 'incarcer': 'incarcerated',\n",
       " 'work': 'work',\n",
       " 'laundri': 'laundry',\n",
       " 'attract': 'attracted',\n",
       " 'attent': 'attention',\n",
       " 'sister': 'sister',\n",
       " 'group': 'group',\n",
       " 'sexual': 'sexual',\n",
       " 'assault': 'assault',\n",
       " 'persist': 'persistence',\n",
       " 'resist': 'resistance',\n",
       " 'fight': 'fight',\n",
       " 'beaten': 'beaten',\n",
       " 'rape': 'raped',\n",
       " 'regular': 'regular',\n",
       " 'pull': 'pull',\n",
       " 'string': 'stringed',\n",
       " 'get': 'get',\n",
       " 'mutual': 'mutual',\n",
       " 'friend': 'friend',\n",
       " 'detail': 'details',\n",
       " 'tar': 'tarred',\n",
       " 'roof': 'roof',\n",
       " 'build': 'builds',\n",
       " 'dure': 'During',\n",
       " 'job': 'job',\n",
       " 'overhear': 'overhearing',\n",
       " 'complain': 'complains',\n",
       " 'pay': 'pay',\n",
       " 'tax': 'tax',\n",
       " 'upcom': 'upcoming',\n",
       " 'inherit': 'inheritance',\n",
       " 'draw': 'drawing',\n",
       " 'expertis': 'expertise',\n",
       " 'let': 'let',\n",
       " 'know': 'knows',\n",
       " 'shelter': 'shelter',\n",
       " 'money': 'money',\n",
       " 'ir': 'IRS',\n",
       " 'turn': 'turns',\n",
       " 'gift': 'gift',\n",
       " 'say': 'saying',\n",
       " 'assist': 'assistance',\n",
       " 'exchang': 'exchange',\n",
       " 'beer': 'beer',\n",
       " 'fellow': 'fellow',\n",
       " 'threaten': 'threatens',\n",
       " 'throw': 'throwing',\n",
       " 'brutal': 'brutal',\n",
       " 'agre': 'agrees',\n",
       " 'provid': 'providing',\n",
       " 'men': 'men',\n",
       " 'finish': 'finishes',\n",
       " 'remark': 'remark',\n",
       " 'may': 'may',\n",
       " 'privileg': 'privileged',\n",
       " 'favor': 'favors',\n",
       " 'much': 'much',\n",
       " 'also': 'also',\n",
       " 'think': 'think',\n",
       " 'simpli': 'simply',\n",
       " 'feel': 'feels',\n",
       " 'free': 'frees',\n",
       " 'while': 'While',\n",
       " 'watch': 'watching',\n",
       " 'movi': 'movie',\n",
       " 'demand': 'demands',\n",
       " 'rita': 'Rita',\n",
       " 'hayworth': 'Hayworth',\n",
       " 'soon': 'soon',\n",
       " 'encount': 'encounters',\n",
       " 'bogg': 'Boggs',\n",
       " 'mark': 'mark',\n",
       " 'rolston': 'Rolston',\n",
       " 'leader': 'leaders',\n",
       " 'spend': 'spend',\n",
       " 'week': 'week',\n",
       " 'solitari': 'solitary',\n",
       " 'when': 'When',\n",
       " 'come': 'come',\n",
       " 'wait': 'wait',\n",
       " 'cell': 'cell',\n",
       " 'they': 'They',\n",
       " 'bad': 'badly',\n",
       " 'paralyz': 'paralyzed',\n",
       " 'transfer': 'transferring',\n",
       " 'hospit': 'Hospital',\n",
       " 'upstat': 'upstate',\n",
       " 'never': 'never',\n",
       " 'bother': 'bothered',\n",
       " 'bunch': 'bunch',\n",
       " 'poster': 'poster',\n",
       " 'present': 'present',\n",
       " 'samuel': 'Samuel',\n",
       " 'norton': 'Norton',\n",
       " 'bob': 'Bob',\n",
       " 'gunton': 'Gunton',\n",
       " 'hear': 'hear',\n",
       " 'help': 'help',\n",
       " 'surpris': 'surprises',\n",
       " 'inspect': 'inspection',\n",
       " 'size': 'size',\n",
       " 'warden': 'Warden',\n",
       " 'meet': 'meeting',\n",
       " 'send': 'send',\n",
       " 'age': 'age',\n",
       " 'brook': 'Brooks',\n",
       " 'hatlen': 'Hatlen',\n",
       " 'jame': 'James',\n",
       " 'whitmor': 'Whitmore',\n",
       " 'librari': 'library',\n",
       " 'set': 'sets',\n",
       " 'desk': 'desk',\n",
       " 'servic': 'services',\n",
       " 'incom': 'income',\n",
       " 'return': 'return',\n",
       " 'financi': 'financial',\n",
       " 'advic': 'advice',\n",
       " 'opportun': 'opportunity',\n",
       " 'expand': 'expanding',\n",
       " 'senat': 'senator',\n",
       " 'fund': 'fund',\n",
       " 'write': 'writes',\n",
       " 'letter': 'letter',\n",
       " 'everi': 'every',\n",
       " 'his': 'His',\n",
       " 'support': 'support',\n",
       " 'practic': 'practice',\n",
       " 'appreci': 'appreciation',\n",
       " 'even': 'even',\n",
       " 'visit': 'visit',\n",
       " 'basebal': 'baseball',\n",
       " 'match': 'match',\n",
       " 'seek': 'seeks',\n",
       " 'prepar': 'prepare',\n",
       " 'next': 'next',\n",
       " 'long': 'long',\n",
       " 'afterward': 'afterwards',\n",
       " 'old': 'old',\n",
       " 'librarian': 'librarian',\n",
       " 'kill': 'kill',\n",
       " 'anoth': 'another',\n",
       " 'heywood': 'Heywood',\n",
       " 'order': 'order',\n",
       " 'avoid': 'avoid',\n",
       " 'parol': 'parole',\n",
       " 'abl': 'able',\n",
       " 'talk': 'talk',\n",
       " 'goe': 'goes',\n",
       " 'halfway': 'halfway',\n",
       " 'hous': 'house',\n",
       " 'imposs': 'impossibly',\n",
       " 'adjust': 'adjust',\n",
       " 'outsid': 'outside',\n",
       " 'eventu': 'eventually',\n",
       " 'commit': 'commits',\n",
       " 'suicid': 'suicide',\n",
       " 'suggest': 'suggests',\n",
       " 'crazi': 'crazy',\n",
       " 'tell': 'tells',\n",
       " 'obvious': 'obviously',\n",
       " 'becom': 'becomes',\n",
       " 'institution': 'institutionalized',\n",
       " 'essenti': 'essential',\n",
       " 'condit': 'condition',\n",
       " 'rest': 'rest',\n",
       " 'unabl': 'Unable',\n",
       " 'adapt': 'adaptation',\n",
       " 'world': 'world',\n",
       " 'these': 'These',\n",
       " 'funni': 'funny',\n",
       " 'hate': 'hates',\n",
       " 'enough': 'enough',\n",
       " 'time': 'time',\n",
       " 'pass': 'pass',\n",
       " 'depend': 'depends',\n",
       " 'after': 'After',\n",
       " 'six': 'six',\n",
       " 'receiv': 'receives',\n",
       " 'along': 'along',\n",
       " 'book': 'book',\n",
       " 'phonograph': 'phonograph',\n",
       " 'record': 'recording',\n",
       " 'halt': 'halting',\n",
       " 'campaign': 'campaign',\n",
       " 'undaunt': 'Undaunted',\n",
       " 'redoubl': 'redoubling',\n",
       " 'donat': 'donation',\n",
       " 'offic': 'officers',\n",
       " 'copi': 'copying',\n",
       " 'mozart': 'Mozart',\n",
       " 'marriag': 'marriage',\n",
       " 'figaro': 'Figaro',\n",
       " 'among': 'among',\n",
       " 'lock': 'lock',\n",
       " 'assign': 'assigned',\n",
       " 'bathroom': 'bathroom',\n",
       " 'play': 'play',\n",
       " 'pa': 'PA',\n",
       " 'system': 'system',\n",
       " 'entir': 'entire',\n",
       " 'seem': 'seems',\n",
       " 'captiv': 'captive',\n",
       " 'music': 'music',\n",
       " 'mdash': 'mdash',\n",
       " 'voic': 'voices',\n",
       " 'women': 'women',\n",
       " 'intro': 'intro',\n",
       " 'made': 'made',\n",
       " 'everyon': 'everyone',\n",
       " 'brief': 'brief',\n",
       " 'appear': 'appears',\n",
       " 'furious': 'furious',\n",
       " 'act': 'acts',\n",
       " 'defianc': 'defiance',\n",
       " 'player': 'player',\n",
       " 'reach': 'reaches',\n",
       " 'needl': 'needles',\n",
       " 'arm': 'armed',\n",
       " 'volum': 'volume',\n",
       " 'immedi': 'immediately',\n",
       " 'confin': 'confined',\n",
       " 'stretch': 'stretching',\n",
       " 'easiest': 'easiest',\n",
       " 'hole': 'hole',\n",
       " 'spent': 'spent',\n",
       " 'unlik': 'unlike',\n",
       " 'repli': 'replies',\n",
       " 'hope': 'hope',\n",
       " 'sustain': 'sustain',\n",
       " 'convinc': 'convinces',\n",
       " 'leav': 'leaving',\n",
       " 'bitter': 'bitter',\n",
       " 'enlarg': 'enlarged',\n",
       " 'materi': 'material',\n",
       " 'begin': 'begins',\n",
       " 'teach': 'teaching',\n",
       " 'want': 'wants',\n",
       " 'high': 'high',\n",
       " 'school': 'school',\n",
       " 'diploma': 'diploma',\n",
       " 'secur': 'security',\n",
       " 'steadi': 'steady',\n",
       " 'stream': 'stream',\n",
       " 'various': 'various',\n",
       " 'sourc': 'source',\n",
       " 'renov': 'renovated',\n",
       " 'name': 'name',\n",
       " 'profit': 'profitable',\n",
       " 'knowledg': 'knowledge',\n",
       " 'account': 'account',\n",
       " 'devis': 'devises',\n",
       " 'scheme': 'scheme',\n",
       " 'wherebi': 'whereby',\n",
       " 'public': 'public',\n",
       " 'project': 'project',\n",
       " 'win': 'wins',\n",
       " 'outbid': 'outbidding',\n",
       " 'contractor': 'contractor',\n",
       " 'cheap': 'cheap',\n",
       " 'labor': 'labor',\n",
       " 'occasion': 'occasionally',\n",
       " 'contract': 'contract',\n",
       " 'bribe': 'bribed',\n",
       " 'launder': 'laundering',\n",
       " 'differ': 'different',\n",
       " 'bank': 'bank',\n",
       " 'invest': 'invested',\n",
       " 'fake': 'fake',\n",
       " 'ident': 'identity',\n",
       " 'randal': 'Randall',\n",
       " 'stephen': 'Stephen',\n",
       " 'share': 'shared',\n",
       " 'note': 'note',\n",
       " 'go': 'go',\n",
       " 'learn': 'learned',\n",
       " 'crimin': 'criminal',\n",
       " 'young': 'young',\n",
       " 'tommi': 'Tommy',\n",
       " 'gil': 'Gil',\n",
       " 'bellow': 'bellows',\n",
       " 'serv': 'serves',\n",
       " 'robberi': 'robbery',\n",
       " 'easi': 'easy',\n",
       " 'charismat': 'charismatic',\n",
       " 'popular': 'popular',\n",
       " 'take': 'take',\n",
       " 'line': 'line',\n",
       " 'besid': 'beside',\n",
       " 'theft': 'theft',\n",
       " 'earn': 'earned',\n",
       " 'equival': 'equivalent',\n",
       " 'good': 'good',\n",
       " 'student': 'students',\n",
       " 'still': 'still',\n",
       " 'frustrat': 'frustrated',\n",
       " 'exam': 'exam',\n",
       " 'crumpl': 'crumpled',\n",
       " 'toss': 'tosses',\n",
       " 'trash': 'trash',\n",
       " 'retriev': 'retrieves',\n",
       " 'day': 'day',\n",
       " 'case': 'cases',\n",
       " 'visibl': 'visibly',\n",
       " 'upset': 'upset',\n",
       " 'stori': 'story',\n",
       " 'cellmat': 'cellmate',\n",
       " 'boast': 'boast',\n",
       " 'man': 'man',\n",
       " 'golfer': 'golfer',\n",
       " 'countri': 'country',\n",
       " 'club': 'club',\n",
       " 'woman': 'woman',\n",
       " 'husband': 'husband',\n",
       " 'gone': 'gone',\n",
       " 'with': 'With',\n",
       " 'new': 'new',\n",
       " 'inform': 'informing',\n",
       " 'full': 'full',\n",
       " 'expect': 'expected',\n",
       " 'north': 'North',\n",
       " 'trial': 'trial',\n",
       " 'wit': 'witnesses',\n",
       " 'reaction': 'reaction',\n",
       " 'complet': 'complete',\n",
       " 'contrari': 'contrary',\n",
       " 'emphat': 'emphatically',\n",
       " 'reveal': 'reveals',\n",
       " 'alon': 'alone',\n",
       " 'testifi': 'testifies',\n",
       " 'behalf': 'behalf',\n",
       " 'enthusiast': 'enthusiastic',\n",
       " 'shot': 'shot',\n",
       " 'dead': 'dead',\n",
       " 'attempt': 'attempted',\n",
       " 'stop': 'stopping',\n",
       " 'counter': 'counter',\n",
       " 'destroy': 'destroy',\n",
       " 'burn': 'burns',\n",
       " 'privat': 'private',\n",
       " 'block': 'block',\n",
       " 'harden': 'Harden',\n",
       " 'give': 'give',\n",
       " 'usual': 'usual',\n",
       " 'daili': 'daily',\n",
       " 'broken': 'broken',\n",
       " 'although': 'Although',\n",
       " 'person': 'personal',\n",
       " 'drove': 'drove',\n",
       " 'away': 'away',\n",
       " 'infidel': 'infidelity',\n",
       " 'freed': 'freed',\n",
       " 'zihuatanejo': 'Zihuatanejo',\n",
       " 'beach': 'beach',\n",
       " 'town': 'town',\n",
       " 'pacif': 'Pacific',\n",
       " 'coast': 'coast',\n",
       " 'mexico': 'Mexico',\n",
       " 'got': 'got',\n",
       " 'engag': 'engaged',\n",
       " 'went': 'went',\n",
       " 'farm': 'farm',\n",
       " 'buxton': 'Buxton',\n",
       " 'larg': 'large',\n",
       " 'oak': 'Oaks',\n",
       " 'tree': 'tree',\n",
       " 'end': 'end',\n",
       " 'stone': 'Stone',\n",
       " 'love': 'love',\n",
       " 'propos': 'proposal',\n",
       " 'look': 'looking',\n",
       " 'field': 'fields',\n",
       " 'there': 'There',\n",
       " 'black': 'Black',\n",
       " 'volcan': 'volcanic',\n",
       " 'place': 'place',\n",
       " 'buri': 'buried',\n",
       " 'box': 'box',\n",
       " 'refus': 'refuses',\n",
       " 'might': 'might',\n",
       " 'length': 'length',\n",
       " 'rope': 'rope',\n",
       " 'lead': 'lead',\n",
       " 'buddi': 'Buddy',\n",
       " 'suspect': 'suspects',\n",
       " 'at': 'At',\n",
       " 'shine': 'shine',\n",
       " 'shoe': 'shoe',\n",
       " 'suit': 'suit',\n",
       " 'retir': 'retire',\n",
       " 'follow': 'Following',\n",
       " 'morn': 'morning',\n",
       " 'alarm': 'alarm',\n",
       " 'shoebox': 'shoebox',\n",
       " 'instead': 'instead',\n",
       " 'rush': 'rush',\n",
       " 'explan': 'explanation',\n",
       " 'bring': 'bring',\n",
       " 'insist': 'insisting',\n",
       " 'noth': 'nothing',\n",
       " 'plan': 'plan',\n",
       " 'increas': 'increases',\n",
       " 'hostil': 'hostility',\n",
       " 'paranoid': 'paranoid',\n",
       " 'around': 'around',\n",
       " 'raquel': 'Raquel',\n",
       " 'welch': 'Welch',\n",
       " 'spot': 'spotted',\n",
       " 'previous': 'previously',\n",
       " 'occupi': 'occupy',\n",
       " 'marilyn': 'Marilyn',\n",
       " 'monro': 'Monroe',\n",
       " 'punch': 'punches',\n",
       " 'tear': 'tears',\n",
       " 'tunnel': 'tunnel',\n",
       " 'wide': 'wide',\n",
       " 'crawl': 'crawls',\n",
       " 'thunderstorm': 'thunderstorm',\n",
       " 'wore': 'wore',\n",
       " 'catch': 'catches',\n",
       " 'lucki': 'Lucky',\n",
       " 'notic': 'notices',\n",
       " 'pack': 'packing',\n",
       " 'paper': 'papers',\n",
       " 'cloth': 'clothes',\n",
       " 'plastic': 'plastic',\n",
       " 'bag': 'bag',\n",
       " 'tie': 'tied',\n",
       " 'excav': 'excavation',\n",
       " 'space': 'space',\n",
       " 'found': 'found',\n",
       " 'sewer': 'sewer',\n",
       " 'hit': 'hit',\n",
       " 'lightn': 'lightning',\n",
       " 'strike': 'strike',\n",
       " 'burst': 'bursts',\n",
       " 'yard': 'yard',\n",
       " 'pipe': 'pipe',\n",
       " 'raw': 'raw',\n",
       " 'sewag': 'sewage',\n",
       " 'contain': 'containing',\n",
       " 'emerg': 'emerges',\n",
       " 'search': 'search',\n",
       " 'team': 'team',\n",
       " 'uniform': 'uniform',\n",
       " 'worn': 'worn',\n",
       " 'near': 'near',\n",
       " 'walk': 'walks',\n",
       " 'nation': 'nation',\n",
       " 'portland': 'Portland',\n",
       " 'assum': 'assume',\n",
       " 'document': 'document',\n",
       " 'close': 'closing',\n",
       " 'cashier': 'cashier',\n",
       " 'check': 'checks',\n",
       " 'befor': 'Before',\n",
       " 'drop': 'drops',\n",
       " 'packag': 'package',\n",
       " 'mail': 'mail',\n",
       " 'continu': 'continue',\n",
       " 'dozen': 'dozen',\n",
       " 'local': 'local',\n",
       " 'deliv': 'deliver',\n",
       " 'straight': 'straight',\n",
       " 'bugl': 'Bugle',\n",
       " 'polic': 'police',\n",
       " 'storm': 'storm',\n",
       " 'arrest': 'arrested',\n",
       " 'taken': 'taken',\n",
       " 'littl': 'little',\n",
       " 'girl': 'girls',\n",
       " 'final': 'finally',\n",
       " 'open': 'opening',\n",
       " 'safe': 'safe',\n",
       " 'touch': 'touched',\n",
       " 'bibl': 'Bible',\n",
       " 'exodus': 'Exodus',\n",
       " 'page': 'pages',\n",
       " 'cut': 'cuts',\n",
       " 'shape': 'shape',\n",
       " 'back': 'back',\n",
       " 'pound': 'pounds',\n",
       " 'door': 'door',\n",
       " 'revolv': 'revolver',\n",
       " 'shoot': 'shoot',\n",
       " 'chin': 'chin',\n",
       " 'wonder': 'wondered',\n",
       " 'right': 'right',\n",
       " 'trigger': 'triggered',\n",
       " 'gotten': 'gotten',\n",
       " 'best': 'best',\n",
       " 'short': 'shortly',\n",
       " 'postcard': 'postcard',\n",
       " 'fort': 'fort',\n",
       " 'hancock': 'Hancock',\n",
       " 'texa': 'Texas',\n",
       " 'written': 'Written',\n",
       " 'sign': 'sign',\n",
       " 'freedom': 'freedom',\n",
       " 'exploit': 'exploits',\n",
       " 'lot': 'lot',\n",
       " 'embellish': 'embellishments',\n",
       " 'miss': 'missing',\n",
       " 'board': 'board',\n",
       " 'rehabilit': 'rehabilitation',\n",
       " 'word': 'words',\n",
       " 'regret': 'regretted',\n",
       " 'action': 'actions',\n",
       " 'past': 'past',\n",
       " 'ago': 'ago',\n",
       " 'longer': 'longer',\n",
       " 'anyth': 'anything',\n",
       " 'grant': 'granted',\n",
       " 'groceri': 'groceries',\n",
       " 'store': 'store',\n",
       " 'stay': 'stay',\n",
       " 'room': 'room',\n",
       " 'frequent': 'frequented',\n",
       " 'pawn': 'pawn',\n",
       " 'shop': 'shop',\n",
       " 'gun': 'gun',\n",
       " 'compass': 'compassion',\n",
       " 'window': 'windows',\n",
       " 'contempl': 'contemplates',\n",
       " 'tri': 'tries',\n",
       " 'adult': 'adults',\n",
       " 'rememb': 'remember',\n",
       " 'promis': 'promise',\n",
       " 'bought': 'bought',\n",
       " 'instruct': 'instructs',\n",
       " 'hitchhik': 'hitchhike',\n",
       " 'describ': 'describes',\n",
       " 'just': 'Just',\n",
       " 'said': 'said',\n",
       " 'under': 'Under',\n",
       " 'sum': 'sum',\n",
       " 'need': 'needed',\n",
       " 'somebodi': 'somebody',\n",
       " 'thing': 'thing',\n",
       " 'violat': 'violation',\n",
       " 'unconcern': 'unconcerned',\n",
       " 'extens': 'extensive',\n",
       " 'manhunt': 'manhunt',\n",
       " 'crook': 'crook',\n",
       " 'bus': 'bus',\n",
       " 'cross': 'crosses',\n",
       " 'reunit': 'reunited',\n",
       " 'late': 'late',\n",
       " 'summer': 'summer',\n",
       " 'guest': 'guests',\n",
       " 'gather': 'gathering',\n",
       " 'wed': 'wedding',\n",
       " 'recept': 'reception',\n",
       " 'don': 'dons',\n",
       " 'vito': 'Vito',\n",
       " 'corleon': 'Corleone',\n",
       " 'daughter': 'daughter',\n",
       " 'conni': 'Connie',\n",
       " 'talia': 'Talia',\n",
       " 'shire': 'Shire',\n",
       " 'carlo': 'Carlo',\n",
       " 'rizzi': 'Rizzi',\n",
       " 'gianni': 'Gianni',\n",
       " 'russo': 'Russo',\n",
       " 'marlon': 'Marlon',\n",
       " 'brando': 'Brando',\n",
       " 'head': 'head',\n",
       " 'mafia': 'mafia',\n",
       " 'famili': 'family',\n",
       " 'associ': 'associate',\n",
       " 'godfath': 'Godfather',\n",
       " 'tom': 'Tom',\n",
       " 'hagen': 'Hagen',\n",
       " 'robert': 'Robert',\n",
       " 'duval': 'Duval',\n",
       " 'lawyer': 'lawyer',\n",
       " 'request': 'requests',\n",
       " 'accord': 'according',\n",
       " 'italian': 'Italian',\n",
       " 'tradit': 'traditional',\n",
       " 'sicilian': 'Sicilian',\n",
       " 'amerigo': 'Amerigo',\n",
       " 'bonasera': 'Bonasera',\n",
       " 'success': 'successfully',\n",
       " 'mortician': 'mortician',\n",
       " 'acquaint': 'acquaintance',\n",
       " 'whose': 'whose',\n",
       " 'advanc': 'advance',\n",
       " 'minim': 'minimal',\n",
       " 'punish': 'punish',\n",
       " 'disappoint': 'disappointed',\n",
       " 'contact': 'contact',\n",
       " 'due': 'due',\n",
       " 'nefari': 'nefarious',\n",
       " 'busi': 'business',\n",
       " 'deal': 'deal',\n",
       " 'godmoth': 'godmother',\n",
       " 'shame': 'shame',\n",
       " 'relationship': 'relationship',\n",
       " 'extract': 'extract',\n",
       " 'loyalti': 'loyalty',\n",
       " 'undertak': 'undertakers',\n",
       " 'respons': 'responsible',\n",
       " 'manner': 'manner',\n",
       " 'youngest': 'youngest',\n",
       " 'son': 'son',\n",
       " 'michael': 'Michael',\n",
       " 'al': 'Al',\n",
       " 'pacino': 'Pacino',\n",
       " 'decor': 'decorated',\n",
       " 'us': 'us',\n",
       " 'marin': 'Marine',\n",
       " 'hero': 'heroes',\n",
       " 'war': 'war',\n",
       " 'ii': 'II',\n",
       " 'girlfriend': 'girlfriend',\n",
       " 'kay': 'Kay',\n",
       " 'adam': 'Adams',\n",
       " 'dian': 'Diane',\n",
       " 'keaton': 'Keaton',\n",
       " 'anecdot': 'anecdotes',\n",
       " 'father': 'father',\n",
       " 'reassur': 'reassure',\n",
       " 'join': 'join',\n",
       " 'scene': 'scene',\n",
       " 'critic': 'criticism',\n",
       " 'exposit': 'exposition',\n",
       " 'remaind': 'remainder',\n",
       " 'film': 'film',\n",
       " 'introduc': 'introduces',\n",
       " 'charact': 'characters',\n",
       " 'fredo': 'Fredo',\n",
       " 'john': 'John',\n",
       " 'cazal': 'Cazale',\n",
       " 'older': 'older',\n",
       " 'brother': 'brother',\n",
       " 'bit': 'bit',\n",
       " 'quit': 'quit',\n",
       " 'drunk': 'drunk',\n",
       " 'parti': 'party',\n",
       " 'santino': 'Santino',\n",
       " 'nicknam': 'nickname',\n",
       " 'sonni': 'Sonny',\n",
       " 'caan': 'Caan',\n",
       " 'eldest': 'eldest',\n",
       " 'child': 'child',\n",
       " 'upon': 'upon',\n",
       " 'marri': 'marry',\n",
       " 'philander': 'philanderer',\n",
       " 'sneak': 'sneak',\n",
       " 'bedroom': 'bedroom',\n",
       " 'sex': 'sex',\n",
       " 'bridesmaid': 'bridesmaid',\n",
       " 'luci': 'Lucy',\n",
       " 'mancini': 'Mancini',\n",
       " 'jeanni': 'Jeannie',\n",
       " 'linero': 'Linero',\n",
       " 'relat': 'relative',\n",
       " 'blood': 'blood',\n",
       " 'homeless': 'homeless',\n",
       " 'befriend': 'befriend',\n",
       " 'itali': 'Italy',\n",
       " 'neighborhood': 'neighborhood',\n",
       " 'manhattan': 'Manhattan',\n",
       " 'took': 'took',\n",
       " 'saw': 'saw',\n",
       " 'upbring': 'upbringing',\n",
       " 'educ': 'educating',\n",
       " 'now': 'Now',\n",
       " 'talent': 'talent',\n",
       " 'attorney': 'attorney',\n",
       " 'groom': 'groom',\n",
       " 'import': 'important',\n",
       " 'posit': 'position',\n",
       " 'consiglier': 'consigliere',\n",
       " 'counselor': 'counselor',\n",
       " 'despit': 'despite',\n",
       " 'celebr': 'celebrate',\n",
       " 'famous': 'famous',\n",
       " 'singer': 'Singer',\n",
       " 'johnni': 'Johnny',\n",
       " 'fontan': 'Fontane',\n",
       " 'martino': 'Martino',\n",
       " 'godson': 'godson',\n",
       " 'hollywood': 'Hollywood',\n",
       " 'petit': 'petition',\n",
       " 'land': 'land',\n",
       " 'role': 'role',\n",
       " 'revit': 'revitalize',\n",
       " 'flag': 'flag',\n",
       " 'career': 'career',\n",
       " 'jack': 'Jack',\n",
       " 'woltz': 'Woltz',\n",
       " 'marley': 'Marley',\n",
       " 'studio': 'studio',\n",
       " 'deni': 'denies',\n",
       " 'part': 'part',\n",
       " 'make': 'makes',\n",
       " 'bigger': 'bigger',\n",
       " 'star': 'star',\n",
       " 'explain': 'explaining',\n",
       " 'gon': 'gon',\n",
       " 'na': 'na',\n",
       " 'offer': 'offer',\n",
       " 'ca': 'ca',\n",
       " 'congratulatori': 'congratulatory',\n",
       " 'salut': 'salute',\n",
       " 'luca': 'Lucas',\n",
       " 'brasi': 'Brasi',\n",
       " 'terrifi': 'terrifying',\n",
       " 'enforc': 'enforcer',\n",
       " 'underworld': 'underworld',\n",
       " 'fill': 'filled',\n",
       " 'baker': 'baker',\n",
       " 'cake': 'cake',\n",
       " 'wish': 'wishing',\n",
       " 'nephew': 'nephew',\n",
       " 'enzo': 'Enzo',\n",
       " 'american': 'American',\n",
       " 'dispatch': 'dispatches',\n",
       " 'los': 'Los',\n",
       " 'angel': 'Angeles',\n",
       " 'angrili': 'angrily',\n",
       " 'cast': 'cast',\n",
       " 'hold': 'holding',\n",
       " 'grudg': 'grudgingly',\n",
       " 'seduc': 'seduce',\n",
       " 'ruin': 'ruins',\n",
       " 'starlet': 'starlets',\n",
       " 'stardom': 'stardom',\n",
       " 'persuad': 'persuade',\n",
       " 'howev': 'however',\n",
       " 'wake': 'wakes',\n",
       " 'earli': 'early',\n",
       " 'wet': 'wet',\n",
       " 'bed': 'bed',\n",
       " 'sheet': 'sheets',\n",
       " 'pool': 'pool',\n",
       " 'scream': 'screams',\n",
       " 'horror': 'horror',\n",
       " 'discov': 'discovers',\n",
       " 'prize': 'prize',\n",
       " 'stud': 'stud',\n",
       " 'hors': 'horse',\n",
       " 'khartoum': 'Khartoum',\n",
       " 'delet': 'delete',\n",
       " 'impli': 'implied',\n",
       " 'lenni': 'Lennie',\n",
       " 'montana': 'Montana',\n",
       " 'top': 'top',\n",
       " 'button': 'button',\n",
       " 'hitman': 'hitman',\n",
       " 'virgil': 'Virgil',\n",
       " 'turk': 'Turks',\n",
       " 'sollozzo': 'Sollozzo',\n",
       " 'lettieri': 'Lettieri',\n",
       " 'rival': 'rival',\n",
       " 'tattaglia': 'Tattaglia',\n",
       " 'financ': 'finances',\n",
       " 'well': 'well',\n",
       " 'polit': 'politely',\n",
       " 'legal': 'legal',\n",
       " 'protect': 'protective',\n",
       " 'distribut': 'distributed',\n",
       " 'heroin': 'heroine',\n",
       " 'huge': 'huge',\n",
       " 'influenc': 'influence',\n",
       " 'jeopard': 'jeopardize',\n",
       " 'move': 'Moved',\n",
       " 'narcot': 'Narcotics',\n",
       " 'trade': 'trades',\n",
       " 'judg': 'judge',\n",
       " 'politician': 'politician',\n",
       " 'alli': 'allies',\n",
       " 'cours': 'course',\n",
       " 'decad': 'decades',\n",
       " 'renounc': 'renounce',\n",
       " 'friendship': 'friendship',\n",
       " 'enter': 'enters',\n",
       " 'drug': 'drug',\n",
       " 'earlier': 'earlier',\n",
       " 'urg': 'urges',\n",
       " 'rank': 'rank',\n",
       " 'question': 'questions',\n",
       " 'assur': 'assures',\n",
       " 'guarante': 'guarantees',\n",
       " 'angri': 'angry',\n",
       " 'dissens': 'dissension',\n",
       " 'member': 'members',\n",
       " 'presenc': 'presence',\n",
       " 'rebuk': 'rebukes',\n",
       " 'infiltr': 'infiltrates',\n",
       " 'organ': 'organized',\n",
       " 'report': 'reporters',\n",
       " 'bent': 'bent',\n",
       " 'allow': 'allows',\n",
       " 'bruno': 'Bruno',\n",
       " 'light': 'lights',\n",
       " 'cigarett': 'cigarettes',\n",
       " 'stab': 'stabs',\n",
       " 'hand': 'hands',\n",
       " 'subsequ': 'subsequently',\n",
       " 'garrot': 'garrote',\n",
       " 'assassin': 'assassin',\n",
       " 'whether': 'Whether',\n",
       " 'surviv': 'survived',\n",
       " 'drive': 'drive',\n",
       " 'duti': 'duty',\n",
       " 'pauli': 'Paulie',\n",
       " 'gatto': 'Gatto',\n",
       " 'bodyguard': 'bodyguard',\n",
       " 'call': 'calls',\n",
       " 'sick': 'sick',\n",
       " 'prove': 'proves',\n",
       " 'ineffectu': 'ineffectual',\n",
       " 'fumbl': 'fumbles',\n",
       " 'absenc': 'absence',\n",
       " 'clemenza': 'Clemenza',\n",
       " 'richard': 'Richard',\n",
       " 'castellano': 'Castellano',\n",
       " 'abduct': 'abducted',\n",
       " 'releas': 'releases',\n",
       " 'accept': 'accepting',\n",
       " 'issu': 'issues',\n",
       " 'ultimatum': 'ultimatum',\n",
       " 'face': 'face',\n",
       " 'lengthi': 'lengthy',\n",
       " 'bloodi': 'bloodied',\n",
       " 'cost': 'cost',\n",
       " 'side': 'side',\n",
       " 'gang': 'gang',\n",
       " 'messag': 'message',\n",
       " 'form': 'form',\n",
       " 'fresh': 'fresh',\n",
       " 'wrap': 'wrappings',\n",
       " 'vest': 'vest',\n",
       " 'sleep': 'sleep',\n",
       " 'hitmen': 'hitmen',\n",
       " 'rocco': 'Rocco',\n",
       " 'lampon': 'Lampone',\n",
       " 'mattress': 'mattress',\n",
       " 'apart': 'apartment',\n",
       " 'oper': 'operation',\n",
       " 'event': 'events',\n",
       " 'crime': 'crime',\n",
       " 'on': 'On',\n",
       " 'car': 'car',\n",
       " 'remot': 'remote',\n",
       " 'area': 'area',\n",
       " 'urin': 'urine',\n",
       " 'civilian': 'civilian',\n",
       " 'uninvolv': 'uninvolved',\n",
       " 'mob': 'mob',\n",
       " 'shock': 'shock',\n",
       " 'nurs': 'nursing',\n",
       " 'interf': 'interfering',\n",
       " 'polici': 'policy',\n",
       " 'told': 'told',\n",
       " 'minut': 'minutes',\n",
       " 'mike': 'Mike',\n",
       " 'realiz': 'realizing',\n",
       " 'entranc': 'entrance',\n",
       " 'enlist': 'enlist',\n",
       " 'gabriel': 'Gabriele',\n",
       " 'torrei': 'Torrei',\n",
       " 'respect': 'respective',\n",
       " 'togeth': 'together',\n",
       " 'bluff': 'bluff',\n",
       " 'corrupt': 'corrupt',\n",
       " 'captain': 'Captain',\n",
       " 'mccluskey': 'McCluskey',\n",
       " 'sterl': 'Sterling',\n",
       " 'hayden': 'Hayden',\n",
       " 'vicious': 'vicious',\n",
       " 'cheek': 'cheeks',\n",
       " 'jaw': 'jaws',\n",
       " 'insinu': 'insinuating',\n",
       " 'paid': 'paid',\n",
       " 'detect': 'Detective',\n",
       " 'licens': 'license',\n",
       " 'carri': 'carry',\n",
       " ...}"
      ]
     },
     "execution_count": 157,
     "metadata": {},
     "output_type": "execute_result"
    }
   ],
   "source": [
    "# Inspect\n",
    "stemmed_unstemmed_dict"
   ]
  },
  {
   "cell_type": "markdown",
   "metadata": {},
   "source": [
    "## Step 3: TF-IDF (Term Frequency - Inverse Document Frequency)"
   ]
  },
  {
   "cell_type": "markdown",
   "metadata": {},
   "source": [
    "**What is TF-IDF?**   \n",
    "\n",
    "It's a weight, a statistical measure used to evaluate how important a word is to a document in a collection or corpus.    \n",
    "The importance increases proportionally to the number of times a word appears in the document but is offset by the frequency of the word in the corpus.    "
   ]
  },
  {
   "cell_type": "markdown",
   "metadata": {},
   "source": [
    "<li> TF: Term Frequency, which measures how frequently a term occurs in a document.   \n",
    "Since every document is different in length, it is possible that a term would appear much more times in long documents than shorter ones.    \n",
    "Thus, the term frequency is often divided by the document length (aka. the total number of terms in the document) as a way of normalization: \n",
    "\n",
    "TF(t) = (Number of times term t appears in a document) / (Total number of terms in the document)."
   ]
  },
  {
   "cell_type": "markdown",
   "metadata": {},
   "source": [
    "<li> IDF: Inverse Document Frequency, which measures how important a term is.    \n",
    "While computing TF, all terms are considered equally important. However it is known that certain terms, such as \"is\", \"of\", and \"that\", may appear a lot of times but have little importance. Thus we need to weigh down the frequent terms while scale up the rare ones, by computing the following: \n",
    "\n",
    "IDF(t) = log_e(Total number of documents / Number of documents with term t in it)."
   ]
  },
  {
   "cell_type": "markdown",
   "metadata": {},
   "source": [
    "<li> Then we do this TF(t)  * IDF(t)"
   ]
  },
  {
   "cell_type": "markdown",
   "metadata": {},
   "source": [
    "Example:\n",
    "\n",
    "1. A document containing **100 words** wherein the word **cat** appears **3 times**.  \n",
    "    The term frequency (i.e., tf) for cat is then (3 / 100) = **0.03**\n",
    "3. Assume we have **10 million documents** and the word cat appears in **1000** of these.   \n",
    "   The inverse document frequency (i.e., idf) is calculated as log(10,000,000 / 1,000) = **4** \n",
    "5. The Tf-idf weight is the product of these quantities:   0.03 * 4 = 0.12"
   ]
  },
  {
   "cell_type": "markdown",
   "metadata": {},
   "source": [
    "**How do we make use of TF-IDF?**   \n",
    "<li> To run KMeans, we need to fit a matrix to the KMeans model.   \n",
    "<li> Numbers in this matrix should be the tf-idf weight for each word.   \n",
    "<li> sklearn.feature_extraction.text.TfidfVectorizer will provide us that matrix through these following steps.   "
   ]
  },
  {
   "cell_type": "markdown",
   "metadata": {},
   "source": [
    "**Parameters for the model**\n",
    "<li> max_df: maximum frequency within the plots a given word can have to be used in the tfi-idf matrix.  \n",
    "If the word is in greater than 80% of the plots it probably cares little meanining (in the context of movie plots)\n",
    "<li> min_df: the word must be in at least 20% of the plots.   \n",
    "If a lower min_df is allowed, clustering results will be based on names--for example \"Michael\" or \"Tom\" are names found in several of the movies and the plots use these names frequently, but these names carry no real meaning.\n",
    "<li> ngram_range: we only run analysis on unigram\n",
    "<li> tokenizer: we use our own function 'tokenize_and_stem' to process words"
   ]
  },
  {
   "cell_type": "code",
   "execution_count": 160,
   "metadata": {
    "collapsed": false
   },
   "outputs": [],
   "source": [
    "from sklearn.feature_extraction.text import TfidfVectorizer\n",
    "\n",
    "# Build the model and set parameters\n",
    "tfidfModel = TfidfVectorizer(max_df=0.8, max_features=200000,\n",
    "                                 min_df=0.2, stop_words='english',\n",
    "                                 use_idf=True, tokenizer=tokenize_and_stem, ngram_range=(1,1))"
   ]
  },
  {
   "cell_type": "code",
   "execution_count": 161,
   "metadata": {
    "collapsed": true
   },
   "outputs": [],
   "source": [
    "# Fit the movie plots to model\n",
    "# It will learn words and idf from input and return a document-term matrix.\n",
    "tfidfMatrix = tfidfModel.fit_transform(df2.MoviePlot) "
   ]
  },
  {
   "cell_type": "code",
   "execution_count": 227,
   "metadata": {
    "collapsed": false
   },
   "outputs": [
    {
     "data": {
      "text/plain": [
       "(239, 509)"
      ]
     },
     "execution_count": 227,
     "metadata": {},
     "output_type": "execute_result"
    }
   ],
   "source": [
    "# This matrix has 239 movies(Docs) and 509 words(terms)\n",
    "tfidfMatrix.shape"
   ]
  },
  {
   "cell_type": "code",
   "execution_count": 238,
   "metadata": {
    "collapsed": false
   },
   "outputs": [
    {
     "data": {
      "text/plain": [
       "array([[ 0.        ,  0.03948058,  0.        , ...,  0.07736278,\n",
       "         0.        ,  0.01730772],\n",
       "       [ 0.        ,  0.        ,  0.04076512, ...,  0.07181139,\n",
       "         0.        ,  0.06426301],\n",
       "       [ 0.        ,  0.        ,  0.02472847, ...,  0.05227369,\n",
       "         0.        ,  0.03898249],\n",
       "       ..., \n",
       "       [ 0.05950559,  0.04839059,  0.05382758, ...,  0.1137865 ,\n",
       "         0.        ,  0.04242747],\n",
       "       [ 0.        ,  0.        ,  0.        , ...,  0.        ,\n",
       "         0.        ,  0.        ],\n",
       "       [ 0.        ,  0.        ,  0.        , ...,  0.        ,\n",
       "         0.        ,  0.        ]])"
      ]
     },
     "execution_count": 238,
     "metadata": {},
     "output_type": "execute_result"
    }
   ],
   "source": [
    "tfidfMatrix.toarray()"
   ]
  },
  {
   "cell_type": "markdown",
   "metadata": {},
   "source": [
    "Save the words/terms/features identified by TF-IDF."
   ]
  },
  {
   "cell_type": "code",
   "execution_count": 163,
   "metadata": {
    "collapsed": true
   },
   "outputs": [],
   "source": [
    "all_words_from_tfidf = tfidfModel.get_feature_names()"
   ]
  },
  {
   "cell_type": "code",
   "execution_count": 164,
   "metadata": {
    "collapsed": false
   },
   "outputs": [
    {
     "data": {
      "text/plain": [
       "['abandon', 'abl', 'accept', 'accompani', 'act']"
      ]
     },
     "execution_count": 164,
     "metadata": {},
     "output_type": "execute_result"
    }
   ],
   "source": [
    "# Inspect\n",
    "all_words_from_tfidf[:5]"
   ]
  },
  {
   "cell_type": "markdown",
   "metadata": {},
   "source": [
    "## Step 4: KMeans clustering"
   ]
  },
  {
   "cell_type": "code",
   "execution_count": 244,
   "metadata": {
    "collapsed": true
   },
   "outputs": [],
   "source": [
    "from sklearn.cluster import KMeans\n",
    "\n",
    "# Set how many clusters we want\n",
    "num_of_clusters = 3\n",
    "\n",
    "# Build the model\n",
    "clusters = KMeans(n_clusters=num_of_clusters,random_state=0)\n",
    "\n",
    "# Fit the model with tfidfMatrix\n",
    "clusters.fit(tfidfMatrix)\n",
    "\n",
    "# Get movie clusters\n",
    "cluster_IDs = clusters.labels_.tolist()"
   ]
  },
  {
   "cell_type": "markdown",
   "metadata": {},
   "source": [
    "### 4.1. Analyze KMeans Result"
   ]
  },
  {
   "cell_type": "code",
   "execution_count": 245,
   "metadata": {
    "collapsed": false
   },
   "outputs": [],
   "source": [
    "# Add cluster info to the original dataframe\n",
    "df2['cluster'] = cluster_IDs"
   ]
  },
  {
   "cell_type": "code",
   "execution_count": 246,
   "metadata": {
    "collapsed": false
   },
   "outputs": [],
   "source": [
    "df2.index = df2.cluster"
   ]
  },
  {
   "cell_type": "code",
   "execution_count": 247,
   "metadata": {
    "collapsed": false
   },
   "outputs": [
    {
     "data": {
      "text/html": [
       "<div>\n",
       "<style>\n",
       "    .dataframe thead tr:only-child th {\n",
       "        text-align: right;\n",
       "    }\n",
       "\n",
       "    .dataframe thead th {\n",
       "        text-align: left;\n",
       "    }\n",
       "\n",
       "    .dataframe tbody tr th {\n",
       "        vertical-align: top;\n",
       "    }\n",
       "</style>\n",
       "<table border=\"1\" class=\"dataframe\">\n",
       "  <thead>\n",
       "    <tr style=\"text-align: right;\">\n",
       "      <th></th>\n",
       "      <th>MovieId</th>\n",
       "      <th>Ranking</th>\n",
       "      <th>MovieName</th>\n",
       "      <th>MoviePlot</th>\n",
       "      <th>cluster</th>\n",
       "    </tr>\n",
       "    <tr>\n",
       "      <th>cluster</th>\n",
       "      <th></th>\n",
       "      <th></th>\n",
       "      <th></th>\n",
       "      <th></th>\n",
       "      <th></th>\n",
       "    </tr>\n",
       "  </thead>\n",
       "  <tbody>\n",
       "    <tr>\n",
       "      <th>2</th>\n",
       "      <td>tt0111161</td>\n",
       "      <td>1</td>\n",
       "      <td>The Shawshank Redemption(1994)</td>\n",
       "      <td>In 1947, Andy Dufresne (Tim Robbins), a banker...</td>\n",
       "      <td>2</td>\n",
       "    </tr>\n",
       "    <tr>\n",
       "      <th>1</th>\n",
       "      <td>tt0068646</td>\n",
       "      <td>2</td>\n",
       "      <td>The Godfather(1972)</td>\n",
       "      <td>In late summer 1945, guests are gathered for t...</td>\n",
       "      <td>1</td>\n",
       "    </tr>\n",
       "    <tr>\n",
       "      <th>1</th>\n",
       "      <td>tt0071562</td>\n",
       "      <td>3</td>\n",
       "      <td>The Godfather: Part II(1974)</td>\n",
       "      <td>The Godfather Part II presents two parallel st...</td>\n",
       "      <td>1</td>\n",
       "    </tr>\n",
       "    <tr>\n",
       "      <th>0</th>\n",
       "      <td>tt0468569</td>\n",
       "      <td>4</td>\n",
       "      <td>The Dark Knight(2008)</td>\n",
       "      <td>The movie begins with a gang of men with clown...</td>\n",
       "      <td>0</td>\n",
       "    </tr>\n",
       "    <tr>\n",
       "      <th>1</th>\n",
       "      <td>tt0050083</td>\n",
       "      <td>5</td>\n",
       "      <td>12 Angry Men(1957)</td>\n",
       "      <td>In a New York City courthouse, an eighteen-yea...</td>\n",
       "      <td>1</td>\n",
       "    </tr>\n",
       "  </tbody>\n",
       "</table>\n",
       "</div>"
      ],
      "text/plain": [
       "           MovieId  Ranking                       MovieName  \\\n",
       "cluster                                                       \n",
       "2        tt0111161        1  The Shawshank Redemption(1994)   \n",
       "1        tt0068646        2             The Godfather(1972)   \n",
       "1        tt0071562        3    The Godfather: Part II(1974)   \n",
       "0        tt0468569        4           The Dark Knight(2008)   \n",
       "1        tt0050083        5              12 Angry Men(1957)   \n",
       "\n",
       "                                                 MoviePlot  cluster  \n",
       "cluster                                                              \n",
       "2        In 1947, Andy Dufresne (Tim Robbins), a banker...        2  \n",
       "1        In late summer 1945, guests are gathered for t...        1  \n",
       "1        The Godfather Part II presents two parallel st...        1  \n",
       "0        The movie begins with a gang of men with clown...        0  \n",
       "1        In a New York City courthouse, an eighteen-yea...        1  "
      ]
     },
     "execution_count": 247,
     "metadata": {},
     "output_type": "execute_result"
    }
   ],
   "source": [
    "df2[:5]"
   ]
  },
  {
   "cell_type": "markdown",
   "metadata": {},
   "source": [
    "Number of movies included in each cluster:"
   ]
  },
  {
   "cell_type": "code",
   "execution_count": 248,
   "metadata": {
    "collapsed": false
   },
   "outputs": [
    {
     "data": {
      "text/html": [
       "<div>\n",
       "<style>\n",
       "    .dataframe thead tr:only-child th {\n",
       "        text-align: right;\n",
       "    }\n",
       "\n",
       "    .dataframe thead th {\n",
       "        text-align: left;\n",
       "    }\n",
       "\n",
       "    .dataframe tbody tr th {\n",
       "        vertical-align: top;\n",
       "    }\n",
       "</style>\n",
       "<table border=\"1\" class=\"dataframe\">\n",
       "  <thead>\n",
       "    <tr style=\"text-align: right;\">\n",
       "      <th></th>\n",
       "      <th>cluster</th>\n",
       "    </tr>\n",
       "  </thead>\n",
       "  <tbody>\n",
       "    <tr>\n",
       "      <th>0</th>\n",
       "      <td>95</td>\n",
       "    </tr>\n",
       "    <tr>\n",
       "      <th>1</th>\n",
       "      <td>90</td>\n",
       "    </tr>\n",
       "    <tr>\n",
       "      <th>2</th>\n",
       "      <td>54</td>\n",
       "    </tr>\n",
       "  </tbody>\n",
       "</table>\n",
       "</div>"
      ],
      "text/plain": [
       "   cluster\n",
       "0       95\n",
       "1       90\n",
       "2       54"
      ]
     },
     "execution_count": 248,
     "metadata": {},
     "output_type": "execute_result"
    }
   ],
   "source": [
    "df2['cluster'].value_counts().to_frame()"
   ]
  },
  {
   "cell_type": "markdown",
   "metadata": {},
   "source": [
    "<li> clusters.cluster_centers returns a 10 * 509 2d array  \n",
    "<li> 10 means 10 clusters and 509 means 509 terms/words/features"
   ]
  },
  {
   "cell_type": "code",
   "execution_count": 249,
   "metadata": {
    "collapsed": false
   },
   "outputs": [
    {
     "data": {
      "text/plain": [
       "(3, 509)"
      ]
     },
     "execution_count": 249,
     "metadata": {},
     "output_type": "execute_result"
    }
   ],
   "source": [
    "clusters.cluster_centers_.shape"
   ]
  },
  {
   "cell_type": "markdown",
   "metadata": {},
   "source": [
    "<li> Every number in this 2d array denotes the importance of each word/term in that cluster  \n",
    "<li> Higher number means more important and closer to the centroid"
   ]
  },
  {
   "cell_type": "code",
   "execution_count": 250,
   "metadata": {
    "collapsed": false
   },
   "outputs": [
    {
     "data": {
      "text/plain": [
       "array([[ 0.01066941,  0.01790205,  0.01691403, ...,  0.03550564,\n",
       "         0.01553682,  0.02820914],\n",
       "       [ 0.01475522,  0.01414077,  0.01540854, ...,  0.03884139,\n",
       "         0.00530713,  0.03637455],\n",
       "       [ 0.01593638,  0.02531274,  0.01107966, ...,  0.0216299 ,\n",
       "         0.00653374,  0.02362856]])"
      ]
     },
     "execution_count": 250,
     "metadata": {},
     "output_type": "execute_result"
    }
   ],
   "source": [
    "clusters.cluster_centers_"
   ]
  },
  {
   "cell_type": "markdown",
   "metadata": {},
   "source": [
    "How would we interprete this 2d array and help us understand the clustering result?"
   ]
  },
  {
   "cell_type": "markdown",
   "metadata": {},
   "source": [
    " Take cluster 0 as example, the most important word will be the one has this value"
   ]
  },
  {
   "cell_type": "code",
   "execution_count": 251,
   "metadata": {
    "collapsed": false
   },
   "outputs": [
    {
     "data": {
      "text/plain": [
       "0.11586560338125808"
      ]
     },
     "execution_count": 251,
     "metadata": {},
     "output_type": "execute_result"
    }
   ],
   "source": [
    "clusters.cluster_centers_[0].max()"
   ]
  },
  {
   "cell_type": "markdown",
   "metadata": {},
   "source": [
    "But to get the actual word, we need to know the index of the word"
   ]
  },
  {
   "cell_type": "code",
   "execution_count": 252,
   "metadata": {
    "collapsed": false
   },
   "outputs": [
    {
     "data": {
      "text/plain": [
       "387"
      ]
     },
     "execution_count": 252,
     "metadata": {},
     "output_type": "execute_result"
    }
   ],
   "source": [
    "clusters.cluster_centers_[0].argmax()"
   ]
  },
  {
   "cell_type": "markdown",
   "metadata": {},
   "source": [
    "Use this index to get the acutal word"
   ]
  },
  {
   "cell_type": "code",
   "execution_count": 253,
   "metadata": {
    "collapsed": false
   },
   "outputs": [
    {
     "data": {
      "text/plain": [
       "'father'"
      ]
     },
     "execution_count": 253,
     "metadata": {},
     "output_type": "execute_result"
    }
   ],
   "source": [
    "all_words_from_tfidf[165]"
   ]
  },
  {
   "cell_type": "markdown",
   "metadata": {},
   "source": [
    "Use stemmed_unstemmed_dict to get the unstemmed version of the word"
   ]
  },
  {
   "cell_type": "code",
   "execution_count": 254,
   "metadata": {
    "collapsed": false
   },
   "outputs": [
    {
     "data": {
      "text/plain": [
       "'father'"
      ]
     },
     "execution_count": 254,
     "metadata": {},
     "output_type": "execute_result"
    }
   ],
   "source": [
    "stemmed_unstemmed_dict['father']"
   ]
  },
  {
   "cell_type": "markdown",
   "metadata": {},
   "source": [
    "<li> So if we want to extract the 5 most important words/terms/features from each cluster  \n",
    "<li> We retrieve the indices of these words\n",
    "<li> Instead of argmax, we use argsort to get the indices that would sort the array  \n",
    "<li> However, argsort is sorted in an ascedning order  \n",
    "<li> So indices of the 5 most important words(which have higher number) are located in the last 5 places of the array"
   ]
  },
  {
   "cell_type": "markdown",
   "metadata": {},
   "source": [
    "Again, take cluster 0 as an example"
   ]
  },
  {
   "cell_type": "code",
   "execution_count": 255,
   "metadata": {
    "collapsed": true
   },
   "outputs": [],
   "source": [
    "orderedCentroids = clusters.cluster_centers_.argsort() "
   ]
  },
  {
   "cell_type": "code",
   "execution_count": 256,
   "metadata": {
    "collapsed": false
   },
   "outputs": [
    {
     "data": {
      "text/plain": [
       "array([387,  31,  72, 272, 382])"
      ]
     },
     "execution_count": 256,
     "metadata": {},
     "output_type": "execute_result"
    }
   ],
   "source": [
    "# Step 1 \n",
    "# [0,:-6:-1] extract the max 5 values' indices of cluster 0\n",
    "orderedCentroids[0,:-6:-1]"
   ]
  },
  {
   "cell_type": "code",
   "execution_count": 257,
   "metadata": {
    "collapsed": false
   },
   "outputs": [
    {
     "data": {
      "text/plain": [
       "'father'"
      ]
     },
     "execution_count": 257,
     "metadata": {},
     "output_type": "execute_result"
    }
   ],
   "source": [
    "# Step 2\n",
    "# Use all_words_from_tfidf to get the actual words  \n",
    "# This word is stemmed\n",
    "all_words_from_tfidf[165]"
   ]
  },
  {
   "cell_type": "code",
   "execution_count": 258,
   "metadata": {
    "collapsed": false
   },
   "outputs": [
    {
     "data": {
      "text/plain": [
       "'father'"
      ]
     },
     "execution_count": 258,
     "metadata": {},
     "output_type": "execute_result"
    }
   ],
   "source": [
    "# Step 3\n",
    "# Use stemmed_unstemmed_dict to get the unstemmed version of the word\n",
    "stemmed_unstemmed_dict['father']"
   ]
  },
  {
   "cell_type": "code",
   "execution_count": 259,
   "metadata": {
    "collapsed": true
   },
   "outputs": [],
   "source": [
    "# Base on above three steps, we define this function to extract keywords\n",
    "def print_cluster_keywords(cluster_ID):   \n",
    "    print (\"Cluster \" + str(cluster_ID)  + \" top 5 keywords: \" , end=\"\")   \n",
    "    \n",
    "    cluster_keywords_dict[cluster_ID] = []\n",
    "    top5_keywords_index = orderedCentroids[cluster_ID, :-6:-1] # step 1\n",
    "    for index in top5_keywords_index:     \n",
    "        stemmed_word = all_words_from_tfidf[index] # step 2\n",
    "        unstemmed_word = stemmed_unstemmed_dict[stemmed_word] # step 3\n",
    "        cluster_keywords_dict[cluster_ID].append(unstemmed_word)\n",
    "    print (\", \".join(cluster_keywords_dict[cluster_ID]))   "
   ]
  },
  {
   "cell_type": "code",
   "execution_count": 260,
   "metadata": {
    "collapsed": true
   },
   "outputs": [],
   "source": [
    "# Retrieve movies names by cluster Id\n",
    "def print_cluster_movies(cluster_ID):\n",
    "    moives_in_cluster = df2.loc[cluster_ID]['MovieName'].values.tolist()\n",
    "    print (\"Cluster \" + str(cluster_ID) + \" has \" + str(len(moives_in_cluster)) + \" movies: \") \n",
    "    print (\", \".join(moives_in_cluster))\n",
    "    print ()"
   ]
  },
  {
   "cell_type": "markdown",
   "metadata": {},
   "source": [
    "**Print out cluster info**"
   ]
  },
  {
   "cell_type": "code",
   "execution_count": 261,
   "metadata": {
    "collapsed": false,
    "scrolled": false
   },
   "outputs": [
    {
     "name": "stdout",
     "output_type": "stream",
     "text": [
      "<Movie Plots Clustering Result by KMeans>\n",
      "Cluster 0 top 5 keywords: saying, asks, car, man, room\n",
      "Cluster 0 has 95 movies: \n",
      "The Dark Knight(2008), Pulp Fiction(1994), Fight Club(1999), Inception(2010), The Matrix(1999), Se7en(1995), It's a Wonderful Life(1946), Léon: The Professional(1994), Spirited Away(2001), American History X(1998), Once Upon a Time in the West(1968), Interstellar(2014), The Green Mile(1999), Psycho(1960), Rear Window(1954), Terminator 2(1991), Back to the Future(1985), Whiplash(2014), The Prestige(2006), The Lion King(1994), Memento(2000), The Lives of Others(2006), Django Unchained(2012), The Shining(1980), Princess Mononoke(1997), Oldeuboi(2003), Citizen Kane(1941), Vertigo(1958), North by Northwest(1959), Reservoir Dogs(1992), Requiem for a Dream(2000), Kimi no na wa.(2016), A Clockwork Orange(1971), Taxi Driver(1976), To Kill a Mockingbird(1962), 2001: A Space Odyssey(1968), Toy Story(1995), The Sting(1973), Toy Story 3(2010), Snatch(2000), Monty Python and the Holy Grail(1975), L.A. Confidential(1997), Scarface(1983), Rashômon(1950), All About Eve(1950), Yojimbo(1961), Up(2009), Batman Begins(2005), Some Like It Hot(1959), Unforgiven(1992), Heat(1995), The Third Man(1949), Chinatown(1974), Pan's Labyrinth(2006), My Neighbor Totoro(1988), The Gold Rush(1925), Howl's Moving Castle(2004), On the Waterfront(1954), Room(2015), The Seventh Seal(1957), Casino(1995), Blade Runner(1982), V for Vendetta(2005), Wild Strawberries(1957), The Wolf of Wall Street(2013), Warrior(2011), Dial M for Murder(1954), Sunrise(1927), Fargo(1996), The Thing(1982), No Country for Old Men(2007), The Big Lebowski(1998), Finding Nemo(2003), Kill Bill: Vol. 1(2003), Gone Girl(2014), La La Land(2016), Shutter Island(2010), Logan(2017), The Wages of Fear(1953), Rush(2013), 12 Years a Slave(2013), Spotlight(2015), Stalker(1979), The Truman Show(1998), Amores Perros(2000), The Princess Bride(1987), The Maltese Falcon(1941), Paper Moon(1973), Prisoners(2013), Rocky(1976), The Terminator(1984), The Wizard of Oz(1939), Paris, Texas(1984), Ah-ga-ssi(2016), Beauty and the Beast(1991)\n",
      "\n",
      "Cluster 1 top 5 keywords: father, son, film, police, family\n",
      "Cluster 1 has 90 movies: \n",
      "The Godfather(1972), The Godfather: Part II(1974), 12 Angry Men(1957), Forrest Gump(1994), Goodfellas(1990), City of God(2002), The Silence of the Lambs(1991), Life Is Beautiful(1997), City Lights(1931), The Intouchables(2011), The Pianist(2002), The Departed(2006), Gladiator(2000), Sunset Blvd.(1950), Cinema Paradiso(1988), Grave of the Fireflies(1988), American Beauty(1999), Blade Runner 2049(2017), Witness for the Prosecution(1957), Once Upon a Time in America(1984), Dangal(2016), Braveheart(1995), M(1931), Amélie(2001), Taare Zameen Par(2007), Double Indemnity(1944), Amadeus(1984), Eternal Sunshine of the Spotless Mind(2004), Singin' in the Rain(1952), 3 Idiots(2009), Bicycle Thieves(1948), Good Will Hunting(1997), Jagten(2012), The Apartment(1960), Metropolis(1927), A Separation(2011), The Treasure of the Sierra Madre(1948), Raging Bull(1980), Children of Heaven(1997), Incendies(2010), Ran(1985), Judgment at Nuremberg(1961), The Secret in Their Eyes(2009), Inside Out(2015), Lock, Stock and Two Smoking Barrels(1998), Mr. Smith Goes to Washington(1939), A Beautiful Mind(2001), The Elephant Man(1980), Trainspotting(1996), Gran Torino(2008), The Sixth Sense(1999), Andrei Rublev(1966), Tokyo Story(1953), There Will Be Blood(2007), Rebecca(1940), Rang De Basanti(2006), The Passion of Joan of Arc(1928), Mary and Max(2009), Into the Wild(2007), It Happened One Night(1934), Life of Brian(1979), Network(1976), In the Name of the Father(1993), A Wednesday(2008), Stand by Me(1986), Persona(1966), Ben-Hur(1959), Memories of Murder(2003), Million Dollar Baby(2004), Hachi: A Dog's Tale(2009), Before Sunrise(1995), The Nights of Cabiria(1957), The Grapes of Wrath(1940), Catch Me If You Can(2002), Touch of Evil(1958), Diabolique(1955), Gandhi(1982), Monsters, Inc.(2001), Donnie Darko(2001), Barry Lyndon(1975), Annie Hall(1977), Munna Bhai M.B.B.S.(2003), Groundhog Day(1993), The Best Years of Our Lives(1946), Infernal Affairs(2002), The Help(2011), In the Mood for Love(2000), Dead Poets Society(1989), Dog Day Afternoon(1975), Gangs of Wasseypur(2012)\n",
      "\n",
      "Cluster 2 top 5 keywords: soldiers, kill, men, war, ship\n",
      "Cluster 2 has 54 movies: \n",
      "The Shawshank Redemption(1994), Schindler's List(1993), The Lord of the Rings: The Return of the King(2003), The Good, the Bad and the Ugly(1966), The Lord of the Rings: The Fellowship of the Ring(2001), Star Wars: Episode V - The Empire Strikes Back(1980), The Lord of the Rings: The Two Towers(2002), One Flew Over the Cuckoo's Nest(1975), Seven Samurai(1954), Star Wars: Episode IV - A New Hope(1977), The Usual Suspects(1995), Saving Private Ryan(1998), Casablanca(1942), Raiders of the Lost Ark(1981), Apocalypse Now(1979), Alien(1979), The Great Dictator(1940), Dr. Strangelove or: How I Learned to Stop Worrying and Love the Bomb(1964), Paths of Glory(1957), WALL·E(2008), The Dark Knight Rises(2012), Aliens(1986), Das Boot(1981), Star Wars: Episode VI - Return of the Jedi(1983), Lawrence of Arabia(1962), Full Metal Jacket(1987), Inglourious Basterds(2009), Dunkirk(2017), For a Few Dollars More(1965), Indiana Jones and the Last Crusade(1989), Downfall(2004), Die Hard(1988), The Great Escape(1963), The Bridge on the River Kwai(1957), The General(1926), Gone with the Wind(1939), The Deer Hunter(1978), Cool Hand Luke(1967), Hacksaw Ridge(2016), How to Train Your Dragon(2010), Platoon(1986), Hotel Rwanda(2004), Thor: Ragnarok(2017), The Grand Budapest Hotel(2014), Jurassic Park(1993), Mad Max: Fury Road(2015), Butch Cassidy and the Sundance Kid(1969), Harry Potter and the Deathly Hallows: Part 2(2011), Star Wars: The Force Awakens(2015), The Bourne Ultimatum(2007), Jaws(1975), Twelve Monkeys(1995), The Battle of Algiers(1966), Pirates of the Caribbean: The Curse of the Black Pearl(2003)\n",
      "\n"
     ]
    }
   ],
   "source": [
    "print (\"<Movie Plots Clustering Result by KMeans>\")\n",
    "\n",
    "cluster_keywords_dict = {} # Put clusters and their top 5 unstemmed words into one dict\n",
    "for cluster_ID in range(num_of_clusters):\n",
    "    print_cluster_keywords(cluster_ID)\n",
    "    print_cluster_movies(cluster_ID)   "
   ]
  },
  {
   "cell_type": "code",
   "execution_count": 1,
   "metadata": {
    "collapsed": false
   },
   "outputs": [
    {
     "ename": "NameError",
     "evalue": "name 'pd' is not defined",
     "output_type": "error",
     "traceback": [
      "\u001b[0;31m---------------------------------------------------------------------------\u001b[0m",
      "\u001b[0;31mNameError\u001b[0m                                 Traceback (most recent call last)",
      "\u001b[0;32m<ipython-input-1-63973f144415>\u001b[0m in \u001b[0;36m<module>\u001b[0;34m()\u001b[0m\n\u001b[0;32m----> 1\u001b[0;31m \u001b[0mdf3\u001b[0m \u001b[0;34m=\u001b[0m \u001b[0mpd\u001b[0m\u001b[0;34m.\u001b[0m\u001b[0mread_csv\u001b[0m\u001b[0;34m(\u001b[0m\u001b[0;34m'movies_metadata.csv'\u001b[0m\u001b[0;34m)\u001b[0m\u001b[0;34m\u001b[0m\u001b[0m\n\u001b[0m",
      "\u001b[0;31mNameError\u001b[0m: name 'pd' is not defined"
     ]
    }
   ],
   "source": [
    "df3 = pd.read_csv('movies_metadata.csv')"
   ]
  },
  {
   "cell_type": "code",
   "execution_count": null,
   "metadata": {
    "collapsed": true
   },
   "outputs": [],
   "source": []
  },
  {
   "cell_type": "code",
   "execution_count": null,
   "metadata": {
    "collapsed": true
   },
   "outputs": [],
   "source": []
  },
  {
   "cell_type": "code",
   "execution_count": null,
   "metadata": {
    "collapsed": true
   },
   "outputs": [],
   "source": []
  },
  {
   "cell_type": "code",
   "execution_count": null,
   "metadata": {
    "collapsed": true
   },
   "outputs": [],
   "source": []
  },
  {
   "cell_type": "code",
   "execution_count": null,
   "metadata": {
    "collapsed": true
   },
   "outputs": [],
   "source": []
  },
  {
   "cell_type": "code",
   "execution_count": null,
   "metadata": {
    "collapsed": true
   },
   "outputs": [],
   "source": []
  },
  {
   "cell_type": "code",
   "execution_count": null,
   "metadata": {
    "collapsed": true
   },
   "outputs": [],
   "source": []
  },
  {
   "cell_type": "code",
   "execution_count": null,
   "metadata": {
    "collapsed": true
   },
   "outputs": [],
   "source": []
  },
  {
   "cell_type": "code",
   "execution_count": null,
   "metadata": {
    "collapsed": true
   },
   "outputs": [],
   "source": []
  },
  {
   "cell_type": "code",
   "execution_count": null,
   "metadata": {
    "collapsed": true
   },
   "outputs": [],
   "source": []
  },
  {
   "cell_type": "code",
   "execution_count": null,
   "metadata": {
    "collapsed": true
   },
   "outputs": [],
   "source": []
  },
  {
   "cell_type": "code",
   "execution_count": null,
   "metadata": {
    "collapsed": true
   },
   "outputs": [],
   "source": []
  },
  {
   "cell_type": "code",
   "execution_count": null,
   "metadata": {
    "collapsed": true
   },
   "outputs": [],
   "source": []
  },
  {
   "cell_type": "code",
   "execution_count": null,
   "metadata": {
    "collapsed": true
   },
   "outputs": [],
   "source": []
  },
  {
   "cell_type": "code",
   "execution_count": null,
   "metadata": {
    "collapsed": true
   },
   "outputs": [],
   "source": []
  },
  {
   "cell_type": "code",
   "execution_count": null,
   "metadata": {
    "collapsed": true
   },
   "outputs": [],
   "source": []
  },
  {
   "cell_type": "code",
   "execution_count": null,
   "metadata": {
    "collapsed": true
   },
   "outputs": [],
   "source": []
  },
  {
   "cell_type": "code",
   "execution_count": null,
   "metadata": {
    "collapsed": true
   },
   "outputs": [],
   "source": []
  },
  {
   "cell_type": "code",
   "execution_count": null,
   "metadata": {
    "collapsed": true
   },
   "outputs": [],
   "source": []
  },
  {
   "cell_type": "code",
   "execution_count": null,
   "metadata": {
    "collapsed": true
   },
   "outputs": [],
   "source": []
  },
  {
   "cell_type": "code",
   "execution_count": null,
   "metadata": {
    "collapsed": true
   },
   "outputs": [],
   "source": []
  },
  {
   "cell_type": "code",
   "execution_count": null,
   "metadata": {
    "collapsed": true
   },
   "outputs": [],
   "source": []
  },
  {
   "cell_type": "markdown",
   "metadata": {},
   "source": [
    "Finding 1:"
   ]
  },
  {
   "cell_type": "markdown",
   "metadata": {},
   "source": [
    "Cluster 2 top 5 keywords are soldiers, men, trains, officers, command.   \n",
    "Cluster 3 top 5 keywords are war, police, Army, kill, forces.   \n",
    "From human point of view, these two are very alike.    \n",
    "But cluster 2 seems has more to do with 'battles'.\n",
    "For instance: Saving Private Ryan(1998),Dunkirk(2017),Platoon(1986)..."
   ]
  },
  {
   "cell_type": "markdown",
   "metadata": {},
   "source": [
    "Finding 2:"
   ]
  },
  {
   "cell_type": "markdown",
   "metadata": {},
   "source": [
    "Interestingly, most of the movies in cluster 4 are sci-fi or fantasy films.    \n",
    "Such as the The Lord of the Rings series, Star Wars series, Alien Series"
   ]
  },
  {
   "cell_type": "markdown",
   "metadata": {},
   "source": [
    "### 4.2. Validation - Plot KMeans Result"
   ]
  },
  {
   "cell_type": "markdown",
   "metadata": {},
   "source": [
    "** What is PCA?**   \n",
    "PCA is principal component analysis.   \n",
    "In layman's terms, it reduces higher dimensions to a lower dimension.   \n",
    "A 239 * 509 matrix is impossible to plot, so we reduce it to 2 dimensions.   \n",
    "After PCA, each movie will have two components available for use."
   ]
  },
  {
   "cell_type": "code",
   "execution_count": 190,
   "metadata": {
    "collapsed": false
   },
   "outputs": [],
   "source": [
    "from sklearn import decomposition\n",
    "\n",
    "# Build the model\n",
    "pca = decomposition.PCA(n_components=2)\n",
    "\n",
    "# pca does not accept sparse matrix\n",
    "# so, we transform the tfidfMatrix object to an array\n",
    "tfidfMatrixArray = tfidfMatrix.toarray()"
   ]
  },
  {
   "cell_type": "code",
   "execution_count": 191,
   "metadata": {
    "collapsed": false
   },
   "outputs": [
    {
     "data": {
      "text/plain": [
       "array([[ 0.        ,  0.03948058,  0.        , ...,  0.07736278,\n",
       "         0.        ,  0.01730772],\n",
       "       [ 0.        ,  0.        ,  0.04076512, ...,  0.07181139,\n",
       "         0.        ,  0.06426301],\n",
       "       [ 0.        ,  0.        ,  0.02472847, ...,  0.05227369,\n",
       "         0.        ,  0.03898249],\n",
       "       ..., \n",
       "       [ 0.05950559,  0.04839059,  0.05382758, ...,  0.1137865 ,\n",
       "         0.        ,  0.04242747],\n",
       "       [ 0.        ,  0.        ,  0.        , ...,  0.        ,\n",
       "         0.        ,  0.        ],\n",
       "       [ 0.        ,  0.        ,  0.        , ...,  0.        ,\n",
       "         0.        ,  0.        ]])"
      ]
     },
     "execution_count": 191,
     "metadata": {},
     "output_type": "execute_result"
    }
   ],
   "source": [
    "# Inspect\n",
    "tfidfMatrixArray"
   ]
  },
  {
   "cell_type": "code",
   "execution_count": 192,
   "metadata": {
    "collapsed": true
   },
   "outputs": [],
   "source": [
    "# Fit the model \n",
    "pca.fit(tfidfMatrixArray)\n",
    "\n",
    "# Apply dimensionality reduction to it\n",
    "X = pca.transform(tfidfMatrixArray)"
   ]
  },
  {
   "cell_type": "markdown",
   "metadata": {},
   "source": [
    "After dimensionality reduction, every plot/document will have two numbers  \n",
    "Instead of the 509 features/words/terms, now each plot is represented by 2 numbers(components)"
   ]
  },
  {
   "cell_type": "code",
   "execution_count": 193,
   "metadata": {
    "collapsed": false
   },
   "outputs": [
    {
     "data": {
      "text/plain": [
       "(239, 2)"
      ]
     },
     "execution_count": 193,
     "metadata": {},
     "output_type": "execute_result"
    }
   ],
   "source": [
    "X.shape"
   ]
  },
  {
   "cell_type": "markdown",
   "metadata": {},
   "source": [
    "This following line means after dimensionality reduction  \n",
    "Movie 1 'The Shawshank Redemption(1994)' has  these two components with those values"
   ]
  },
  {
   "cell_type": "code",
   "execution_count": 194,
   "metadata": {
    "collapsed": false
   },
   "outputs": [
    {
     "data": {
      "text/plain": [
       "array([-0.0178412 ,  0.02254954])"
      ]
     },
     "execution_count": 194,
     "metadata": {},
     "output_type": "execute_result"
    }
   ],
   "source": [
    "X[0]"
   ]
  },
  {
   "cell_type": "markdown",
   "metadata": {},
   "source": [
    "Extract the two components' values to 2 lists"
   ]
  },
  {
   "cell_type": "code",
   "execution_count": 195,
   "metadata": {
    "collapsed": true
   },
   "outputs": [],
   "source": [
    "# First components' values in a list\n",
    "xCoordinate = X[:, 0]\n",
    "# Second components' values in a list\n",
    "yCoordinate = X[:, 1]"
   ]
  },
  {
   "cell_type": "code",
   "execution_count": 196,
   "metadata": {
    "collapsed": false
   },
   "outputs": [
    {
     "data": {
      "text/plain": [
       "array([-0.0178412 , -0.05508907, -0.08063138,  0.17914453, -0.02532816])"
      ]
     },
     "execution_count": 196,
     "metadata": {},
     "output_type": "execute_result"
    }
   ],
   "source": [
    "# Inspect, first five movie's First Component's values after PCA\n",
    "xCoordinate[:5]"
   ]
  },
  {
   "cell_type": "code",
   "execution_count": 197,
   "metadata": {
    "collapsed": false
   },
   "outputs": [
    {
     "data": {
      "text/plain": [
       "array([ 0.02254954, -0.02845525, -0.0717843 ,  0.20910633, -0.084006  ])"
      ]
     },
     "execution_count": 197,
     "metadata": {},
     "output_type": "execute_result"
    }
   ],
   "source": [
    "# Inspect, first five movie's Second Component's values after PCA\n",
    "yCoordinate[:5]"
   ]
  },
  {
   "cell_type": "code",
   "execution_count": 198,
   "metadata": {
    "collapsed": false
   },
   "outputs": [],
   "source": [
    "# Create a data frame with PCA cluster results\n",
    "PCA = pd.DataFrame(dict(xCoordinate=xCoordinate, yCoordinate=yCoordinate, Cluster=df2.cluster, MovieName=df2.MovieName)) "
   ]
  },
  {
   "cell_type": "code",
   "execution_count": 199,
   "metadata": {
    "collapsed": false
   },
   "outputs": [
    {
     "data": {
      "text/html": [
       "<div>\n",
       "<style>\n",
       "    .dataframe thead tr:only-child th {\n",
       "        text-align: right;\n",
       "    }\n",
       "\n",
       "    .dataframe thead th {\n",
       "        text-align: left;\n",
       "    }\n",
       "\n",
       "    .dataframe tbody tr th {\n",
       "        vertical-align: top;\n",
       "    }\n",
       "</style>\n",
       "<table border=\"1\" class=\"dataframe\">\n",
       "  <thead>\n",
       "    <tr style=\"text-align: right;\">\n",
       "      <th></th>\n",
       "      <th>Cluster</th>\n",
       "      <th>MovieName</th>\n",
       "      <th>xCoordinate</th>\n",
       "      <th>yCoordinate</th>\n",
       "    </tr>\n",
       "    <tr>\n",
       "      <th>cluster</th>\n",
       "      <th></th>\n",
       "      <th></th>\n",
       "      <th></th>\n",
       "      <th></th>\n",
       "    </tr>\n",
       "  </thead>\n",
       "  <tbody>\n",
       "    <tr>\n",
       "      <th>0</th>\n",
       "      <td>0</td>\n",
       "      <td>The Shawshank Redemption(1994)</td>\n",
       "      <td>-0.017841</td>\n",
       "      <td>0.022550</td>\n",
       "    </tr>\n",
       "    <tr>\n",
       "      <th>0</th>\n",
       "      <td>0</td>\n",
       "      <td>The Godfather(1972)</td>\n",
       "      <td>-0.055089</td>\n",
       "      <td>-0.028455</td>\n",
       "    </tr>\n",
       "    <tr>\n",
       "      <th>0</th>\n",
       "      <td>0</td>\n",
       "      <td>The Godfather: Part II(1974)</td>\n",
       "      <td>-0.080631</td>\n",
       "      <td>-0.071784</td>\n",
       "    </tr>\n",
       "    <tr>\n",
       "      <th>1</th>\n",
       "      <td>1</td>\n",
       "      <td>The Dark Knight(2008)</td>\n",
       "      <td>0.179145</td>\n",
       "      <td>0.209106</td>\n",
       "    </tr>\n",
       "    <tr>\n",
       "      <th>0</th>\n",
       "      <td>0</td>\n",
       "      <td>12 Angry Men(1957)</td>\n",
       "      <td>-0.025328</td>\n",
       "      <td>-0.084006</td>\n",
       "    </tr>\n",
       "  </tbody>\n",
       "</table>\n",
       "</div>"
      ],
      "text/plain": [
       "         Cluster                       MovieName  xCoordinate  yCoordinate\n",
       "cluster                                                                   \n",
       "0              0  The Shawshank Redemption(1994)    -0.017841     0.022550\n",
       "0              0             The Godfather(1972)    -0.055089    -0.028455\n",
       "0              0    The Godfather: Part II(1974)    -0.080631    -0.071784\n",
       "1              1           The Dark Knight(2008)     0.179145     0.209106\n",
       "0              0              12 Angry Men(1957)    -0.025328    -0.084006"
      ]
     },
     "execution_count": 199,
     "metadata": {},
     "output_type": "execute_result"
    }
   ],
   "source": [
    "PCA[:5]"
   ]
  },
  {
   "cell_type": "code",
   "execution_count": 242,
   "metadata": {
    "collapsed": false
   },
   "outputs": [],
   "source": [
    "# Build a dict with clusters and colors for plotting the clusters\n",
    "cluster_colors_dict = {0:'#800000',1:'#D2B4DE',2:'#85C1E9',3:'#48C9B0',4:'#FFC300'}"
   ]
  },
  {
   "cell_type": "code",
   "execution_count": 243,
   "metadata": {
    "collapsed": false
   },
   "outputs": [
    {
     "data": {
      "image/png": "[encoded data removed]",
      "text/plain": [
       "<matplotlib.figure.Figure at 0x111495208>"
      ]
     },
     "metadata": {},
     "output_type": "display_data"
    }
   ],
   "source": [
    "import matplotlib.pyplot as plt\n",
    "%matplotlib inline \n",
    "\n",
    "# Set up the figure\n",
    "figure, axis = plt.subplots(figsize=(16, 9))\n",
    "\n",
    "groups = PCA.groupby(PCA.Cluster)\n",
    "for cluster_ID, group in groups: # unpack group\n",
    "    axis.plot(group.xCoordinate, group.yCoordinate, marker='o',  linestyle='', ms=12,\n",
    "            label=str(cluster_ID) +  str(cluster_keywords_dict[cluster_ID]),  color=cluster_colors_dict[cluster_ID],\n",
    "            mec='none')\n",
    "\n",
    "# Show legend with only 1 point, position is right bottom.\n",
    "axis.legend(numpoints=1,loc=4)  \n",
    "\n",
    "# Show the plot\n",
    "plt.show() "
   ]
  },
  {
   "cell_type": "code",
   "execution_count": 202,
   "metadata": {
    "collapsed": true
   },
   "outputs": [],
   "source": [
    "plt.close()"
   ]
  },
  {
   "cell_type": "markdown",
   "metadata": {},
   "source": [
    "<li> Indeed, cluster 2 and 3 are very very close.   \n",
    "<li> Cluster 0 and cluster 1 cover a lost of movies.   \n",
    "<li> But cluster 1's movies may not have a lot of shared similarities since they scattered all over the place."
   ]
  },
  {
   "cell_type": "markdown",
   "metadata": {},
   "source": [
    "## Step 5: Topic Modeling - Using Latent Dirichlet Allocation"
   ]
  },
  {
   "cell_type": "markdown",
   "metadata": {},
   "source": [
    "### 5.1 The Basics"
   ]
  },
  {
   "cell_type": "markdown",
   "metadata": {},
   "source": [
    "**What is topic modeling?** \n",
    "<li> a method for finding a group of words (i.e topic) from a collection of documents that best represents the information in the collection. \n",
    "<li> a form of text mining – a way to obtain recurring patterns of words in textual material."
   ]
  },
  {
   "cell_type": "markdown",
   "metadata": {},
   "source": [
    "**What is Latent Dirichlet Allocation?**   \n",
    "Latent Dirichlet Allocation (LDA) model is a technique used to obtain topic models."
   ]
  },
  {
   "cell_type": "markdown",
   "metadata": {},
   "source": [
    "** How does Latent Dirichlet Allocation work?**\n",
    "\n",
    "See this example:\n",
    "\n",
    "Document 1: I had a peanut butter sandwich for breakfast.   \n",
    "Document 2: I like to eat almonds, peanuts and walnuts.    \n",
    "Document 3: My neighbor got a little dog yesterday.   \n",
    "Document 4: Cats and dogs are mortal enemies.   \n",
    "Document 5: You mustn’t feed peanuts to your dog.\n",
    "\n",
    "LDA may produce the following results:   \n",
    "Topic 1: 30% peanuts, 15% almonds, 10% breakfast… (this topic deals with food)    \n",
    "Topic 2: 20% dogs, 10% cats, 5% peanuts… (this topic deals with pets or animals)   \n",
    "\n",
    "Document 1: 100% Topic 1   \n",
    "Document 2: 100% Topic 1   \n",
    "Document 3: 100% Topic 2  \n",
    "Document 4: 100% Topic 2  \n",
    "Document 5: 70% Topic 1, 30% Topic 2"
   ]
  },
  {
   "cell_type": "markdown",
   "metadata": {},
   "source": [
    "**How does LDA perform this process?**\n",
    "1. Prepare the Document Term Matrix(DTM) - frequency of words in a particular document\n",
    "![](1.png)   \n",
    "\n",
    "2. Fit the LDA model with DTM (topic parameter is set to 2)   \n",
    "*lda_model.fit(DTM)*\n",
    "\n",
    "3. Transform the DTM   \n",
    "*lda_model.transform(DTM)*\n",
    "\n",
    "4. After transformation, we get two matrices from LDA   \n",
    "4.1 lda_model.topic\\_word_ saves the first matrix which has the shape of (2 topics * 28 words)   \n",
    "Blank cells also have percentage numbers but those numbers are very small    \n",
    "Highlighted red numbers denote that those words that convey the topic the best\n",
    "![](2.png) \n",
    "4.2 lda_model.doc\\_topic_ saves the second matrix which has the shape of (5 docs * 2 topics)\n",
    "![](3.png) "
   ]
  },
  {
   "cell_type": "markdown",
   "metadata": {},
   "source": [
    "Once we know how it works, now we can use LDA on movie plots"
   ]
  },
  {
   "cell_type": "markdown",
   "metadata": {},
   "source": [
    "Make a new copy of the dataframe,reset index, drop the 'cluster' column"
   ]
  },
  {
   "cell_type": "code",
   "execution_count": 203,
   "metadata": {
    "collapsed": true
   },
   "outputs": [],
   "source": [
    "df3 = df2.copy()\n",
    "df3.index= range(239)\n",
    "df3 = df3.drop('cluster', axis = 1)"
   ]
  },
  {
   "cell_type": "markdown",
   "metadata": {},
   "source": [
    "<li> LDA model accepts an array-like or sparse matrix \n",
    "<li> It should be a Document Term Matrix(DTM)\n",
    "<li> Its shape should (n_samples, n_features), so we cannot reuse the tfidfMatrix\n",
    "<li> We need to rebuilt a DTM which also has moive plots as rows and all words as columns\n",
    "<li> But the value would be the frequency of each word used in each movie plot"
   ]
  },
  {
   "cell_type": "markdown",
   "metadata": {},
   "source": [
    "Build a new dict which has every word as keys and their positional column index as values   \n",
    "e.g. {'abandon': 1,'abl': 2,'accept': 3,'accompani': 4, 'act': 5}"
   ]
  },
  {
   "cell_type": "code",
   "execution_count": 204,
   "metadata": {
    "collapsed": false
   },
   "outputs": [],
   "source": [
    "word_columnIndex_dict = {}\n",
    "for x in range(len(all_words_from_tfidf)):\n",
    "    word_columnIndex_dict[all_words_from_tfidf[x]] = x"
   ]
  },
  {
   "cell_type": "code",
   "execution_count": 205,
   "metadata": {
    "collapsed": true
   },
   "outputs": [
    {
     "data": {
      "text/plain": [
       "{'abandon': 0,\n",
       " 'abl': 1,\n",
       " 'accept': 2,\n",
       " 'accompani': 3,\n",
       " 'act': 4,\n",
       " 'action': 5,\n",
       " 'actual': 6,\n",
       " 'address': 7,\n",
       " 'admit': 8,\n",
       " 'agre': 9,\n",
       " 'aliv': 10,\n",
       " 'allow': 11,\n",
       " 'alon': 12,\n",
       " 'alreadi': 13,\n",
       " 'alway': 14,\n",
       " 'angri': 15,\n",
       " 'anoth': 16,\n",
       " 'answer': 17,\n",
       " 'anyon': 18,\n",
       " 'anyth': 19,\n",
       " 'apart': 20,\n",
       " 'apolog': 21,\n",
       " 'appar': 22,\n",
       " 'appear': 23,\n",
       " 'approach': 24,\n",
       " 'area': 25,\n",
       " 'arm': 26,\n",
       " 'armi': 27,\n",
       " 'arrang': 28,\n",
       " 'arrest': 29,\n",
       " 'arriv': 30,\n",
       " 'ask': 31,\n",
       " 'assist': 32,\n",
       " 'attack': 33,\n",
       " 'attempt': 34,\n",
       " 'attend': 35,\n",
       " 'attent': 36,\n",
       " 'avoid': 37,\n",
       " 'away': 38,\n",
       " 'bad': 39,\n",
       " 'bar': 40,\n",
       " 'battl': 41,\n",
       " 'beat': 42,\n",
       " 'beauti': 43,\n",
       " 'becom': 44,\n",
       " 'bed': 45,\n",
       " 'beg': 46,\n",
       " 'begin': 47,\n",
       " 'believ': 48,\n",
       " 'best': 49,\n",
       " 'better': 50,\n",
       " 'big': 51,\n",
       " 'black': 52,\n",
       " 'blood': 53,\n",
       " 'blow': 54,\n",
       " 'board': 55,\n",
       " 'bodi': 56,\n",
       " 'book': 57,\n",
       " 'box': 58,\n",
       " 'boy': 59,\n",
       " 'break': 60,\n",
       " 'bring': 61,\n",
       " 'broken': 62,\n",
       " 'brother': 63,\n",
       " 'brought': 64,\n",
       " 'build': 65,\n",
       " 'burn': 66,\n",
       " 'busi': 67,\n",
       " 'buy': 68,\n",
       " 'ca': 69,\n",
       " 'calm': 70,\n",
       " 'captur': 71,\n",
       " 'car': 72,\n",
       " 'care': 73,\n",
       " 'carri': 74,\n",
       " 'case': 75,\n",
       " 'catch': 76,\n",
       " 'caught': 77,\n",
       " 'caus': 78,\n",
       " 'chanc': 79,\n",
       " 'chang': 80,\n",
       " 'charg': 81,\n",
       " 'chase': 82,\n",
       " 'check': 83,\n",
       " 'child': 84,\n",
       " 'children': 85,\n",
       " 'citi': 86,\n",
       " 'claim': 87,\n",
       " 'clean': 88,\n",
       " 'clear': 89,\n",
       " 'climb': 90,\n",
       " 'close': 91,\n",
       " 'cloth': 92,\n",
       " 'collaps': 93,\n",
       " 'collect': 94,\n",
       " 'come': 95,\n",
       " 'command': 96,\n",
       " 'complet': 97,\n",
       " 'concern': 98,\n",
       " 'confess': 99,\n",
       " 'confront': 100,\n",
       " 'contact': 101,\n",
       " 'contain': 102,\n",
       " 'continu': 103,\n",
       " 'control': 104,\n",
       " 'convers': 105,\n",
       " 'convinc': 106,\n",
       " 'corner': 107,\n",
       " 'coupl': 108,\n",
       " 'cover': 109,\n",
       " 'crash': 110,\n",
       " 'creat': 111,\n",
       " 'cri': 112,\n",
       " 'cross': 113,\n",
       " 'crowd': 114,\n",
       " 'cut': 115,\n",
       " 'danger': 116,\n",
       " 'dark': 117,\n",
       " 'daughter': 118,\n",
       " 'day': 119,\n",
       " 'dead': 120,\n",
       " 'deal': 121,\n",
       " 'death': 122,\n",
       " 'decid': 123,\n",
       " 'demand': 124,\n",
       " 'depart': 125,\n",
       " 'desper': 126,\n",
       " 'despit': 127,\n",
       " 'destroy': 128,\n",
       " 'die': 129,\n",
       " 'differ': 130,\n",
       " 'direct': 131,\n",
       " 'disappear': 132,\n",
       " 'discov': 133,\n",
       " 'discuss': 134,\n",
       " 'doctor': 135,\n",
       " 'door': 136,\n",
       " 'draw': 137,\n",
       " 'dress': 138,\n",
       " 'drink': 139,\n",
       " 'drive': 140,\n",
       " 'drop': 141,\n",
       " 'earlier': 142,\n",
       " 'eat': 143,\n",
       " 'els': 144,\n",
       " 'emerg': 145,\n",
       " 'empti': 146,\n",
       " 'encount': 147,\n",
       " 'end': 148,\n",
       " 'enter': 149,\n",
       " 'entir': 150,\n",
       " 'escap': 151,\n",
       " 'eventu': 152,\n",
       " 'everi': 153,\n",
       " 'everyon': 154,\n",
       " 'everyth': 155,\n",
       " 'evid': 156,\n",
       " 'explain': 157,\n",
       " 'eye': 158,\n",
       " 'face': 159,\n",
       " 'fact': 160,\n",
       " 'fail': 161,\n",
       " 'fall': 162,\n",
       " 'famili': 163,\n",
       " 'far': 164,\n",
       " 'father': 165,\n",
       " 'fear': 166,\n",
       " 'feel': 167,\n",
       " 'fight': 168,\n",
       " 'figur': 169,\n",
       " 'film': 170,\n",
       " 'final': 171,\n",
       " 'finish': 172,\n",
       " 'flee': 173,\n",
       " 'fli': 174,\n",
       " 'floor': 175,\n",
       " 'follow': 176,\n",
       " 'food': 177,\n",
       " 'forc': 178,\n",
       " 'form': 179,\n",
       " 'free': 180,\n",
       " 'friend': 181,\n",
       " 'game': 182,\n",
       " 'gave': 183,\n",
       " 'girl': 184,\n",
       " 'given': 185,\n",
       " 'goe': 186,\n",
       " 'gone': 187,\n",
       " 'good': 188,\n",
       " 'got': 189,\n",
       " 'grab': 190,\n",
       " 'great': 191,\n",
       " 'ground': 192,\n",
       " 'group': 193,\n",
       " 'grow': 194,\n",
       " 'guard': 195,\n",
       " 'gun': 196,\n",
       " 'hand': 197,\n",
       " 'hang': 198,\n",
       " 'happen': 199,\n",
       " 'happi': 200,\n",
       " 'hard': 201,\n",
       " 'head': 202,\n",
       " 'hear': 203,\n",
       " 'heard': 204,\n",
       " 'help': 205,\n",
       " 'hidden': 206,\n",
       " 'hide': 207,\n",
       " 'high': 208,\n",
       " 'hit': 209,\n",
       " 'hold': 210,\n",
       " 'hole': 211,\n",
       " 'home': 212,\n",
       " 'hope': 213,\n",
       " 'hospit': 214,\n",
       " 'hour': 215,\n",
       " 'hous': 216,\n",
       " 'howev': 217,\n",
       " 'human': 218,\n",
       " 'husband': 219,\n",
       " 'idea': 220,\n",
       " 'ignor': 221,\n",
       " 'immedi': 222,\n",
       " 'includ': 223,\n",
       " 'inform': 224,\n",
       " 'initi': 225,\n",
       " 'insid': 226,\n",
       " 'insist': 227,\n",
       " 'instead': 228,\n",
       " 'instruct': 229,\n",
       " 'intend': 230,\n",
       " 'introduc': 231,\n",
       " 'investig': 232,\n",
       " 'invit': 233,\n",
       " 'involv': 234,\n",
       " 'job': 235,\n",
       " 'john': 236,\n",
       " 'join': 237,\n",
       " 'jump': 238,\n",
       " 'kill': 239,\n",
       " 'kiss': 240,\n",
       " 'knock': 241,\n",
       " 'know': 242,\n",
       " 'known': 243,\n",
       " 'land': 244,\n",
       " 'larg': 245,\n",
       " 'late': 246,\n",
       " 'later': 247,\n",
       " 'lead': 248,\n",
       " 'learn': 249,\n",
       " 'led': 250,\n",
       " 'left': 251,\n",
       " 'leg': 252,\n",
       " 'let': 253,\n",
       " 'lie': 254,\n",
       " 'life': 255,\n",
       " 'light': 256,\n",
       " 'like': 257,\n",
       " 'line': 258,\n",
       " 'listen': 259,\n",
       " 'littl': 260,\n",
       " 'live': 261,\n",
       " 'local': 262,\n",
       " 'locat': 263,\n",
       " 'lock': 264,\n",
       " 'long': 265,\n",
       " 'longer': 266,\n",
       " 'look': 267,\n",
       " 'lose': 268,\n",
       " 'lost': 269,\n",
       " 'love': 270,\n",
       " 'main': 271,\n",
       " 'man': 272,\n",
       " 'manag': 273,\n",
       " 'mani': 274,\n",
       " 'mark': 275,\n",
       " 'marri': 276,\n",
       " 'mean': 277,\n",
       " 'meanwhil': 278,\n",
       " 'meet': 279,\n",
       " 'member': 280,\n",
       " 'memori': 281,\n",
       " 'men': 282,\n",
       " 'mention': 283,\n",
       " 'met': 284,\n",
       " 'mind': 285,\n",
       " 'minut': 286,\n",
       " 'miss': 287,\n",
       " 'moment': 288,\n",
       " 'money': 289,\n",
       " 'month': 290,\n",
       " 'morn': 291,\n",
       " 'mother': 292,\n",
       " 'movi': 293,\n",
       " 'murder': 294,\n",
       " 'near': 295,\n",
       " 'nearbi': 296,\n",
       " 'need': 297,\n",
       " 'new': 298,\n",
       " 'news': 299,\n",
       " 'night': 300,\n",
       " 'note': 301,\n",
       " 'noth': 302,\n",
       " 'notic': 303,\n",
       " 'number': 304,\n",
       " 'object': 305,\n",
       " 'offer': 306,\n",
       " 'offic': 307,\n",
       " 'old': 308,\n",
       " 'open': 309,\n",
       " 'order': 310,\n",
       " 'outsid': 311,\n",
       " 'pain': 312,\n",
       " 'paper': 313,\n",
       " 'parent': 314,\n",
       " 'parti': 315,\n",
       " 'pass': 316,\n",
       " 'past': 317,\n",
       " 'pay': 318,\n",
       " 'peopl': 319,\n",
       " 'perform': 320,\n",
       " 'person': 321,\n",
       " 'phone': 322,\n",
       " 'pick': 323,\n",
       " 'pictur': 324,\n",
       " 'piec': 325,\n",
       " 'place': 326,\n",
       " 'plan': 327,\n",
       " 'play': 328,\n",
       " 'point': 329,\n",
       " 'polic': 330,\n",
       " 'posit': 331,\n",
       " 'possibl': 332,\n",
       " 'power': 333,\n",
       " 'prepar': 334,\n",
       " 'present': 335,\n",
       " 'previous': 336,\n",
       " 'prison': 337,\n",
       " 'privat': 338,\n",
       " 'promis': 339,\n",
       " 'protect': 340,\n",
       " 'prove': 341,\n",
       " 'provid': 342,\n",
       " 'public': 343,\n",
       " 'pull': 344,\n",
       " 'pursu': 345,\n",
       " 'push': 346,\n",
       " 'question': 347,\n",
       " 'quick': 348,\n",
       " 'quiet': 349,\n",
       " 'quit': 350,\n",
       " 'reach': 351,\n",
       " 'read': 352,\n",
       " 'readi': 353,\n",
       " 'real': 354,\n",
       " 'realiz': 355,\n",
       " 'realli': 356,\n",
       " 'reason': 357,\n",
       " 'receiv': 358,\n",
       " 'recogn': 359,\n",
       " 'refus': 360,\n",
       " 'relationship': 361,\n",
       " 'releas': 362,\n",
       " 'reluct': 363,\n",
       " 'remain': 364,\n",
       " 'rememb': 365,\n",
       " 'remind': 366,\n",
       " 'remov': 367,\n",
       " 'repli': 368,\n",
       " 'report': 369,\n",
       " 'rescu': 370,\n",
       " 'respond': 371,\n",
       " 'respons': 372,\n",
       " 'rest': 373,\n",
       " 'result': 374,\n",
       " 'retriev': 375,\n",
       " 'return': 376,\n",
       " 'reveal': 377,\n",
       " 'ride': 378,\n",
       " 'right': 379,\n",
       " 'ring': 380,\n",
       " 'road': 381,\n",
       " 'room': 382,\n",
       " 'run': 383,\n",
       " 'rush': 384,\n",
       " 'safe': 385,\n",
       " 'save': 386,\n",
       " 'say': 387,\n",
       " 'scene': 388,\n",
       " 'school': 389,\n",
       " 'scream': 390,\n",
       " 'search': 391,\n",
       " 'second': 392,\n",
       " 'secret': 393,\n",
       " 'secur': 394,\n",
       " 'seen': 395,\n",
       " 'send': 396,\n",
       " 'sent': 397,\n",
       " 'set': 398,\n",
       " 'sever': 399,\n",
       " 'share': 400,\n",
       " 'ship': 401,\n",
       " 'shock': 402,\n",
       " 'shoot': 403,\n",
       " 'short': 404,\n",
       " 'shot': 405,\n",
       " 'sign': 406,\n",
       " 'simpli': 407,\n",
       " 'sinc': 408,\n",
       " 'sister': 409,\n",
       " 'sit': 410,\n",
       " 'sleep': 411,\n",
       " 'slowli': 412,\n",
       " 'small': 413,\n",
       " 'smile': 414,\n",
       " 'sneak': 415,\n",
       " 'soldier': 416,\n",
       " 'someon': 417,\n",
       " 'someth': 418,\n",
       " 'son': 419,\n",
       " 'soon': 420,\n",
       " 'sound': 421,\n",
       " 'speak': 422,\n",
       " 'spend': 423,\n",
       " 'spot': 424,\n",
       " 'stand': 425,\n",
       " 'start': 426,\n",
       " 'state': 427,\n",
       " 'station': 428,\n",
       " 'stay': 429,\n",
       " 'steal': 430,\n",
       " 'step': 431,\n",
       " 'stop': 432,\n",
       " 'store': 433,\n",
       " 'stori': 434,\n",
       " 'street': 435,\n",
       " 'struggl': 436,\n",
       " 'success': 437,\n",
       " 'sudden': 438,\n",
       " 'suffer': 439,\n",
       " 'suggest': 440,\n",
       " 'support': 441,\n",
       " 'sure': 442,\n",
       " 'surpris': 443,\n",
       " 'surround': 444,\n",
       " 'surviv': 445,\n",
       " 'tabl': 446,\n",
       " 'taken': 447,\n",
       " 'talk': 448,\n",
       " 'tear': 449,\n",
       " 'thank': 450,\n",
       " 'thing': 451,\n",
       " 'think': 452,\n",
       " 'thought': 453,\n",
       " 'threaten': 454,\n",
       " 'throw': 455,\n",
       " 'tie': 456,\n",
       " 'togeth': 457,\n",
       " 'told': 458,\n",
       " 'took': 459,\n",
       " 'touch': 460,\n",
       " 'town': 461,\n",
       " 'track': 462,\n",
       " 'train': 463,\n",
       " 'trap': 464,\n",
       " 'travel': 465,\n",
       " 'tri': 466,\n",
       " 'troubl': 467,\n",
       " 'true': 468,\n",
       " 'turn': 469,\n",
       " 'unabl': 470,\n",
       " 'understand': 471,\n",
       " 'unit': 472,\n",
       " 'upset': 473,\n",
       " 'use': 474,\n",
       " 'visit': 475,\n",
       " 'voic': 476,\n",
       " 'wait': 477,\n",
       " 'wake': 478,\n",
       " 'walk': 479,\n",
       " 'wall': 480,\n",
       " 'want': 481,\n",
       " 'war': 482,\n",
       " 'warn': 483,\n",
       " 'watch': 484,\n",
       " 'water': 485,\n",
       " 'way': 486,\n",
       " 'wear': 487,\n",
       " 'week': 488,\n",
       " 'went': 489,\n",
       " 'wife': 490,\n",
       " 'win': 491,\n",
       " 'window': 492,\n",
       " 'wish': 493,\n",
       " 'wit': 494,\n",
       " 'wo': 495,\n",
       " 'woman': 496,\n",
       " 'women': 497,\n",
       " 'wonder': 498,\n",
       " 'word': 499,\n",
       " 'work': 500,\n",
       " 'world': 501,\n",
       " 'worri': 502,\n",
       " 'wound': 503,\n",
       " 'write': 504,\n",
       " 'wrong': 505,\n",
       " 'year': 506,\n",
       " 'yell': 507,\n",
       " 'young': 508}"
      ]
     },
     "execution_count": 205,
     "metadata": {},
     "output_type": "execute_result"
    }
   ],
   "source": [
    "# Inspect\n",
    "word_columnIndex_dict"
   ]
  },
  {
   "cell_type": "code",
   "execution_count": 206,
   "metadata": {
    "collapsed": true
   },
   "outputs": [],
   "source": [
    "plot_word_matrix = []\n",
    "for plot in df3.MoviePlot:\n",
    "    current_plot_word_freq = [0] * len(all_words_from_tfidf)\n",
    "    current_plot_stemmed_words = tokenize_and_stem(plot)\n",
    "    for word in current_plot_stemmed_words:\n",
    "        if word in all_words_from_tfidf:\n",
    "            current_plot_word_freq[word_columnIndex_dict[word]] += 1\n",
    "    current_plot_word_freq = np.asarray(current_plot_word_freq)\n",
    "    plot_word_matrix.append(current_plot_word_freq)\n",
    "plot_word_matrix = np.asarray(plot_word_matrix)"
   ]
  },
  {
   "cell_type": "code",
   "execution_count": 241,
   "metadata": {
    "collapsed": false
   },
   "outputs": [
    {
     "data": {
      "text/plain": [
       "array([[0, 2, 0, ..., 5, 0, 1],\n",
       "       [0, 0, 2, ..., 5, 0, 4],\n",
       "       [0, 0, 1, ..., 3, 0, 2],\n",
       "       ..., \n",
       "       [1, 1, 1, ..., 3, 0, 1],\n",
       "       [0, 0, 0, ..., 0, 0, 0],\n",
       "       [0, 0, 0, ..., 0, 0, 0]])"
      ]
     },
     "execution_count": 241,
     "metadata": {},
     "output_type": "execute_result"
    }
   ],
   "source": [
    "# Inspect\n",
    "plot_word_matrix\n",
    "# Take the first number \"2\" for instance, it means word 'able' was in movie The Shawshank Redemption(1994) 2 times"
   ]
  },
  {
   "cell_type": "markdown",
   "metadata": {},
   "source": [
    "Now we use LDA on the matrix"
   ]
  },
  {
   "cell_type": "code",
   "execution_count": 208,
   "metadata": {
    "collapsed": false
   },
   "outputs": [
    {
     "name": "stderr",
     "output_type": "stream",
     "text": [
      "INFO:lda:n_documents: 239\n",
      "INFO:lda:vocab_size: 509\n",
      "INFO:lda:n_words: 97861\n",
      "INFO:lda:n_topics: 5\n",
      "INFO:lda:n_iter: 500\n",
      "INFO:lda:<0> log likelihood: -762176\n",
      "INFO:lda:<10> log likelihood: -702622\n",
      "INFO:lda:<20> log likelihood: -672860\n",
      "INFO:lda:<30> log likelihood: -663327\n",
      "INFO:lda:<40> log likelihood: -658283\n",
      "INFO:lda:<50> log likelihood: -654494\n",
      "INFO:lda:<60> log likelihood: -652218\n",
      "INFO:lda:<70> log likelihood: -650887\n",
      "INFO:lda:<80> log likelihood: -648963\n",
      "INFO:lda:<90> log likelihood: -647030\n",
      "INFO:lda:<100> log likelihood: -646378\n",
      "INFO:lda:<110> log likelihood: -645205\n",
      "INFO:lda:<120> log likelihood: -643396\n",
      "INFO:lda:<130> log likelihood: -643450\n",
      "INFO:lda:<140> log likelihood: -642470\n",
      "INFO:lda:<150> log likelihood: -641277\n",
      "INFO:lda:<160> log likelihood: -640984\n",
      "INFO:lda:<170> log likelihood: -641505\n",
      "INFO:lda:<180> log likelihood: -641375\n",
      "INFO:lda:<190> log likelihood: -640381\n",
      "INFO:lda:<200> log likelihood: -640181\n",
      "INFO:lda:<210> log likelihood: -639593\n",
      "INFO:lda:<220> log likelihood: -639257\n",
      "INFO:lda:<230> log likelihood: -639266\n",
      "INFO:lda:<240> log likelihood: -638926\n",
      "INFO:lda:<250> log likelihood: -638698\n",
      "INFO:lda:<260> log likelihood: -638870\n",
      "INFO:lda:<270> log likelihood: -638152\n",
      "INFO:lda:<280> log likelihood: -638796\n",
      "INFO:lda:<290> log likelihood: -638541\n",
      "INFO:lda:<300> log likelihood: -637426\n",
      "INFO:lda:<310> log likelihood: -637772\n",
      "INFO:lda:<320> log likelihood: -637250\n",
      "INFO:lda:<330> log likelihood: -636852\n",
      "INFO:lda:<340> log likelihood: -637120\n",
      "INFO:lda:<350> log likelihood: -636711\n",
      "INFO:lda:<360> log likelihood: -636606\n",
      "INFO:lda:<370> log likelihood: -635534\n",
      "INFO:lda:<380> log likelihood: -635746\n",
      "INFO:lda:<390> log likelihood: -636087\n",
      "INFO:lda:<400> log likelihood: -635294\n",
      "INFO:lda:<410> log likelihood: -635490\n",
      "INFO:lda:<420> log likelihood: -636003\n",
      "INFO:lda:<430> log likelihood: -636059\n",
      "INFO:lda:<440> log likelihood: -635201\n",
      "INFO:lda:<450> log likelihood: -635223\n",
      "INFO:lda:<460> log likelihood: -634608\n",
      "INFO:lda:<470> log likelihood: -635459\n",
      "INFO:lda:<480> log likelihood: -635264\n",
      "INFO:lda:<490> log likelihood: -635021\n",
      "INFO:lda:<499> log likelihood: -635359\n"
     ]
    },
    {
     "data": {
      "text/plain": [
       "<lda.lda.LDA at 0x1149ca828>"
      ]
     },
     "execution_count": 208,
     "metadata": {},
     "output_type": "execute_result"
    }
   ],
   "source": [
    "import lda\n",
    "\n",
    "# Build the model, we want 5 topics and iterate 500 times\n",
    "model = lda.LDA(n_topics=5, n_iter=500, random_state=1)\n",
    "\n",
    "# Fit the model with the matrix\n",
    "model.fit(plot_word_matrix)\n"
   ]
  },
  {
   "cell_type": "markdown",
   "metadata": {},
   "source": [
    "<li> \"model.topic\\_word\\_\" saves the importance of all words in each topic"
   ]
  },
  {
   "cell_type": "code",
   "execution_count": 211,
   "metadata": {
    "collapsed": false,
    "scrolled": false
   },
   "outputs": [],
   "source": [
    "topic_word_matrix = model.topic_word_ "
   ]
  },
  {
   "cell_type": "markdown",
   "metadata": {},
   "source": [
    " <li> The shape of \"model.topic\\_word\\_\" is (5 topics * 509 keywords)"
   ]
  },
  {
   "cell_type": "code",
   "execution_count": 228,
   "metadata": {
    "collapsed": false
   },
   "outputs": [
    {
     "data": {
      "text/plain": [
       "(5, 509)"
      ]
     },
     "execution_count": 228,
     "metadata": {},
     "output_type": "execute_result"
    }
   ],
   "source": [
    "# There are 5 topics and 509 keywords\n",
    "topic_word_matrix.shape"
   ]
  },
  {
   "cell_type": "markdown",
   "metadata": {},
   "source": [
    "<li> \"model.doc\\_topic\\_\" saves the importance of each plot in all topics"
   ]
  },
  {
   "cell_type": "code",
   "execution_count": 213,
   "metadata": {
    "collapsed": false
   },
   "outputs": [],
   "source": [
    "plot_topic_matrix = model.doc_topic_"
   ]
  },
  {
   "cell_type": "markdown",
   "metadata": {},
   "source": [
    "<li> The shape of \"model.doc\\_topic\\_\" is (239 documents * 5 topics)"
   ]
  },
  {
   "cell_type": "code",
   "execution_count": 214,
   "metadata": {
    "collapsed": false
   },
   "outputs": [
    {
     "data": {
      "text/plain": [
       "(239, 5)"
      ]
     },
     "execution_count": 214,
     "metadata": {},
     "output_type": "execute_result"
    }
   ],
   "source": [
    "# There are 239 movie plot and 5 movie topics\n",
    "plot_topic_matrix.shape"
   ]
  },
  {
   "cell_type": "markdown",
   "metadata": {},
   "source": [
    "### 5.2 Analyze LDA Result"
   ]
  },
  {
   "cell_type": "markdown",
   "metadata": {},
   "source": [
    "<li> LDA does not have the same 'clusters.labels_.tolist()' function that KMeans has.   \n",
    "<li> To see which movie is in which topic, we need to do the following:"
   ]
  },
  {
   "cell_type": "markdown",
   "metadata": {},
   "source": [
    "**Where can we read that information? **   \n",
    "\n",
    "From the 'plot_topic_matrix'   \n",
    "Take moive plot 0 'The Shawshank Redemption(1994)' as an example:   \n",
    "These five numbers denotes the this movie plot's topic coverage in five different topics"
   ]
  },
  {
   "cell_type": "code",
   "execution_count": 215,
   "metadata": {
    "collapsed": false
   },
   "outputs": [
    {
     "data": {
      "text/plain": [
       "array([  1.94180407e-01,   1.93986421e-04,   3.28031038e-01,\n",
       "         3.08632396e-01,   1.68962173e-01])"
      ]
     },
     "execution_count": 215,
     "metadata": {},
     "output_type": "execute_result"
    }
   ],
   "source": [
    "plot_topic_matrix[0] "
   ]
  },
  {
   "cell_type": "markdown",
   "metadata": {},
   "source": [
    "So to get which movie towards most to which topic, we find the max value:"
   ]
  },
  {
   "cell_type": "code",
   "execution_count": 216,
   "metadata": {
    "collapsed": false
   },
   "outputs": [
    {
     "data": {
      "text/plain": [
       "0.3280310378273521"
      ]
     },
     "execution_count": 216,
     "metadata": {},
     "output_type": "execute_result"
    }
   ],
   "source": [
    "plot_topic_matrix[0].max()"
   ]
  },
  {
   "cell_type": "markdown",
   "metadata": {},
   "source": [
    "But we need to index of the actual topic :"
   ]
  },
  {
   "cell_type": "code",
   "execution_count": 217,
   "metadata": {
    "collapsed": false
   },
   "outputs": [
    {
     "data": {
      "text/plain": [
       "2"
      ]
     },
     "execution_count": 217,
     "metadata": {},
     "output_type": "execute_result"
    }
   ],
   "source": [
    "plot_topic_matrix[0].argmax()  # 1 means movie 0 returns the highest probability on topic 1"
   ]
  },
  {
   "cell_type": "markdown",
   "metadata": {},
   "source": [
    "Now we know, 'The Shawshank Redemption(1994)' is in topic 1"
   ]
  },
  {
   "cell_type": "markdown",
   "metadata": {},
   "source": [
    "Do the above for all movies"
   ]
  },
  {
   "cell_type": "markdown",
   "metadata": {},
   "source": [
    "Set up a dict that has this structure {topic_Id: [list of movie names]}"
   ]
  },
  {
   "cell_type": "code",
   "execution_count": 218,
   "metadata": {
    "collapsed": false
   },
   "outputs": [],
   "source": [
    "topic_movieName_dict = {}\n",
    "\n",
    "for ith_row in range(len(plot_topic_matrix)):\n",
    "    topic_ID = plot_topic_matrix[ith_row].argmax()\n",
    "    if topic_ID not in topic_movieName_dict:\n",
    "        topic_movieName_dict[topic_ID] = [df3.MovieName[ith_row]]\n",
    "    else:\n",
    "        topic_movieName_dict[topic_ID].append(df3.MovieName[ith_row])"
   ]
  },
  {
   "cell_type": "code",
   "execution_count": 219,
   "metadata": {
    "collapsed": true
   },
   "outputs": [
    {
     "data": {
      "text/plain": [
       "{0: [\"Schindler's List(1993)\",\n",
       "  'The Good, the Bad and the Ugly(1966)',\n",
       "  'Saving Private Ryan(1998)',\n",
       "  'Gladiator(2000)',\n",
       "  'Apocalypse Now(1979)',\n",
       "  'The Great Dictator(1940)',\n",
       "  'Django Unchained(2012)',\n",
       "  'Lawrence of Arabia(1962)',\n",
       "  'Full Metal Jacket(1987)',\n",
       "  'Inglourious Basterds(2009)',\n",
       "  'Dunkirk(2017)',\n",
       "  'For a Few Dollars More(1965)',\n",
       "  'Yojimbo(1961)',\n",
       "  'Unforgiven(1992)',\n",
       "  'Downfall(2004)',\n",
       "  'Raging Bull(1980)',\n",
       "  'The Great Escape(1963)',\n",
       "  'Ran(1985)',\n",
       "  'The Bridge on the River Kwai(1957)',\n",
       "  'The Deer Hunter(1978)',\n",
       "  'Hacksaw Ridge(2016)',\n",
       "  'Platoon(1986)',\n",
       "  'The Battle of Algiers(1966)',\n",
       "  'Gangs of Wasseypur(2012)'],\n",
       " 1: ['Terminator 2(1991)',\n",
       "  'Back to the Future(1985)',\n",
       "  'The Shining(1980)',\n",
       "  'Princess Mononoke(1997)',\n",
       "  'Toy Story(1995)',\n",
       "  'Snatch(2000)',\n",
       "  'Heat(1995)',\n",
       "  'The General(1926)',\n",
       "  'Fargo(1996)',\n",
       "  'The Thing(1982)',\n",
       "  'No Country for Old Men(2007)',\n",
       "  'Kill Bill: Vol. 1(2003)',\n",
       "  'Mad Max: Fury Road(2015)',\n",
       "  'The Terminator(1984)'],\n",
       " 2: ['The Shawshank Redemption(1994)',\n",
       "  'The Dark Knight(2008)',\n",
       "  '12 Angry Men(1957)',\n",
       "  'Inception(2010)',\n",
       "  'The Matrix(1999)',\n",
       "  \"It's a Wonderful Life(1946)\",\n",
       "  'Léon: The Professional(1994)',\n",
       "  'Spirited Away(2001)',\n",
       "  'American History X(1998)',\n",
       "  'Once Upon a Time in the West(1968)',\n",
       "  'Interstellar(2014)',\n",
       "  'The Green Mile(1999)',\n",
       "  'Psycho(1960)',\n",
       "  'Casablanca(1942)',\n",
       "  'Rear Window(1954)',\n",
       "  'Whiplash(2014)',\n",
       "  'The Prestige(2006)',\n",
       "  'The Lion King(1994)',\n",
       "  'The Lives of Others(2006)',\n",
       "  'Paths of Glory(1957)',\n",
       "  'American Beauty(1999)',\n",
       "  'Blade Runner 2049(2017)',\n",
       "  'Oldeuboi(2003)',\n",
       "  'Das Boot(1981)',\n",
       "  'Citizen Kane(1941)',\n",
       "  'Vertigo(1958)',\n",
       "  'North by Northwest(1959)',\n",
       "  'M(1931)',\n",
       "  'Taare Zameen Par(2007)',\n",
       "  'Kimi no na wa.(2016)',\n",
       "  'A Clockwork Orange(1971)',\n",
       "  'Double Indemnity(1944)',\n",
       "  'Eternal Sunshine of the Spotless Mind(2004)',\n",
       "  'To Kill a Mockingbird(1962)',\n",
       "  '2001: A Space Odyssey(1968)',\n",
       "  'The Sting(1973)',\n",
       "  'Toy Story 3(2010)',\n",
       "  'Monty Python and the Holy Grail(1975)',\n",
       "  'Good Will Hunting(1997)',\n",
       "  'Rashômon(1950)',\n",
       "  'All About Eve(1950)',\n",
       "  'Batman Begins(2005)',\n",
       "  'Some Like It Hot(1959)',\n",
       "  'The Treasure of the Sierra Madre(1948)',\n",
       "  'The Third Man(1949)',\n",
       "  'My Neighbor Totoro(1988)',\n",
       "  'Judgment at Nuremberg(1961)',\n",
       "  'The Gold Rush(1925)',\n",
       "  'Inside Out(2015)',\n",
       "  \"Howl's Moving Castle(2004)\",\n",
       "  'Room(2015)',\n",
       "  'The Seventh Seal(1957)',\n",
       "  'Mr. Smith Goes to Washington(1939)',\n",
       "  'Blade Runner(1982)',\n",
       "  'V for Vendetta(2005)',\n",
       "  'The Wolf of Wall Street(2013)',\n",
       "  'Dial M for Murder(1954)',\n",
       "  'The Sixth Sense(1999)',\n",
       "  'Andrei Rublev(1966)',\n",
       "  'The Big Lebowski(1998)',\n",
       "  'Cool Hand Luke(1967)',\n",
       "  'The Passion of Joan of Arc(1928)',\n",
       "  'Gone Girl(2014)',\n",
       "  'Mary and Max(2009)',\n",
       "  'La La Land(2016)',\n",
       "  'Shutter Island(2010)',\n",
       "  'Logan(2017)',\n",
       "  'The Wages of Fear(1953)',\n",
       "  'Rush(2013)',\n",
       "  'Persona(1966)',\n",
       "  'The Grand Budapest Hotel(2014)',\n",
       "  'Million Dollar Baby(2004)',\n",
       "  'Spotlight(2015)',\n",
       "  'Stalker(1979)',\n",
       "  'The Truman Show(1998)',\n",
       "  'The Princess Bride(1987)',\n",
       "  'The Maltese Falcon(1941)',\n",
       "  'Harry Potter and the Deathly Hallows: Part 2(2011)',\n",
       "  'Rocky(1976)',\n",
       "  'Gandhi(1982)',\n",
       "  'Monsters, Inc.(2001)',\n",
       "  'The Wizard of Oz(1939)',\n",
       "  'Groundhog Day(1993)',\n",
       "  'Ah-ga-ssi(2016)'],\n",
       " 3: ['The Godfather(1972)',\n",
       "  'The Godfather: Part II(1974)',\n",
       "  'Pulp Fiction(1994)',\n",
       "  'Fight Club(1999)',\n",
       "  'Forrest Gump(1994)',\n",
       "  'Goodfellas(1990)',\n",
       "  'City of God(2002)',\n",
       "  'Se7en(1995)',\n",
       "  'Life Is Beautiful(1997)',\n",
       "  'City Lights(1931)',\n",
       "  'The Intouchables(2011)',\n",
       "  'The Pianist(2002)',\n",
       "  'The Departed(2006)',\n",
       "  'Memento(2000)',\n",
       "  'Sunset Blvd.(1950)',\n",
       "  'Cinema Paradiso(1988)',\n",
       "  'Grave of the Fireflies(1988)',\n",
       "  'Witness for the Prosecution(1957)',\n",
       "  'Once Upon a Time in America(1984)',\n",
       "  'Dangal(2016)',\n",
       "  'Braveheart(1995)',\n",
       "  'Reservoir Dogs(1992)',\n",
       "  'Requiem for a Dream(2000)',\n",
       "  'Amélie(2001)',\n",
       "  'Amadeus(1984)',\n",
       "  'Taxi Driver(1976)',\n",
       "  \"Singin' in the Rain(1952)\",\n",
       "  '3 Idiots(2009)',\n",
       "  'Bicycle Thieves(1948)',\n",
       "  'Jagten(2012)',\n",
       "  'L.A. Confidential(1997)',\n",
       "  'Scarface(1983)',\n",
       "  'The Apartment(1960)',\n",
       "  'A Separation(2011)',\n",
       "  'Up(2009)',\n",
       "  'Children of Heaven(1997)',\n",
       "  'Chinatown(1974)',\n",
       "  \"Pan's Labyrinth(2006)\",\n",
       "  'Incendies(2010)',\n",
       "  'The Secret in Their Eyes(2009)',\n",
       "  'On the Waterfront(1954)',\n",
       "  'Lock, Stock and Two Smoking Barrels(1998)',\n",
       "  'A Beautiful Mind(2001)',\n",
       "  'Casino(1995)',\n",
       "  'The Elephant Man(1980)',\n",
       "  'Wild Strawberries(1957)',\n",
       "  'Warrior(2011)',\n",
       "  'Trainspotting(1996)',\n",
       "  'Gran Torino(2008)',\n",
       "  'Gone with the Wind(1939)',\n",
       "  'Sunrise(1927)',\n",
       "  'Tokyo Story(1953)',\n",
       "  'There Will Be Blood(2007)',\n",
       "  'Rebecca(1940)',\n",
       "  'Rang De Basanti(2006)',\n",
       "  'Into the Wild(2007)',\n",
       "  'It Happened One Night(1934)',\n",
       "  'Life of Brian(1979)',\n",
       "  'Hotel Rwanda(2004)',\n",
       "  'Network(1976)',\n",
       "  'In the Name of the Father(1993)',\n",
       "  'A Wednesday(2008)',\n",
       "  'Stand by Me(1986)',\n",
       "  'Ben-Hur(1959)',\n",
       "  'Memories of Murder(2003)',\n",
       "  '12 Years a Slave(2013)',\n",
       "  'Amores Perros(2000)',\n",
       "  'Butch Cassidy and the Sundance Kid(1969)',\n",
       "  \"Hachi: A Dog's Tale(2009)\",\n",
       "  'Before Sunrise(1995)',\n",
       "  'Paper Moon(1973)',\n",
       "  'The Nights of Cabiria(1957)',\n",
       "  'Prisoners(2013)',\n",
       "  'The Grapes of Wrath(1940)',\n",
       "  'Catch Me If You Can(2002)',\n",
       "  'Touch of Evil(1958)',\n",
       "  'Diabolique(1955)',\n",
       "  'Donnie Darko(2001)',\n",
       "  'Barry Lyndon(1975)',\n",
       "  'Annie Hall(1977)',\n",
       "  'Munna Bhai M.B.B.S.(2003)',\n",
       "  'The Best Years of Our Lives(1946)',\n",
       "  'The Help(2011)',\n",
       "  'In the Mood for Love(2000)',\n",
       "  'Paris, Texas(1984)',\n",
       "  'Beauty and the Beast(1991)',\n",
       "  'Dead Poets Society(1989)',\n",
       "  'Dog Day Afternoon(1975)'],\n",
       " 4: ['The Lord of the Rings: The Return of the King(2003)',\n",
       "  'The Lord of the Rings: The Fellowship of the Ring(2001)',\n",
       "  'Star Wars: Episode V - The Empire Strikes Back(1980)',\n",
       "  'The Lord of the Rings: The Two Towers(2002)',\n",
       "  \"One Flew Over the Cuckoo's Nest(1975)\",\n",
       "  'Seven Samurai(1954)',\n",
       "  'Star Wars: Episode IV - A New Hope(1977)',\n",
       "  'The Silence of the Lambs(1991)',\n",
       "  'The Usual Suspects(1995)',\n",
       "  'Raiders of the Lost Ark(1981)',\n",
       "  'Alien(1979)',\n",
       "  'Dr. Strangelove or: How I Learned to Stop Worrying and Love the Bomb(1964)',\n",
       "  'WALL·E(2008)',\n",
       "  'The Dark Knight Rises(2012)',\n",
       "  'Aliens(1986)',\n",
       "  'Star Wars: Episode VI - Return of the Jedi(1983)',\n",
       "  'Metropolis(1927)',\n",
       "  'Indiana Jones and the Last Crusade(1989)',\n",
       "  'Die Hard(1988)',\n",
       "  'Finding Nemo(2003)',\n",
       "  'How to Train Your Dragon(2010)',\n",
       "  'Thor: Ragnarok(2017)',\n",
       "  'Jurassic Park(1993)',\n",
       "  'Star Wars: The Force Awakens(2015)',\n",
       "  'The Bourne Ultimatum(2007)',\n",
       "  'Jaws(1975)',\n",
       "  'Twelve Monkeys(1995)',\n",
       "  'Infernal Affairs(2002)',\n",
       "  'Pirates of the Caribbean: The Curse of the Black Pearl(2003)']}"
      ]
     },
     "execution_count": 219,
     "metadata": {},
     "output_type": "execute_result"
    }
   ],
   "source": [
    "# Inspect\n",
    "topic_movieName_dict"
   ]
  },
  {
   "cell_type": "markdown",
   "metadata": {},
   "source": [
    "For better visualization, we use a table to overview it"
   ]
  },
  {
   "cell_type": "code",
   "execution_count": 220,
   "metadata": {
    "collapsed": false
   },
   "outputs": [],
   "source": [
    "topic_movie_df = pd.DataFrame( [[k, v] for k, a in topic_movieName_dict.items() for v in a], columns=['Topic', 'MovieName'])"
   ]
  },
  {
   "cell_type": "code",
   "execution_count": 221,
   "metadata": {
    "collapsed": false
   },
   "outputs": [
    {
     "data": {
      "text/html": [
       "<div>\n",
       "<style>\n",
       "    .dataframe thead tr:only-child th {\n",
       "        text-align: right;\n",
       "    }\n",
       "\n",
       "    .dataframe thead th {\n",
       "        text-align: left;\n",
       "    }\n",
       "\n",
       "    .dataframe tbody tr th {\n",
       "        vertical-align: top;\n",
       "    }\n",
       "</style>\n",
       "<table border=\"1\" class=\"dataframe\">\n",
       "  <thead>\n",
       "    <tr style=\"text-align: right;\">\n",
       "      <th></th>\n",
       "      <th>Topic</th>\n",
       "      <th>MovieName</th>\n",
       "    </tr>\n",
       "  </thead>\n",
       "  <tbody>\n",
       "    <tr>\n",
       "      <th>0</th>\n",
       "      <td>2</td>\n",
       "      <td>The Shawshank Redemption(1994)</td>\n",
       "    </tr>\n",
       "    <tr>\n",
       "      <th>1</th>\n",
       "      <td>2</td>\n",
       "      <td>The Dark Knight(2008)</td>\n",
       "    </tr>\n",
       "    <tr>\n",
       "      <th>2</th>\n",
       "      <td>2</td>\n",
       "      <td>12 Angry Men(1957)</td>\n",
       "    </tr>\n",
       "    <tr>\n",
       "      <th>3</th>\n",
       "      <td>2</td>\n",
       "      <td>Inception(2010)</td>\n",
       "    </tr>\n",
       "    <tr>\n",
       "      <th>4</th>\n",
       "      <td>2</td>\n",
       "      <td>The Matrix(1999)</td>\n",
       "    </tr>\n",
       "  </tbody>\n",
       "</table>\n",
       "</div>"
      ],
      "text/plain": [
       "   Topic                       MovieName\n",
       "0      2  The Shawshank Redemption(1994)\n",
       "1      2           The Dark Knight(2008)\n",
       "2      2              12 Angry Men(1957)\n",
       "3      2                 Inception(2010)\n",
       "4      2                The Matrix(1999)"
      ]
     },
     "execution_count": 221,
     "metadata": {},
     "output_type": "execute_result"
    }
   ],
   "source": [
    "# Inspect\n",
    "topic_movie_df[:5]"
   ]
  },
  {
   "cell_type": "markdown",
   "metadata": {},
   "source": [
    "Join these two dfs on movie names"
   ]
  },
  {
   "cell_type": "code",
   "execution_count": 222,
   "metadata": {
    "collapsed": false
   },
   "outputs": [],
   "source": [
    "df4 = df3.merge(topic_movie_df,on = 'MovieName')"
   ]
  },
  {
   "cell_type": "code",
   "execution_count": 223,
   "metadata": {
    "collapsed": false
   },
   "outputs": [
    {
     "data": {
      "text/html": [
       "<div>\n",
       "<style>\n",
       "    .dataframe thead tr:only-child th {\n",
       "        text-align: right;\n",
       "    }\n",
       "\n",
       "    .dataframe thead th {\n",
       "        text-align: left;\n",
       "    }\n",
       "\n",
       "    .dataframe tbody tr th {\n",
       "        vertical-align: top;\n",
       "    }\n",
       "</style>\n",
       "<table border=\"1\" class=\"dataframe\">\n",
       "  <thead>\n",
       "    <tr style=\"text-align: right;\">\n",
       "      <th></th>\n",
       "      <th>MovieId</th>\n",
       "      <th>Ranking</th>\n",
       "      <th>MovieName</th>\n",
       "      <th>MoviePlot</th>\n",
       "      <th>Topic</th>\n",
       "    </tr>\n",
       "  </thead>\n",
       "  <tbody>\n",
       "    <tr>\n",
       "      <th>0</th>\n",
       "      <td>tt0111161</td>\n",
       "      <td>1</td>\n",
       "      <td>The Shawshank Redemption(1994)</td>\n",
       "      <td>In 1947, Andy Dufresne (Tim Robbins), a banker...</td>\n",
       "      <td>2</td>\n",
       "    </tr>\n",
       "    <tr>\n",
       "      <th>1</th>\n",
       "      <td>tt0068646</td>\n",
       "      <td>2</td>\n",
       "      <td>The Godfather(1972)</td>\n",
       "      <td>In late summer 1945, guests are gathered for t...</td>\n",
       "      <td>3</td>\n",
       "    </tr>\n",
       "    <tr>\n",
       "      <th>2</th>\n",
       "      <td>tt0071562</td>\n",
       "      <td>3</td>\n",
       "      <td>The Godfather: Part II(1974)</td>\n",
       "      <td>The Godfather Part II presents two parallel st...</td>\n",
       "      <td>3</td>\n",
       "    </tr>\n",
       "    <tr>\n",
       "      <th>3</th>\n",
       "      <td>tt0468569</td>\n",
       "      <td>4</td>\n",
       "      <td>The Dark Knight(2008)</td>\n",
       "      <td>The movie begins with a gang of men with clown...</td>\n",
       "      <td>2</td>\n",
       "    </tr>\n",
       "    <tr>\n",
       "      <th>4</th>\n",
       "      <td>tt0050083</td>\n",
       "      <td>5</td>\n",
       "      <td>12 Angry Men(1957)</td>\n",
       "      <td>In a New York City courthouse, an eighteen-yea...</td>\n",
       "      <td>2</td>\n",
       "    </tr>\n",
       "  </tbody>\n",
       "</table>\n",
       "</div>"
      ],
      "text/plain": [
       "     MovieId  Ranking                       MovieName  \\\n",
       "0  tt0111161        1  The Shawshank Redemption(1994)   \n",
       "1  tt0068646        2             The Godfather(1972)   \n",
       "2  tt0071562        3    The Godfather: Part II(1974)   \n",
       "3  tt0468569        4           The Dark Knight(2008)   \n",
       "4  tt0050083        5              12 Angry Men(1957)   \n",
       "\n",
       "                                           MoviePlot  Topic  \n",
       "0  In 1947, Andy Dufresne (Tim Robbins), a banker...      2  \n",
       "1  In late summer 1945, guests are gathered for t...      3  \n",
       "2  The Godfather Part II presents two parallel st...      3  \n",
       "3  The movie begins with a gang of men with clown...      2  \n",
       "4  In a New York City courthouse, an eighteen-yea...      2  "
      ]
     },
     "execution_count": 223,
     "metadata": {},
     "output_type": "execute_result"
    }
   ],
   "source": [
    "# Inspect\n",
    "df4[:5]"
   ]
  },
  {
   "cell_type": "code",
   "execution_count": 224,
   "metadata": {
    "collapsed": true
   },
   "outputs": [],
   "source": [
    "# define a funtion to print top 5 keywords per topic ID\n",
    "def print_topic_keywords(topic_ID):\n",
    "    print (\"Topic \" + str(topic_ID)  + \" top 5 keywords: \" , end=\"\") \n",
    "    \n",
    "    topic_keywords_dict[topic_ID] = []\n",
    "    top5_keywords_index = topic_word_matrix[topic_ID].argsort()[:-6:-1]\n",
    "    for index in top5_keywords_index:\n",
    "        stemmed_word = all_words_from_tfidf[index] \n",
    "        unstemmed_word = stemmed_unstemmed_dict[stemmed_word] \n",
    "        topic_keywords_dict[topic_ID].append(unstemmed_word)\n",
    "   \n",
    "    print (\", \".join(topic_keywords_dict[topic_ID]))"
   ]
  },
  {
   "cell_type": "code",
   "execution_count": 225,
   "metadata": {
    "collapsed": true
   },
   "outputs": [],
   "source": [
    "# define a function to print all movies in that topic\n",
    "def print_topic_movies(topic_ID):\n",
    "    print (\"Topic \" + str(topic_ID) + \" has \" + str(len(topic_movieName_dict[topic_ID])) + \" movies : \" )\n",
    "    print (', '.join(topic_movieName_dict[topic_ID]))  \n",
    "    print ()"
   ]
  },
  {
   "cell_type": "markdown",
   "metadata": {},
   "source": [
    "Print out topic info"
   ]
  },
  {
   "cell_type": "code",
   "execution_count": 226,
   "metadata": {
    "collapsed": false
   },
   "outputs": [
    {
     "name": "stdout",
     "output_type": "stream",
     "text": [
      "<Movie Clustering Result by LDA>\n",
      "Topic 0 top 5 keywords: kill, men, shoot, soldiers, gun\n",
      "Topic 0 has 24 movies : \n",
      "Schindler's List(1993), The Good, the Bad and the Ugly(1966), Saving Private Ryan(1998), Gladiator(2000), Apocalypse Now(1979), The Great Dictator(1940), Django Unchained(2012), Lawrence of Arabia(1962), Full Metal Jacket(1987), Inglourious Basterds(2009), Dunkirk(2017), For a Few Dollars More(1965), Yojimbo(1961), Unforgiven(1992), Downfall(2004), Raging Bull(1980), The Great Escape(1963), Ran(1985), The Bridge on the River Kwai(1957), The Deer Hunter(1978), Hacksaw Ridge(2016), Platoon(1986), The Battle of Algiers(1966), Gangs of Wasseypur(2012)\n",
      "\n",
      "Topic 1 top 5 keywords: car, away, saying, John, running\n",
      "Topic 1 has 14 movies : \n",
      "Terminator 2(1991), Back to the Future(1985), The Shining(1980), Princess Mononoke(1997), Toy Story(1995), Snatch(2000), Heat(1995), The General(1926), Fargo(1996), The Thing(1982), No Country for Old Men(2007), Kill Bill: Vol. 1(2003), Mad Max: Fury Road(2015), The Terminator(1984)\n",
      "\n",
      "Topic 2 top 5 keywords: saying, asks, wants, knows, tries\n",
      "Topic 2 has 84 movies : \n",
      "The Shawshank Redemption(1994), The Dark Knight(2008), 12 Angry Men(1957), Inception(2010), The Matrix(1999), It's a Wonderful Life(1946), Léon: The Professional(1994), Spirited Away(2001), American History X(1998), Once Upon a Time in the West(1968), Interstellar(2014), The Green Mile(1999), Psycho(1960), Casablanca(1942), Rear Window(1954), Whiplash(2014), The Prestige(2006), The Lion King(1994), The Lives of Others(2006), Paths of Glory(1957), American Beauty(1999), Blade Runner 2049(2017), Oldeuboi(2003), Das Boot(1981), Citizen Kane(1941), Vertigo(1958), North by Northwest(1959), M(1931), Taare Zameen Par(2007), Kimi no na wa.(2016), A Clockwork Orange(1971), Double Indemnity(1944), Eternal Sunshine of the Spotless Mind(2004), To Kill a Mockingbird(1962), 2001: A Space Odyssey(1968), The Sting(1973), Toy Story 3(2010), Monty Python and the Holy Grail(1975), Good Will Hunting(1997), Rashômon(1950), All About Eve(1950), Batman Begins(2005), Some Like It Hot(1959), The Treasure of the Sierra Madre(1948), The Third Man(1949), My Neighbor Totoro(1988), Judgment at Nuremberg(1961), The Gold Rush(1925), Inside Out(2015), Howl's Moving Castle(2004), Room(2015), The Seventh Seal(1957), Mr. Smith Goes to Washington(1939), Blade Runner(1982), V for Vendetta(2005), The Wolf of Wall Street(2013), Dial M for Murder(1954), The Sixth Sense(1999), Andrei Rublev(1966), The Big Lebowski(1998), Cool Hand Luke(1967), The Passion of Joan of Arc(1928), Gone Girl(2014), Mary and Max(2009), La La Land(2016), Shutter Island(2010), Logan(2017), The Wages of Fear(1953), Rush(2013), Persona(1966), The Grand Budapest Hotel(2014), Million Dollar Baby(2004), Spotlight(2015), Stalker(1979), The Truman Show(1998), The Princess Bride(1987), The Maltese Falcon(1941), Harry Potter and the Deathly Hallows: Part 2(2011), Rocky(1976), Gandhi(1982), Monsters, Inc.(2001), The Wizard of Oz(1939), Groundhog Day(1993), Ah-ga-ssi(2016)\n",
      "\n",
      "Topic 3 top 5 keywords: man, father, day, meeting, friend\n",
      "Topic 3 has 88 movies : \n",
      "The Godfather(1972), The Godfather: Part II(1974), Pulp Fiction(1994), Fight Club(1999), Forrest Gump(1994), Goodfellas(1990), City of God(2002), Se7en(1995), Life Is Beautiful(1997), City Lights(1931), The Intouchables(2011), The Pianist(2002), The Departed(2006), Memento(2000), Sunset Blvd.(1950), Cinema Paradiso(1988), Grave of the Fireflies(1988), Witness for the Prosecution(1957), Once Upon a Time in America(1984), Dangal(2016), Braveheart(1995), Reservoir Dogs(1992), Requiem for a Dream(2000), Amélie(2001), Amadeus(1984), Taxi Driver(1976), Singin' in the Rain(1952), 3 Idiots(2009), Bicycle Thieves(1948), Jagten(2012), L.A. Confidential(1997), Scarface(1983), The Apartment(1960), A Separation(2011), Up(2009), Children of Heaven(1997), Chinatown(1974), Pan's Labyrinth(2006), Incendies(2010), The Secret in Their Eyes(2009), On the Waterfront(1954), Lock, Stock and Two Smoking Barrels(1998), A Beautiful Mind(2001), Casino(1995), The Elephant Man(1980), Wild Strawberries(1957), Warrior(2011), Trainspotting(1996), Gran Torino(2008), Gone with the Wind(1939), Sunrise(1927), Tokyo Story(1953), There Will Be Blood(2007), Rebecca(1940), Rang De Basanti(2006), Into the Wild(2007), It Happened One Night(1934), Life of Brian(1979), Hotel Rwanda(2004), Network(1976), In the Name of the Father(1993), A Wednesday(2008), Stand by Me(1986), Ben-Hur(1959), Memories of Murder(2003), 12 Years a Slave(2013), Amores Perros(2000), Butch Cassidy and the Sundance Kid(1969), Hachi: A Dog's Tale(2009), Before Sunrise(1995), Paper Moon(1973), The Nights of Cabiria(1957), Prisoners(2013), The Grapes of Wrath(1940), Catch Me If You Can(2002), Touch of Evil(1958), Diabolique(1955), Donnie Darko(2001), Barry Lyndon(1975), Annie Hall(1977), Munna Bhai M.B.B.S.(2003), The Best Years of Our Lives(1946), The Help(2011), In the Mood for Love(2000), Paris, Texas(1984), Beauty and the Beast(1991), Dead Poets Society(1989), Dog Day Afternoon(1975)\n",
      "\n",
      "Topic 4 top 5 keywords: escaped, used, forces, reveals, ship\n",
      "Topic 4 has 29 movies : \n",
      "The Lord of the Rings: The Return of the King(2003), The Lord of the Rings: The Fellowship of the Ring(2001), Star Wars: Episode V - The Empire Strikes Back(1980), The Lord of the Rings: The Two Towers(2002), One Flew Over the Cuckoo's Nest(1975), Seven Samurai(1954), Star Wars: Episode IV - A New Hope(1977), The Silence of the Lambs(1991), The Usual Suspects(1995), Raiders of the Lost Ark(1981), Alien(1979), Dr. Strangelove or: How I Learned to Stop Worrying and Love the Bomb(1964), WALL·E(2008), The Dark Knight Rises(2012), Aliens(1986), Star Wars: Episode VI - Return of the Jedi(1983), Metropolis(1927), Indiana Jones and the Last Crusade(1989), Die Hard(1988), Finding Nemo(2003), How to Train Your Dragon(2010), Thor: Ragnarok(2017), Jurassic Park(1993), Star Wars: The Force Awakens(2015), The Bourne Ultimatum(2007), Jaws(1975), Twelve Monkeys(1995), Infernal Affairs(2002), Pirates of the Caribbean: The Curse of the Black Pearl(2003)\n",
      "\n"
     ]
    }
   ],
   "source": [
    "print (\"<Movie Clustering Result by LDA>\")\n",
    "\n",
    "topic_keywords_dict = {}\n",
    "\n",
    "for topic_ID in range(len(topic_word_matrix)):\n",
    "    print_topic_keywords(topic_ID)\n",
    "    print_topic_movies(topic_ID)"
   ]
  },
  {
   "cell_type": "markdown",
   "metadata": {},
   "source": [
    "Finding 3"
   ]
  },
  {
   "cell_type": "markdown",
   "metadata": {},
   "source": [
    "Like KMeasn, topic 4 produces very simliar effect.\n",
    "Majority of them are fantasy or sci-fi movies."
   ]
  }
 ],
 "metadata": {
  "kernelspec": {
   "display_name": "Python 3",
   "language": "python",
   "name": "python3"
  },
  "language_info": {
   "codemirror_mode": {
    "name": "ipython",
    "version": 3
   },
   "file_extension": ".py",
   "mimetype": "text/x-python",
   "name": "python",
   "nbconvert_exporter": "python",
   "pygments_lexer": "ipython3",
   "version": "3.6.0"
  }
 },
 "nbformat": 4,
 "nbformat_minor": 0
}
