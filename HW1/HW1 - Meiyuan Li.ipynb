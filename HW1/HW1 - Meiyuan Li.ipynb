{
 "cells": [
  {
   "cell_type": "markdown",
   "metadata": {},
   "source": [
    " <b>Import StopWords List, Positive and Negative words lists and join them as three strings </b>"
   ]
  },
  {
   "cell_type": "code",
   "execution_count": 486,
   "metadata": {
    "collapsed": false
   },
   "outputs": [],
   "source": [
    "with open('stopWords.txt') as stopWordsFile:\n",
    "    stopWords =\"\".join(line.replace('\\n',' ') for line in stopWordsFile)"
   ]
  },
  {
   "cell_type": "code",
   "execution_count": 487,
   "metadata": {
    "collapsed": true
   },
   "outputs": [],
   "source": [
    "with open('pWords.txt') as pWordsFile:\n",
    "    pWords =\"\".join(line.replace('\\n',' ') for line in pWordsFile)"
   ]
  },
  {
   "cell_type": "code",
   "execution_count": 488,
   "metadata": {
    "collapsed": true
   },
   "outputs": [],
   "source": [
    "with open('nWords.txt') as nWordsFile:\n",
    "    nWords =\"\".join(line.replace('\\n',' ') for line in nWordsFile)"
   ]
  },
  {
   "cell_type": "code",
   "execution_count": 489,
   "metadata": {
    "collapsed": false
   },
   "outputs": [],
   "source": [
    "stopWordsFile.close()\n",
    "pWordsFile.close()\n",
    "nWordsFile.close()"
   ]
  },
  {
   "cell_type": "code",
   "execution_count": 490,
   "metadata": {
    "collapsed": false
   },
   "outputs": [
    {
     "data": {
      "text/plain": [
       "str"
      ]
     },
     "execution_count": 490,
     "metadata": {},
     "output_type": "execute_result"
    }
   ],
   "source": [
    "type(stopWords)\n",
    "type(pWords)\n",
    "type(nWords)\n"
   ]
  },
  {
   "cell_type": "markdown",
   "metadata": {},
   "source": [
    "### Convert them to lists for later use"
   ]
  },
  {
   "cell_type": "code",
   "execution_count": 491,
   "metadata": {
    "collapsed": true
   },
   "outputs": [],
   "source": [
    "stopWordsList = list(stopWords.split(' '))"
   ]
  },
  {
   "cell_type": "code",
   "execution_count": 492,
   "metadata": {
    "collapsed": true
   },
   "outputs": [],
   "source": [
    "pList = list(pWords.split(' '))"
   ]
  },
  {
   "cell_type": "code",
   "execution_count": 493,
   "metadata": {
    "collapsed": true
   },
   "outputs": [],
   "source": [
    "nList = list(nWords.split(' '))"
   ]
  },
  {
   "cell_type": "markdown",
   "metadata": {},
   "source": [
    "### Inspect first 5 elements"
   ]
  },
  {
   "cell_type": "code",
   "execution_count": 494,
   "metadata": {
    "collapsed": false
   },
   "outputs": [
    {
     "data": {
      "text/plain": [
       "['2-faced', '2-faces', 'abnormal', 'abolish', 'abominable']"
      ]
     },
     "execution_count": 494,
     "metadata": {},
     "output_type": "execute_result"
    }
   ],
   "source": [
    "nList[0:5]"
   ]
  },
  {
   "cell_type": "code",
   "execution_count": 495,
   "metadata": {
    "collapsed": false
   },
   "outputs": [
    {
     "data": {
      "text/plain": [
       "['a+', 'abound', 'abounds', 'abundance', 'abundant']"
      ]
     },
     "execution_count": 495,
     "metadata": {},
     "output_type": "execute_result"
    }
   ],
   "source": [
    "pList[0:5]"
   ]
  },
  {
   "cell_type": "code",
   "execution_count": 496,
   "metadata": {
    "collapsed": false
   },
   "outputs": [
    {
     "data": {
      "text/plain": [
       "['a', 'able', 'about', 'across', 'after']"
      ]
     },
     "execution_count": 496,
     "metadata": {},
     "output_type": "execute_result"
    }
   ],
   "source": [
    "stopWordsList[0:5]"
   ]
  },
  {
   "cell_type": "markdown",
   "metadata": {},
   "source": [
    "### Open scrapped txt file which has the word \"Purdue\" as the key word\n",
    "#### lower the string for later comparison with words lists"
   ]
  },
  {
   "cell_type": "code",
   "execution_count": 497,
   "metadata": {
    "collapsed": false
   },
   "outputs": [],
   "source": [
    "with open('Purdue.txt') as inputFile:\n",
    "    data=\"\".join(line.strip().lower().decode('utf-8') for line in inputFile)"
   ]
  },
  {
   "cell_type": "code",
   "execution_count": 498,
   "metadata": {
    "collapsed": false
   },
   "outputs": [],
   "source": [
    "inputFile.close()"
   ]
  },
  {
   "cell_type": "markdown",
   "metadata": {},
   "source": [
    "### Insepect data and we need to do the following\n",
    "#### 1. Remove links\n",
    "#### 2. Remove \"rt and its following user name:\"\n",
    "#### 3. Remove \"@username:\"\n",
    "#### 4. Remove all punctionation excepet apstrophe\n",
    "##### Without above operations, the final score is about the same because these removes don't have much impact on the legitimate words we are comparing"
   ]
  },
  {
   "cell_type": "code",
   "execution_count": 499,
   "metadata": {
    "collapsed": false
   },
   "outputs": [
    {
     "data": {
      "text/plain": [
       "u'rt @iuwsoccer: ht: #iuws leads purdue, 1-0. https://t.co/ievu4dy6mvrt @nickbaumgardner: john o\\'korn felt he came full circle today. tony levine, the hc who benched him at houston, is purdue\\'s co-oc.rt @umichfootball: total yards in the second half:michigan: 292 (21 points)purdue: 10 (0 points)#goblue https://t.co/cktwtvkslort @footballscoop: purdue is 0 for 11 3rd down conversions.don brown. gangsta. https://t.co/uv2v8iaomqrt @umichfootball: total yards in the second half:michigan: 292 (21 points)purdue: 10 (0 points)#goblue https://t.co/cktwtvkslort @nickbaumgardner: total yards in the third q:michigan 147, purdue -4rt @nickbaumgardner: second half yardsmichigan 274, purdue 1rt @drewchallett: michigan outscored purdue, 21-0, and outgained them, 292-10, in the second half. that was the most complete half u-m has\\u2026@goblueinsider he didn\\'t even perpare with the starters...or like a starter.....he could have put up 40+ on purdue if okorn started the gamd@kingklipsch @purdue they suckrt @nickbaumgardner: second half yardsmichigan 274, purdue 1rt @nickbaumgardner: john o\\'korn felt he came full circle today. tony levine, the hc who benched him at houston, is purdue\\'s co-oc.rt @footballscoop: purdue is 0 for 11 3rd down conversions.don brown. gangsta. https://t.co/uv2v8iaomq[author: sports-news-fresnobee-com]  https://t.co/x9ac48sdpy chris evans ran for two touchdowns in the second half and backup quarterback...rt @landgrant33: beating purdue on the road is the closest michigan\\u2019s come to winning in indianapolis yet.  kudos to them.holy shit. https://t.co/tstdqnbmbiin the win over purdue, john o\\'korn led michigan on a 13-play, 84-yard touchdown drive and an 11-play, 86-yard touchdown drive.rt @umichfootball: total yards in the second half:michigan: 292 (21 points)purdue: 10 (0 points)#goblue https://t.co/cktwtvkslort @nickbaumgardner: john o\\'korn felt he came full circle today. tony levine, the hc who benched him at houston, is purdue\\'s co-oc.rt @nickbaumgardner: john o\\'korn felt he came full circle today. tony levine, the hc who benched him at houston, is purdue\\'s co-oc.rt @nickbaumgardner: second half yardsmichigan 274, purdue 1rt @iuwsoccer: ht: #iuws leads purdue, 1-0. https://t.co/ievu4dy6mvrt @footballscoop: purdue is 0 for 11 3rd down conversions.don brown. gangsta. https://t.co/uv2v8iaomqrt @bluebarronphoto: purdue player tried the \"hide on the letter\" technique on the kick return https://t.co/mwyiew3rwlrt @iuwsoccer: #iuws returns to armstrong stadium tonight to host purdue in the golden boot game \\u26aa\\ufe0f\\U0001f534\\u26bd\\ufe0f\\U0001f4fa https://t.co/bbjmq1p7ui\\u2026rt @umichfootball: total yards in the second half:michigan: 292 (21 points)purdue: 10 (0 points)#goblue https://t.co/cktwtvkslotoo soon.  rt @jrovner: wow purdue way to lose your composure. #boilerupnever thought i\\u2019d say this, but danny etling might wish he still had purdue\\u2019s offensive line right now.lsu struggling.rt @greggdoyelstar: brohm on biggest purdue crowd in 9 years: \"we\\'re more than thrilled for that type crowd to show up and support us, beca\\u2026rt @hammerandrails: if you think purdue played poorly and this was typical purdue you did not watch the game.danny etling is likely having flashbacks of his first two college seasons at purdue, when he was sacked 42 times in 13 games.rt @greggdoyelstar: jeff brohm: \"i think we were too confident.\" how far has purdue come in 4 games with brohm? its players were too confid\\u2026\\u2488 #takeaknee\\u2489 #gcfest\\u248a purdue\\u248b vandy\\u248c oklahoma state2017/9/23 19:16 cdt #trndnl https://t.co/ivleifbyxycan\\'t wait to read all the purdue tweets about how the 2 targeting calls were bullshit. #goblue #michvspurdue \\u303d\\ufe0f\\u303d\\ufe0f\\u303d\\ufe0f\\u303d\\ufe0frt @footballscoop: purdue is 0 for 11 3rd down conversions.don brown. gangsta. https://t.co/uv2v8iaomqrt @umichfootball: total yards in the second half:michigan: 292 (21 points)purdue: 10 (0 points)#goblue https://t.co/cktwtvkslort @peterburnsespn: never thought i\\u2019d say this, but danny etling might wish he still had purdue\\u2019s offensive line right now.lsu strugglin\\u2026rt @iuwsoccer: ht: #iuws leads purdue, 1-0. https://t.co/ievu4dy6mvrt @nickbaumgardner: john o\\'korn felt he came full circle today. tony levine, the hc who benched him at houston, is purdue\\'s co-oc.purdue football. \\U0001f602\\U0001f62d https://t.co/qszdcdtktp@umichfootball strong michigan fan showing at purdue. purdue side looks a little light. https://t.co/lmghl3iffort @nickbaumgardner: john o\\'korn felt he came full circle today. tony levine, the hc who benched him at houston, is purdue\\'s co-oc.rt @johnubacon: i recall getting some crap for suggesting michigan would likely make astute second half adjustments. second half yardage: u\\u2026rt @peterburnsespn: never thought i\\u2019d say this, but danny etling might wish he still had purdue\\u2019s offensive line right now.lsu strugglin\\u2026purdue how could you cost me my parlay.  i was getting 10 points with you and you get outscored 21-0 in the 2nd half #comeonmanrt @footballscoop: purdue is 0 for 11 3rd down conversions.don brown. gangsta. https://t.co/uv2v8iaomqrt @umichfootball: total yards in the second half:michigan: 292 (21 points)purdue: 10 (0 points)#goblue https://t.co/cktwtvksloso about that.... \"purdue is the hottest team in the country and is going to beat um.\" #truth or nah? @971thefan https://t.co/g74ez80czdrt @drewchallett: michigan outscored purdue, 21-0, and outgained them, 292-10, in the second half. that was the most complete half u-m has\\u2026rt @umichfootball: total yards in the second half:michigan: 292 (21 points)purdue: 10 (0 points)#goblue https://t.co/cktwtvkslort @umichfootball: total yards in the second half:michigan: 292 (21 points)purdue: 10 (0 points)#goblue https://t.co/cktwtvkslort @nickbaumgardner: second half yardsmichigan 274, purdue 1rt @umichfootball: total yards in the second half:michigan: 292 (21 points)purdue: 10 (0 points)#goblue https://t.co/cktwtvkslort @sportsguymi: the #goblue stat of the day:michigan 2nd half points: 21purdue 2nd half yards: 15rt @umichfootball: total yards in the second half:michigan: 292 (21 points)purdue: 10 (0 points)#goblue https://t.co/cktwtvkslort @nickbaumgardner: total yards in the third q:michigan 147, purdue -4rt @greggdoyelstar: biggest crowd since 2008 at purdue: 60,042. an official sellout.rt @umichfootball: total yards in the second half:michigan: 292 (21 points)purdue: 10 (0 points)#goblue https://t.co/cktwtvkslort @umichfootball: total yards in the second half:michigan: 292 (21 points)purdue: 10 (0 points)#goblue https://t.co/cktwtvkslort @footballscoop: purdue is 0 for 11 3rd down conversions.don brown. gangsta. https://t.co/uv2v8iaomqrt @umichfootball: total yards in the second half:michigan: 292 (21 points)purdue: 10 (0 points)#goblue https://t.co/cktwtvkslo#lalate: michigan vs purdue score: ap top 25 #collegefootball https://t.co/sr49sm4d2c https://t.co/langdc9sibrt @umichfootball: total yards in the second half:michigan: 292 (21 points)purdue: 10 (0 points)#goblue https://t.co/cktwtvkslort @nickbaumgardner: second half yardsmichigan 274, purdue 1norwich university, class of \\'77 #norwichforever https://t.co/3dxkflfhz9rt @nickbaumgardner: john o\\'korn felt he came full circle today. tony levine, the hc who benched him at houston, is purdue\\'s co-oc.john o\\'korn, defense pace michigan football\\'s 28-10 win over purdue https://t.co/pwqs8xv0vj via @chatsports #gobluejohn o\\'korn, defense pace michigan football\\'s 28-10 win over purdue https://t.co/gtdkvanprbrt @footballscoop: purdue is 0 for 11 3rd down conversions.don brown. gangsta. https://t.co/uv2v8iaomqrt @nickbaumgardner: john o\\'korn felt he came full circle today. tony levine, the hc who benched him at houston, is purdue\\'s co-oc.can he remember those seasons? \\U0001f914 https://t.co/g3runjb2cjrt @umichfootball: total yards in the second half:michigan: 292 (21 points)purdue: 10 (0 points)#goblue https://t.co/cktwtvkslort @aaronmcmann: #michigan beats purdue 28-10, improves to 4-0. much better second half.rt @umichfootball: total yards in the second half:michigan: 292 (21 points)purdue: 10 (0 points)#goblue https://t.co/cktwtvkslort @nickbaumgardner: john o\\'korn felt he came full circle today. tony levine, the hc who benched him at houston, is purdue\\'s co-oc.rt @umichfootball: total yards in the second half:michigan: 292 (21 points)purdue: 10 (0 points)#goblue https://t.co/cktwtvkslort @michiganupdates: \\u2705florida\\u2705cincinnati\\u2705air force\\u2705purdue\\u25fb\\ufe0flittle sister\\u25fb\\ufe0findiana\\u25fb\\ufe0fpenn state\\u25fb\\ufe0frutgers\\u25fb\\ufe0fminnesota\\u25fb\\ufe0fmaryland\\u25fb\\ufe0fwi\\u2026rt @peterburnsespn: never thought i\\u2019d say this, but danny etling might wish he still had purdue\\u2019s offensive line right now.lsu strugglin\\u2026rt @nickbaumgardner: second half yardsmichigan 274, purdue 1rt @ericvdunn: so clemson tied 7-7 with boston college, oklahoma state down to tcu  by 17, usc tied with cal and michigan down 3 to purduert @nickbaumgardner: second half yardsmichigan 274, purdue 1rt @nickbaumgardner: second half yardsmichigan 274, purdue 1damn...and they still lost. https://t.co/j5wtzj17lprt @peterburnsespn: never thought i\\u2019d say this, but danny etling might wish he still had purdue\\u2019s offensive line right now.lsu strugglin\\u2026rt @umichfootball: total yards in the second half:michigan: 292 (21 points)purdue: 10 (0 points)#goblue https://t.co/cktwtvkslo@mrmsider purdue definitely played dirty. tried to take out o korn too.@greggdoyelstar purdue has no talent. michigan has a ton of talent. couple that with insane officiating and you get a 28-10 final.jasmine and i made the purdue vs. michigan \"college gameday\" story... how awesome.rt @nickbaumgardner: second half yardsmichigan 274, purdue 1the plus side: there is no pungent aroma of manure drifting from the nearby ag fields in west lafayette. https://t.co/kduwlvnr77rt @landgrant33: beating purdue on the road is the closest michigan\\u2019s come to winning in indianapolis yet.  kudos to them.rt @codyworsham: danny etling is likely having flashbacks of his first two college seasons at purdue, when he was sacked 42 times in 13 gam\\u2026rt @davidpollack47: targeting calls suck! purdue lb about to get booted from the game bc the michigian wr was sliding low for the ball. tar\\u2026rt @goldandblackcom: #purdue coach jeff brohm: \\u2018i was proud of our effort today. guys came ready to play and wanted to win.\\'rt @nickbaumgardner: second half yardsmichigan 274, purdue 1game recap: michigan beats purdue 28-10 https://t.co/rtnlv1xuxagame recap: michigan beats purdue 28-10 https://t.co/ankco0rbsb@mickeyminnie22 @philhecken @aeargle @uniswag the 3rd pic isn\\u2019t even purdue it\\u2019s wake forest lolo\\'korn, defense help no. 8 michigan rally past purdue, 28-10 | purdue | the journal gazette https://t.co/khtvd70rvj@courtneehendrix purdue slaughtered them last weekmy cousins \\U0001f525\\U0001f525\\U0001f525 https://t.co/gldhsk54cirt @nickbaumgardner: total yards in the third q:michigan 147, purdue -4rt @evanpetzold: touchdown, michigan!chris evans breaks loose for a 49-yard rushing score. michigan takes a 28-10 lead over purdue. https:\\u2026#takeaknee melo   vandy #iheartvillage #gcfest live #uscvscal purdue nc state charles bradley   tanner lee    https://t.co/oo8duq9yayrt @footballscoop: purdue is 0 for 11 3rd down conversions.don brown. gangsta. https://t.co/uv2v8iaomqrt @trevormahlmann: .@purduebands and the @purduealumni band forming the block p as they perform hail purdue at halftime! #boilerup https:/\\u2026mizzou got smacked by this team last week \\U0001f616\\U0001f616\\U0001f616 https://t.co/7qhynxbdvtrt @peterburnsespn: never thought i\\u2019d say this, but danny etling might wish he still had purdue\\u2019s offensive line right now.lsu strugglin\\u2026rt @nickbaumgardner: second half yardsmichigan 274, purdue 1rt @umichfootball: total yards in the second half:michigan: 292 (21 points)purdue: 10 (0 points)#goblue https://t.co/cktwtvkslort @umichfootball: total yards in the second half:michigan: 292 (21 points)purdue: 10 (0 points)#goblue https://t.co/cktwtvkslort @umichfootball: total yards in the second half:michigan: 292 (21 points)purdue: 10 (0 points)#goblue https://t.co/cktwtvkslort @umichfootball: total yards in the second half:michigan: 292 (21 points)purdue: 10 (0 points)#goblue https://t.co/cktwtvkslort @peterburnsespn: never thought i\\u2019d say this, but danny etling might wish he still had purdue\\u2019s offensive line right now.lsu strugglin\\u2026rt @musheen25: hello everybody! had to finish watching #michiganfootball beat purdue but ready for frankenstein! #svengooliert @nickbaumgardner: john o\\'korn felt he came full circle today. tony levine, the hc who benched him at houston, is purdue\\'s co-oc.at the half: indiana 1, purdue 0. #iuwsmizzou fucking sucks https://t.co/cztveuos1olooks like im 30 minutes away from jumping firmly onto the purdue bandwagonrt @umichfootball: total yards in the second half:michigan: 292 (21 points)purdue: 10 (0 points)#goblue https://t.co/cktwtvkslort @nickbaumgardner: second half yardsmichigan 274, purdue 1rt @umichfootball: total yards in the second half:michigan: 292 (21 points)purdue: 10 (0 points)#goblue https://t.co/cktwtvkslort @umichfootball: total yards in the second half:michigan: 292 (21 points)purdue: 10 (0 points)#goblue https://t.co/cktwtvkslort @umichfootball: total yards in the second half:michigan: 292 (21 points)purdue: 10 (0 points)#goblue https://t.co/cktwtvkslort @umichfootball: total yards in the second half:michigan: 292 (21 points)purdue: 10 (0 points)#goblue https://t.co/cktwtvkslort @barstooluofm: michigan 2nd half points: 21purdue 2nd half yards: 15rt @balas_wolverine: michigan starters sitting on an air conditioned charter bus because no a/c in the visitors\\' locker room = bush league.\\u2026rt @chatwolverines: chris evans scampers 49 yards into the end zone to ice #michigan\\'s 28-10 win over purdue! #goblue #michvspur https://t.\\u2026rt @nickbaumgardner: second half yardsmichigan 274, purdue 1rt @patmcafeeshow: just got done with a sound proof show in iowa city... hopping on a bird.. can\\'t wait to get to purdue.. let\\'s have\\u2026rt @umichfootball: total yards in the second half:michigan: 292 (21 points)purdue: 10 (0 points)#goblue https://t.co/cktwtvkslomy favorite part of today. at halftime, \"hey, purdue might be ranked after this\".rt @nickbaumgardner: second half yardsmichigan 274, purdue 1rt @nickbaumgardner: second half yardsmichigan 274, purdue 1rt @nickbaumgardner: john o\\'korn felt he came full circle today. tony levine, the hc who benched him at houston, is purdue\\'s co-oc.brah, chill out, we gots this! #goblue #808blue @rkekaula https://t.co/4ksd1y6boirt @nickbaumgardner: second half yardsmichigan 274, purdue 1rt @mrdarell1980: purdue doesn\\'t have a/c in the visiting locker room, nor do they have an on-site x-ray facility? who is their main donor,\\u2026rt @johnubacon: i recall getting some crap for suggesting michigan would likely make astute second half adjustments. second half yardage: u\\u2026rt @umichfootball: total yards in the second half:michigan: 292 (21 points)purdue: 10 (0 points)#goblue https://t.co/cktwtvkslort @nickbaumgardner: second half yardsmichigan 274, purdue 1neither is the defense.  see what a real defense did to purdue today? https://t.co/ztg30rkmmprt @umichfootball: total yards in the second half:michigan: 292 (21 points)purdue: 10 (0 points)#goblue https://t.co/cktwtvkslort @umichfootball: total yards in the second half:michigan: 292 (21 points)purdue: 10 (0 points)#goblue https://t.co/cktwtvkslort @greggdoyelstar: biggest crowd since 2008 at purdue: 60,042. an official sellout.rt @nickbaumgardner: john o\\'korn felt he came full circle today. tony levine, the hc who benched him at houston, is purdue\\'s co-oc.rt @umichfootball: total yards in the second half:michigan: 292 (21 points)purdue: 10 (0 points)#goblue https://t.co/cktwtvkslort @lavana6puff2: #takeaknee melo   vandy #iheartvillage #gcfest live #uscvscal purdue nc state charles bradley   tanner lee    https://t.c\\u2026@destibean this is why you need to transfer to purdue ;)rt @nickbaumgardner: second half yardsmichigan 274, purdue 1#nascar wire: o\\'korn, defense help no. 8 michigan rally past purdue, 28-10 https://t.co/ez2p8n9jhj https://t.co/kbu6kwto1mrt @sleeperathletes: i heard my dude @_dbush11 played another great game vs #purdue! anybody got stats? @umichfootball #goblue \\u303d\\ufe0f\\U0001f499\\U0001f49b https:/\\u2026rt @footballscoop: purdue is 0 for 11 3rd down conversions.don brown. gangsta. https://t.co/uv2v8iaomqrt @umichfootball: total yards in the second half:michigan: 292 (21 points)purdue: 10 (0 points)#goblue https://t.co/cktwtvkslohumble pie... cut a slice before someone cuts one for you. https://t.co/przdtefsefthat\\'s all you need to know #goblue https://t.co/yn7intcu00ooooh boooy now there\\'s a nugget... man god works in mysterious ways indeed https://t.co/oylhdv3ngh@danny_breitag @cwasdyke19 @barstooluofm fl is losing to ky, af had losses to wyoming, nm, and hawaii. refs beat pu\\u2026 https://t.co/buvif9wsrmrt @detroitnews: final: no. michigan 28, purdue 10; chris evans scores 2 tds as wolverines go 4-0 https://t.co/psew8fj04irt @michiganupdates: \\u2705florida\\u2705cincinnati\\u2705air force\\u2705purdue\\u25fb\\ufe0flittle sister\\u25fb\\ufe0findiana\\u25fb\\ufe0fpenn state\\u25fb\\ufe0frutgers\\u25fb\\ufe0fminnesota\\u25fb\\ufe0fmaryland\\u25fb\\ufe0fwi\\u2026do you want to chat about \" #purdue \"?please join the chat channelfree / anonymoushttps://t.co/bx8m5igjwyrt @umichfootball: total yards in the second half:michigan: 292 (21 points)purdue: 10 (0 points)#goblue https://t.co/cktwtvkslooh weird https://t.co/bo6tommip4rt @umichfootball: total yards in the second half:michigan: 292 (21 points)purdue: 10 (0 points)#goblue https://t.co/cktwtvkslort @footballscoop: purdue is 0 for 11 3rd down conversions.don brown. gangsta. https://t.co/uv2v8iaomqrt @dljxxii: humble pie... cut a slice before someone cuts one for you. https://t.co/przdtefsefrt @nickbaumgardner: john o\\'korn felt he came full circle today. tony levine, the hc who benched him at houston, is purdue\\'s co-oc.rt @drewchallett: michigan outscored purdue, 21-0, and outgained them, 292-10, in the second half. that was the most complete half u-m has\\u2026rt @umichfootball: total yards in the second half:michigan: 292 (21 points)purdue: 10 (0 points)#goblue https://t.co/cktwtvkslort @footballscoop: purdue is 0 for 11 3rd down conversions.don brown. gangsta. https://t.co/uv2v8iaomq@michiganfutball im more than happy with that win over purdue finally our offense found that light that they needed with o\\'kornrt @umichfootball: total yards in the second half:michigan: 292 (21 points)purdue: 10 (0 points)#goblue https://t.co/cktwtvksloafter shining vs. purdue, could michigan\\u2019s tight ends be the cure to offensive woes? https://t.co/e7xjd16mu7rt @willdcole: this just in. we have have the location of the #foxsports camera man at the michigan and purdue game. https://t.co/sbjo23irb8check out photos from michigan\\'s 28-10 victory over purdue https://t.co/thpk2gtnavrt @nickbaumgardner: john o\\'korn felt he came full circle today. tony levine, the hc who benched him at houston, is purdue\\'s co-oc.@sebastian020 @nickbaumgardner yes they should, hence the reason why i said purdue is the worst defensive team they\\'ve playedfrench arabic porn purdue sexrt @971theticketxyt: o\\'korn shines in victory over purdue. regardless of speight injury - should o\\'korn be the starting qb? https://t.co/2l\\u2026#big10 final scores:- (8) michigan 28 - purdue 10- ucf 38 - maryland 10updates:- notre dame 7 - mich st 0 1st- penn st 3 - iowa 0 2ndrt @fallfan1: these purdue fans that predicted a purdue win over michigan seem to be off \"target\"rt @footballscoop: purdue is 0 for 11 3rd down conversions.don brown. gangsta. https://t.co/uv2v8iaomqrt @footballscoop: purdue is 0 for 11 3rd down conversions.don brown. gangsta. https://t.co/uv2v8iaomqrt @umichfootball: total yards in the second half:michigan: 292 (21 points)purdue: 10 (0 points)#goblue https://t.co/cktwtvksloafter shining vs. purdue, could michigan\\u2019s tight ends be the cure to offensive woes? https://t.co/qofwzsszayafter shining vs. purdue, could michigan\\u2019s tight ends be the cure to offensive woes? https://t.co/pm6xdzah5yrt @nickbaumgardner: second half yardsmichigan 274, purdue 1rt @nickbaumgardner: second half yardsmichigan 274, purdue 1rt @maizenbrew: final score: michigan 28, purdue 10you\\'re next, sparty.[usa today] o\\'korn, defense help no. 8 michigan rally past purdue, 28-10 https://t.co/1zebucargb #purdue #boilers[detroit free press] john o\\'korn, defense pace michigan football\\'s 28-10 win over purdue https://t.co/0o4qgrutyh #purdue #boilers[sb nation: hammer and rails] quick game wrap: um 28 pu 10 https://t.co/kwtxebibkd #purdue #boilersrt @dljxxii: humble pie... cut a slice before someone cuts one for you. https://t.co/przdtefsefrt @umichfootball: total yards in the second half:michigan: 292 (21 points)purdue: 10 (0 points)#goblue https://t.co/cktwtvkslort @umichfootball: total yards in the second half:michigan: 292 (21 points)purdue: 10 (0 points)#goblue https://t.co/cktwtvkslofreep\\u200b.com &gt;&gt; john o\\'korn, defense pace michigan football\\'s 28-10 win over purdue https://t.co/fd17evzercrt @goldandblackcom: #purdue coach jeff brohm: \\u2018we learned we need to keep our mouth shut, work hard \\u2026\\u2019 felt team might have been a little\\u2026rt @drewchallett: michigan outscored purdue, 21-0, and outgained them, 292-10, in the second half. that was the most complete half u-m has\\u2026rt @nickbaumgardner: second half yardsmichigan 274, purdue 1rt @goldandblackcom: #purdue coach jeff brohm: \\u2018we learned we need to keep our mouth shut, work hard \\u2026\\u2019 felt team might have been a little\\u2026rt @dljxxii: humble pie... cut a slice before someone cuts one for you. https://t.co/przdtefsefrt @johnubacon: i recall getting some crap for suggesting michigan would likely make astute second half adjustments. second half yardage: u\\u2026@maizenbrew is it true that purdue had -4 total yardage in the 2nd half?!?! #michiganfootballrt @umichfootball: total yards in the second half:michigan: 292 (21 points)purdue: 10 (0 points)#goblue https://t.co/cktwtvkslort @umichfootball: total yards in the second half:michigan: 292 (21 points)purdue: 10 (0 points)#goblue https://t.co/cktwtvkslort @goldandblackcom: #purdue coach jeff brohm: \\u2018we learned we need to keep our mouth shut, work hard \\u2026\\u2019 felt team might have been a little\\u2026rt @nickbaumgardner: second half yardsmichigan 274, purdue 1#purdue also didn\\'t generate many shots in 1st half of last week\\'s win at mich. played much better in 2nd half. dow\\u2026 https://t.co/kw5jaek2u55 things being talked about after michigan\\'s 28-10 win over purdue https://t.co/uusc813bn1rt @umichfootball: total yards in the second half:michigan: 292 (21 points)purdue: 10 (0 points)#goblue https://t.co/cktwtvkslort @tmskevin21: yeahhhh von https://t.co/hdd5dqnwotrt @footballscoop: purdue is 0 for 11 3rd down conversions.don brown. gangsta. https://t.co/uv2v8iaomqrt @umichfootball: total yards in the second half:michigan: 292 (21 points)purdue: 10 (0 points)#goblue https://t.co/cktwtvkslojohn o\\'korn \\U0001f33dshould be michigan\\'s starting qb for the remainder of the year. great win vs purdue. #goblue #hailtothevictorsrt @dljxxii: humble pie... cut a slice before someone cuts one for you. https://t.co/przdtefsefrt @umichfootball: total yards in the second half:michigan: 292 (21 points)purdue: 10 (0 points)#goblue https://t.co/cktwtvkslort @umichfootball: total yards in the second half:michigan: 292 (21 points)purdue: 10 (0 points)#goblue https://t.co/cktwtvkslort @footballscoop: purdue is 0 for 11 3rd down conversions.don brown. gangsta. https://t.co/uv2v8iaomqrt @umichfootball: total yards in the second half:michigan: 292 (21 points)purdue: 10 (0 points)#goblue https://t.co/cktwtvkslo@rgay close the hole in your face blowing purdue cheating losers trying to  sabotage the wolverines of comfort before the game n medicalrt @umichfootball: total yards in the second half:michigan: 292 (21 points)purdue: 10 (0 points)#goblue https://t.co/cktwtvkslort @isportsrob: michigan made three trips into the red zone against purdue and scored three touchdowns.rt @dljxxii: humble pie... cut a slice before someone cuts one for you. https://t.co/przdtefsefrt @hugowingut: great time at purdue today!  thanks to the coaches and staff! #newera @grantgremel @coachshephard @boilerfootball https://t\\u2026rt @umichfootball: total yards in the second half:michigan: 292 (21 points)purdue: 10 (0 points)#goblue https://t.co/cktwtvkslort @nickbaumgardner: second half yardsmichigan 274, purdue 1rt @nickbaumgardner: john o\\'korn felt he came full circle today. tony levine, the hc who benched him at houston, is purdue\\'s co-oc.happy birthday @jesslucht20! hope your day was awesome and purdue is treating you well\\U0001f60a https://t.co/9ky2mm3ntqrt @greggdoyelstar: biggest crowd since 2008 at purdue: 60,042. an official sellout.rt @dljxxii: humble pie... cut a slice before someone cuts one for you. https://t.co/przdtefsefrt @dljxxii: humble pie... cut a slice before someone cuts one for you. https://t.co/przdtefsef#sports michigan eventually dealt with a purdue team that hung tough: jeff brohm schem.. via https://t.co/6dhdd0iunz https://t.co/zsjcgvupqxrt @balas_wolverine: michigan starters sitting on an air conditioned charter bus because no a/c in the visitors\\' locker room = bush league.\\u2026rt @peterburnsespn: never thought i\\u2019d say this, but danny etling might wish he still had purdue\\u2019s offensive line right now.lsu strugglin\\u2026best d in the nation https://t.co/qwhtqunos9rt @umichfootball: total yards in the second half:michigan: 292 (21 points)purdue: 10 (0 points)#goblue https://t.co/cktwtvkslort @footballscoop: purdue is 0 for 11 3rd down conversions.don brown. gangsta. https://t.co/uv2v8iaomqrt @umichfootball: total yards in the second half:michigan: 292 (21 points)purdue: 10 (0 points)#goblue https://t.co/cktwtvkslort @purdueonbtn: purdue fans loved @jeffbrohm before this pregame pep talk.safe to say that they love the new @boilerfootball coac\\u2026rt @umichfootball: total yards in the second half:michigan: 292 (21 points)purdue: 10 (0 points)#goblue https://t.co/cktwtvkslort @iuwsoccer: ht: #iuws leads purdue, 1-0. https://t.co/ievu4dy6mv#o\\u2019korn, defense help no. 8 michigan rally past purdue, 28-10  #news #news_today https://t.co/jg6j6gcmmvrt @dljxxii: humble pie... cut a slice before someone cuts one for you. https://t.co/przdtefsefrt @mcgrone_strong: best d in the nation https://t.co/qwhtqunos9rt @firetweetslb: @nickbaumgardner @manofwater3615 purdue be like https://t.co/gszjpbqbgj#o\\u2019korn, defense help no. 8 michigan rally past purdue, 28-10 (sep 23, 2017)  #news #news_today https://t.co/clsa8ea52mrt @gobluechic: so about that.... \"purdue is the hottest team in the country and is going to beat um.\" #truth or nah? @971thefan https://t.\\u2026maizenbrew\\u200b.com &gt;&gt; game recap: michigan beats purdue 28-10 https://t.co/enuut82l8nrt @nickbaumgardner: second half yardsmichigan 274, purdue 1glad that guy was dead wrong. https://t.co/tzida75rvfrt @nickbaumgardner: john o\\'korn felt he came full circle today. tony levine, the hc who benched him at houston, is purdue\\'s co-oc.rt @maizenbrew: final score: michigan 28, purdue 10you\\'re next, sparty.rt @michiganupdates: \\u2705florida\\u2705cincinnati\\u2705air force\\u2705purdue\\u25fb\\ufe0flittle sister\\u25fb\\ufe0findiana\\u25fb\\ufe0fpenn state\\u25fb\\ufe0frutgers\\u25fb\\ufe0fminnesota\\u25fb\\ufe0fmaryland\\u25fb\\ufe0fwi\\u2026photos: michigan 28, purdue 10click below for full story...https://t.co/q0krdvmefjrt @dljxxii: humble pie... cut a slice before someone cuts one for you. https://t.co/przdtefsef@antitwittameaux purdue good thort @nickbaumgardner: second half yardsmichigan 274, purdue 1rt @nickbaumgardner: second half yardsmichigan 274, purdue 1rt @dljxxii: humble pie... cut a slice before someone cuts one for you. https://t.co/przdtefsefalways good to snag some moments in front of folks that stopped believing in you. \\u303d\\ufe0f\\U0001f44c\\U0001f3fb https://t.co/rnhdsvqqndpagination class -paginate data with pagination class very easy https://t.co/dmujhulljnpurdueo681@fulloftwitt look at how happy the purdue fans look. i love itrt @davidpollack47: targeting calls suck! purdue lb about to get booted from the game bc the michigian wr was sliding low for the ball. tar\\u2026o\\'korn, defense help no. 8 michigan rally past purdue, 28-10https://t.co/smmvtk6kks#nascarrt @umichfootball: total yards in the second half:michigan: 292 (21 points)purdue: 10 (0 points)#goblue https://t.co/cktwtvkslomichigan hits gas, pulls away &amp; covers -13.5 downing purdue 28-10. @bradpowers7 explained on fri why there was too\\u2026 https://t.co/fwdvxgsn13rt @michiganupdates: \\u2705florida\\u2705cincinnati\\u2705air force\\u2705purdue\\u25fb\\ufe0flittle sister\\u25fb\\ufe0findiana\\u25fb\\ufe0fpenn state\\u25fb\\ufe0frutgers\\u25fb\\ufe0fminnesota\\u25fb\\ufe0fmaryland\\u25fb\\ufe0fwi\\u2026rt @umichfootball: total yards in the second half:michigan: 292 (21 points)purdue: 10 (0 points)#goblue https://t.co/cktwtvkslort @nickbaumgardner: second half yardsmichigan 274, purdue 1rt @schultz975: no moral victories and all that jazz, but biggest ross-ade crowd since \\'08 and purdue football was a media topic all week.\\u2026@nickbaumgardner .so basically purdue co-sucked on o.rt @isportsrob: michigan made three trips into the red zone against purdue and scored three touchdowns.rt @dljxxii: humble pie... cut a slice before someone cuts one for you. https://t.co/przdtefsefcfb: after shining vs. purdue, could michigan\\u2019s tight ends be the cure to offensive woes? https://t.co/6l3cepgoonrt @umichfootball: total yards in the second half:michigan: 292 (21 points)purdue: 10 (0 points)#goblue https://t.co/cktwtvkslort @umichfootball: total yards in the second half:michigan: 292 (21 points)purdue: 10 (0 points)#goblue https://t.co/cktwtvkslort @barstooluofm: michigan 2nd half points: 21purdue 2nd half yards: 15wow talk about #boilerfail https://t.co/vf7sot7oizrt @nickbaumgardner: john o\\'korn felt he came full circle today. tony levine, the hc who benched him at houston, is purdue\\'s co-oc.rt @balas_wolverine: michigan starters sitting on an air conditioned charter bus because no a/c in the visitors\\' locker room = bush league.\\u2026rt @nickbaumgardner: john o\\'korn felt he came full circle today. tony levine, the hc who benched him at houston, is purdue\\'s co-oc.rt @umichfootball: total yards in the second half:michigan: 292 (21 points)purdue: 10 (0 points)#goblue https://t.co/cktwtvkslort @mrdarell1980: purdue doesn\\'t have a/c in the visiting locker room, nor do they have an on-site x-ray facility? who is their main donor,\\u2026rt @greggdoyelstar: colts gm chris ballard is one of three colts officials scouting michigan-purdue. lots of future pros on defense in this\\u2026@michaelspathith how many did purdue have?for o\\'korn i\\'m sure that felt so sweet! https://t.co/c73tgyqn3irt @nickbaumgardner: john o\\'korn felt he came full circle today. tony levine, the hc who benched him at houston, is purdue\\'s co-oc.damn https://t.co/ktrimfjsoaboom https://t.co/ygo51aefjeafter shining vs purdue, could michigan tes sam mckeon and zach gentry cure the offensive woes? https://t.co/qjgst9fhhf #goblueo\\'korn, defense help no. 8 michigan rally past purdue, 28-10 https://t.co/sjueohvj2r facebook https://t.co/r8mr0dztow google+ \\u2026rt @sportsguymi: the #goblue stat of the day:michigan 2nd half points: 21purdue 2nd half yards: 155 things being talked about after michigan\\'s 28-10 win over purdue https://t.co/svptmow3dlrt @schultz975: aka the largest crowd since the last time the program had a legitimate head coach. https://t.co/rgvpjebrw0rt @umichfootball: total yards in the second half:michigan: 292 (21 points)purdue: 10 (0 points)#goblue https://t.co/cktwtvkslo5 things being talked about after michigan\\'s 28-10 win over purdue https://t.co/92jruk9vq6awww wizbuff thank you sm\\U0001f60a can\\'t wait to come and visit you up at purdue\\u2764\\ufe0f\\u2764\\ufe0f https://t.co/xvn4uxsofkrt @goldandblackcom: #purdue coach jeff brohm: \\u2018we learned we need to keep our mouth shut, work hard \\u2026\\u2019 felt team might have been a little\\u2026rt @footballscoop: purdue is 0 for 11 3rd down conversions.don brown. gangsta. https://t.co/uv2v8iaomqrt @nickbaumgardner: john o\\'korn felt he came full circle today. tony levine, the hc who benched him at houston, is purdue\\'s co-oc.michigan beats purdue on the road.\"yaaaaaaa!!!!!!!\" https://t.co/epxuqmzj7dwelp i see purdue lost \\U0001f610rt @nickbaumgardner: john o\\'korn felt he came full circle today. tony levine, the hc who benched him at houston, is purdue\\'s co-oc.rt @mrdarell1980: purdue doesn\\'t have a/c in the visiting locker room, nor do they have an on-site x-ray facility? who is their main donor,\\u2026rt @dljxxii: humble pie... cut a slice before someone cuts one for you. https://t.co/przdtefsefrt @umichfootball: total yards in the second half:michigan: 292 (21 points)purdue: 10 (0 points)#goblue https://t.co/cktwtvkslodomination. https://t.co/emvrdq62qbrt @dljxxii: humble pie... cut a slice before someone cuts one for you. https://t.co/przdtefsefrt @trevormahlmann: .@purduebands and the @purduealumni band forming the block p as they perform hail purdue at halftime! #boilerup https:/\\u2026rt @dljxxii: humble pie... cut a slice before someone cuts one for you. https://t.co/przdtefsefrt @dljxxii: humble pie... cut a slice before someone cuts one for you. https://t.co/przdtefsefrt @umichfootball: total yards in the second half:michigan: 292 (21 points)purdue: 10 (0 points)#goblue https://t.co/cktwtvkslo@chengelis first i would like to say. i hope ws is healthy. was it me or did anyone else think that purdue was dirt\\u2026 https://t.co/k04svbviiqrt @nickbaumgardner: second half yardsmichigan 274, purdue 1rt @hammerandrails: if you think purdue played poorly and this was typical purdue you did not watch the game.rt @nickbaumgardner: second half yardsmichigan 274, purdue 1rt @umichfootball: total yards in the second half:michigan: 292 (21 points)purdue: 10 (0 points)#goblue https://t.co/cktwtvkslort @umichfootball: total yards in the second half:michigan: 292 (21 points)purdue: 10 (0 points)#goblue https://t.co/cktwtvkslort @dljxxii: humble pie... cut a slice before someone cuts one for you. https://t.co/przdtefsefterrorist starts from here ...#gcfest purdue vandy #iheartvillage oklahoma state #ugavsmissst #ldsconf o\\'kornhttps://t.co/phsh9oykhbterrorist starts from here ...#gcfest purdue vandy #iheartvillage oklahoma state #ugavsmissst #ldsconf o\\'kornhttps://t.co/b4brunhqkirt @nickbaumgardner: second half yardsmichigan 274, purdue 1rt @footballscoop: purdue is 0 for 11 3rd down conversions.don brown. gangsta. https://t.co/uv2v8iaomqpurdue will need to clear some space in their trophy case for that moral victory #michiganvspurduert @umichfootball: total yards in the second half:michigan: 292 (21 points)purdue: 10 (0 points)#goblue https://t.co/cktwtvkslort @_ellejohnson: coach brohm is doing great things at #purdue. tough game today! but #wolverines score in the red zone and our d cru\\u2026rt @laliberte_dana: michigan beats purdue on the road.\"yaaaaaaa!!!!!!!\" https://t.co/epxuqmzj7drt @dljxxii: humble pie... cut a slice before someone cuts one for you. https://t.co/przdtefsef#13 purdue vs. ohio state starts now! #risehigher #boilerup\\U0001f3a5https://t.co/gc8qme9dcv\\U0001f50ahttps://t.co/uyaeuqhcqw\\U0001f4ca\\u2026 https://t.co/zxf31hajyhrt @maizenbrew: game recap: michigan beats purdue 28-10 https://t.co/ankco0rbsbrt @maizebluenews: final second half tally was 292-10. defense really slacked off at the end there. https://t.co/3u3tdug0m9rt @peterburnsespn: never thought i\\u2019d say this, but danny etling might wish he still had purdue\\u2019s offensive line right now.lsu strugglin\\u2026mlive\\u200b.com &gt;&gt; 5 things being talked about after michigan\\'s 28-10 win over purdue https://t.co/fjmoxcesxbrt @nickbaumgardner: john o\\'korn felt he came full circle today. tony levine, the hc who benched him at houston, is purdue\\'s co-oc.wow....how good is purdue? https://t.co/usyzuqqtatjohn o\\'korn, defense pace michigan football\\'s 28-10 win over purdue https://t.co/db5jsnltyy https://t.co/t5ostroynurt @evanpetzold: touchdown, michigan!chris evans breaks loose for a 49-yard rushing score. michigan takes a 28-10 lead over purdue. https:\\u2026rt @nickbaumgardner: john o\\'korn felt he came full circle today. tony levine, the hc who benched him at houston, is purdue\\'s co-oc.rt @dljxxii: humble pie... cut a slice before someone cuts one for you. https://t.co/przdtefsefrt @umichfootball: total yards in the second half:michigan: 292 (21 points)purdue: 10 (0 points)#goblue https://t.co/cktwtvkslort @umichfootball: total yards in the second half:michigan: 292 (21 points)purdue: 10 (0 points)#goblue https://t.co/cktwtvksloif anyone named kelly marie adams lost a driver\\'s license (colorado) on purdue\\'s campus, message me. spread the word.rt @mcgrone_strong: best d in the nation https://t.co/qwhtqunos9o\\'korn, defense help no. 8 michigan rally past purdue, 28-10. https://t.co/erjbu3ncji https://t.co/acwtcj8n7grt @peterburnsespn: never thought i\\u2019d say this, but danny etling might wish he still had purdue\\u2019s offensive line right now.lsu strugglin\\u2026rt @iuwsoccer: ht: #iuws leads purdue, 1-0. https://t.co/ievu4dy6mvif i\\'m reading this right purdue had 15 second-half yards. don brown adjustments much?rt @nickbaumgardner: john o\\'korn felt he came full circle today. tony levine, the hc who benched him at houston, is purdue\\'s co-oc.iowa, right where they belong. https://t.co/1sx1sqlsosrt @mcgrone_strong: best d in the nation https://t.co/qwhtqunos9rt @btnmikehall: it is astounding how different purdue looks this year. everything about them feels together, fast, poised. remarkable turn\\u2026rt @nickbaumgardner: john o\\'korn felt he came full circle today. tony levine, the hc who benched him at houston, is purdue\\'s co-oc.rt @michiganhist: 1929 michigan vs purdue football program (bentley historical library)https://t.co/jgfp8bhmgv https://t.co/nohaqkcuuurt @mcgrone_strong: best d in the nation https://t.co/qwhtqunos9rt @sportsguymi: the #goblue stat of the day:michigan 2nd half points: 21purdue 2nd half yards: 15rt @michiganupdates: \\u2705florida\\u2705cincinnati\\u2705air force\\u2705purdue\\u25fb\\ufe0flittle sister\\u25fb\\ufe0findiana\\u25fb\\ufe0fpenn state\\u25fb\\ufe0frutgers\\u25fb\\ufe0fminnesota\\u25fb\\ufe0fmaryland\\u25fb\\ufe0fwi\\u2026rt @schultz975: aka the largest crowd since the last time the program had a legitimate head coach. https://t.co/rgvpjebrw0rt @footballscoop: purdue is 0 for 11 3rd down conversions.don brown. gangsta. https://t.co/uv2v8iaomq@djurney iowa offense not doing much better than purdue at this point.rt @pinolaphoto: more #4faves from the @purduebaseball game against the ontario blue jays. updated gallery here\\u2026rt @nickbaumgardner: john o\\'korn felt he came full circle today. tony levine, the hc who benched him at houston, is purdue\\'s co-oc.rt @nickbaumgardner: second half yardsmichigan 274, purdue 1rt @mcgrone_strong: best d in the nation https://t.co/qwhtqunos9rt @hammerandrails: if you think purdue played poorly and this was typical purdue you did not watch the game.rt @stevecofield: michigan hits gas, pulls away &amp; covers -13.5 downing purdue 28-10. @bradpowers7 explained on fri why there was too\\u2026rt @iuwsoccer: ht: #iuws leads purdue, 1-0. https://t.co/ievu4dy6mvrt @michiganhist: 1929 michigan vs purdue football program (bentley historical library)https://t.co/jgfp8bhmgv https://t.co/nohaqkcuuurt @evanpetzold: touchdown, michigan!ty isaac goes one-yard for a score to give michigan a 21-10 lead over purdue with 10:36 left i\\u2026rt @dljxxii: humble pie... cut a slice before someone cuts one for you. https://t.co/przdtefsefrt @patmcafeeshow: just got done with a sound proof show in iowa city... hopping on a bird.. can\\'t wait to get to purdue.. let\\'s have\\u2026rt @nickbaumgardner: second half yardsmichigan 274, purdue 1rt @footballscoop: purdue is 0 for 11 3rd down conversions.don brown. gangsta. https://t.co/uv2v8iaomqrt @umichfootball: total yards in the second half:michigan: 292 (21 points)purdue: 10 (0 points)#goblue https://t.co/cktwtvkslowell then https://t.co/oex5ckctonrt @richardbejah: #sports michigan eventually dealt with a purdue team that hung tough: jeff brohm schem.. via https://t.co/6dhdd0iunz http\\u2026rt @dljxxii: humble pie... cut a slice before someone cuts one for you. https://t.co/przdtefsefborn &amp; raised to be a wolverine \\U0001f499 #goblue @ purdue university https://t.co/7czn6cnhb5game recap: michigan beats purdue 28-10 https://t.co/kb5i1ae2qert @umichfootball: total yards in the second half:michigan: 292 (21 points)purdue: 10 (0 points)#goblue https://t.co/cktwtvkslort @barstooluofm: michigan 2nd half points: 21purdue 2nd half yards: 15rt @nickbaumgardner: john o\\'korn felt he came full circle today. tony levine, the hc who benched him at houston, is purdue\\'s co-oc.rt @nickbaumgardner: john o\\'korn felt he came full circle today. tony levine, the hc who benched him at houston, is purdue\\'s co-oc.rt @klthompson: from eric schlene: a  purdue graduate leads the flyover at ross-ade stadium. gallery to come at\\u2026rt @greggdoyelstar: jeff brohm: \"i think we were too confident.\" how far has purdue come in 4 games with brohm? its players were too confid\\u2026rt @umichfootball: total yards in the second half:michigan: 292 (21 points)purdue: 10 (0 points)#goblue https://t.co/cktwtvkslort @nickbaumgardner: john o\\'korn felt he came full circle today. tony levine, the hc who benched him at houston, is purdue\\'s co-oc.rt @umichfootball: total yards in the second half:michigan: 292 (21 points)purdue: 10 (0 points)#goblue https://t.co/cktwtvkslo@cgibson412 stupid purduert @firetweetslb: @nickbaumgardner @manofwater3615 purdue be like https://t.co/gszjpbqbgjrt @nickbaumgardner: john o\\'korn felt he came full circle today. tony levine, the hc who benched him at houston, is purdue\\'s co-oc.rt @barstooluofm: michigan 2nd half points: 21purdue 2nd half yards: 15rt @nickbaumgardner: second half yardsmichigan 274, purdue 1rt @toddfuhrman: as if anyone ever needed more evidence of how coaching can trump talent in cfb look no further than this purdue overnight\\u2026happy birthday @jesslucht20! hope you\\u2019re having an awesome day and purdue is treating you well\\U0001f60a\\U0001f388\\U0001f389 https://t.co/qp3kjwkn3xrt @umichfootball: total yards in the second half:michigan: 292 (21 points)purdue: 10 (0 points)#goblue https://t.co/cktwtvkslort @umichfootball: total yards in the second half:michigan: 292 (21 points)purdue: 10 (0 points)#goblue https://t.co/cktwtvksloi know after that run for the first down where okorn put his head down, the rest of the team believes.that was im\\u2026 https://t.co/oiuzeap3wyrt @nickbaumgardner: second half yardsmichigan 274, purdue 1@kabibi1110 i hate purdue for that loss. ugh.rt @dljxxii: humble pie... cut a slice before someone cuts one for you. https://t.co/przdtefsefrt @umichfootball: total yards in the second half:michigan: 292 (21 points)purdue: 10 (0 points)#goblue https://t.co/cktwtvkslort @dljxxii: humble pie... cut a slice before someone cuts one for you. https://t.co/przdtefsefrt @evanpetzold: touchdown, michigan!john o\\'korn hits zach gentry for a 12-yard score. michigan takes a 7-0 lead over purdue in the\\u2026rt @umichfootball: total yards in the second half:michigan: 292 (21 points)purdue: 10 (0 points)#goblue https://t.co/cktwtvksloeveryone, keep in mind, purdue scored zero points second half. as usual our defense put a mental dagger in their spines. truly amazing.rt @nickbaumgardner: john o\\'korn felt he came full circle today. tony levine, the hc who benched him at houston, is purdue\\'s co-oc.rt @griii: at purdue checking out @gelen_andre take on my wolverines.this is awkward...rt @barstooluofm: michigan 2nd half points: 21purdue 2nd half yards: 15o\\u2019korn steps in and leads michigan past purdue https://t.co/0630udjlee https://t.co/ugqoxggh7dthis is was my only loss so far. i\\'m 3-1 for the day. https://t.co/zmhqtdlin0rt @dljxxii: humble pie... cut a slice before someone cuts one for you. https://t.co/przdtefsefrt @dljxxii: humble pie... cut a slice before someone cuts one for you. https://t.co/przdtefsefrt @umichfootball: total yards in the second half:michigan: 292 (21 points)purdue: 10 (0 points)#goblue https://t.co/cktwtvksloover confidence will get ya @boilerfootball https://t.co/cv2wuwtnae#goblue #michigan https://t.co/oemdbexodc 5 things being talked about after michigan\\'s 28-10 win over purdue https://t.co/lnqjlakai2there are so called \"halftime adjustments\" and then there\\'s thishttps://t.co/zetnywck7lvalid point... https://t.co/obfjo9cxht[sports illustrated] michigan beats purdue behind backup qb john o\\'korn | https://t.co/ghurblfq2m https://t.co/wuzfkz8i1f #purdue #boilersrt @dljxxii: humble pie... cut a slice before someone cuts one for you. https://t.co/przdtefsefrt @espnrittenberg: georgia offensive coordinator jim chaney, clearly inspired by purdue\\'s return to fun calls flea-flicker for 59-yard td\\u2026rt @footballscoop: purdue is 0 for 11 3rd down conversions.don brown. gangsta. https://t.co/uv2v8iaomqrt @dljxxii: humble pie... cut a slice before someone cuts one for you. https://t.co/przdtefsefrt @stevecofield: michigan hits gas, pulls away &amp; covers -13.5 downing purdue 28-10. @bradpowers7 explained on fri why there was too\\u2026o\\u2019korn, defense help no. 8 michigan rally past purdue, 28-10 \\u2013\\xa0https://t.co/pfpzd3mtqn https://t.co/jgdqlxt9f5rt @umichfootball: total yards in the second half:michigan: 292 (21 points)purdue: 10 (0 points)#goblue https://t.co/cktwtvkslort @nickbaumgardner: second half yardsmichigan 274, purdue 1rt @raspberrytea250: @danny_breitag @cwasdyke19 @barstooluofm fl is losing to ky, af had losses to wyoming, nm, and hawaii. refs beat pu\\u2026rt @nickbaumgardner: john o\\'korn felt he came full circle today. tony levine, the hc who benched him at houston, is purdue\\'s co-oc.michigan pulls away in second half to beat purdue https://t.co/lzfo9axnj1 https://t.co/tiinllfnqlrt @dljxxii: humble pie... cut a slice before someone cuts one for you. https://t.co/przdtefsefsweet irony. o\\'korn looked good today. #goblue https://t.co/vggpmh3k1trt @nickbaumgardner: john o\\'korn felt he came full circle today. tony levine, the hc who benched him at houston, is purdue\\'s co-oc.rt @nickbaumgardner: second half yardsmichigan 274, purdue 1rt @umichfootball: total yards in the second half:michigan: 292 (21 points)purdue: 10 (0 points)#goblue https://t.co/cktwtvkslort @nickbaumgardner: john o\\'korn felt he came full circle today. tony levine, the hc who benched him at houston, is purdue\\'s co-oc.o\\'korn, defense help no. 8 michigan rally past purdue, 28-10 (sep 23, 2017) https://t.co/ubt1igkazeoverconfidence will get ya @boilerfootball https://t.co/cv2wuwtnaert @michiganupdates: \\u2705florida\\u2705cincinnati\\u2705air force\\u2705purdue\\u25fb\\ufe0flittle sister\\u25fb\\ufe0findiana\\u25fb\\ufe0fpenn state\\u25fb\\ufe0frutgers\\u25fb\\ufe0fminnesota\\u25fb\\ufe0fmaryland\\u25fb\\ufe0fwi\\u2026rt @umichfootball: total yards in the second half:michigan: 292 (21 points)purdue: 10 (0 points)#goblue https://t.co/cktwtvkslort @971theticketxyt: o\\'korn shines in victory over purdue. regardless of speight injury - should o\\'korn be the starting qb? https://t.co/2l\\u2026@ericvdunn purdue got their asses handed to them... \\U0001f608\\U0001f608\\U0001f608rt @umichfootball: total yards in the second half:michigan: 292 (21 points)purdue: 10 (0 points)#goblue https://t.co/cktwtvkslort @michiganupdates: \\u2705florida\\u2705cincinnati\\u2705air force\\u2705purdue\\u25fb\\ufe0flittle sister\\u25fb\\ufe0findiana\\u25fb\\ufe0fpenn state\\u25fb\\ufe0frutgers\\u25fb\\ufe0fminnesota\\u25fb\\ufe0fmaryland\\u25fb\\ufe0fwi\\u2026rt @umichfootball: total yards in the second half:michigan: 292 (21 points)purdue: 10 (0 points)#goblue https://t.co/cktwtvkslort @nickbaumgardner: second half yardsmichigan 274, purdue 1rt @chatwolverines: chris evans scampers 49 yards into the end zone to ice #michigan\\'s 28-10 win over purdue! #goblue #michvspur https://t.\\u2026you were saying @thestaltydog ??? https://t.co/xywrnadwtert @goldandblackcom: #purdue coach jeff brohm: \\u2018we learned we need to keep our mouth shut, work hard \\u2026\\u2019 felt team might have been a little\\u2026rt @landgrant33: beating purdue on the road is the closest michigan\\u2019s come to winning in indianapolis yet.  kudos to them.@mkgoblue had a buckeye in purdue gear behind me being obviously a buckeye told him to shut his buckeye mouth after\\u2026 https://t.co/gojovt18nxadjustments were made https://t.co/mbh99l6awjrt @nickbaumgardner: second half yardsmichigan 274, purdue 1welcome back purdue dining &amp; catering alumni! https://t.co/aj9pgj8ynvrt @davidpollack47: targeting calls suck! purdue lb about to get booted from the game bc the michigian wr was sliding low for the ball. tar\\u2026rt @evanpetzold: second half yardage:michigan: 274 yardspurdue: -4 yardsrt @nickbaumgardner: john o\\'korn felt he came full circle today. tony levine, the hc who benched him at houston, is purdue\\'s co-oc.rt @nickbaumgardner: john o\\'korn felt he came full circle today. tony levine, the hc who benched him at houston, is purdue\\'s co-oc.rt @umichfootball: total yards in the second half:michigan: 292 (21 points)purdue: 10 (0 points)#goblue https://t.co/cktwtvkslort @lorneec3: the big ten regrets to inform purdue that michigan won because you were stupid.rt @dljxxii: humble pie... cut a slice before someone cuts one for you. https://t.co/przdtefsefrt @umichfootball: total yards in the second half:michigan: 292 (21 points)purdue: 10 (0 points)#goblue https://t.co/cktwtvkslo@btnmikehall purdue is 2-2, calm downrt @umichfootball: total yards in the second half:michigan: 292 (21 points)purdue: 10 (0 points)#goblue https://t.co/cktwtvksloi got a retweet from danny anthrop and a dm from the purdue strength and conditioning coach so today was successful. #boileruptop 5:1: #takeaknee +102: #gcfest +93: purdue +84: vandy +75: #iheartvillage +6man since pg is now in okc &amp; luck is still hurt, our pro teams gettin bad. might have to start rootin for purdue to have more hoosier pridert @evanpetzold: touchdown, michigan!chris evans breaks loose for a 49-yard rushing score. michigan takes a 28-10 lead over purdue. https:\\u2026with backup quarterback john o\\'korn under center, michigan solved its red zone woes in a win over purdue https://t.co/uvfxru7gilwell the #purdue game may not have ended well, but @patmcafeeshow on stage tonight at elliott hall will cheer up #boilernation.  \\U0001f601rt @umichfootball: total yards in the second half:michigan: 292 (21 points)purdue: 10 (0 points)#goblue https://t.co/cktwtvkslort @goldandblackcom: #purdue coach jeff brohm: \\u2018we learned we need to keep our mouth shut, work hard \\u2026\\u2019 felt team might have been a little\\u2026rt @michiganupdates: \\u2705florida\\u2705cincinnati\\u2705air force\\u2705purdue\\u25fb\\ufe0flittle sister\\u25fb\\ufe0findiana\\u25fb\\ufe0fpenn state\\u25fb\\ufe0frutgers\\u25fb\\ufe0fminnesota\\u25fb\\ufe0fmaryland\\u25fb\\ufe0fwi\\u2026rt @nickbaumgardner: second half yardsmichigan 274, purdue 1rt @evanpetzold: touchdown, michigan!chris evans breaks loose for a 49-yard rushing score. michigan takes a 28-10 lead over purdue. https:\\u2026rt @samueltking: brandon peters completes pass for michigan to conclude victory over purdue. sister brooke peters set to take vb court for\\u2026rt @michiganhist: 1929 michigan vs purdue football program (bentley historical library)https://t.co/jgfp8bhmgv https://t.co/nohaqkcuuurt @goldandblackcom: #purdue coach jeff brohm: \\u2018i was proud of our effort today. guys came ready to play and wanted to win.\\'rt @drewchallett: michigan outscored purdue, 21-0, and outgained them, 292-10, in the second half. that was the most complete half u-m has\\u2026@1201main @johnblazewolver um has established themselves as a 2nd half team. hard to believe purdue scored zero poi\\u2026 https://t.co/ll3bf7uadgrt sinow \"with backup quarterback john o\\'korn under center, michigan solved its red zone woes in a win over purdue https://t.co/iu4gb6p8bl\"rt @nickbaumgardner: second half yardsmichigan 274, purdue 1rt @purdueonbtn: purdue fans loved @jeffbrohm before this pregame pep talk.safe to say that they love the new @boilerfootball coac\\u2026rt @johnubacon: it\\'s official: speight was not the biggest problem with michigan\\'s offense. if michigan\\'s o line can\\'t stop purdue, they wo\\u2026rt @bobwojnowski: purdue doing some nasty crap today. two chop blocks, two targeting penalties, and another hit that knocked speight out. u\\u2026ok lil bro @aubreysolomon91 https://t.co/8rhrpvey7c@kabaragoya_ they won\\'t go anywhere with him it\\'s purduert @umichfootball: total yards in the second half:michigan: 292 (21 points)purdue: 10 (0 points)#goblue https://t.co/cktwtvkslort @nickbaumgardner: john o\\'korn felt he came full circle today. tony levine, the hc who benched him at houston, is purdue\\'s co-oc.sportspoliticen: cfb: after shining vs. purdue, could michigan\\u2019s tight ends be the cure to offensive woes? https://t.co/n3m2ahwjz2rt @johnubacon: i recall getting some crap for suggesting michigan would likely make astute second half adjustments. second half yardage: u\\u2026https://t.co/dphtmgftj7 : university relax...purduehttps://t.co/cpqkfxg96vrt @umichfootball: total yards in the second half:michigan: 292 (21 points)purdue: 10 (0 points)#goblue https://t.co/cktwtvkslort @umichfootball: total yards in the second half:michigan: 292 (21 points)purdue: 10 (0 points)#goblue https://t.co/cktwtvkslort @peterburnsespn: never thought i\\u2019d say this, but danny etling might wish he still had purdue\\u2019s offensive line right now.lsu strugglin\\u2026o\\'korn, defense help no. 8 michigan rally past purdue, 28-10 https://t.co/k3hefffjprrt @footballscoop: purdue is 0 for 11 3rd down conversions.don brown. gangsta. https://t.co/uv2v8iaomqpurdue total yards in the second half:michigan: 292 (21 poi... got something to say about this? shoutbubble it here\\u2026 https://t.co/b6rjn0ttyohow are my car key holding, \"were gonna upset michigan\" purdue students/grads feeling #purdue #michiganrt @nickbaumgardner: john o\\'korn felt he came full circle today. tony levine, the hc who benched him at houston, is purdue\\'s co-oc.rt @goldandblackcom: #purdue coach jeff brohm: \\u2018we learned we need to keep our mouth shut, work hard \\u2026\\u2019 felt team might have been a little\\u2026rt @nickbaumgardner: second half yardsmichigan 274, purdue 1rt @umichfootball: total yards in the second half:michigan: 292 (21 points)purdue: 10 (0 points)#goblue https://t.co/cktwtvksloholy crap. https://t.co/bo3qbwc9vart @dljxxii: humble pie... cut a slice before someone cuts one for you. https://t.co/przdtefsefrt @michiganhist: 1929 michigan vs purdue football program (bentley historical library)https://t.co/jgfp8bhmgv https://t.co/nohaqkcuuu@walt9t nd isn\\'t purdue lololol. yikesrt @michiganupdates: \\u2705florida\\u2705cincinnati\\u2705air force\\u2705purdue\\u25fb\\ufe0flittle sister\\u25fb\\ufe0findiana\\u25fb\\ufe0fpenn state\\u25fb\\ufe0frutgers\\u25fb\\ufe0fminnesota\\u25fb\\ufe0fmaryland\\u25fb\\ufe0fwi\\u2026rt @umichfootball: total yards in the second half:michigan: 292 (21 points)purdue: 10 (0 points)#goblue https://t.co/cktwtvkslort @nickbaumgardner: second half yardsmichigan 274, purdue 1rt @sinow: with backup quarterback john o\\'korn under center, michigan solved its red zone woes in a win over purdue https://t.co/uvfxru7gilrt @rjstrib: purdue, off next week, won\\'t have its top two tacklers, ja\\'whaun bentley and jacob thieneman, for first half vs. #gophers. tar\\u2026rt @umichfootball: total yards in the second half:michigan: 292 (21 points)purdue: 10 (0 points)#goblue https://t.co/cktwtvkslort @footballscoop: purdue is 0 for 11 3rd down conversions.don brown. gangsta. https://t.co/uv2v8iaomqrt @nickbaumgardner: second half yardsmichigan 274, purdue 1rt @dljxxii: humble pie... cut a slice before someone cuts one for you. https://t.co/przdtefsefrt @nickbaumgardner: john o\\'korn felt he came full circle today. tony levine, the hc who benched him at houston, is purdue\\'s co-oc.rt @nickbaumgardner: second half yardsmichigan 274, purdue 1rt @purdueonbtn: purdue fans loved @jeffbrohm before this pregame pep talk.safe to say that they love the new @boilerfootball coac\\u2026rt @maizebluenews: final second half tally was 292-10. defense really slacked off at the end there. https://t.co/3u3tdug0m9rt @sinow: with backup quarterback john o\\'korn under center, michigan solved its red zone woes in a win over purdue https://t.co/uvfxru7gilrt @nickbaumgardner: john o\\'korn felt he came full circle today. tony levine, the hc who benched him at houston, is purdue\\'s co-oc.@kseaboldt reminds me of the rudy...\\u201dno one comes in to our house and pushes us around...no one\\u201d...\\u201dwell..except so\\u2026 https://t.co/2lrgss1owbrt @purduevb: #13 purdue vs. ohio state starts now! #risehigher #boilerup\\U0001f3a5https://t.co/gc8qme9dcv\\U0001f50ahttps://t.co/uyaeuqhcqw\\U0001f4ca\\u2026oh wow!!! great moment for o\\u2019korn https://t.co/66fc0fic9rrt @nickbaumgardner: second half yardsmichigan 274, purdue 1new on sports illustrated: michigan finds its red-zone groove in victory over purdue https://t.co/jn16t04uqyrt @dljxxii: humble pie... cut a slice before someone cuts one for you. https://t.co/przdtefsefrt @nickbaumgardner: second half yardsmichigan 274, purdue 15 things being talked about after michigan\\'s 28-10 win over purdue https://t.co/z7606jqn4c #daddy mug shotrt @nickbaumgardner: john o\\'korn felt he came full circle today. tony levine, the hc who benched him at houston, is purdue\\'s co-oc.o\\'korn steps in for speight; u-m beats\\xa0purdue https://t.co/0acztmphci https://t.co/pmqykl0i5ewhere is that purdue player that guaranteed victory a over michigan????????????????????\\U0001f914\\U0001f914\\U0001f914\\U0001f914\\U0001f914\\U0001f914rt @goldandblackcom: #purdue coach jeff brohm: \\u2018we learned we need to keep our mouth shut, work hard \\u2026\\u2019 felt team might have been a little\\u2026rt @nickbaumgardner: second half yardsmichigan 274, purdue 1rt @nickbaumgardner: john o\\'korn felt he came full circle today. tony levine, the hc who benched him at houston, is purdue\\'s co-oc.always love the flyover at games. #usa @ purdue university https://t.co/o6snqlcilwthe most upsetting part of the purdue loss is that we got carved up by a dude named o\\'kornrt @goldandblackcom: #purdue coach jeff brohm: \\u2018we learned we need to keep our mouth shut, work hard \\u2026\\u2019 felt team might have been a little\\u2026rt @dljxxii: humble pie... cut a slice before someone cuts one for you. https://t.co/przdtefsefstraight up g https://t.co/j9oybrxodxalso, might have to start rootin for purdue since my little brother wants to &amp; may be goin to their high school thing..\\U0001f62e\\U0001f69d #boilermakers@umichfootball the defense played a hell of a game, holding purdue to 0/12 on 3rd down... o\\'korn played a good game\\u2026 https://t.co/nvozkedm3uhoosiers are now 0-2 in conference play and 11-3 on the season. up next they will travel to west lafayette to take on purdue sep. 27. #iuvb@_gregontherise what now boi? #goblue https://t.co/utg23ujbstrt @sportsguymi: the #goblue stat of the day:michigan 2nd half points: 21purdue 2nd half yards: 15rt @sinow: with backup quarterback john o\\'korn under center, michigan solved its red zone woes in a win over purdue https://t.co/uvfxru7gilrt @greggdoyelstar: jeff brohm: \"i think we were too confident.\" how far has purdue come in 4 games with brohm? its players were too confid\\u2026rt @chatwolverines: chris evans scampers 49 yards into the end zone to ice #michigan\\'s 28-10 win over purdue! #goblue #michvspur https://t.\\u2026@beatinthebookie purdue? totally agree.how dare you https://t.co/37p33qp2nyrt @nickbaumgardner: second half yardsmichigan 274, purdue 1rt @umichfootball: total yards in the second half:michigan: 292 (21 points)purdue: 10 (0 points)#goblue https://t.co/cktwtvkslocubs lost, purdue got smoked, and notre dame is winning. sometimes the sports just kick you in the junk.rt @dwall_1: hoosiers are now 0-2 in conference play and 11-3 on the season. up next they will travel to west lafayette to take on purdue s\\u2026rt @goldandblackcom: #purdue coach jeff brohm: \\u2018we learned we need to keep our mouth shut, work hard \\u2026\\u2019 felt team might have been a little\\u2026@btntomdienhart @michiganonbtn purdue plays dirty afrt @nickbaumgardner: john o\\'korn felt he came full circle today. tony levine, the hc who benched him at houston, is purdue\\'s co-oc.rt @umichfootball: total yards in the second half:michigan: 292 (21 points)purdue: 10 (0 points)#goblue https://t.co/cktwtvkslowhat jeff brohm said after purdue\\u2019s 28-10 loss to michigan  #boilermakers https://t.co/srpzsd9h01rt @dljxxii: humble pie... cut a slice before someone cuts one for you. https://t.co/przdtefseftargeting penalties or not.....#enoughsaid #goblue https://t.co/qq3tvact2urt @nickbaumgardner: john o\\'korn felt he came full circle today. tony levine, the hc who benched him at houston, is purdue\\'s co-oc.rt @nickbaumgardner: total yards in the third q:michigan 147, purdue -4rt @fauxpelini: how dare you https://t.co/37p33qp2nyi was wondering why he was yelling at purdue\\'s bench after isaac\\'s td. https://t.co/mykuxcokrurt @barstoolsports: purdue knows #saftb https://t.co/fimfvzsgytrt @footballscoop: purdue is 0 for 11 3rd down conversions.don brown. gangsta. https://t.co/uv2v8iaomqrt @davidpollack47: targeting calls suck! purdue lb about to get booted from the game bc the michigian wr was sliding low for the ball. tar\\u2026rt @nickbaumgardner: second half yardsmichigan 274, purdue 1rt @goldandblackcom: #purdue coach jeff brohm: \\u2018we learned we need to keep our mouth shut, work hard \\u2026\\u2019 felt team might have been a little\\u2026rt @fauxpelini: how dare you https://t.co/37p33qp2nyrt @greggdoyelstar: biggest crowd since 2008 at purdue: 60,042. an official sellout.rt @fauxpelini: how dare you https://t.co/37p33qp2nyrt @nickbaumgardner: second half yardsmichigan 274, purdue 1rt @klthompson: from eric schlene: a  purdue graduate leads the flyover at ross-ade stadium. gallery to come at\\u2026rt @umichfootball: total yards in the second half:michigan: 292 (21 points)purdue: 10 (0 points)#goblue https://t.co/cktwtvkslort @sinow: with backup quarterback john o\\'korn under center, michigan solved its red zone woes in a win over purdue https://t.co/uvfxru7gilrt @iuwsoccer: ht: #iuws leads purdue, 1-0. https://t.co/ievu4dy6mvgame recap: michigan beats purdue 28-10 https://t.co/x3j7okqx2x via @maizenbrewrt @nickbaumgardner: john o\\'korn felt he came full circle today. tony levine, the hc who benched him at houston, is purdue\\'s co-oc.rt @thee_matty_d: literally the most true thing on all of the internet! #goblue\\u303d\\ufe0f https://t.co/utxblbisdqit was that run though. that run for the first down putting his head down and charging. that\\'s when teams respond.\\u2026 https://t.co/louxiusmiert @umichfootball: total yards in the second half:michigan: 292 (21 points)purdue: 10 (0 points)#goblue https://t.co/cktwtvkslort @nickbaumgardner: john o\\'korn felt he came full circle today. tony levine, the hc who benched him at houston, is purdue\\'s co-oc.rt @le_candy_man: @tommyg i got purdue on the ml. um badly overrated. good luckjohn o&amp;apos;korn, defense pace michigan football&amp;apos;s 28-10 win over purdue https://t.co/fjn2hbpzrk\\u2026 https://t.co/wg4ajpjyilrt @nickbaumgardner: john o\\'korn felt he came full circle today. tony levine, the hc who benched him at houston, is purdue\\'s co-oc.rt @nickbaumgardner: second half yardsmichigan 274, purdue 1hmmmmmm.... that\\'s pretty good for #michigan right? \\U0001f923\\U0001f923\\U0001f923\\U0001f923 https://t.co/udpyofhr0fwhere is that purdue player that guaranteed a victory over michigan????????????????????\\U0001f914\\U0001f914\\U0001f914\\U0001f914\\U0001f914\\U0001f914'"
      ]
     },
     "execution_count": 499,
     "metadata": {},
     "output_type": "execute_result"
    }
   ],
   "source": [
    "data"
   ]
  },
  {
   "cell_type": "markdown",
   "metadata": {},
   "source": [
    "### Remove the links"
   ]
  },
  {
   "cell_type": "code",
   "execution_count": 500,
   "metadata": {
    "collapsed": true
   },
   "outputs": [],
   "source": [
    "import re"
   ]
  },
  {
   "cell_type": "code",
   "execution_count": 501,
   "metadata": {
    "collapsed": false
   },
   "outputs": [],
   "source": [
    "data = re.sub('https://t.co/[a-zA-Z0-9]{12}',' ', data)\n",
    "data = re.sub('https://t.co/[a-zA-Z0-9]{10}',' ', data)"
   ]
  },
  {
   "cell_type": "markdown",
   "metadata": {},
   "source": [
    "### Some links are still in the string\n",
    "##### https:\n",
    "##### https:/\n",
    "##### https:/t\n",
    "##### https:/t.\n",
    "##### https:/t.c\n",
    "##### https:/t.co\n",
    "##### https://t\n",
    "##### https://t.\n",
    "##### https://t.co/21"
   ]
  },
  {
   "cell_type": "code",
   "execution_count": 502,
   "metadata": {
    "collapsed": false
   },
   "outputs": [],
   "source": [
    "data = re.sub('https:[/t.co/21]*',' ',data)\n"
   ]
  },
  {
   "cell_type": "markdown",
   "metadata": {},
   "source": [
    "### Remove \"rt @xxxxxx:\" and \"@xxxxx:\""
   ]
  },
  {
   "cell_type": "code",
   "execution_count": 503,
   "metadata": {
    "collapsed": true
   },
   "outputs": [],
   "source": [
    "data = re.sub('[rt]* @[a-zA-Z0-9_]+:',' ',data)"
   ]
  },
  {
   "cell_type": "markdown",
   "metadata": {},
   "source": [
    "### Remove all punctuation except apostrophe"
   ]
  },
  {
   "cell_type": "code",
   "execution_count": 504,
   "metadata": {
    "collapsed": true
   },
   "outputs": [],
   "source": [
    "import string\n",
    "\n",
    "regex = re.compile('[%s]' % re.escape(string.punctuation).replace(\"'\",\"\"))"
   ]
  },
  {
   "cell_type": "code",
   "execution_count": 505,
   "metadata": {
    "collapsed": false
   },
   "outputs": [],
   "source": [
    "data = regex.sub(' ', data)"
   ]
  },
  {
   "cell_type": "markdown",
   "metadata": {},
   "source": [
    "### Remove all extra whitespaces"
   ]
  },
  {
   "cell_type": "code",
   "execution_count": 506,
   "metadata": {
    "collapsed": true
   },
   "outputs": [],
   "source": [
    "data = re.sub('[ ]+',' ', data)"
   ]
  },
  {
   "cell_type": "code",
   "execution_count": 507,
   "metadata": {
    "collapsed": false
   },
   "outputs": [
    {
     "data": {
      "text/plain": [
       "u\" ht iuws leads purdue 1 0 john o'korn felt he came full circle today tony levine the hc who benched him at houston is purdue's co oc total yards in the second half michigan 292 21 points purdue 10 0 points goblue purdue is 0 for 11 3rd down conversions don brown gangsta total yards in the second half michigan 292 21 points purdue 10 0 points goblue total yards in the third q michigan 147 purdue 4 second half yardsmichigan 274 purdue 1 michigan outscored purdue 21 0 and outgained them 292 10 in the second half that was the most complete half u m has\\u2026 goblueinsider he didn't even perpare with the starters or like a starter he could have put up 40 on purdue if okorn started the gamd kingklipsch purdue they suck second half yardsmichigan 274 purdue 1 john o'korn felt he came full circle today tony levine the hc who benched him at houston is purdue's co oc purdue is 0 for 11 3rd down conversions don brown gangsta author sports news fresnobee com chris evans ran for two touchdowns in the second half and backup quarterback beating purdue on the road is the closest michigan\\u2019s come to winning in indianapolis yet kudos to them holy shit the win over purdue john o'korn led michigan on a 13 play 84 yard touchdown drive and an 11 play 86 yard touchdown drive total yards in the second half michigan 292 21 points purdue 10 0 points goblue john o'korn felt he came full circle today tony levine the hc who benched him at houston is purdue's co oc john o'korn felt he came full circle today tony levine the hc who benched him at houston is purdue's co oc second half yardsmichigan 274 purdue 1 ht iuws leads purdue 1 0 purdue is 0 for 11 3rd down conversions don brown gangsta purdue player tried the hide on the letter technique on the kick return iuws returns to armstrong stadium tonight to host purdue in the golden boot game \\u26aa\\ufe0f\\U0001f534\\u26bd\\ufe0f\\U0001f4fa \\u2026 total yards in the second half michigan 292 21 points purdue 10 0 points goblue o soon wow purdue way to lose your composure boilerupnever thought i\\u2019d say this but danny etling might wish he still had purdue\\u2019s offensive line right now lsu struggling brohm on biggest purdue crowd in 9 years we're more than thrilled for that type crowd to show up and support us beca\\u2026 if you think purdue played poorly and this was typical purdue you did not watch the game danny etling is likely having flashbacks of his first two college seasons at purdue when he was sacked 42 times in 13 games jeff brohm i think we were too confident how far has purdue come in 4 games with brohm its players were too confid\\u2026\\u2488 takeaknee\\u2489 gcfest\\u248a purdue\\u248b vandy\\u248c oklahoma state2017 9 23 19 16 cdt trndnl n't wait to read all the purdue tweets about how the 2 targeting calls were bullshit goblue michvspurdue \\u303d\\ufe0f\\u303d\\ufe0f\\u303d\\ufe0f\\u303d\\ufe0f purdue is 0 for 11 3rd down conversions don brown gangsta total yards in the second half michigan 292 21 points purdue 10 0 points goblue never thought i\\u2019d say this but danny etling might wish he still had purdue\\u2019s offensive line right now lsu strugglin\\u2026 ht iuws leads purdue 1 0 john o'korn felt he came full circle today tony levine the hc who benched him at houston is purdue's co oc purdue football \\U0001f602\\U0001f62d umichfootball strong michigan fan showing at purdue purdue side looks a little light john o'korn felt he came full circle today tony levine the hc who benched him at houston is purdue's co oc i recall getting some crap for suggesting michigan would likely make astute second half adjustments second half yardage u\\u2026 never thought i\\u2019d say this but danny etling might wish he still had purdue\\u2019s offensive line right now lsu strugglin\\u2026purdue how could you cost me my parlay i was getting 10 points with you and you get outscored 21 0 in the 2nd half comeonman purdue is 0 for 11 3rd down conversions don brown gangsta total yards in the second half michigan 292 21 points purdue 10 0 points goblue about that purdue is the hottest team in the country and is going to beat um truth or nah 971thefan michigan outscored purdue 21 0 and outgained them 292 10 in the second half that was the most complete half u m has\\u2026 total yards in the second half michigan 292 21 points purdue 10 0 points goblue total yards in the second half michigan 292 21 points purdue 10 0 points goblue second half yardsmichigan 274 purdue 1 total yards in the second half michigan 292 21 points purdue 10 0 points goblue the goblue stat of the day michigan 2nd half points 21purdue 2nd half yards 15 total yards in the second half michigan 292 21 points purdue 10 0 points goblue total yards in the third q michigan 147 purdue 4 biggest crowd since 2008 at purdue 60 042 an official sellout total yards in the second half michigan 292 21 points purdue 10 0 points goblue total yards in the second half michigan 292 21 points purdue 10 0 points goblue purdue is 0 for 11 3rd down conversions don brown gangsta total yards in the second half michigan 292 21 points purdue 10 0 points goblue lalate michigan vs purdue score ap top 25 collegefootball total yards in the second half michigan 292 21 points purdue 10 0 points goblue second half yardsmichigan 274 purdue 1norwich university class of '77 norwichforever john o'korn felt he came full circle today tony levine the hc who benched him at houston is purdue's co oc john o'korn defense pace michigan football's 28 10 win over purdue via chatsports gobluejohn o'korn defense pace michigan football's 28 10 win over purdue purdue is 0 for 11 3rd down conversions don brown gangsta john o'korn felt he came full circle today tony levine the hc who benched him at houston is purdue's co oc can he remember those seasons \\U0001f914 total yards in the second half michigan 292 21 points purdue 10 0 points goblue michigan beats purdue 28 10 improves to 4 0 much better second half total yards in the second half michigan 292 21 points purdue 10 0 points goblue john o'korn felt he came full circle today tony levine the hc who benched him at houston is purdue's co oc total yards in the second half michigan 292 21 points purdue 10 0 points goblue \\u2705florida\\u2705cincinnati\\u2705air force\\u2705purdue\\u25fb\\ufe0flittle sister\\u25fb\\ufe0findiana\\u25fb\\ufe0fpenn state\\u25fb\\ufe0frutgers\\u25fb\\ufe0fminnesota\\u25fb\\ufe0fmaryland\\u25fb\\ufe0fwi\\u2026 never thought i\\u2019d say this but danny etling might wish he still had purdue\\u2019s offensive line right now lsu strugglin\\u2026 second half yardsmichigan 274 purdue 1 so clemson tied 7 7 with boston college oklahoma state down to tcu by 17 usc tied with cal and michigan down 3 to purdue second half yardsmichigan 274 purdue 1 second half yardsmichigan 274 purdue 1damn and they still lost never thought i\\u2019d say this but danny etling might wish he still had purdue\\u2019s offensive line right now lsu strugglin\\u2026 total yards in the second half michigan 292 21 points purdue 10 0 points goblue mrmsider purdue definitely played dirty tried to take out o korn too greggdoyelstar purdue has no talent michigan has a ton of talent couple that with insane officiating and you get a 28 10 final jasmine and i made the purdue vs michigan college gameday story how awesome second half yardsmichigan 274 purdue 1the plus side there is no pungent aroma of manure drifting from the nearby ag fields in west lafayette beating purdue on the road is the closest michigan\\u2019s come to winning in indianapolis yet kudos to them danny etling is likely having flashbacks of his first two college seasons at purdue when he was sacked 42 times in 13 gam\\u2026 targeting calls suck purdue lb about to get booted from the game bc the michigian wr was sliding low for the ball tar\\u2026 purdue coach jeff brohm \\u2018i was proud of our effort today guys came ready to play and wanted to win ' second half yardsmichigan 274 purdue 1game recap michigan beats purdue 28 10 me recap michigan beats purdue 28 10 mickeyminnie22 philhecken aeargle uniswag the 3rd pic isn\\u2019t even purdue it\\u2019s wake forest lolo'korn defense help no 8 michigan rally past purdue 28 10 purdue the journal gazette courtneehendrix purdue slaughtered them last weekmy cousins \\U0001f525\\U0001f525\\U0001f525 total yards in the third q michigan 147 purdue 4 touchdown michigan chris evans breaks loose for a 49 yard rushing score michigan takes a 28 10 lead over purdue \\u2026 takeaknee melo vandy iheartvillage gcfest live uscvscal purdue nc state charles bradley tanner lee purdue is 0 for 11 3rd down conversions don brown gangsta purduebands and the purduealumni band forming the block p as they perform hail purdue at halftime boilerup \\u2026mizzou got smacked by this team last week \\U0001f616\\U0001f616\\U0001f616 never thought i\\u2019d say this but danny etling might wish he still had purdue\\u2019s offensive line right now lsu strugglin\\u2026 second half yardsmichigan 274 purdue 1 total yards in the second half michigan 292 21 points purdue 10 0 points goblue total yards in the second half michigan 292 21 points purdue 10 0 points goblue total yards in the second half michigan 292 21 points purdue 10 0 points goblue total yards in the second half michigan 292 21 points purdue 10 0 points goblue never thought i\\u2019d say this but danny etling might wish he still had purdue\\u2019s offensive line right now lsu strugglin\\u2026 hello everybody had to finish watching michiganfootball beat purdue but ready for frankenstein svengoolie john o'korn felt he came full circle today tony levine the hc who benched him at houston is purdue's co oc at the half indiana 1 purdue 0 iuwsmizzou fucking sucks oks like im 30 minutes away from jumping firmly onto the purdue bandwagon total yards in the second half michigan 292 21 points purdue 10 0 points goblue second half yardsmichigan 274 purdue 1 total yards in the second half michigan 292 21 points purdue 10 0 points goblue total yards in the second half michigan 292 21 points purdue 10 0 points goblue total yards in the second half michigan 292 21 points purdue 10 0 points goblue total yards in the second half michigan 292 21 points purdue 10 0 points goblue michigan 2nd half points 21purdue 2nd half yards 15 michigan starters sitting on an air conditioned charter bus because no a c in the visitors' locker room bush league \\u2026 chris evans scampers 49 yards into the end zone to ice michigan's 28 10 win over purdue goblue michvspur \\u2026 second half yardsmichigan 274 purdue 1 just got done with a sound proof show in iowa city hopping on a bird can't wait to get to purdue let's have\\u2026 total yards in the second half michigan 292 21 points purdue 10 0 points goblue favorite part of today at halftime hey purdue might be ranked after this second half yardsmichigan 274 purdue 1 second half yardsmichigan 274 purdue 1 john o'korn felt he came full circle today tony levine the hc who benched him at houston is purdue's co oc brah chill out we gots this goblue 808blue rkekaula second half yardsmichigan 274 purdue 1 purdue doesn't have a c in the visiting locker room nor do they have an on site x ray facility who is their main donor \\u2026 i recall getting some crap for suggesting michigan would likely make astute second half adjustments second half yardage u\\u2026 total yards in the second half michigan 292 21 points purdue 10 0 points goblue second half yardsmichigan 274 purdue 1neither is the defense see what a real defense did to purdue today total yards in the second half michigan 292 21 points purdue 10 0 points goblue total yards in the second half michigan 292 21 points purdue 10 0 points goblue biggest crowd since 2008 at purdue 60 042 an official sellout john o'korn felt he came full circle today tony levine the hc who benched him at houston is purdue's co oc total yards in the second half michigan 292 21 points purdue 10 0 points goblue takeaknee melo vandy iheartvillage gcfest live uscvscal purdue nc state charles bradley tanner lee \\u2026 destibean this is why you need to transfer to purdue second half yardsmichigan 274 purdue 1 nascar wire o'korn defense help no 8 michigan rally past purdue 28 10 i heard my dude dbush11 played another great game vs purdue anybody got stats umichfootball goblue \\u303d\\ufe0f\\U0001f499\\U0001f49b \\u2026 purdue is 0 for 11 3rd down conversions don brown gangsta total yards in the second half michigan 292 21 points purdue 10 0 points goblue mble pie cut a slice before someone cuts one for you at's all you need to know goblue ooh boooy now there's a nugget man god works in mysterious ways indeed danny breitag cwasdyke19 barstooluofm fl is losing to ky af had losses to wyoming nm and hawaii refs beat pu\\u2026 final no michigan 28 purdue 10 chris evans scores 2 tds as wolverines go 4 0 \\u2705florida\\u2705cincinnati\\u2705air force\\u2705purdue\\u25fb\\ufe0flittle sister\\u25fb\\ufe0findiana\\u25fb\\ufe0fpenn state\\u25fb\\ufe0frutgers\\u25fb\\ufe0fminnesota\\u25fb\\ufe0fmaryland\\u25fb\\ufe0fwi\\u2026do you want to chat about purdue please join the chat channelfree anonymous total yards in the second half michigan 292 21 points purdue 10 0 points goblue weird total yards in the second half michigan 292 21 points purdue 10 0 points goblue purdue is 0 for 11 3rd down conversions don brown gangsta humble pie cut a slice before someone cuts one for you john o'korn felt he came full circle today tony levine the hc who benched him at houston is purdue's co oc michigan outscored purdue 21 0 and outgained them 292 10 in the second half that was the most complete half u m has\\u2026 total yards in the second half michigan 292 21 points purdue 10 0 points goblue purdue is 0 for 11 3rd down conversions don brown gangsta michiganfutball im more than happy with that win over purdue finally our offense found that light that they needed with o'korn total yards in the second half michigan 292 21 points purdue 10 0 points goblue ter shining vs purdue could michigan\\u2019s tight ends be the cure to offensive woes this just in we have have the location of the foxsports camera man at the michigan and purdue game eck out photos from michigan's 28 10 victory over purdue john o'korn felt he came full circle today tony levine the hc who benched him at houston is purdue's co oc sebastian020 nickbaumgardner yes they should hence the reason why i said purdue is the worst defensive team they've playedfrench arabic porn purdue sex o'korn shines in victory over purdue regardless of speight injury should o'korn be the starting qb l\\u2026 big10 final scores 8 michigan 28 purdue 10 ucf 38 maryland 10updates notre dame 7 mich st 0 1st penn st 3 iowa 0 2nd these purdue fans that predicted a purdue win over michigan seem to be off target purdue is 0 for 11 3rd down conversions don brown gangsta purdue is 0 for 11 3rd down conversions don brown gangsta total yards in the second half michigan 292 21 points purdue 10 0 points goblue ter shining vs purdue could michigan\\u2019s tight ends be the cure to offensive woes ter shining vs purdue could michigan\\u2019s tight ends be the cure to offensive woes second half yardsmichigan 274 purdue 1 second half yardsmichigan 274 purdue 1 final score michigan 28 purdue 10you're next sparty usa today o'korn defense help no 8 michigan rally past purdue 28 10 purdue boilers detroit free press john o'korn defense pace michigan football's 28 10 win over purdue purdue boilers sb nation hammer and rails quick game wrap um 28 pu 10 purdue boilers humble pie cut a slice before someone cuts one for you total yards in the second half michigan 292 21 points purdue 10 0 points goblue total yards in the second half michigan 292 21 points purdue 10 0 points goblue eep\\u200b com gt gt john o'korn defense pace michigan football's 28 10 win over purdue purdue coach jeff brohm \\u2018we learned we need to keep our mouth shut work hard \\u2026\\u2019 felt team might have been a little\\u2026 michigan outscored purdue 21 0 and outgained them 292 10 in the second half that was the most complete half u m has\\u2026 second half yardsmichigan 274 purdue 1 purdue coach jeff brohm \\u2018we learned we need to keep our mouth shut work hard \\u2026\\u2019 felt team might have been a little\\u2026 humble pie cut a slice before someone cuts one for you i recall getting some crap for suggesting michigan would likely make astute second half adjustments second half yardage u\\u2026 maizenbrew is it true that purdue had 4 total yardage in the 2nd half michiganfootball total yards in the second half michigan 292 21 points purdue 10 0 points goblue total yards in the second half michigan 292 21 points purdue 10 0 points goblue purdue coach jeff brohm \\u2018we learned we need to keep our mouth shut work hard \\u2026\\u2019 felt team might have been a little\\u2026 second half yardsmichigan 274 purdue 1 purdue also didn't generate many shots in 1st half of last week's win at mich played much better in 2nd half dow\\u2026 5 things being talked about after michigan's 28 10 win over purdue total yards in the second half michigan 292 21 points purdue 10 0 points goblue yeahhhh von purdue is 0 for 11 3rd down conversions don brown gangsta total yards in the second half michigan 292 21 points purdue 10 0 points goblue hn o'korn \\U0001f33dshould be michigan's starting qb for the remainder of the year great win vs purdue goblue hailtothevictors humble pie cut a slice before someone cuts one for you total yards in the second half michigan 292 21 points purdue 10 0 points goblue total yards in the second half michigan 292 21 points purdue 10 0 points goblue purdue is 0 for 11 3rd down conversions don brown gangsta total yards in the second half michigan 292 21 points purdue 10 0 points goblue rgay close the hole in your face blowing purdue cheating losers trying to sabotage the wolverines of comfort before the game n medical total yards in the second half michigan 292 21 points purdue 10 0 points goblue michigan made three trips into the red zone against purdue and scored three touchdowns humble pie cut a slice before someone cuts one for you great time at purdue today thanks to the coaches and staff newera grantgremel coachshephard boilerfootball \\u2026 total yards in the second half michigan 292 21 points purdue 10 0 points goblue second half yardsmichigan 274 purdue 1 john o'korn felt he came full circle today tony levine the hc who benched him at houston is purdue's co oc happy birthday jesslucht20 hope your day was awesome and purdue is treating you well\\U0001f60a biggest crowd since 2008 at purdue 60 042 an official sellout humble pie cut a slice before someone cuts one for you humble pie cut a slice before someone cuts one for you sports michigan eventually dealt with a purdue team that hung tough jeff brohm schem via michigan starters sitting on an air conditioned charter bus because no a c in the visitors' locker room bush league \\u2026 never thought i\\u2019d say this but danny etling might wish he still had purdue\\u2019s offensive line right now lsu strugglin\\u2026best d in the nation total yards in the second half michigan 292 21 points purdue 10 0 points goblue purdue is 0 for 11 3rd down conversions don brown gangsta total yards in the second half michigan 292 21 points purdue 10 0 points goblue purdue fans loved jeffbrohm before this pregame pep talk safe to say that they love the new boilerfootball coac\\u2026 total yards in the second half michigan 292 21 points purdue 10 0 points goblue ht iuws leads purdue 1 0 o\\u2019korn defense help no 8 michigan rally past purdue 28 10 news news today humble pie cut a slice before someone cuts one for you best d in the nation nickbaumgardner manofwater3615 purdue be like o\\u2019korn defense help no 8 michigan rally past purdue 28 10 sep 23 2017 news news today so about that purdue is the hottest team in the country and is going to beat um truth or nah 971thefan \\u2026maizenbrew\\u200b com gt gt game recap michigan beats purdue 28 10 second half yardsmichigan 274 purdue 1glad that guy was dead wrong john o'korn felt he came full circle today tony levine the hc who benched him at houston is purdue's co oc final score michigan 28 purdue 10you're next sparty \\u2705florida\\u2705cincinnati\\u2705air force\\u2705purdue\\u25fb\\ufe0flittle sister\\u25fb\\ufe0findiana\\u25fb\\ufe0fpenn state\\u25fb\\ufe0frutgers\\u25fb\\ufe0fminnesota\\u25fb\\ufe0fmaryland\\u25fb\\ufe0fwi\\u2026photos michigan 28 purdue 10click below for full story humble pie cut a slice before someone cuts one for you antitwittameaux purdue good tho second half yardsmichigan 274 purdue 1 second half yardsmichigan 274 purdue 1 humble pie cut a slice before someone cuts one for you ways good to snag some moments in front of folks that stopped believing in you \\u303d\\ufe0f\\U0001f44c\\U0001f3fb gination class paginate data with pagination class very easy rdueo681 fulloftwitt look at how happy the purdue fans look i love i targeting calls suck purdue lb about to get booted from the game bc the michigian wr was sliding low for the ball tar\\u2026o'korn defense help no 8 michigan rally past purdue 28 10 nasca total yards in the second half michigan 292 21 points purdue 10 0 points goblue chigan hits gas pulls away amp covers 13 5 downing purdue 28 10 bradpowers7 explained on fri why there was too\\u2026 \\u2705florida\\u2705cincinnati\\u2705air force\\u2705purdue\\u25fb\\ufe0flittle sister\\u25fb\\ufe0findiana\\u25fb\\ufe0fpenn state\\u25fb\\ufe0frutgers\\u25fb\\ufe0fminnesota\\u25fb\\ufe0fmaryland\\u25fb\\ufe0fwi\\u2026 total yards in the second half michigan 292 21 points purdue 10 0 points goblue second half yardsmichigan 274 purdue 1 no moral victories and all that jazz but biggest ross ade crowd since '08 and purdue football was a media topic all week \\u2026 nickbaumgardner so basically purdue co sucked on o michigan made three trips into the red zone against purdue and scored three touchdowns humble pie cut a slice before someone cuts one for you b after shining vs purdue could michigan\\u2019s tight ends be the cure to offensive woes total yards in the second half michigan 292 21 points purdue 10 0 points goblue total yards in the second half michigan 292 21 points purdue 10 0 points goblue michigan 2nd half points 21purdue 2nd half yards 15wow talk about boilerfail john o'korn felt he came full circle today tony levine the hc who benched him at houston is purdue's co oc michigan starters sitting on an air conditioned charter bus because no a c in the visitors' locker room bush league \\u2026 john o'korn felt he came full circle today tony levine the hc who benched him at houston is purdue's co oc total yards in the second half michigan 292 21 points purdue 10 0 points goblue purdue doesn't have a c in the visiting locker room nor do they have an on site x ray facility who is their main donor \\u2026 colts gm chris ballard is one of three colts officials scouting michigan purdue lots of future pros on defense in this\\u2026 michaelspathith how many did purdue have for o'korn i'm sure that felt so sweet john o'korn felt he came full circle today tony levine the hc who benched him at houston is purdue's co oc damn om ter shining vs purdue could michigan tes sam mckeon and zach gentry cure the offensive woes goblueo'korn defense help no 8 michigan rally past purdue 28 10 facebook google \\u2026 the goblue stat of the day michigan 2nd half points 21purdue 2nd half yards 155 things being talked about after michigan's 28 10 win over purdue aka the largest crowd since the last time the program had a legitimate head coach total yards in the second half michigan 292 21 points purdue 10 0 points goblue 5 things being talked about after michigan's 28 10 win over purdue ww wizbuff thank you sm\\U0001f60a can't wait to come and visit you up at purdue\\u2764\\ufe0f\\u2764\\ufe0f purdue coach jeff brohm \\u2018we learned we need to keep our mouth shut work hard \\u2026\\u2019 felt team might have been a little\\u2026 purdue is 0 for 11 3rd down conversions don brown gangsta john o'korn felt he came full circle today tony levine the hc who benched him at houston is purdue's co oc michigan beats purdue on the road yaaaaaaa lp i see purdue lost \\U0001f610 john o'korn felt he came full circle today tony levine the hc who benched him at houston is purdue's co oc purdue doesn't have a c in the visiting locker room nor do they have an on site x ray facility who is their main donor \\u2026 humble pie cut a slice before someone cuts one for you total yards in the second half michigan 292 21 points purdue 10 0 points goblue mination humble pie cut a slice before someone cuts one for you purduebands and the purduealumni band forming the block p as they perform hail purdue at halftime boilerup \\u2026 humble pie cut a slice before someone cuts one for you humble pie cut a slice before someone cuts one for you total yards in the second half michigan 292 21 points purdue 10 0 points goblue chengelis first i would like to say i hope ws is healthy was it me or did anyone else think that purdue was dirt\\u2026 second half yardsmichigan 274 purdue 1 if you think purdue played poorly and this was typical purdue you did not watch the game second half yardsmichigan 274 purdue 1 total yards in the second half michigan 292 21 points purdue 10 0 points goblue total yards in the second half michigan 292 21 points purdue 10 0 points goblue humble pie cut a slice before someone cuts one for you rrorist starts from here gcfest purdue vandy iheartvillage oklahoma state ugavsmissst ldsconf o'korn rrorist starts from here gcfest purdue vandy iheartvillage oklahoma state ugavsmissst ldsconf o'korn second half yardsmichigan 274 purdue 1 purdue is 0 for 11 3rd down conversions don brown gangsta rdue will need to clear some space in their trophy case for that moral victory michiganvspurdue total yards in the second half michigan 292 21 points purdue 10 0 points goblue coach brohm is doing great things at purdue tough game today but wolverines score in the red zone and our d cru\\u2026 michigan beats purdue on the road yaaaaaaa humble pie cut a slice before someone cuts one for you 13 purdue vs ohio state starts now risehigher boilerup\\U0001f3a5 \\U0001f50a \\U0001f4ca\\u2026 game recap michigan beats purdue 28 10 final second half tally was 292 10 defense really slacked off at the end there never thought i\\u2019d say this but danny etling might wish he still had purdue\\u2019s offensive line right now lsu strugglin\\u2026mlive\\u200b com gt gt 5 things being talked about after michigan's 28 10 win over purdue john o'korn felt he came full circle today tony levine the hc who benched him at houston is purdue's co oc wow how good is purdue hn o'korn defense pace michigan football's 28 10 win over purdue touchdown michigan chris evans breaks loose for a 49 yard rushing score michigan takes a 28 10 lead over purdue \\u2026 john o'korn felt he came full circle today tony levine the hc who benched him at houston is purdue's co oc humble pie cut a slice before someone cuts one for you total yards in the second half michigan 292 21 points purdue 10 0 points goblue total yards in the second half michigan 292 21 points purdue 10 0 points goblue anyone named kelly marie adams lost a driver's license colorado on purdue's campus message me spread the word best d in the nation o'korn defense help no 8 michigan rally past purdue 28 10 never thought i\\u2019d say this but danny etling might wish he still had purdue\\u2019s offensive line right now lsu strugglin\\u2026 ht iuws leads purdue 1 0 i'm reading this right purdue had 15 second half yards don brown adjustments much john o'korn felt he came full circle today tony levine the hc who benched him at houston is purdue's co oc iowa right where they belong best d in the nation it is astounding how different purdue looks this year everything about them feels together fast poised remarkable turn\\u2026 john o'korn felt he came full circle today tony levine the hc who benched him at houston is purdue's co oc 1929 michigan vs purdue football program bentley historical library best d in the nation the goblue stat of the day michigan 2nd half points 21purdue 2nd half yards 15 \\u2705florida\\u2705cincinnati\\u2705air force\\u2705purdue\\u25fb\\ufe0flittle sister\\u25fb\\ufe0findiana\\u25fb\\ufe0fpenn state\\u25fb\\ufe0frutgers\\u25fb\\ufe0fminnesota\\u25fb\\ufe0fmaryland\\u25fb\\ufe0fwi\\u2026 aka the largest crowd since the last time the program had a legitimate head coach purdue is 0 for 11 3rd down conversions don brown gangsta djurney iowa offense not doing much better than purdue at this point more 4faves from the purduebaseball game against the ontario blue jays updated gallery here\\u2026 john o'korn felt he came full circle today tony levine the hc who benched him at houston is purdue's co oc second half yardsmichigan 274 purdue 1 best d in the nation if you think purdue played poorly and this was typical purdue you did not watch the game michigan hits gas pulls away amp covers 13 5 downing purdue 28 10 bradpowers7 explained on fri why there was too\\u2026 ht iuws leads purdue 1 0 1929 michigan vs purdue football program bentley historical library touchdown michigan ty isaac goes one yard for a score to give michigan a 21 10 lead over purdue with 10 36 left i\\u2026 humble pie cut a slice before someone cuts one for you just got done with a sound proof show in iowa city hopping on a bird can't wait to get to purdue let's have\\u2026 second half yardsmichigan 274 purdue 1 purdue is 0 for 11 3rd down conversions don brown gangsta total yards in the second half michigan 292 21 points purdue 10 0 points goblue ll then sports michigan eventually dealt with a purdue team that hung tough jeff brohm schem via http\\u2026 humble pie cut a slice before someone cuts one for you rn amp raised to be a wolverine \\U0001f499 goblue purdue university me recap michigan beats purdue 28 10 total yards in the second half michigan 292 21 points purdue 10 0 points goblue michigan 2nd half points 21purdue 2nd half yards 15 john o'korn felt he came full circle today tony levine the hc who benched him at houston is purdue's co oc john o'korn felt he came full circle today tony levine the hc who benched him at houston is purdue's co oc from eric schlene a purdue graduate leads the flyover at ross ade stadium gallery to come at\\u2026 jeff brohm i think we were too confident how far has purdue come in 4 games with brohm its players were too confid\\u2026 total yards in the second half michigan 292 21 points purdue 10 0 points goblue john o'korn felt he came full circle today tony levine the hc who benched him at houston is purdue's co oc total yards in the second half michigan 292 21 points purdue 10 0 points goblue cgibson412 stupid purdue nickbaumgardner manofwater3615 purdue be like john o'korn felt he came full circle today tony levine the hc who benched him at houston is purdue's co oc michigan 2nd half points 21purdue 2nd half yards 15 second half yardsmichigan 274 purdue 1 as if anyone ever needed more evidence of how coaching can trump talent in cfb look no further than this purdue overnight\\u2026happy birthday jesslucht20 hope you\\u2019re having an awesome day and purdue is treating you well\\U0001f60a\\U0001f388\\U0001f389 total yards in the second half michigan 292 21 points purdue 10 0 points goblue total yards in the second half michigan 292 21 points purdue 10 0 points goblue i know after that run for the first down where okorn put his head down the rest of the team believes that was im\\u2026 second half yardsmichigan 274 purdue 1 kabibi1110 i hate purdue for that loss ugh humble pie cut a slice before someone cuts one for you total yards in the second half michigan 292 21 points purdue 10 0 points goblue humble pie cut a slice before someone cuts one for you touchdown michigan john o'korn hits zach gentry for a 12 yard score michigan takes a 7 0 lead over purdue in the\\u2026 total yards in the second half michigan 292 21 points purdue 10 0 points goblue eryone keep in mind purdue scored zero points second half as usual our defense put a mental dagger in their spines truly amazing john o'korn felt he came full circle today tony levine the hc who benched him at houston is purdue's co oc at purdue checking out gelen andre take on my wolverines this is awkward michigan 2nd half points 21purdue 2nd half yards 15o\\u2019korn steps in and leads michigan past purdue is is was my only loss so far i'm 3 1 for the day humble pie cut a slice before someone cuts one for you humble pie cut a slice before someone cuts one for you total yards in the second half michigan 292 21 points purdue 10 0 points goblue er confidence will get ya boilerfootball goblue michigan 5 things being talked about after michigan's 28 10 win over purdue ere are so called halftime adjustments and then there's this lid point sports illustrated michigan beats purdue behind backup qb john o'korn purdue boilers humble pie cut a slice before someone cuts one for you georgia offensive coordinator jim chaney clearly inspired by purdue's return to fun calls flea flicker for 59 yard td\\u2026 purdue is 0 for 11 3rd down conversions don brown gangsta humble pie cut a slice before someone cuts one for you michigan hits gas pulls away amp covers 13 5 downing purdue 28 10 bradpowers7 explained on fri why there was too\\u2026o\\u2019korn defense help no 8 michigan rally past purdue 28 10 \\u2013\\xa0 total yards in the second half michigan 292 21 points purdue 10 0 points goblue second half yardsmichigan 274 purdue 1 danny breitag cwasdyke19 barstooluofm fl is losing to ky af had losses to wyoming nm and hawaii refs beat pu\\u2026 john o'korn felt he came full circle today tony levine the hc who benched him at houston is purdue's co oc michigan pulls away in second half to beat purdue humble pie cut a slice before someone cuts one for you eet irony o'korn looked good today goblue john o'korn felt he came full circle today tony levine the hc who benched him at houston is purdue's co oc second half yardsmichigan 274 purdue 1 total yards in the second half michigan 292 21 points purdue 10 0 points goblue john o'korn felt he came full circle today tony levine the hc who benched him at houston is purdue's co oc o'korn defense help no 8 michigan rally past purdue 28 10 sep 23 2017 erconfidence will get ya boilerfootball \\u2705florida\\u2705cincinnati\\u2705air force\\u2705purdue\\u25fb\\ufe0flittle sister\\u25fb\\ufe0findiana\\u25fb\\ufe0fpenn state\\u25fb\\ufe0frutgers\\u25fb\\ufe0fminnesota\\u25fb\\ufe0fmaryland\\u25fb\\ufe0fwi\\u2026 total yards in the second half michigan 292 21 points purdue 10 0 points goblue o'korn shines in victory over purdue regardless of speight injury should o'korn be the starting qb l\\u2026 ericvdunn purdue got their asses handed to them \\U0001f608\\U0001f608\\U0001f608 total yards in the second half michigan 292 21 points purdue 10 0 points goblue \\u2705florida\\u2705cincinnati\\u2705air force\\u2705purdue\\u25fb\\ufe0flittle sister\\u25fb\\ufe0findiana\\u25fb\\ufe0fpenn state\\u25fb\\ufe0frutgers\\u25fb\\ufe0fminnesota\\u25fb\\ufe0fmaryland\\u25fb\\ufe0fwi\\u2026 total yards in the second half michigan 292 21 points purdue 10 0 points goblue second half yardsmichigan 274 purdue 1 chris evans scampers 49 yards into the end zone to ice michigan's 28 10 win over purdue goblue michvspur \\u2026you were saying thestaltydog purdue coach jeff brohm \\u2018we learned we need to keep our mouth shut work hard \\u2026\\u2019 felt team might have been a little\\u2026 beating purdue on the road is the closest michigan\\u2019s come to winning in indianapolis yet kudos to them mkgoblue had a buckeye in purdue gear behind me being obviously a buckeye told him to shut his buckeye mouth after\\u2026 justments were made second half yardsmichigan 274 purdue 1welcome back purdue dining amp catering alumni targeting calls suck purdue lb about to get booted from the game bc the michigian wr was sliding low for the ball tar\\u2026 second half yardage michigan 274 yardspurdue 4 yards john o'korn felt he came full circle today tony levine the hc who benched him at houston is purdue's co oc john o'korn felt he came full circle today tony levine the hc who benched him at houston is purdue's co oc total yards in the second half michigan 292 21 points purdue 10 0 points goblue the big ten regrets to inform purdue that michigan won because you were stupid humble pie cut a slice before someone cuts one for you total yards in the second half michigan 292 21 points purdue 10 0 points goblue btnmikehall purdue is 2 2 calm down total yards in the second half michigan 292 21 points purdue 10 0 points goblue i got a retweet from danny anthrop and a dm from the purdue strength and conditioning coach so today was successful boileruptop 5 1 takeaknee 102 gcfest 93 purdue 84 vandy 75 iheartvillage 6man since pg is now in okc amp luck is still hurt our pro teams gettin bad might have to start rootin for purdue to have more hoosier pride touchdown michigan chris evans breaks loose for a 49 yard rushing score michigan takes a 28 10 lead over purdue \\u2026with backup quarterback john o'korn under center michigan solved its red zone woes in a win over purdue ll the purdue game may not have ended well but patmcafeeshow on stage tonight at elliott hall will cheer up boilernation \\U0001f601 total yards in the second half michigan 292 21 points purdue 10 0 points goblue purdue coach jeff brohm \\u2018we learned we need to keep our mouth shut work hard \\u2026\\u2019 felt team might have been a little\\u2026 \\u2705florida\\u2705cincinnati\\u2705air force\\u2705purdue\\u25fb\\ufe0flittle sister\\u25fb\\ufe0findiana\\u25fb\\ufe0fpenn state\\u25fb\\ufe0frutgers\\u25fb\\ufe0fminnesota\\u25fb\\ufe0fmaryland\\u25fb\\ufe0fwi\\u2026 second half yardsmichigan 274 purdue 1 touchdown michigan chris evans breaks loose for a 49 yard rushing score michigan takes a 28 10 lead over purdue \\u2026 brandon peters completes pass for michigan to conclude victory over purdue sister brooke peters set to take vb court for\\u2026 1929 michigan vs purdue football program bentley historical library purdue coach jeff brohm \\u2018i was proud of our effort today guys came ready to play and wanted to win ' michigan outscored purdue 21 0 and outgained them 292 10 in the second half that was the most complete half u m has\\u2026 1201main johnblazewolver um has established themselves as a 2nd half team hard to believe purdue scored zero poi\\u2026 sinow with backup quarterback john o'korn under center michigan solved its red zone woes in a win over purdue second half yardsmichigan 274 purdue 1 purdue fans loved jeffbrohm before this pregame pep talk safe to say that they love the new boilerfootball coac\\u2026 it's official speight was not the biggest problem with michigan's offense if michigan's o line can't stop purdue they wo\\u2026 purdue doing some nasty crap today two chop blocks two targeting penalties and another hit that knocked speight out u\\u2026ok lil bro aubreysolomon91 kabaragoya they won't go anywhere with him it's purdue total yards in the second half michigan 292 21 points purdue 10 0 points goblue john o'korn felt he came full circle today tony levine the hc who benched him at houston is purdue's co oc sportspoliticen cfb after shining vs purdue could michigan\\u2019s tight ends be the cure to offensive woes i recall getting some crap for suggesting michigan would likely make astute second half adjustments second half yardage u\\u2026 university relax purdue total yards in the second half michigan 292 21 points purdue 10 0 points goblue total yards in the second half michigan 292 21 points purdue 10 0 points goblue never thought i\\u2019d say this but danny etling might wish he still had purdue\\u2019s offensive line right now lsu strugglin\\u2026o'korn defense help no 8 michigan rally past purdue 28 10 purdue is 0 for 11 3rd down conversions don brown gangsta rdue total yards in the second half michigan 292 21 poi got something to say about this shoutbubble it here\\u2026 w are my car key holding were gonna upset michigan purdue students grads feeling purdue michigan john o'korn felt he came full circle today tony levine the hc who benched him at houston is purdue's co oc purdue coach jeff brohm \\u2018we learned we need to keep our mouth shut work hard \\u2026\\u2019 felt team might have been a little\\u2026 second half yardsmichigan 274 purdue 1 total yards in the second half michigan 292 21 points purdue 10 0 points goblue ly crap humble pie cut a slice before someone cuts one for you 1929 michigan vs purdue football program bentley historical library walt9t nd isn't purdue lololol yikes \\u2705florida\\u2705cincinnati\\u2705air force\\u2705purdue\\u25fb\\ufe0flittle sister\\u25fb\\ufe0findiana\\u25fb\\ufe0fpenn state\\u25fb\\ufe0frutgers\\u25fb\\ufe0fminnesota\\u25fb\\ufe0fmaryland\\u25fb\\ufe0fwi\\u2026 total yards in the second half michigan 292 21 points purdue 10 0 points goblue second half yardsmichigan 274 purdue 1 with backup quarterback john o'korn under center michigan solved its red zone woes in a win over purdue purdue off next week won't have its top two tacklers ja'whaun bentley and jacob thieneman for first half vs gophers tar\\u2026 total yards in the second half michigan 292 21 points purdue 10 0 points goblue purdue is 0 for 11 3rd down conversions don brown gangsta second half yardsmichigan 274 purdue 1 humble pie cut a slice before someone cuts one for you john o'korn felt he came full circle today tony levine the hc who benched him at houston is purdue's co oc second half yardsmichigan 274 purdue 1 purdue fans loved jeffbrohm before this pregame pep talk safe to say that they love the new boilerfootball coac\\u2026 final second half tally was 292 10 defense really slacked off at the end there with backup quarterback john o'korn under center michigan solved its red zone woes in a win over purdue john o'korn felt he came full circle today tony levine the hc who benched him at houston is purdue's co oc kseaboldt reminds me of the rudy \\u201dno one comes in to our house and pushes us around no one\\u201d \\u201dwell except so\\u2026 13 purdue vs ohio state starts now risehigher boilerup\\U0001f3a5 \\U0001f50a \\U0001f4ca\\u2026oh wow great moment for o\\u2019korn second half yardsmichigan 274 purdue 1new on sports illustrated michigan finds its red zone groove in victory over purdue humble pie cut a slice before someone cuts one for you second half yardsmichigan 274 purdue 15 things being talked about after michigan's 28 10 win over purdue daddy mug sho john o'korn felt he came full circle today tony levine the hc who benched him at houston is purdue's co oc o'korn steps in for speight u m beats\\xa0purdue ere is that purdue player that guaranteed victory a over michigan \\U0001f914\\U0001f914\\U0001f914\\U0001f914\\U0001f914\\U0001f914 purdue coach jeff brohm \\u2018we learned we need to keep our mouth shut work hard \\u2026\\u2019 felt team might have been a little\\u2026 second half yardsmichigan 274 purdue 1 john o'korn felt he came full circle today tony levine the hc who benched him at houston is purdue's co oc always love the flyover at games usa purdue university e most upsetting part of the purdue loss is that we got carved up by a dude named o'korn purdue coach jeff brohm \\u2018we learned we need to keep our mouth shut work hard \\u2026\\u2019 felt team might have been a little\\u2026 humble pie cut a slice before someone cuts one for you raight up g so might have to start rootin for purdue since my little brother wants to amp may be goin to their high school thing \\U0001f62e\\U0001f69d boilermakers umichfootball the defense played a hell of a game holding purdue to 0 12 on 3rd down o'korn played a good game\\u2026 osiers are now 0 2 in conference play and 11 3 on the season up next they will travel to west lafayette to take on purdue sep 27 iuvb gregontherise what now boi goblue the goblue stat of the day michigan 2nd half points 21purdue 2nd half yards 15 with backup quarterback john o'korn under center michigan solved its red zone woes in a win over purdue jeff brohm i think we were too confident how far has purdue come in 4 games with brohm its players were too confid\\u2026 chris evans scampers 49 yards into the end zone to ice michigan's 28 10 win over purdue goblue michvspur \\u2026 beatinthebookie purdue totally agree how dare you second half yardsmichigan 274 purdue 1 total yards in the second half michigan 292 21 points purdue 10 0 points goblue bs lost purdue got smoked and notre dame is winning sometimes the sports just kick you in the junk hoosiers are now 0 2 in conference play and 11 3 on the season up next they will travel to west lafayette to take on purdue s\\u2026 purdue coach jeff brohm \\u2018we learned we need to keep our mouth shut work hard \\u2026\\u2019 felt team might have been a little\\u2026 btntomdienhart michiganonbtn purdue plays dirty af john o'korn felt he came full circle today tony levine the hc who benched him at houston is purdue's co oc total yards in the second half michigan 292 21 points purdue 10 0 points goblue at jeff brohm said after purdue\\u2019s 28 10 loss to michigan boilermakers humble pie cut a slice before someone cuts one for you rgeting penalties or not enoughsaid goblue john o'korn felt he came full circle today tony levine the hc who benched him at houston is purdue's co oc total yards in the third q michigan 147 purdue 4 how dare you i was wondering why he was yelling at purdue's bench after isaac's td purdue knows saftb purdue is 0 for 11 3rd down conversions don brown gangsta targeting calls suck purdue lb about to get booted from the game bc the michigian wr was sliding low for the ball tar\\u2026 second half yardsmichigan 274 purdue 1 purdue coach jeff brohm \\u2018we learned we need to keep our mouth shut work hard \\u2026\\u2019 felt team might have been a little\\u2026 how dare you biggest crowd since 2008 at purdue 60 042 an official sellout how dare you second half yardsmichigan 274 purdue 1 from eric schlene a purdue graduate leads the flyover at ross ade stadium gallery to come at\\u2026 total yards in the second half michigan 292 21 points purdue 10 0 points goblue with backup quarterback john o'korn under center michigan solved its red zone woes in a win over purdue ht iuws leads purdue 1 0 me recap michigan beats purdue 28 10 via maizenbrew john o'korn felt he came full circle today tony levine the hc who benched him at houston is purdue's co oc literally the most true thing on all of the internet goblue\\u303d\\ufe0f was that run though that run for the first down putting his head down and charging that's when teams respond \\u2026 total yards in the second half michigan 292 21 points purdue 10 0 points goblue john o'korn felt he came full circle today tony levine the hc who benched him at houston is purdue's co oc tommyg i got purdue on the ml um badly overrated good luckjohn o amp apos korn defense pace michigan football amp apos s 28 10 win over purdue \\u2026 john o'korn felt he came full circle today tony levine the hc who benched him at houston is purdue's co oc second half yardsmichigan 274 purdue 1hmmmmmm that's pretty good for michigan right \\U0001f923\\U0001f923\\U0001f923\\U0001f923 ere is that purdue player that guaranteed a victory over michigan \\U0001f914\\U0001f914\\U0001f914\\U0001f914\\U0001f914\\U0001f914\""
      ]
     },
     "execution_count": 507,
     "metadata": {},
     "output_type": "execute_result"
    }
   ],
   "source": [
    "data"
   ]
  },
  {
   "cell_type": "markdown",
   "metadata": {},
   "source": [
    "### Convert the string to a list"
   ]
  },
  {
   "cell_type": "code",
   "execution_count": 508,
   "metadata": {
    "collapsed": true
   },
   "outputs": [],
   "source": [
    "result = data.strip(' ').split(' ')"
   ]
  },
  {
   "cell_type": "code",
   "execution_count": 509,
   "metadata": {
    "collapsed": false
   },
   "outputs": [
    {
     "data": {
      "text/plain": [
       "[u'ht',\n",
       " u'iuws',\n",
       " u'leads',\n",
       " u'purdue',\n",
       " u'1',\n",
       " u'0',\n",
       " u'john',\n",
       " u\"o'korn\",\n",
       " u'felt',\n",
       " u'he',\n",
       " u'came',\n",
       " u'full',\n",
       " u'circle',\n",
       " u'today',\n",
       " u'tony',\n",
       " u'levine',\n",
       " u'the',\n",
       " u'hc',\n",
       " u'who',\n",
       " u'benched',\n",
       " u'him',\n",
       " u'at',\n",
       " u'houston',\n",
       " u'is',\n",
       " u\"purdue's\",\n",
       " u'co',\n",
       " u'oc',\n",
       " u'total',\n",
       " u'yards',\n",
       " u'in',\n",
       " u'the',\n",
       " u'second',\n",
       " u'half',\n",
       " u'michigan',\n",
       " u'292',\n",
       " u'21',\n",
       " u'points',\n",
       " u'purdue',\n",
       " u'10',\n",
       " u'0',\n",
       " u'points',\n",
       " u'goblue',\n",
       " u'purdue',\n",
       " u'is',\n",
       " u'0',\n",
       " u'for',\n",
       " u'11',\n",
       " u'3rd',\n",
       " u'down',\n",
       " u'conversions',\n",
       " u'don',\n",
       " u'brown',\n",
       " u'gangsta',\n",
       " u'total',\n",
       " u'yards',\n",
       " u'in',\n",
       " u'the',\n",
       " u'second',\n",
       " u'half',\n",
       " u'michigan',\n",
       " u'292',\n",
       " u'21',\n",
       " u'points',\n",
       " u'purdue',\n",
       " u'10',\n",
       " u'0',\n",
       " u'points',\n",
       " u'goblue',\n",
       " u'total',\n",
       " u'yards',\n",
       " u'in',\n",
       " u'the',\n",
       " u'third',\n",
       " u'q',\n",
       " u'michigan',\n",
       " u'147',\n",
       " u'purdue',\n",
       " u'4',\n",
       " u'second',\n",
       " u'half',\n",
       " u'yardsmichigan',\n",
       " u'274',\n",
       " u'purdue',\n",
       " u'1',\n",
       " u'michigan',\n",
       " u'outscored',\n",
       " u'purdue',\n",
       " u'21',\n",
       " u'0',\n",
       " u'and',\n",
       " u'outgained',\n",
       " u'them',\n",
       " u'292',\n",
       " u'10',\n",
       " u'in',\n",
       " u'the',\n",
       " u'second',\n",
       " u'half',\n",
       " u'that',\n",
       " u'was']"
      ]
     },
     "execution_count": 509,
     "metadata": {},
     "output_type": "execute_result"
    }
   ],
   "source": [
    "result[0:100]"
   ]
  },
  {
   "cell_type": "markdown",
   "metadata": {},
   "source": [
    "### Initial Score for Positive Words and Negative Words"
   ]
  },
  {
   "cell_type": "code",
   "execution_count": 510,
   "metadata": {
    "collapsed": false
   },
   "outputs": [],
   "source": [
    "negativeScore = 0\n",
    "positiveScore = 0"
   ]
  },
  {
   "cell_type": "markdown",
   "metadata": {},
   "source": [
    "### Go through a for loop and check if words are not in the StopWords List but in Positive and Negative lists"
   ]
  },
  {
   "cell_type": "code",
   "execution_count": 511,
   "metadata": {
    "collapsed": false
   },
   "outputs": [],
   "source": [
    "for word in dataList:\n",
    "    if word not in stopWordsList:\n",
    "        if word in pList:\n",
    "            positiveScore += 1\n",
    "        if word in nList:\n",
    "            negativeScore -= 1\n",
    "        "
   ]
  },
  {
   "cell_type": "code",
   "execution_count": 512,
   "metadata": {
    "collapsed": false
   },
   "outputs": [
    {
     "data": {
      "text/plain": [
       "-71"
      ]
     },
     "execution_count": 512,
     "metadata": {},
     "output_type": "execute_result"
    }
   ],
   "source": [
    "negativeScore"
   ]
  },
  {
   "cell_type": "code",
   "execution_count": 513,
   "metadata": {
    "collapsed": false
   },
   "outputs": [
    {
     "data": {
      "text/plain": [
       "176"
      ]
     },
     "execution_count": 513,
     "metadata": {},
     "output_type": "execute_result"
    }
   ],
   "source": [
    "positiveScore"
   ]
  },
  {
   "cell_type": "code",
   "execution_count": 514,
   "metadata": {
    "collapsed": true
   },
   "outputs": [],
   "source": [
    "totalSum = negativeScore + positiveScore"
   ]
  },
  {
   "cell_type": "code",
   "execution_count": 515,
   "metadata": {
    "collapsed": false
   },
   "outputs": [
    {
     "data": {
      "text/plain": [
       "105"
      ]
     },
     "execution_count": 515,
     "metadata": {},
     "output_type": "execute_result"
    }
   ],
   "source": [
    "totalSum"
   ]
  },
  {
   "cell_type": "markdown",
   "metadata": {},
   "source": [
    "### The total sum is 105 for this text. \n",
    "### The general sentiment is positive because the sum is positive.\n",
    "### Since the positive score is twice more than the absolute value of the negative score, I'd  say the positive sentiment is <i>STRONG</i>\n"
   ]
  }
 ],
 "metadata": {
  "kernelspec": {
   "display_name": "Python 2",
   "language": "python",
   "name": "python2"
  },
  "language_info": {
   "codemirror_mode": {
    "name": "ipython",
    "version": 2
   },
   "file_extension": ".py",
   "mimetype": "text/x-python",
   "name": "python",
   "nbconvert_exporter": "python",
   "pygments_lexer": "ipython2",
   "version": "2.7.11"
  }
 },
 "nbformat": 4,
 "nbformat_minor": 0
}
