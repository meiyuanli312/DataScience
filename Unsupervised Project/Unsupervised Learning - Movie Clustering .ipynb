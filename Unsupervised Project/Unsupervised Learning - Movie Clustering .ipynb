{
 "cells": [
  {
   "cell_type": "markdown",
   "metadata": {},
   "source": [
    "# Project Motives\n",
    "This project uses unsupervised learning algorithm KMeans and LDA to perform text clustering on 238 movie plots.    \n",
    "Movies will be seperated into different clusters/topics with top 5 their keywords.    \n",
    "This is useful for movie recommendation system. "
   ]
  },
  {
   "cell_type": "markdown",
   "metadata": {},
   "source": [
    "## Step 1: Dataset Description and  Data Preparation"
   ]
  },
  {
   "cell_type": "markdown",
   "metadata": {},
   "source": [
    "**Dataset Description**   \n",
    "We web crawled the IMDB website and extract these following info:  \n",
    "Moive ID: Movie's unique ID on that site. It can be used to crawl all other information of that movie  \n",
    "Raking: Their ranking in the top rated 250 movies   \n",
    "Moive Name: Movie's English name and its production year   \n",
    "Movie Plot: Movies' story, summary"
   ]
  },
  {
   "cell_type": "markdown",
   "metadata": {},
   "source": [
    "**Data Preparation**"
   ]
  },
  {
   "cell_type": "code",
   "execution_count": 1,
   "metadata": {
    "collapsed": false
   },
   "outputs": [],
   "source": [
    "import pandas as pd\n",
    "from urllib.request import urlopen \n",
    "from bs4 import BeautifulSoup\n",
    "import re\n",
    "import warnings\n",
    "warnings.filterwarnings('ignore')\n",
    "import numpy as np\n",
    "import nltk\n",
    "import os"
   ]
  },
  {
   "cell_type": "markdown",
   "metadata": {},
   "source": [
    "Connect with IMDB top rated 250 movies and get their raw movie Ids, movie names and their production years."
   ]
  },
  {
   "cell_type": "code",
   "execution_count": 2,
   "metadata": {
    "collapsed": false
   },
   "outputs": [],
   "source": [
    "html = urlopen(\"http://www.imdb.com/chart/top\") \n",
    "bsObj = BeautifulSoup(html.read(),'html.parser')\n",
    "movieEntries = bsObj .findAll('div', {'class':'wlb_ribbon'})\n",
    "movieNames = bsObj.findAll('a', {'href':re.compile(\"/title/tt[0-9]{7}/\")})\n",
    "years = bsObj.findAll('span', {'class':\"secondaryInfo\"})"
   ]
  },
  {
   "cell_type": "markdown",
   "metadata": {},
   "source": [
    "Concatenate movie names and thier production years"
   ]
  },
  {
   "cell_type": "code",
   "execution_count": 3,
   "metadata": {
    "collapsed": false
   },
   "outputs": [
    {
     "data": {
      "text/plain": [
       "['The Shawshank Redemption(1994)',\n",
       " 'The Godfather(1972)',\n",
       " 'The Godfather: Part II(1974)',\n",
       " 'The Dark Knight(2008)',\n",
       " '12 Angry Men(1957)']"
      ]
     },
     "execution_count": 3,
     "metadata": {},
     "output_type": "execute_result"
    }
   ],
   "source": [
    "completeNames = []\n",
    "for i in range(250):\n",
    "    completeName = movieNames[(2 * i) + 1].get_text() + years[i].get_text()\n",
    "    completeNames.append(completeName)\n",
    "\n",
    "# Inspect \n",
    "completeNames[:5]"
   ]
  },
  {
   "cell_type": "markdown",
   "metadata": {},
   "source": [
    "Retrieve movie IDs for movie plots crawling on another page of the IMDB site"
   ]
  },
  {
   "cell_type": "code",
   "execution_count": 4,
   "metadata": {
    "collapsed": false
   },
   "outputs": [
    {
     "data": {
      "text/plain": [
       "['tt0111161', 'tt0068646', 'tt0071562', 'tt0468569', 'tt0050083']"
      ]
     },
     "execution_count": 4,
     "metadata": {},
     "output_type": "execute_result"
    }
   ],
   "source": [
    "movieIds=[]\n",
    "for entry in movieEntries:\n",
    "    movieIds.append(entry['data-tconst'])\n",
    "\n",
    "# Inspect\n",
    "movieIds[:5]"
   ]
  },
  {
   "cell_type": "code",
   "execution_count": 5,
   "metadata": {
    "collapsed": true
   },
   "outputs": [],
   "source": [
    "# Define a function to use movie ID to crawl movie plot on other IMDB pages\n",
    "def getPlot(movieId):\n",
    "    html = urlopen('http://www.imdb.com/title/' + movieId + '/plotsummary')\n",
    "    bsobj = BeautifulSoup(html.read(),'html.parser').find('li', {'id':re.compile(\"synopsis-py*\")})\n",
    "    if bsobj == None:\n",
    "        return movieId\n",
    "    else:\n",
    "        return bsobj.get_text()"
   ]
  },
  {
   "cell_type": "markdown",
   "metadata": {},
   "source": [
    "Retrieve movie plots "
   ]
  },
  {
   "cell_type": "code",
   "execution_count": 6,
   "metadata": {
    "collapsed": true
   },
   "outputs": [],
   "source": [
    "moviePlots = []\n",
    "for movieId in movieIds:\n",
    "    plot = getPlot(movieId)\n",
    "    moviePlots.append(plot)"
   ]
  },
  {
   "cell_type": "code",
   "execution_count": 7,
   "metadata": {
    "collapsed": false
   },
   "outputs": [
    {
     "data": {
      "text/plain": [
       "'In 1947, Andy Dufresne (Tim Robbins), a banker in Maine, is convicted of murdering his wife and her lover, a golf pro. Since the state of Maine has no death penalty, he is given two consecutive life sentences and sent to the notoriously harsh Shawshank Prison. Andy always claims his innocence, but his cold and measured demeanor led many to doubt his word.During the first night, the chief guard, Byron Hadley (Clancy Brown), savagely beats an overweight and newly arrived inmate because of his crying and hysterics. The inmate later dies in the infirmary because the prison doctor had left for the night. Meanwhile, Andy remained steadfast and composed. Ellis Boyd Redding (Morgan Freeman), known as Red, bet against others that Andy would be the one to break down first and loses a considerable amount of cash. Red has been in prison for several years having been given three consecutive life sentences for the murder of his wife and two others.About a month later, Andy approaches Red, who runs contraband inside the walls of Shawshank. He asks Red to find him a rock hammer, an instrument he claims is necessary for his hobby of rock collecting and sculpting. Though other prisoners consider Andy \"a really cold fish,\" Red sees something in Andy, and likes him from the start. Red believes Andy intends to use the hammer to engineer his escape in the future but when the tool arrives and he sees how small it is, Red puts aside the thought that Andy could ever use it to dig his way out of prison.During the first two years of his incarceration, Andy works in the prison laundry. He attracts attention from \"the Sisters,\" a group of prisoners who sexually assault other prisoners. Though he persistently resists and fights them, Andy is beaten and raped on a regular basis.Red pulls some strings and gets Andy and a few of their mutual friends a break by getting them all on a work detail tarring the roof of one of the prison\\'s buildings. During the job Andy overhears Hadley complaining about having to pay taxes for an upcoming inheritance. Drawing on his expertise as a banker, Andy lets Hadley know how he can shelter his money from the IRS, turning it into a one-time gift for his wife. He says he\\'ll assist in exchange for some cold beers for his fellow inmates while on the tarring job. Though he at first threatens to throw Andy off the roof, Hadley, the most brutal guard in the prison, agrees, providing the men with cold beer before the job is finished. Red remarks that Andy may have engineered the privilege to build favor with the prison guards as much as with his fellow inmates, but Red also thinks Andy did it simply to \"feel free.\"While watching a movie, Andy demands \"Rita Hayworth\" from Red. Soon after, Andy once more encounters the Sisters and is brutally beaten, putting him in the infirmary for a month. Boggs (Mark Rolston), the leader of the Sisters, spends a week in solitary for the beating. When he comes out, he finds Hadley and his men waiting in his cell. They beat him so badly he\\'s left paralyzed, transferred to a prison hospital upstate, and the Sisters never bother Andy again. When Andy gets out of the infirmary, he finds a bunch of rocks and a poster of Rita Hayworth in his cell: presents from Red and his buddies.Warden Samuel Norton (Bob Gunton) hears about how Andy helped Hadley and uses a surprise cell inspection to size Andy up. The warden meets with Andy and sends him to work with aging inmate Brooks Hatlen (James Whitmore) in the prison library, where he sets up a make-shift desk to provide services to other guards (and the warden himself) with income tax returns and other financial advice. Andy sees an opportunity to expand the prison library; he starts by asking the Maine state senate for funds. He writes letters every week. His financial support practice is so appreciated that even guards from other prisons, when they visit for inter-prison baseball matches, seek Andy\\'s financial advice. Andy prepares Norton\\'s tax returns the next season.Not long afterward, Brooks, the old librarian, threatens to kill another prisoner, Heywood, in order to avoid being paroled. Andy is able to talk him down and Brooks is paroled. He goes to a halfway house but finds it impossible to adjust to life outside the prison. He eventually commits suicide. When his friends suggest that he was crazy for doing so, Red tells them that Brooks had obviously become \"institutionalized,\" essentially conditioned to be a prisoner for the rest of his life and unable to adapt to the outside world. Red remarks: \"These walls are funny. First you hate \\'em, then you get used to \\'em. Enough time passes, you get so you depend on them.\"After six years of writing letters, Andy receives $200 from the state for the library, along with a collection of old books and phonograph records. Though the state Senate thinks this will be enough to get Andy to halt his letter-writing campaign, he is undaunted and redoubles his efforts.When the donations of old books and records arrive at the warden\\'s office, Andy finds a copy of Mozart\\'s The Marriage of Figaro among the records. He locks the guard assigned to the warden\\'s office in the bathroom and plays the record over the prison\\'s PA system. The entire prison seems captivated by the music &mdash; Red remarks that the voices of the women in the intro made everyone feel free, if only for a brief time. Outside the office, Norton appears, furious at the act of defiance, and orders Andy to turn off the record player. Andy reaches for the needle arm at first, then turns the volume on the phonograph up. The warden orders Hadley to break into the office and Andy is sent immediately to solitary confinement for two weeks. When he gets out, he tells his friends that the stretch was the \"easiest time\" he ever did in the hole because he spent it thinking about Mozart\\'s Figaro. When the other prisoners tell him how unlikely that is, he replies that hope can sustain them. Red is not convinced and leaves, bitter at the thought.With the enlarged library and more materials, Andy begins to teach those inmates who want to receive their high school diplomas. After Andy is able to secure a steady stream of funding from various sources, the library is further renovated and named for Brooks.Warden Norton profits on Andy\\'s knowledge of accounting and devises a scheme whereby he puts prison inmates to work in public projects which he wins by outbidding other contractors (prisoners are cheap labor). Occasionally, he lets others get some contracts if they bribe him. Andy launders money for the warden by setting up many accounts in different banks, along with several investments, using a fake identity: \"Randall Stephens.\" He shares the details only with his friend, Red, noting that he had to \"go to prison to learn how to be a criminal.\"In 1965, a young prisoner named Tommy (Gil Bellows) comes to Shawshank to serve time for armed robbery. Tommy is easy going, charismatic, and popular among the other inmates. Andy suggests that Tommy take up another line of work besides theft. The suggestion really gets to Tommy and he works on earning his high school equivalency diploma. Though Tommy is a good student, he is still frustrated when he takes the exam itself, crumpling it up and tossing it in the trash. Andy retrieves it and sends it in.One day Red tells Tommy about Andy\\'s case. Tommy is visibly upset at hearing Andy\\'s story and tells Andy and Red that he had a cellmate in another prison who boasted about killing a man who was a pro golfer at the country club he worked at, along with his lover. The woman\\'s husband, a banker, had gone to prison for those murders. With this new information, Andy, full of hope, meets with the warden, expecting North to help him get another trial with Tommy as a witness. The reaction from Norton is completely contrary to what Andy hoped for. When Andy says emphatically that he would never reveal the money laundering schemes he set up for Norton over the years, the warden becomes furious and orders him to solitary for a month. The warden later meets with Tommy alone and asks him if he\\'ll testify on Andy\\'s behalf. Tommy enthusiastically agrees and the warden has him shot dead by Hadley.When the warden visits Andy in solitary, he tells him that Tommy was killed while attempting escape. Andy tells Norton that the financial schemes will stop. The warden counters, saying the library will be destroyed and all its materials burned. Andy will also lose his private cell and be sent to the block with the most hardened criminals. The warden gives Andy another month in solitary.Afterwards, Andy returns to the usual daily life at Shawshank, a seemingly broken man. One day he talks to Red, about how although he didn\\'t kill his wife, his personality drove her away, which led to her infidelity and death. He says if he\\'s ever freed or escapes, he\\'d like to go to Zihuatanejo, a beach town on the Pacific coast of Mexico. He also tells Red how he got engaged. He and his future wife went up to a farm in Buxton, Maine, to a large oak tree at the end of a stone wall. The two made love under the tree, after which he proposed to her. He tells Red that, if he should ever be paroled, he should look for that field, and that oak tree. There, under a large black volcanic rock that would look out of place, Andy has buried a box that he wants Red to have. Andy refuses to reveal what might be in that box.Later, Andy asks for a length of rope, leading Red and his buddies to suspect he will commit suicide. At the end of the day, Norton asks Andy to shine his shoes for him and put his suit in for dry-cleaning before retiring for the night.The following morning, Andy is not accounted for as usual in his cell. At the same time, Norton becomes alarmed when he finds Andy\\'s shoes in his shoebox instead of his own. He rushes to Andy\\'s cell and demands an explanation. Hadley brings in Red, but Red insists he knows nothing of Andy\\'s plans. Becoming increasing hostile and paranoid, Norton starts throwing Andy\\'s sculpted rocks around the cell. When he throws one at Andy\\'s poster of Raquel Welch (in the spot previously occupied by Marilyn Monroe, and before that by Rita Hayworth), the rock punches through and into the wall. Norton tears the poster away from the wall and finds a tunnel just wide enough for a man to crawl through.During the previous night\\'s thunderstorm, Andy wore Norton\\'s shoes to his cell, catching a lucky break when no one notices. He packed some papers and Norton\\'s clothes into a plastic bag, tied it to himself with the rope he\\'d asked for, and escaped through his hole. The tunnel he\\'d excavated led him to a space between two walls of the prison where he found a sewer main line. Using a rock, he hit the sewer line in time with the lightning strikes and eventually burst it. Crawling through 500 yards in the pipe and through the raw sewage contained in it, Andy emerged in a brook outside the walls. A search team later found his uniform and his rock hammer, which had been worn nearly to nothing.That morning, Andy walks into the Maine National Bank in Portland, where he had put Warden Norton\\'s money. Using his assumed identity as Randall Stephens, and with all the necessary documentation, he closes the account and walks out with a cashier\\'s check. Before he leaves, he asks them to drop a package in the mail. He continues his visitations to nearly a dozen other local banks, ending up with some $370,000. The package contains Warden Norton\\'s account books, which are delivered straight to the Portland Daily Bugle newspaper.Not long after, the police storm Shawshank Prison. Hadley is arrested for murder; Red says he was taken away \"crying like a little girl.\" Warden Norton finally opens his safe, which he hadn\\'t touched since Andy escaped, and instead of his books, he finds the Bible he had given Andy. Norton opens it to the book of Exodus and finds that the pages have been cut out in the shape of Andy\\'s rock hammer. Norton walks back to his desk as the police pound on his door, takes out a small revolver and shoots himself under the chin. Red remarks that he wondered if the warden thought, right before pulling the trigger, how \"Andy could ever have gotten the best of him.\"Shortly after, Red receives a postcard from Fort Hancock, Texas, with nothing written on it. Red takes it as a sign that Andy made it into Mexico to freedom. Red and his buddies kill time talking about Andy\\'s exploits (with a lot of embellishments), but Red just misses his friend.At Red\\'s next parole hearing in 1967, he talks to the parole board about how \"rehabilitated\" was a made-up word, and how he regretted his actions of the past of murder over 40 years ago and no longer expects anything from them. His parole is granted this time. He goes to work at a grocery store, and stays at the same halfway house room Brooks had stayed in. He frequently walks by a pawn shop which has several guns and compasses in the window. At times he contemplates trying to get back into prison feeling that he has no life outside of prison where he has spent most of his adult life, but he remembers the promise he made to Andy.One day, with a compass he bought from the pawn shop, he follows Andy\\'s instructions, hitchhiking to Buxton and arriving at the stone wall Andy described. Just as Andy said, there was a large black stone. Under it was a small box containing a large sum of cash and instructions to find him. He said he needed somebody \"who could get things\" for a \"project\" of his.Red violates parole and leaves the halfway house, unconcerned since no one is likely to do an extensive manhunt for \"an old crook like [him].\" He takes a bus to Fort Hancock, where he crosses into Mexico. The two friends are finally reunited on the beach of Zihuatanejo on the Pacific coast.'"
      ]
     },
     "execution_count": 7,
     "metadata": {},
     "output_type": "execute_result"
    }
   ],
   "source": [
    "# Inspect \n",
    "moviePlots[0]"
   ]
  },
  {
   "cell_type": "markdown",
   "metadata": {},
   "source": [
    "Build a datafram which has movie ID, movie ranking, movie name and movie plot as its columns"
   ]
  },
  {
   "cell_type": "code",
   "execution_count": 8,
   "metadata": {
    "collapsed": false
   },
   "outputs": [],
   "source": [
    "df = pd.DataFrame(movieIds, columns = ['MovieId'])"
   ]
  },
  {
   "cell_type": "code",
   "execution_count": 9,
   "metadata": {
    "collapsed": false
   },
   "outputs": [],
   "source": [
    "df['Ranking'] = range(1,251)\n",
    "df['MovieName'] = completeNames\n",
    "df['MoviePlot'] = moviePlots"
   ]
  },
  {
   "cell_type": "markdown",
   "metadata": {},
   "source": [
    "There are 11 movies that have no plots available on the IMDB site"
   ]
  },
  {
   "cell_type": "code",
   "execution_count": 10,
   "metadata": {
    "collapsed": false
   },
   "outputs": [
    {
     "data": {
      "text/html": [
       "<div>\n",
       "<style>\n",
       "    .dataframe thead tr:only-child th {\n",
       "        text-align: right;\n",
       "    }\n",
       "\n",
       "    .dataframe thead th {\n",
       "        text-align: left;\n",
       "    }\n",
       "\n",
       "    .dataframe tbody tr th {\n",
       "        vertical-align: top;\n",
       "    }\n",
       "</style>\n",
       "<table border=\"1\" class=\"dataframe\">\n",
       "  <thead>\n",
       "    <tr style=\"text-align: right;\">\n",
       "      <th></th>\n",
       "      <th>MovieId</th>\n",
       "      <th>Ranking</th>\n",
       "      <th>MovieName</th>\n",
       "      <th>MoviePlot</th>\n",
       "    </tr>\n",
       "  </thead>\n",
       "  <tbody>\n",
       "    <tr>\n",
       "      <th>37</th>\n",
       "      <td>tt0027977</td>\n",
       "      <td>38</td>\n",
       "      <td>Modern Times(1936)</td>\n",
       "      <td>tt0027977</td>\n",
       "    </tr>\n",
       "    <tr>\n",
       "      <th>38</th>\n",
       "      <td>tt2380307</td>\n",
       "      <td>39</td>\n",
       "      <td>Coco(2017)</td>\n",
       "      <td>tt2380307</td>\n",
       "    </tr>\n",
       "    <tr>\n",
       "      <th>99</th>\n",
       "      <td>tt0012349</td>\n",
       "      <td>100</td>\n",
       "      <td>The Kid(1921)</td>\n",
       "      <td>tt0012349</td>\n",
       "    </tr>\n",
       "    <tr>\n",
       "      <th>115</th>\n",
       "      <td>tt0476735</td>\n",
       "      <td>116</td>\n",
       "      <td>Babam ve Oglum(2005)</td>\n",
       "      <td>tt0476735</td>\n",
       "    </tr>\n",
       "    <tr>\n",
       "      <th>128</th>\n",
       "      <td>tt0044741</td>\n",
       "      <td>129</td>\n",
       "      <td>Ikiru(1952)</td>\n",
       "      <td>tt0044741</td>\n",
       "    </tr>\n",
       "    <tr>\n",
       "      <th>168</th>\n",
       "      <td>tt0116231</td>\n",
       "      <td>169</td>\n",
       "      <td>The Bandit(1996)</td>\n",
       "      <td>tt0116231</td>\n",
       "    </tr>\n",
       "    <tr>\n",
       "      <th>171</th>\n",
       "      <td>tt0091251</td>\n",
       "      <td>172</td>\n",
       "      <td>Come and See(1985)</td>\n",
       "      <td>tt0091251</td>\n",
       "    </tr>\n",
       "    <tr>\n",
       "      <th>185</th>\n",
       "      <td>tt3011894</td>\n",
       "      <td>186</td>\n",
       "      <td>Relatos salvajes(2014)</td>\n",
       "      <td>tt3011894</td>\n",
       "    </tr>\n",
       "    <tr>\n",
       "      <th>199</th>\n",
       "      <td>tt0053198</td>\n",
       "      <td>200</td>\n",
       "      <td>The 400 Blows(1959)</td>\n",
       "      <td>tt0053198</td>\n",
       "    </tr>\n",
       "    <tr>\n",
       "      <th>211</th>\n",
       "      <td>tt0087544</td>\n",
       "      <td>212</td>\n",
       "      <td>Nausicaä of the Valley of the Wind(1984)</td>\n",
       "      <td>tt0087544</td>\n",
       "    </tr>\n",
       "    <tr>\n",
       "      <th>234</th>\n",
       "      <td>tt0113247</td>\n",
       "      <td>235</td>\n",
       "      <td>La Haine(1995)</td>\n",
       "      <td>tt0113247</td>\n",
       "    </tr>\n",
       "    <tr>\n",
       "      <th>235</th>\n",
       "      <td>tt0056801</td>\n",
       "      <td>236</td>\n",
       "      <td>8½(1963)</td>\n",
       "      <td>tt0056801</td>\n",
       "    </tr>\n",
       "  </tbody>\n",
       "</table>\n",
       "</div>"
      ],
      "text/plain": [
       "       MovieId  Ranking                                 MovieName  MoviePlot\n",
       "37   tt0027977       38                        Modern Times(1936)  tt0027977\n",
       "38   tt2380307       39                                Coco(2017)  tt2380307\n",
       "99   tt0012349      100                             The Kid(1921)  tt0012349\n",
       "115  tt0476735      116                      Babam ve Oglum(2005)  tt0476735\n",
       "128  tt0044741      129                               Ikiru(1952)  tt0044741\n",
       "168  tt0116231      169                          The Bandit(1996)  tt0116231\n",
       "171  tt0091251      172                        Come and See(1985)  tt0091251\n",
       "185  tt3011894      186                    Relatos salvajes(2014)  tt3011894\n",
       "199  tt0053198      200                       The 400 Blows(1959)  tt0053198\n",
       "211  tt0087544      212  Nausicaä of the Valley of the Wind(1984)  tt0087544\n",
       "234  tt0113247      235                            La Haine(1995)  tt0113247\n",
       "235  tt0056801      236                                  8½(1963)  tt0056801"
      ]
     },
     "execution_count": 10,
     "metadata": {},
     "output_type": "execute_result"
    }
   ],
   "source": [
    "df[df.MovieId == df.MoviePlot]"
   ]
  },
  {
   "cell_type": "markdown",
   "metadata": {},
   "source": [
    "So, we filter out above movies and create a new dataframe"
   ]
  },
  {
   "cell_type": "code",
   "execution_count": 11,
   "metadata": {
    "collapsed": false
   },
   "outputs": [],
   "source": [
    "df2 = df[df.MovieId != df.MoviePlot]"
   ]
  },
  {
   "cell_type": "markdown",
   "metadata": {},
   "source": [
    "## Step 2: Tokenizing and Stemming"
   ]
  },
  {
   "cell_type": "markdown",
   "metadata": {},
   "source": [
    "**What is tokenizing?**  \n",
    "In layman's terms, it means break long document(aka. movie plots) into single words"
   ]
  },
  {
   "cell_type": "markdown",
   "metadata": {},
   "source": [
    "** What is stemming?**   \n",
    "Also in layman's terms, it means transform words back to their 'root' states.    \n",
    "For example, unstemmed  word 'likes' -> stemmed word 'like'."
   ]
  },
  {
   "cell_type": "markdown",
   "metadata": {},
   "source": [
    "**Why do we need tokenizing and stemming?**  \n",
    "Useful unigrams is the key of text clustering.   \n",
    "These two steps are considered as the necessary steps for data preparation."
   ]
  },
  {
   "cell_type": "markdown",
   "metadata": {},
   "source": [
    "** How do we make use of tokenizing and stemming? **\n",
    "1. We define a function called tokenize_and_stem to prepare data for the TF-IDF model.    \n",
    "    This function will be set as a parameter for the TF-IDF model.\n",
    "2. We also build a dict that has structure {unstemmed_word: stemmed_word}   \n",
    "    When we anaylze the clustering and topic modeling, we can use this dict to show the actual words"
   ]
  },
  {
   "cell_type": "markdown",
   "metadata": {},
   "source": [
    "** Get started **\n",
    "<li> Load stopwords and stemmer function from NLTK library.  \n",
    "<li> Stop words are words like \"a\", \"the\", or \"in\" which don't convey significant meaning.  "
   ]
  },
  {
   "cell_type": "code",
   "execution_count": 12,
   "metadata": {
    "collapsed": false
   },
   "outputs": [
    {
     "name": "stdout",
     "output_type": "stream",
     "text": [
      "[nltk_data] Downloading package stopwords to\n",
      "[nltk_data]     /Users/Meiyuan/nltk_data...\n",
      "[nltk_data]   Package stopwords is already up-to-date!\n"
     ]
    },
    {
     "data": {
      "text/plain": [
       "True"
      ]
     },
     "execution_count": 12,
     "metadata": {},
     "output_type": "execute_result"
    }
   ],
   "source": [
    "import nltk\n",
    "nltk.download('stopwords')"
   ]
  },
  {
   "cell_type": "code",
   "execution_count": 13,
   "metadata": {
    "collapsed": false
   },
   "outputs": [],
   "source": [
    "# Use nltk's English stopwords.\n",
    "stopwords = nltk.corpus.stopwords.words('english')"
   ]
  },
  {
   "cell_type": "code",
   "execution_count": 14,
   "metadata": {
    "collapsed": false
   },
   "outputs": [
    {
     "data": {
      "text/plain": [
       "153"
      ]
     },
     "execution_count": 14,
     "metadata": {},
     "output_type": "execute_result"
    }
   ],
   "source": [
    "# We use this many stopwords\n",
    "len(stopwords)"
   ]
  },
  {
   "cell_type": "code",
   "execution_count": 15,
   "metadata": {
    "collapsed": false
   },
   "outputs": [
    {
     "data": {
      "text/plain": [
       "['i', 'me', 'my', 'myself', 'we', 'our', 'ours', 'ourselves', 'you', 'your']"
      ]
     },
     "execution_count": 15,
     "metadata": {},
     "output_type": "execute_result"
    }
   ],
   "source": [
    "# Inspect\n",
    "stopwords[:10]"
   ]
  },
  {
   "cell_type": "markdown",
   "metadata": {},
   "source": [
    "Here we define a function 'tokenize' to transform words in the movie plots   \n",
    "e.g. 'He loves python' will be tokenized to ['he', 'loves','python']"
   ]
  },
  {
   "cell_type": "code",
   "execution_count": 16,
   "metadata": {
    "collapsed": true
   },
   "outputs": [],
   "source": [
    "# Use this function to tokenize each plot \n",
    "def tokenize(plot):\n",
    "    # Break one movie plot into words, numbers and punctuations\n",
    "    tokens=[]\n",
    "    for word in nltk.word_tokenize(plot): \n",
    "        if word not in stopwords:\n",
    "            tokens.append(word)  \n",
    "    \n",
    "    # filter out any tokens not containing letters (numbers and punctuations)\n",
    "    filteredTokens = []\n",
    "    for token in tokens:\n",
    "        if re.match('^[a-zA-Z][a-zA-Z]*[a-zA-Z]$', token):\n",
    "            filteredTokens.append(token)\n",
    "    return filteredTokens"
   ]
  },
  {
   "cell_type": "markdown",
   "metadata": {},
   "source": [
    "<li> Stemming is the process of breaking a word down into its root.\n",
    "<li> ['He', 'loves','python'] will be transformed to ['he', 'love','python']"
   ]
  },
  {
   "cell_type": "markdown",
   "metadata": {},
   "source": [
    "Here we define a function to tokenize and stem words in the movie plots"
   ]
  },
  {
   "cell_type": "code",
   "execution_count": 17,
   "metadata": {
    "collapsed": false
   },
   "outputs": [],
   "source": [
    "# Use this function to stem the previous tokenized words\n",
    "from nltk.stem.snowball import SnowballStemmer\n",
    "stemmer = SnowballStemmer(\"english\")\n",
    "\n",
    "def tokenize_and_stem(plot):\n",
    "    # Call tokenize function first\n",
    "    filteredTokens = tokenize(plot)\n",
    "    \n",
    "    # Stem the filtered tokens\n",
    "    stemedTokens = []\n",
    "    for filteredTD in filteredTokens:\n",
    "        stemedTokens.append(stemmer.stem(filteredTD))\n",
    "    return stemedTokens"
   ]
  },
  {
   "cell_type": "markdown",
   "metadata": {},
   "source": [
    "Use our defined functions to transform 238 movie plots into 2 giant lists of words"
   ]
  },
  {
   "cell_type": "code",
   "execution_count": 18,
   "metadata": {
    "collapsed": false
   },
   "outputs": [
    {
     "name": "stdout",
     "output_type": "stream",
     "text": [
      "[nltk_data] Downloading package punkt to /Users/Meiyuan/nltk_data...\n",
      "[nltk_data]   Package punkt is already up-to-date!\n"
     ]
    }
   ],
   "source": [
    "nltk.download('punkt')\n",
    "all_words_tokenized = []\n",
    "all_words_stemmed = []\n",
    "for plot in df2.MoviePlot:\n",
    "    tokenized_Results = tokenize(plot)\n",
    "    all_words_tokenized.extend(tokenized_Results)\n",
    "    \n",
    "    tokenized_stemmed_Results = tokenize_and_stem(plot)\n",
    "    all_words_stemmed.extend(tokenized_stemmed_Results )"
   ]
  },
  {
   "cell_type": "code",
   "execution_count": 19,
   "metadata": {
    "collapsed": false,
    "scrolled": true
   },
   "outputs": [
    {
     "data": {
      "text/plain": [
       "['In', 'Andy', 'Dufresne', 'Tim', 'Robbins']"
      ]
     },
     "execution_count": 19,
     "metadata": {},
     "output_type": "execute_result"
    }
   ],
   "source": [
    "# Inspect\n",
    "all_words_tokenized[:5]"
   ]
  },
  {
   "cell_type": "code",
   "execution_count": 20,
   "metadata": {
    "collapsed": false
   },
   "outputs": [
    {
     "data": {
      "text/plain": [
       "['in', 'andi', 'dufresn', 'tim', 'robbin']"
      ]
     },
     "execution_count": 20,
     "metadata": {},
     "output_type": "execute_result"
    }
   ],
   "source": [
    "# Inspect\n",
    "all_words_stemmed[:5]"
   ]
  },
  {
   "cell_type": "markdown",
   "metadata": {},
   "source": [
    "Zip these two into a dict for Kmeans and Topic Modeling results analysis use"
   ]
  },
  {
   "cell_type": "code",
   "execution_count": 21,
   "metadata": {
    "collapsed": false
   },
   "outputs": [],
   "source": [
    "stemmed_unstemmed_dict = dict(zip(all_words_stemmed,all_words_tokenized))"
   ]
  },
  {
   "cell_type": "code",
   "execution_count": 22,
   "metadata": {
    "collapsed": false
   },
   "outputs": [
    {
     "data": {
      "text/plain": [
       "{'in': 'In',\n",
       " 'andi': 'Andy',\n",
       " 'dufresn': 'Dufresne',\n",
       " 'tim': 'Tim',\n",
       " 'robbin': 'Robbins',\n",
       " 'banker': 'banker',\n",
       " 'main': 'main',\n",
       " 'convict': 'convict',\n",
       " 'murder': 'murder',\n",
       " 'wife': 'wife',\n",
       " 'lover': 'lover',\n",
       " 'golf': 'golf',\n",
       " 'pro': 'pro',\n",
       " 'sinc': 'since',\n",
       " 'state': 'state',\n",
       " 'death': 'death',\n",
       " 'penalti': 'penalty',\n",
       " 'given': 'given',\n",
       " 'two': 'two',\n",
       " 'consecut': 'consecutive',\n",
       " 'life': 'life',\n",
       " 'sentenc': 'sentences',\n",
       " 'sent': 'sent',\n",
       " 'notori': 'notorious',\n",
       " 'harsh': 'harshly',\n",
       " 'shawshank': 'Shawshank',\n",
       " 'prison': 'prisoner',\n",
       " 'alway': 'always',\n",
       " 'claim': 'claiming',\n",
       " 'innoc': 'innocently',\n",
       " 'cold': 'Cold',\n",
       " 'measur': 'measures',\n",
       " 'demeanor': 'demeanor',\n",
       " 'led': 'led',\n",
       " 'mani': 'many',\n",
       " 'doubt': 'doubts',\n",
       " 'first': 'First',\n",
       " 'night': 'night',\n",
       " 'chief': 'Chief',\n",
       " 'guard': 'guard',\n",
       " 'byron': 'Byron',\n",
       " 'hadley': 'Hadley',\n",
       " 'clanci': 'Clancy',\n",
       " 'brown': 'Brown',\n",
       " 'savag': 'Savage',\n",
       " 'beat': 'beats',\n",
       " 'overweight': 'overweight',\n",
       " 'newli': 'newly',\n",
       " 'arriv': 'arrives',\n",
       " 'inmat': 'inmate',\n",
       " 'cri': 'cries',\n",
       " 'hyster': 'hysterically',\n",
       " 'the': 'The',\n",
       " 'later': 'Later',\n",
       " 'die': 'dies',\n",
       " 'infirmari': 'infirmary',\n",
       " 'doctor': 'doctor',\n",
       " 'left': 'left',\n",
       " 'meanwhil': 'Meanwhile',\n",
       " 'remain': 'remaining',\n",
       " 'steadfast': 'steadfast',\n",
       " 'compos': 'composes',\n",
       " 'elli': 'Ellis',\n",
       " 'boyd': 'Boyd',\n",
       " 'red': 'red',\n",
       " 'morgan': 'Morgan',\n",
       " 'freeman': 'Freeman',\n",
       " 'known': 'known',\n",
       " 'bet': 'bets',\n",
       " 'other': 'others',\n",
       " 'would': 'would',\n",
       " 'one': 'one',\n",
       " 'break': 'breaking',\n",
       " 'lose': 'losing',\n",
       " 'consider': 'considerable',\n",
       " 'amount': 'amount',\n",
       " 'cash': 'cash',\n",
       " 'sever': 'several',\n",
       " 'year': 'years',\n",
       " 'three': 'three',\n",
       " 'month': 'month',\n",
       " 'approach': 'approaches',\n",
       " 'run': 'running',\n",
       " 'contraband': 'contraband',\n",
       " 'insid': 'inside',\n",
       " 'wall': 'wall',\n",
       " 'he': 'He',\n",
       " 'ask': 'asks',\n",
       " 'find': 'finds',\n",
       " 'rock': 'Rock',\n",
       " 'hammer': 'hammer',\n",
       " 'instrument': 'instrument',\n",
       " 'necessari': 'necessary',\n",
       " 'hobbi': 'hobbies',\n",
       " 'collect': 'collection',\n",
       " 'sculpt': 'sculpt',\n",
       " 'though': 'though',\n",
       " 'consid': 'considered',\n",
       " 'realli': 'really',\n",
       " 'fish': 'fish',\n",
       " 'see': 'see',\n",
       " 'someth': 'something',\n",
       " 'like': 'like',\n",
       " 'start': 'starts',\n",
       " 'believ': 'Believing',\n",
       " 'intend': 'intended',\n",
       " 'use': 'used',\n",
       " 'engin': 'engine',\n",
       " 'escap': 'escaped',\n",
       " 'futur': 'futures',\n",
       " 'tool': 'tool',\n",
       " 'small': 'small',\n",
       " 'put': 'put',\n",
       " 'asid': 'aside',\n",
       " 'thought': 'thoughts',\n",
       " 'could': 'could',\n",
       " 'ever': 'ever',\n",
       " 'dig': 'dig',\n",
       " 'way': 'ways',\n",
       " 'incarcer': 'incarcerated',\n",
       " 'work': 'worked',\n",
       " 'laundri': 'laundry',\n",
       " 'attract': 'attracted',\n",
       " 'attent': 'attention',\n",
       " 'sister': 'sister',\n",
       " 'group': 'group',\n",
       " 'sexual': 'sexual',\n",
       " 'assault': 'assault',\n",
       " 'persist': 'persistence',\n",
       " 'resist': 'resistance',\n",
       " 'fight': 'fight',\n",
       " 'beaten': 'beaten',\n",
       " 'rape': 'raped',\n",
       " 'regular': 'regular',\n",
       " 'pull': 'pull',\n",
       " 'string': 'stringed',\n",
       " 'get': 'get',\n",
       " 'mutual': 'mutual',\n",
       " 'friend': 'friend',\n",
       " 'detail': 'details',\n",
       " 'tar': 'tarred',\n",
       " 'roof': 'roof',\n",
       " 'build': 'builds',\n",
       " 'dure': 'During',\n",
       " 'job': 'job',\n",
       " 'overhear': 'overhearing',\n",
       " 'complain': 'complains',\n",
       " 'pay': 'pay',\n",
       " 'tax': 'tax',\n",
       " 'upcom': 'upcoming',\n",
       " 'inherit': 'inheritance',\n",
       " 'draw': 'drawing',\n",
       " 'expertis': 'expertise',\n",
       " 'let': 'let',\n",
       " 'know': 'knows',\n",
       " 'shelter': 'shelter',\n",
       " 'money': 'money',\n",
       " 'ir': 'IRS',\n",
       " 'turn': 'turns',\n",
       " 'gift': 'gift',\n",
       " 'say': 'saying',\n",
       " 'assist': 'assistance',\n",
       " 'exchang': 'exchange',\n",
       " 'beer': 'beer',\n",
       " 'fellow': 'fellow',\n",
       " 'threaten': 'threatens',\n",
       " 'throw': 'throwing',\n",
       " 'brutal': 'brutal',\n",
       " 'agre': 'agrees',\n",
       " 'provid': 'providing',\n",
       " 'men': 'men',\n",
       " 'finish': 'finishes',\n",
       " 'remark': 'remark',\n",
       " 'may': 'may',\n",
       " 'privileg': 'privileged',\n",
       " 'favor': 'favors',\n",
       " 'much': 'much',\n",
       " 'also': 'also',\n",
       " 'think': 'thinks',\n",
       " 'simpli': 'simply',\n",
       " 'feel': 'feels',\n",
       " 'free': 'frees',\n",
       " 'while': 'While',\n",
       " 'watch': 'watching',\n",
       " 'movi': 'movie',\n",
       " 'demand': 'demands',\n",
       " 'rita': 'Rita',\n",
       " 'hayworth': 'Hayworth',\n",
       " 'soon': 'soon',\n",
       " 'encount': 'encounters',\n",
       " 'bogg': 'Boggs',\n",
       " 'mark': 'mark',\n",
       " 'rolston': 'Rolston',\n",
       " 'leader': 'leaders',\n",
       " 'spend': 'spend',\n",
       " 'week': 'week',\n",
       " 'solitari': 'solitary',\n",
       " 'when': 'When',\n",
       " 'come': 'come',\n",
       " 'wait': 'wait',\n",
       " 'cell': 'cell',\n",
       " 'they': 'They',\n",
       " 'bad': 'bad',\n",
       " 'paralyz': 'paralyzed',\n",
       " 'transfer': 'transferring',\n",
       " 'hospit': 'Hospital',\n",
       " 'upstat': 'upstate',\n",
       " 'never': 'never',\n",
       " 'bother': 'bothered',\n",
       " 'bunch': 'bunch',\n",
       " 'poster': 'poster',\n",
       " 'present': 'present',\n",
       " 'samuel': 'Samuel',\n",
       " 'norton': 'Norton',\n",
       " 'bob': 'Bob',\n",
       " 'gunton': 'Gunton',\n",
       " 'hear': 'hear',\n",
       " 'help': 'help',\n",
       " 'surpris': 'surprises',\n",
       " 'inspect': 'inspection',\n",
       " 'size': 'size',\n",
       " 'warden': 'Warden',\n",
       " 'meet': 'meeting',\n",
       " 'send': 'send',\n",
       " 'age': 'age',\n",
       " 'brook': 'Brooks',\n",
       " 'hatlen': 'Hatlen',\n",
       " 'jame': 'James',\n",
       " 'whitmor': 'Whitmore',\n",
       " 'librari': 'library',\n",
       " 'set': 'sets',\n",
       " 'desk': 'desk',\n",
       " 'servic': 'services',\n",
       " 'incom': 'income',\n",
       " 'return': 'return',\n",
       " 'financi': 'financial',\n",
       " 'advic': 'advice',\n",
       " 'opportun': 'opportunity',\n",
       " 'expand': 'expanding',\n",
       " 'senat': 'senator',\n",
       " 'fund': 'fund',\n",
       " 'write': 'writes',\n",
       " 'letter': 'letter',\n",
       " 'everi': 'every',\n",
       " 'his': 'His',\n",
       " 'support': 'support',\n",
       " 'practic': 'practice',\n",
       " 'appreci': 'appreciation',\n",
       " 'even': 'even',\n",
       " 'visit': 'visit',\n",
       " 'basebal': 'baseball',\n",
       " 'match': 'match',\n",
       " 'seek': 'seek',\n",
       " 'prepar': 'preparing',\n",
       " 'next': 'next',\n",
       " 'long': 'long',\n",
       " 'afterward': 'afterwards',\n",
       " 'old': 'old',\n",
       " 'librarian': 'librarian',\n",
       " 'kill': 'kill',\n",
       " 'anoth': 'another',\n",
       " 'heywood': 'Heywood',\n",
       " 'order': 'orders',\n",
       " 'avoid': 'avoid',\n",
       " 'parol': 'parole',\n",
       " 'abl': 'able',\n",
       " 'talk': 'talk',\n",
       " 'goe': 'goes',\n",
       " 'halfway': 'halfway',\n",
       " 'hous': 'house',\n",
       " 'imposs': 'impossibly',\n",
       " 'adjust': 'adjust',\n",
       " 'outsid': 'outside',\n",
       " 'eventu': 'Eventually',\n",
       " 'commit': 'commit',\n",
       " 'suicid': 'suicide',\n",
       " 'suggest': 'suggests',\n",
       " 'crazi': 'crazy',\n",
       " 'tell': 'tells',\n",
       " 'obvious': 'obviously',\n",
       " 'becom': 'becomes',\n",
       " 'institution': 'institutionalized',\n",
       " 'essenti': 'essential',\n",
       " 'condit': 'condition',\n",
       " 'rest': 'rest',\n",
       " 'unabl': 'Unable',\n",
       " 'adapt': 'adaptation',\n",
       " 'world': 'World',\n",
       " 'these': 'These',\n",
       " 'funni': 'funny',\n",
       " 'hate': 'hates',\n",
       " 'enough': 'enough',\n",
       " 'time': 'time',\n",
       " 'pass': 'passes',\n",
       " 'depend': 'depends',\n",
       " 'after': 'After',\n",
       " 'six': 'six',\n",
       " 'receiv': 'receive',\n",
       " 'along': 'along',\n",
       " 'book': 'books',\n",
       " 'phonograph': 'phonograph',\n",
       " 'record': 'recording',\n",
       " 'halt': 'halting',\n",
       " 'campaign': 'campaign',\n",
       " 'undaunt': 'Undaunted',\n",
       " 'redoubl': 'redoubling',\n",
       " 'donat': 'donation',\n",
       " 'offic': 'officers',\n",
       " 'copi': 'copying',\n",
       " 'mozart': 'Mozart',\n",
       " 'marriag': 'marriage',\n",
       " 'figaro': 'Figaro',\n",
       " 'among': 'among',\n",
       " 'lock': 'locked',\n",
       " 'assign': 'assigned',\n",
       " 'bathroom': 'bathroom',\n",
       " 'play': 'played',\n",
       " 'pa': 'PA',\n",
       " 'system': 'system',\n",
       " 'entir': 'entire',\n",
       " 'seem': 'seemed',\n",
       " 'captiv': 'captive',\n",
       " 'music': 'music',\n",
       " 'mdash': 'mdash',\n",
       " 'voic': 'voices',\n",
       " 'women': 'women',\n",
       " 'intro': 'intro',\n",
       " 'made': 'made',\n",
       " 'everyon': 'everyone',\n",
       " 'brief': 'brief',\n",
       " 'appear': 'appears',\n",
       " 'furious': 'furious',\n",
       " 'act': 'acts',\n",
       " 'defianc': 'defiance',\n",
       " 'player': 'player',\n",
       " 'reach': 'reaches',\n",
       " 'needl': 'needles',\n",
       " 'arm': 'armed',\n",
       " 'volum': 'volume',\n",
       " 'immedi': 'immediately',\n",
       " 'confin': 'confined',\n",
       " 'stretch': 'stretching',\n",
       " 'easiest': 'easiest',\n",
       " 'hole': 'hole',\n",
       " 'spent': 'spent',\n",
       " 'unlik': 'unlike',\n",
       " 'repli': 'replies',\n",
       " 'hope': 'hoping',\n",
       " 'sustain': 'sustain',\n",
       " 'convinc': 'convinces',\n",
       " 'leav': 'leaving',\n",
       " 'bitter': 'bitter',\n",
       " 'enlarg': 'enlarged',\n",
       " 'materi': 'material',\n",
       " 'begin': 'beginning',\n",
       " 'teach': 'teach',\n",
       " 'want': 'want',\n",
       " 'high': 'highly',\n",
       " 'school': 'school',\n",
       " 'diploma': 'diploma',\n",
       " 'secur': 'security',\n",
       " 'steadi': 'steady',\n",
       " 'stream': 'stream',\n",
       " 'various': 'various',\n",
       " 'sourc': 'source',\n",
       " 'renov': 'renovated',\n",
       " 'name': 'name',\n",
       " 'profit': 'profitable',\n",
       " 'knowledg': 'knowledge',\n",
       " 'account': 'account',\n",
       " 'devis': 'devises',\n",
       " 'scheme': 'scheme',\n",
       " 'wherebi': 'whereby',\n",
       " 'public': 'public',\n",
       " 'project': 'project',\n",
       " 'win': 'wins',\n",
       " 'outbid': 'outbidding',\n",
       " 'contractor': 'contractor',\n",
       " 'cheap': 'cheap',\n",
       " 'labor': 'labor',\n",
       " 'occasion': 'occasionally',\n",
       " 'contract': 'contract',\n",
       " 'bribe': 'bribed',\n",
       " 'launder': 'laundering',\n",
       " 'differ': 'difference',\n",
       " 'bank': 'bank',\n",
       " 'invest': 'invested',\n",
       " 'fake': 'fake',\n",
       " 'ident': 'identity',\n",
       " 'randal': 'Randall',\n",
       " 'stephen': 'Stephen',\n",
       " 'share': 'shared',\n",
       " 'note': 'note',\n",
       " 'go': 'go',\n",
       " 'learn': 'learned',\n",
       " 'crimin': 'criminal',\n",
       " 'young': 'young',\n",
       " 'tommi': 'Tommy',\n",
       " 'gil': 'Gil',\n",
       " 'bellow': 'bellows',\n",
       " 'serv': 'serves',\n",
       " 'robberi': 'robbery',\n",
       " 'easi': 'easy',\n",
       " 'charismat': 'charismatic',\n",
       " 'popular': 'popular',\n",
       " 'take': 'take',\n",
       " 'line': 'line',\n",
       " 'besid': 'beside',\n",
       " 'theft': 'theft',\n",
       " 'earn': 'earned',\n",
       " 'equival': 'equivalent',\n",
       " 'good': 'good',\n",
       " 'student': 'students',\n",
       " 'still': 'still',\n",
       " 'frustrat': 'frustrated',\n",
       " 'exam': 'exam',\n",
       " 'crumpl': 'crumpled',\n",
       " 'toss': 'tosses',\n",
       " 'trash': 'trash',\n",
       " 'retriev': 'retrieves',\n",
       " 'day': 'day',\n",
       " 'case': 'cases',\n",
       " 'visibl': 'visibly',\n",
       " 'upset': 'upset',\n",
       " 'stori': 'story',\n",
       " 'cellmat': 'cellmate',\n",
       " 'boast': 'boast',\n",
       " 'man': 'man',\n",
       " 'golfer': 'golfer',\n",
       " 'countri': 'country',\n",
       " 'club': 'club',\n",
       " 'woman': 'woman',\n",
       " 'husband': 'husband',\n",
       " 'gone': 'gone',\n",
       " 'with': 'With',\n",
       " 'new': 'new',\n",
       " 'inform': 'informing',\n",
       " 'full': 'full',\n",
       " 'expect': 'expected',\n",
       " 'north': 'North',\n",
       " 'trial': 'trial',\n",
       " 'wit': 'witnesses',\n",
       " 'reaction': 'reaction',\n",
       " 'complet': 'complete',\n",
       " 'contrari': 'contrary',\n",
       " 'emphat': 'emphatically',\n",
       " 'reveal': 'reveals',\n",
       " 'alon': 'alone',\n",
       " 'testifi': 'testifies',\n",
       " 'behalf': 'behalf',\n",
       " 'enthusiast': 'enthusiastic',\n",
       " 'shot': 'shot',\n",
       " 'dead': 'dead',\n",
       " 'attempt': 'attempted',\n",
       " 'stop': 'stopping',\n",
       " 'counter': 'counter',\n",
       " 'destroy': 'destroy',\n",
       " 'burn': 'burns',\n",
       " 'privat': 'private',\n",
       " 'block': 'block',\n",
       " 'harden': 'hardened',\n",
       " 'give': 'give',\n",
       " 'usual': 'usual',\n",
       " 'daili': 'daily',\n",
       " 'broken': 'broken',\n",
       " 'although': 'Although',\n",
       " 'person': 'personal',\n",
       " 'drove': 'drove',\n",
       " 'away': 'away',\n",
       " 'infidel': 'infidelity',\n",
       " 'freed': 'freed',\n",
       " 'zihuatanejo': 'Zihuatanejo',\n",
       " 'beach': 'beach',\n",
       " 'town': 'town',\n",
       " 'pacif': 'Pacific',\n",
       " 'coast': 'coast',\n",
       " 'mexico': 'Mexico',\n",
       " 'got': 'got',\n",
       " 'engag': 'engaged',\n",
       " 'went': 'went',\n",
       " 'farm': 'farm',\n",
       " 'buxton': 'Buxton',\n",
       " 'larg': 'large',\n",
       " 'oak': 'Oaks',\n",
       " 'tree': 'tree',\n",
       " 'end': 'ends',\n",
       " 'stone': 'Stone',\n",
       " 'love': 'love',\n",
       " 'propos': 'proposal',\n",
       " 'look': 'looks',\n",
       " 'field': 'fields',\n",
       " 'there': 'There',\n",
       " 'black': 'Black',\n",
       " 'volcan': 'volcanic',\n",
       " 'place': 'place',\n",
       " 'buri': 'buried',\n",
       " 'box': 'box',\n",
       " 'refus': 'refuses',\n",
       " 'might': 'might',\n",
       " 'length': 'length',\n",
       " 'rope': 'rope',\n",
       " 'lead': 'lead',\n",
       " 'buddi': 'Buddy',\n",
       " 'suspect': 'suspects',\n",
       " 'at': 'At',\n",
       " 'shine': 'shine',\n",
       " 'shoe': 'shoe',\n",
       " 'suit': 'suit',\n",
       " 'retir': 'retired',\n",
       " 'follow': 'Following',\n",
       " 'morn': 'morning',\n",
       " 'alarm': 'alarm',\n",
       " 'shoebox': 'shoebox',\n",
       " 'instead': 'instead',\n",
       " 'rush': 'rushes',\n",
       " 'explan': 'explanation',\n",
       " 'bring': 'bring',\n",
       " 'insist': 'insisting',\n",
       " 'noth': 'nothing',\n",
       " 'plan': 'plan',\n",
       " 'increas': 'increases',\n",
       " 'hostil': 'hostility',\n",
       " 'paranoid': 'paranoid',\n",
       " 'around': 'around',\n",
       " 'raquel': 'Raquel',\n",
       " 'welch': 'Welch',\n",
       " 'spot': 'spotted',\n",
       " 'previous': 'previously',\n",
       " 'occupi': 'occupy',\n",
       " 'marilyn': 'Marilyn',\n",
       " 'monro': 'Monroe',\n",
       " 'punch': 'punches',\n",
       " 'tear': 'tear',\n",
       " 'tunnel': 'tunnel',\n",
       " 'wide': 'wide',\n",
       " 'crawl': 'crawls',\n",
       " 'thunderstorm': 'thunderstorm',\n",
       " 'wore': 'wore',\n",
       " 'catch': 'catches',\n",
       " 'lucki': 'Lucky',\n",
       " 'notic': 'notices',\n",
       " 'pack': 'packing',\n",
       " 'paper': 'paper',\n",
       " 'cloth': 'clothes',\n",
       " 'plastic': 'plastic',\n",
       " 'bag': 'bag',\n",
       " 'tie': 'tied',\n",
       " 'excav': 'excavation',\n",
       " 'space': 'space',\n",
       " 'found': 'found',\n",
       " 'sewer': 'sewer',\n",
       " 'hit': 'hit',\n",
       " 'lightn': 'lightning',\n",
       " 'strike': 'strike',\n",
       " 'burst': 'burst',\n",
       " 'yard': 'yard',\n",
       " 'pipe': 'pipe',\n",
       " 'raw': 'raw',\n",
       " 'sewag': 'sewage',\n",
       " 'contain': 'containing',\n",
       " 'emerg': 'emerges',\n",
       " 'search': 'search',\n",
       " 'team': 'team',\n",
       " 'uniform': 'uniform',\n",
       " 'worn': 'worn',\n",
       " 'near': 'near',\n",
       " 'walk': 'walking',\n",
       " 'nation': 'nation',\n",
       " 'portland': 'Portland',\n",
       " 'assum': 'assume',\n",
       " 'document': 'document',\n",
       " 'close': 'closing',\n",
       " 'cashier': 'cashier',\n",
       " 'check': 'checks',\n",
       " 'befor': 'Before',\n",
       " 'drop': 'drops',\n",
       " 'packag': 'package',\n",
       " 'mail': 'mail',\n",
       " 'continu': 'continue',\n",
       " 'dozen': 'dozen',\n",
       " 'local': 'local',\n",
       " 'deliv': 'deliver',\n",
       " 'straight': 'straight',\n",
       " 'bugl': 'Bugle',\n",
       " 'polic': 'police',\n",
       " 'storm': 'storm',\n",
       " 'arrest': 'arrested',\n",
       " 'taken': 'taken',\n",
       " 'littl': 'little',\n",
       " 'girl': 'girl',\n",
       " 'final': 'final',\n",
       " 'open': 'opening',\n",
       " 'safe': 'safe',\n",
       " 'touch': 'touched',\n",
       " 'bibl': 'Bible',\n",
       " 'exodus': 'Exodus',\n",
       " 'page': 'pages',\n",
       " 'cut': 'cuts',\n",
       " 'shape': 'shape',\n",
       " 'back': 'back',\n",
       " 'pound': 'pounds',\n",
       " 'door': 'door',\n",
       " 'revolv': 'revolver',\n",
       " 'shoot': 'shoot',\n",
       " 'chin': 'chin',\n",
       " 'wonder': 'wondered',\n",
       " 'right': 'right',\n",
       " 'trigger': 'triggered',\n",
       " 'gotten': 'gotten',\n",
       " 'best': 'best',\n",
       " 'short': 'short',\n",
       " 'postcard': 'postcard',\n",
       " 'fort': 'fort',\n",
       " 'hancock': 'Hancock',\n",
       " 'texa': 'Texas',\n",
       " 'written': 'Written',\n",
       " 'sign': 'sign',\n",
       " 'freedom': 'freedom',\n",
       " 'exploit': 'exploits',\n",
       " 'lot': 'lot',\n",
       " 'embellish': 'embellishments',\n",
       " 'miss': 'missing',\n",
       " 'board': 'board',\n",
       " 'rehabilit': 'rehabilitation',\n",
       " 'word': 'words',\n",
       " 'regret': 'regretted',\n",
       " 'action': 'actions',\n",
       " 'past': 'past',\n",
       " 'ago': 'ago',\n",
       " 'longer': 'longer',\n",
       " 'anyth': 'anything',\n",
       " 'grant': 'granted',\n",
       " 'groceri': 'groceries',\n",
       " 'store': 'store',\n",
       " 'stay': 'stay',\n",
       " 'room': 'room',\n",
       " 'frequent': 'frequented',\n",
       " 'pawn': 'pawn',\n",
       " 'shop': 'shop',\n",
       " 'gun': 'gun',\n",
       " 'compass': 'compassion',\n",
       " 'window': 'windows',\n",
       " 'contempl': 'contemplates',\n",
       " 'tri': 'tries',\n",
       " 'adult': 'adults',\n",
       " 'rememb': 'remember',\n",
       " 'promis': 'promise',\n",
       " 'bought': 'bought',\n",
       " 'instruct': 'instructions',\n",
       " 'hitchhik': 'hitchhike',\n",
       " 'describ': 'describing',\n",
       " 'just': 'Just',\n",
       " 'said': 'said',\n",
       " 'under': 'Under',\n",
       " 'sum': 'sum',\n",
       " 'need': 'needed',\n",
       " 'somebodi': 'somebody',\n",
       " 'thing': 'things',\n",
       " 'violat': 'violation',\n",
       " 'unconcern': 'unconcerned',\n",
       " 'extens': 'extensive',\n",
       " 'manhunt': 'manhunt',\n",
       " 'crook': 'crook',\n",
       " 'bus': 'bus',\n",
       " 'cross': 'crosses',\n",
       " 'reunit': 'reunited',\n",
       " 'late': 'late',\n",
       " 'summer': 'summer',\n",
       " 'guest': 'guests',\n",
       " 'gather': 'gathers',\n",
       " 'wed': 'wedding',\n",
       " 'recept': 'reception',\n",
       " 'don': 'dons',\n",
       " 'vito': 'Vito',\n",
       " 'corleon': 'Corleone',\n",
       " 'daughter': 'daughter',\n",
       " 'conni': 'Connie',\n",
       " 'talia': 'Talia',\n",
       " 'shire': 'Shire',\n",
       " 'carlo': 'Carlo',\n",
       " 'rizzi': 'Rizzi',\n",
       " 'gianni': 'Gianni',\n",
       " 'russo': 'Russo',\n",
       " 'marlon': 'Marlon',\n",
       " 'brando': 'Brando',\n",
       " 'head': 'head',\n",
       " 'mafia': 'mafia',\n",
       " 'famili': 'family',\n",
       " 'associ': 'associate',\n",
       " 'godfath': 'Godfather',\n",
       " 'tom': 'Tom',\n",
       " 'hagen': 'Hagen',\n",
       " 'robert': 'Robert',\n",
       " 'duval': 'Duval',\n",
       " 'lawyer': 'lawyer',\n",
       " 'request': 'requests',\n",
       " 'accord': 'accordingly',\n",
       " 'italian': 'Italian',\n",
       " 'tradit': 'traditional',\n",
       " 'sicilian': 'Sicilian',\n",
       " 'amerigo': 'Amerigo',\n",
       " 'bonasera': 'Bonasera',\n",
       " 'success': 'successfully',\n",
       " 'mortician': 'mortician',\n",
       " 'acquaint': 'acquaintance',\n",
       " 'whose': 'whose',\n",
       " 'advanc': 'advance',\n",
       " 'minim': 'minimal',\n",
       " 'punish': 'punish',\n",
       " 'presid': 'presidents',\n",
       " 'judg': 'judge',\n",
       " 'disappoint': 'disappointed',\n",
       " 'contact': 'contact',\n",
       " 'due': 'due',\n",
       " 'nefari': 'nefarious',\n",
       " 'busi': 'business',\n",
       " 'deal': 'deal',\n",
       " 'godmoth': 'godmother',\n",
       " 'shame': 'shame',\n",
       " 'relationship': 'relationship',\n",
       " 'extract': 'extract',\n",
       " 'loyalti': 'loyalty',\n",
       " 'undertak': 'undertakers',\n",
       " 'respons': 'responsible',\n",
       " 'manner': 'manner',\n",
       " 'youngest': 'youngest',\n",
       " 'son': 'son',\n",
       " 'michael': 'Michael',\n",
       " 'al': 'Al',\n",
       " 'pacino': 'Pacino',\n",
       " 'decor': 'decorated',\n",
       " 'us': 'us',\n",
       " 'marin': 'Marine',\n",
       " 'hero': 'heroes',\n",
       " 'war': 'War',\n",
       " 'ii': 'II',\n",
       " 'girlfriend': 'girlfriend',\n",
       " 'kay': 'Kay',\n",
       " 'adam': 'Adams',\n",
       " 'dian': 'Diane',\n",
       " 'keaton': 'Keaton',\n",
       " 'anecdot': 'anecdotes',\n",
       " 'father': 'father',\n",
       " 'reassur': 'reassure',\n",
       " 'join': 'join',\n",
       " 'scene': 'scene',\n",
       " 'critic': 'criticism',\n",
       " 'exposit': 'exposition',\n",
       " 'remaind': 'remainder',\n",
       " 'film': 'film',\n",
       " 'introduc': 'introduces',\n",
       " 'charact': 'characters',\n",
       " 'fredo': 'Fredo',\n",
       " 'john': 'John',\n",
       " 'cazal': 'Cazale',\n",
       " 'older': 'older',\n",
       " 'brother': 'brother',\n",
       " 'bit': 'bit',\n",
       " 'quit': 'quit',\n",
       " 'drunk': 'drunk',\n",
       " 'parti': 'party',\n",
       " 'santino': 'Santino',\n",
       " 'nicknam': 'nickname',\n",
       " 'sonni': 'Sonny',\n",
       " 'caan': 'Caan',\n",
       " 'eldest': 'eldest',\n",
       " 'child': 'child',\n",
       " 'upon': 'upon',\n",
       " 'marri': 'marry',\n",
       " 'philander': 'philanderer',\n",
       " 'sneak': 'sneak',\n",
       " 'bedroom': 'bedroom',\n",
       " 'sex': 'sex',\n",
       " 'bridesmaid': 'bridesmaid',\n",
       " 'luci': 'Lucy',\n",
       " 'mancini': 'Mancini',\n",
       " 'jeanni': 'Jeannie',\n",
       " 'linero': 'Linero',\n",
       " 'relat': 'relative',\n",
       " 'blood': 'blood',\n",
       " 'homeless': 'homeless',\n",
       " 'befriend': 'befriend',\n",
       " 'itali': 'Italy',\n",
       " 'neighborhood': 'neighborhood',\n",
       " 'manhattan': 'Manhattan',\n",
       " 'took': 'took',\n",
       " 'saw': 'saw',\n",
       " 'upbring': 'upbringing',\n",
       " 'educ': 'educating',\n",
       " 'now': 'Now',\n",
       " 'talent': 'talent',\n",
       " 'attorney': 'attorney',\n",
       " 'groom': 'groom',\n",
       " 'import': 'important',\n",
       " 'posit': 'position',\n",
       " 'consiglier': 'consigliere',\n",
       " 'counselor': 'counselor',\n",
       " 'despit': 'despite',\n",
       " 'celebr': 'celebrate',\n",
       " 'famous': 'famous',\n",
       " 'singer': 'Singer',\n",
       " 'johnni': 'Johnny',\n",
       " 'fontan': 'Fontane',\n",
       " 'martino': 'Martino',\n",
       " 'godson': 'godson',\n",
       " 'hollywood': 'Hollywood',\n",
       " 'petit': 'petition',\n",
       " 'land': 'landed',\n",
       " 'role': 'role',\n",
       " 'revit': 'revitalize',\n",
       " 'flag': 'flag',\n",
       " 'career': 'career',\n",
       " 'jack': 'Jack',\n",
       " 'woltz': 'Woltz',\n",
       " 'marley': 'Marley',\n",
       " 'studio': 'studio',\n",
       " 'deni': 'denies',\n",
       " 'part': 'part',\n",
       " 'make': 'make',\n",
       " 'bigger': 'bigger',\n",
       " 'star': 'star',\n",
       " 'explain': 'explains',\n",
       " 'gon': 'gon',\n",
       " 'na': 'na',\n",
       " 'offer': 'offer',\n",
       " 'ca': 'ca',\n",
       " 'congratulatori': 'congratulatory',\n",
       " 'salut': 'salute',\n",
       " 'luca': 'Lucas',\n",
       " 'brasi': 'Brasi',\n",
       " 'terrifi': 'terrifying',\n",
       " 'enforc': 'enforcer',\n",
       " 'underworld': 'underworld',\n",
       " 'fill': 'filled',\n",
       " 'baker': 'baker',\n",
       " 'cake': 'cake',\n",
       " 'wish': 'wishing',\n",
       " 'nephew': 'nephew',\n",
       " 'enzo': 'Enzo',\n",
       " 'american': 'American',\n",
       " 'dispatch': 'dispatches',\n",
       " 'los': 'Los',\n",
       " 'angel': 'Angeles',\n",
       " 'angrili': 'angrily',\n",
       " 'cast': 'cast',\n",
       " 'hold': 'holding',\n",
       " 'grudg': 'grudgingly',\n",
       " 'seduc': 'seduce',\n",
       " 'ruin': 'ruins',\n",
       " 'starlet': 'starlets',\n",
       " 'stardom': 'stardom',\n",
       " 'persuad': 'persuade',\n",
       " 'howev': 'however',\n",
       " 'wake': 'wakes',\n",
       " 'earli': 'early',\n",
       " 'wet': 'wet',\n",
       " 'bed': 'bed',\n",
       " 'sheet': 'sheets',\n",
       " 'pool': 'pool',\n",
       " 'scream': 'screams',\n",
       " 'horror': 'horror',\n",
       " 'discov': 'discovers',\n",
       " 'prize': 'prize',\n",
       " 'stud': 'stud',\n",
       " 'hors': 'horse',\n",
       " 'khartoum': 'Khartoum',\n",
       " 'delet': 'delete',\n",
       " 'impli': 'implied',\n",
       " 'lenni': 'Lennie',\n",
       " 'montana': 'Montana',\n",
       " 'top': 'top',\n",
       " 'button': 'button',\n",
       " 'hitman': 'hitman',\n",
       " 'virgil': 'Virgil',\n",
       " 'turk': 'Turks',\n",
       " 'sollozzo': 'Sollozzo',\n",
       " 'lettieri': 'Lettieri',\n",
       " 'rival': 'rival',\n",
       " 'tattaglia': 'Tattaglia',\n",
       " 'financ': 'finances',\n",
       " 'well': 'well',\n",
       " 'polit': 'politely',\n",
       " 'legal': 'legal',\n",
       " 'protect': 'protective',\n",
       " 'distribut': 'distributed',\n",
       " 'heroin': 'heroine',\n",
       " 'huge': 'huge',\n",
       " 'influenc': 'influence',\n",
       " 'jeopard': 'jeopardize',\n",
       " 'move': 'move',\n",
       " 'narcot': 'Narcotics',\n",
       " 'trade': 'trades',\n",
       " 'politician': 'politicians',\n",
       " 'alli': 'allies',\n",
       " 'cours': 'course',\n",
       " 'decad': 'decades',\n",
       " 'renounc': 'renounce',\n",
       " 'friendship': 'friendship',\n",
       " 'enter': 'enters',\n",
       " 'drug': 'drug',\n",
       " 'earlier': 'earlier',\n",
       " 'urg': 'urges',\n",
       " 'rank': 'rank',\n",
       " 'question': 'questions',\n",
       " 'assur': 'assures',\n",
       " 'guarante': 'guarantees',\n",
       " 'angri': 'angry',\n",
       " 'dissens': 'dissension',\n",
       " 'member': 'members',\n",
       " 'presenc': 'presence',\n",
       " 'silenc': 'silence',\n",
       " 'singl': 'single',\n",
       " 'rebuk': 'rebukes',\n",
       " 'infiltr': 'infiltrates',\n",
       " 'organ': 'organized',\n",
       " 'report': 'reporters',\n",
       " 'bent': 'bent',\n",
       " 'allow': 'allows',\n",
       " 'bruno': 'Bruno',\n",
       " 'light': 'lights',\n",
       " 'cigarett': 'cigarettes',\n",
       " 'stab': 'stabs',\n",
       " 'hand': 'hand',\n",
       " 'subsequ': 'subsequently',\n",
       " 'garrot': 'garrote',\n",
       " 'assassin': 'assassin',\n",
       " 'whether': 'Whether',\n",
       " 'surviv': 'survived',\n",
       " 'drive': 'drive',\n",
       " 'duti': 'duty',\n",
       " 'pauli': 'Paulie',\n",
       " 'gatto': 'Gatto',\n",
       " 'bodyguard': 'bodyguard',\n",
       " 'call': 'calls',\n",
       " 'sick': 'sick',\n",
       " 'prove': 'proves',\n",
       " 'ineffectu': 'ineffectual',\n",
       " 'fumbl': 'fumbles',\n",
       " 'absenc': 'absence',\n",
       " 'clemenza': 'Clemenza',\n",
       " 'richard': 'Richard',\n",
       " 'castellano': 'Castellano',\n",
       " 'abduct': 'abducted',\n",
       " 'releas': 'releases',\n",
       " 'accept': 'accepting',\n",
       " 'issu': 'issues',\n",
       " 'ultimatum': 'ultimatum',\n",
       " 'face': 'faces',\n",
       " 'lengthi': 'lengthy',\n",
       " 'bloodi': 'bloodied',\n",
       " 'cost': 'cost',\n",
       " 'side': 'side',\n",
       " 'gang': 'gangs',\n",
       " 'messag': 'message',\n",
       " 'form': 'form',\n",
       " 'fresh': 'fresh',\n",
       " 'wrap': 'wrappings',\n",
       " 'vest': 'vest',\n",
       " 'sleep': 'sleep',\n",
       " 'hitmen': 'hitmen',\n",
       " 'rocco': 'Rocco',\n",
       " 'lampon': 'Lampone',\n",
       " 'mattress': 'mattress',\n",
       " 'apart': 'apartment',\n",
       " 'oper': 'operation',\n",
       " 'event': 'events',\n",
       " 'crime': 'crime',\n",
       " 'on': 'On',\n",
       " 'car': 'car',\n",
       " 'remot': 'remote',\n",
       " 'area': 'area',\n",
       " 'urin': 'urine',\n",
       " 'civilian': 'civilian',\n",
       " 'involv': 'involved',\n",
       " 'mob': 'mob',\n",
       " 'shock': 'shock',\n",
       " 'nurs': 'nursing',\n",
       " 'interf': 'interfering',\n",
       " 'polici': 'policy',\n",
       " 'told': 'told',\n",
       " 'minut': 'minutes',\n",
       " 'mike': 'Mike',\n",
       " 'realiz': 'realizing',\n",
       " 'entranc': 'entrance',\n",
       " 'enlist': 'enlist',\n",
       " 'gabriel': 'Gabriele',\n",
       " 'torrei': 'Torrei',\n",
       " 'respect': 'respective',\n",
       " 'togeth': 'together',\n",
       " 'bluff': 'bluff',\n",
       " 'corrupt': 'corrupt',\n",
       " 'captain': 'Captain',\n",
       " 'mccluskey': 'McCluskey',\n",
       " 'sterl': 'Sterling',\n",
       " 'hayden': 'Hayden',\n",
       " 'vicious': 'vicious',\n",
       " 'cheek': 'cheeks',\n",
       " 'jaw': 'jaws',\n",
       " 'insinu': 'insinuating',\n",
       " 'paid': 'paid',\n",
       " ...}"
      ]
     },
     "execution_count": 22,
     "metadata": {},
     "output_type": "execute_result"
    }
   ],
   "source": [
    "# Inspect\n",
    "stemmed_unstemmed_dict"
   ]
  },
  {
   "cell_type": "markdown",
   "metadata": {},
   "source": [
    "## Step 3: TF-IDF (Term Frequency - Inverse Document Frequency)"
   ]
  },
  {
   "cell_type": "markdown",
   "metadata": {},
   "source": [
    "**What is TF-IDF?**   \n",
    "\n",
    "It's a weight, a statistical measure used to evaluate how important a word is to a document in a collection or corpus.    \n",
    "The importance increases proportionally to the number of times a word appears in the document but is offset by the frequency of the word in the corpus.    "
   ]
  },
  {
   "cell_type": "markdown",
   "metadata": {},
   "source": [
    "<li> TF: Term Frequency, which measures how frequently a term occurs in a document.   \n",
    "Since every document is different in length, it is possible that a term would appear much more times in long documents than shorter ones.    \n",
    "Thus, the term frequency is often divided by the document length (aka. the total number of terms in the document) as a way of normalization: \n",
    "\n",
    "TF(t) = (Number of times term t appears in a document) / (Total number of terms in the document)."
   ]
  },
  {
   "cell_type": "markdown",
   "metadata": {},
   "source": [
    "<li> IDF: Inverse Document Frequency, which measures how important a term is.    \n",
    "While computing TF, all terms are considered equally important. However it is known that certain terms, such as \"is\", \"of\", and \"that\", may appear a lot of times but have little importance. Thus we need to weigh down the frequent terms while scale up the rare ones, by computing the following: \n",
    "\n",
    "IDF(t) = log_e(Total number of documents / Number of documents with term t in it)."
   ]
  },
  {
   "cell_type": "markdown",
   "metadata": {},
   "source": [
    "<li> Then we do this TF(t)  * IDF(t)"
   ]
  },
  {
   "cell_type": "markdown",
   "metadata": {},
   "source": [
    "Example:\n",
    "\n",
    "1. A document containing **100 words** wherein the word **cat** appears **3 times**.  \n",
    "    The term frequency (i.e., tf) for cat is then (3 / 100) = **0.03**\n",
    "3. Assume we have **10 million documents** and the word cat appears in **1000** of these.   \n",
    "   The inverse document frequency (i.e., idf) is calculated as log(10,000,000 / 1,000) = **4** \n",
    "5. The Tf-idf weight is the product of these quantities:   0.03 * 4 = 0.12"
   ]
  },
  {
   "cell_type": "markdown",
   "metadata": {},
   "source": [
    "**How do we make use of TF-IDF?**   \n",
    "<li> To run KMeans, we need to fit a matrix to the KMeans model.   \n",
    "<li> Numbers in this matrix should be the tf-idf weight for each word.   \n",
    "<li> sklearn.feature_extraction.text.TfidfVectorizer will provide us that matrix through these following steps.   "
   ]
  },
  {
   "cell_type": "markdown",
   "metadata": {},
   "source": [
    "**Parameters for the model**\n",
    "<li> max_df: maximum frequency within the plots a given word can have to be used in the tfi-idf matrix.  \n",
    "If the word is in greater than 80% of the plots it probably cares little meanining (in the context of movie plots)\n",
    "<li> min_df: the word must be in at least 20% of the plots.   \n",
    "If a lower min_df is allowed, clustering results will be based on names--for example \"Michael\" or \"Tom\" are names found in several of the movies and the plots use these names frequently, but these names carry no real meaning.\n",
    "<li> ngram_range: we only run analysis on unigram\n",
    "<li> tokenizer: we use our own function 'tokenize_and_stem' to process words"
   ]
  },
  {
   "cell_type": "code",
   "execution_count": 23,
   "metadata": {
    "collapsed": false
   },
   "outputs": [],
   "source": [
    "from sklearn.feature_extraction.text import TfidfVectorizer\n",
    "\n",
    "# Build the model and set parameters\n",
    "tfidfModel = TfidfVectorizer(max_df=0.8, max_features=200000,\n",
    "                                 min_df=0.2, stop_words='english',\n",
    "                                 use_idf=True, tokenizer=tokenize_and_stem, ngram_range=(1,1))"
   ]
  },
  {
   "cell_type": "code",
   "execution_count": 24,
   "metadata": {
    "collapsed": true
   },
   "outputs": [],
   "source": [
    "# Fit the movie plots to model\n",
    "# It will learn words and idf from input and return a document-term matrix.\n",
    "tfidfMatrix = tfidfModel.fit_transform(df2.MoviePlot) "
   ]
  },
  {
   "cell_type": "code",
   "execution_count": 25,
   "metadata": {
    "collapsed": false
   },
   "outputs": [
    {
     "data": {
      "text/plain": [
       "(238, 510)"
      ]
     },
     "execution_count": 25,
     "metadata": {},
     "output_type": "execute_result"
    }
   ],
   "source": [
    "# This matrix has 238 movies(Docs) and 510 words(terms)\n",
    "tfidfMatrix.shape"
   ]
  },
  {
   "cell_type": "code",
   "execution_count": 26,
   "metadata": {
    "collapsed": false
   },
   "outputs": [
    {
     "data": {
      "text/plain": [
       "array([[ 0.        ,  0.03947226,  0.        , ...,  0.07729889,\n",
       "         0.        ,  0.01729865],\n",
       "       [ 0.        ,  0.        ,  0.0401982 , ...,  0.07075319,\n",
       "         0.        ,  0.06333516],\n",
       "       [ 0.        ,  0.        ,  0.02478961, ...,  0.05235887,\n",
       "         0.        ,  0.03905781],\n",
       "       ..., \n",
       "       [ 0.        ,  0.        ,  0.        , ...,  0.        ,\n",
       "         0.        ,  0.18352899],\n",
       "       [ 0.05951702,  0.04837972,  0.05382762, ...,  0.11369093,\n",
       "         0.        ,  0.04240464],\n",
       "       [ 0.        ,  0.        ,  0.        , ...,  0.        ,\n",
       "         0.        ,  0.        ]])"
      ]
     },
     "execution_count": 26,
     "metadata": {},
     "output_type": "execute_result"
    }
   ],
   "source": [
    "tfidfMatrix.toarray()"
   ]
  },
  {
   "cell_type": "markdown",
   "metadata": {},
   "source": [
    "Save the words/terms/features identified by TF-IDF."
   ]
  },
  {
   "cell_type": "code",
   "execution_count": 27,
   "metadata": {
    "collapsed": true
   },
   "outputs": [],
   "source": [
    "all_words_from_tfidf = tfidfModel.get_feature_names()"
   ]
  },
  {
   "cell_type": "code",
   "execution_count": 28,
   "metadata": {
    "collapsed": false
   },
   "outputs": [
    {
     "data": {
      "text/plain": [
       "['abandon', 'abl', 'accept', 'accompani', 'act']"
      ]
     },
     "execution_count": 28,
     "metadata": {},
     "output_type": "execute_result"
    }
   ],
   "source": [
    "# Inspect\n",
    "all_words_from_tfidf[:5]"
   ]
  },
  {
   "cell_type": "markdown",
   "metadata": {},
   "source": [
    "## Step 4: KMeans clustering"
   ]
  },
  {
   "cell_type": "code",
   "execution_count": 29,
   "metadata": {
    "collapsed": true
   },
   "outputs": [],
   "source": [
    "from sklearn.cluster import KMeans\n",
    "\n",
    "# Set how many clusters we want\n",
    "num_of_clusters = 3\n",
    "\n",
    "# Build the model\n",
    "clusters = KMeans(n_clusters=num_of_clusters,random_state=0)\n",
    "\n",
    "# Fit the model with tfidfMatrix\n",
    "clusters.fit(tfidfMatrix)\n",
    "\n",
    "# Get movie clusters\n",
    "cluster_IDs = clusters.labels_.tolist()"
   ]
  },
  {
   "cell_type": "markdown",
   "metadata": {},
   "source": [
    "### 4.1. Analyze KMeans Result"
   ]
  },
  {
   "cell_type": "code",
   "execution_count": 30,
   "metadata": {
    "collapsed": false
   },
   "outputs": [],
   "source": [
    "# Add cluster info to the original dataframe\n",
    "df2['cluster'] = cluster_IDs"
   ]
  },
  {
   "cell_type": "code",
   "execution_count": 31,
   "metadata": {
    "collapsed": false
   },
   "outputs": [],
   "source": [
    "df2.index = df2.cluster"
   ]
  },
  {
   "cell_type": "code",
   "execution_count": 32,
   "metadata": {
    "collapsed": false
   },
   "outputs": [
    {
     "data": {
      "text/html": [
       "<div>\n",
       "<style>\n",
       "    .dataframe thead tr:only-child th {\n",
       "        text-align: right;\n",
       "    }\n",
       "\n",
       "    .dataframe thead th {\n",
       "        text-align: left;\n",
       "    }\n",
       "\n",
       "    .dataframe tbody tr th {\n",
       "        vertical-align: top;\n",
       "    }\n",
       "</style>\n",
       "<table border=\"1\" class=\"dataframe\">\n",
       "  <thead>\n",
       "    <tr style=\"text-align: right;\">\n",
       "      <th></th>\n",
       "      <th>MovieId</th>\n",
       "      <th>Ranking</th>\n",
       "      <th>MovieName</th>\n",
       "      <th>MoviePlot</th>\n",
       "      <th>cluster</th>\n",
       "    </tr>\n",
       "    <tr>\n",
       "      <th>cluster</th>\n",
       "      <th></th>\n",
       "      <th></th>\n",
       "      <th></th>\n",
       "      <th></th>\n",
       "      <th></th>\n",
       "    </tr>\n",
       "  </thead>\n",
       "  <tbody>\n",
       "    <tr>\n",
       "      <th>1</th>\n",
       "      <td>tt0111161</td>\n",
       "      <td>1</td>\n",
       "      <td>The Shawshank Redemption(1994)</td>\n",
       "      <td>In 1947, Andy Dufresne (Tim Robbins), a banker...</td>\n",
       "      <td>1</td>\n",
       "    </tr>\n",
       "    <tr>\n",
       "      <th>1</th>\n",
       "      <td>tt0068646</td>\n",
       "      <td>2</td>\n",
       "      <td>The Godfather(1972)</td>\n",
       "      <td>In late summer 1945, guests are gathered for t...</td>\n",
       "      <td>1</td>\n",
       "    </tr>\n",
       "    <tr>\n",
       "      <th>1</th>\n",
       "      <td>tt0071562</td>\n",
       "      <td>3</td>\n",
       "      <td>The Godfather: Part II(1974)</td>\n",
       "      <td>The Godfather Part II presents two parallel st...</td>\n",
       "      <td>1</td>\n",
       "    </tr>\n",
       "    <tr>\n",
       "      <th>2</th>\n",
       "      <td>tt0468569</td>\n",
       "      <td>4</td>\n",
       "      <td>The Dark Knight(2008)</td>\n",
       "      <td>The movie begins with a gang of men with clown...</td>\n",
       "      <td>2</td>\n",
       "    </tr>\n",
       "    <tr>\n",
       "      <th>1</th>\n",
       "      <td>tt0050083</td>\n",
       "      <td>5</td>\n",
       "      <td>12 Angry Men(1957)</td>\n",
       "      <td>In a New York City courthouse, an eighteen-yea...</td>\n",
       "      <td>1</td>\n",
       "    </tr>\n",
       "  </tbody>\n",
       "</table>\n",
       "</div>"
      ],
      "text/plain": [
       "           MovieId  Ranking                       MovieName  \\\n",
       "cluster                                                       \n",
       "1        tt0111161        1  The Shawshank Redemption(1994)   \n",
       "1        tt0068646        2             The Godfather(1972)   \n",
       "1        tt0071562        3    The Godfather: Part II(1974)   \n",
       "2        tt0468569        4           The Dark Knight(2008)   \n",
       "1        tt0050083        5              12 Angry Men(1957)   \n",
       "\n",
       "                                                 MoviePlot  cluster  \n",
       "cluster                                                              \n",
       "1        In 1947, Andy Dufresne (Tim Robbins), a banker...        1  \n",
       "1        In late summer 1945, guests are gathered for t...        1  \n",
       "1        The Godfather Part II presents two parallel st...        1  \n",
       "2        The movie begins with a gang of men with clown...        2  \n",
       "1        In a New York City courthouse, an eighteen-yea...        1  "
      ]
     },
     "execution_count": 32,
     "metadata": {},
     "output_type": "execute_result"
    }
   ],
   "source": [
    "df2[:5]"
   ]
  },
  {
   "cell_type": "markdown",
   "metadata": {},
   "source": [
    "Number of movies included in each cluster:"
   ]
  },
  {
   "cell_type": "code",
   "execution_count": 33,
   "metadata": {
    "collapsed": false
   },
   "outputs": [
    {
     "data": {
      "text/html": [
       "<div>\n",
       "<style>\n",
       "    .dataframe thead tr:only-child th {\n",
       "        text-align: right;\n",
       "    }\n",
       "\n",
       "    .dataframe thead th {\n",
       "        text-align: left;\n",
       "    }\n",
       "\n",
       "    .dataframe tbody tr th {\n",
       "        vertical-align: top;\n",
       "    }\n",
       "</style>\n",
       "<table border=\"1\" class=\"dataframe\">\n",
       "  <thead>\n",
       "    <tr style=\"text-align: right;\">\n",
       "      <th></th>\n",
       "      <th>cluster</th>\n",
       "    </tr>\n",
       "  </thead>\n",
       "  <tbody>\n",
       "    <tr>\n",
       "      <th>1</th>\n",
       "      <td>95</td>\n",
       "    </tr>\n",
       "    <tr>\n",
       "      <th>2</th>\n",
       "      <td>81</td>\n",
       "    </tr>\n",
       "    <tr>\n",
       "      <th>0</th>\n",
       "      <td>62</td>\n",
       "    </tr>\n",
       "  </tbody>\n",
       "</table>\n",
       "</div>"
      ],
      "text/plain": [
       "   cluster\n",
       "1       95\n",
       "2       81\n",
       "0       62"
      ]
     },
     "execution_count": 33,
     "metadata": {},
     "output_type": "execute_result"
    }
   ],
   "source": [
    "df2['cluster'].value_counts().to_frame()"
   ]
  },
  {
   "cell_type": "markdown",
   "metadata": {},
   "source": [
    "<li> clusters.cluster_centers returns a 10 * 510 2d array  \n",
    "<li> 10 means 10 clusters and 510 means 510 terms/words/features"
   ]
  },
  {
   "cell_type": "code",
   "execution_count": 34,
   "metadata": {
    "collapsed": false
   },
   "outputs": [
    {
     "data": {
      "text/plain": [
       "(3, 510)"
      ]
     },
     "execution_count": 34,
     "metadata": {},
     "output_type": "execute_result"
    }
   ],
   "source": [
    "clusters.cluster_centers_.shape"
   ]
  },
  {
   "cell_type": "markdown",
   "metadata": {},
   "source": [
    "<li> Every number in this 2d array denotes the importance of each word/term in that cluster  \n",
    "<li> Higher number means more important and closer to the centroid"
   ]
  },
  {
   "cell_type": "code",
   "execution_count": 35,
   "metadata": {
    "collapsed": false
   },
   "outputs": [
    {
     "data": {
      "text/plain": [
       "array([[ 0.01676157,  0.02520873,  0.01158583, ...,  0.02116565,\n",
       "         0.00757549,  0.02165491],\n",
       "       [ 0.01377229,  0.01529343,  0.01714999, ...,  0.04687114,\n",
       "         0.00680806,  0.03418755],\n",
       "       [ 0.01054626,  0.01622341,  0.01511123, ...,  0.02772457,\n",
       "         0.01493418,  0.03231202]])"
      ]
     },
     "execution_count": 35,
     "metadata": {},
     "output_type": "execute_result"
    }
   ],
   "source": [
    "clusters.cluster_centers_"
   ]
  },
  {
   "cell_type": "markdown",
   "metadata": {},
   "source": [
    "How would we interprete this 2d array and help us understand the clustering result?"
   ]
  },
  {
   "cell_type": "markdown",
   "metadata": {},
   "source": [
    " Take cluster 0 as example, the most important word will be the one has this value"
   ]
  },
  {
   "cell_type": "code",
   "execution_count": 36,
   "metadata": {
    "collapsed": false
   },
   "outputs": [
    {
     "data": {
      "text/plain": [
       "0.095325432619277214"
      ]
     },
     "execution_count": 36,
     "metadata": {},
     "output_type": "execute_result"
    }
   ],
   "source": [
    "clusters.cluster_centers_[0].max()"
   ]
  },
  {
   "cell_type": "markdown",
   "metadata": {},
   "source": [
    "But to get the actual word, we need to know the index of the word"
   ]
  },
  {
   "cell_type": "code",
   "execution_count": 37,
   "metadata": {
    "collapsed": false
   },
   "outputs": [
    {
     "data": {
      "text/plain": [
       "417"
      ]
     },
     "execution_count": 37,
     "metadata": {},
     "output_type": "execute_result"
    }
   ],
   "source": [
    "clusters.cluster_centers_[0].argmax()"
   ]
  },
  {
   "cell_type": "markdown",
   "metadata": {},
   "source": [
    "Use this index to get the acutal word"
   ]
  },
  {
   "cell_type": "code",
   "execution_count": 38,
   "metadata": {
    "collapsed": false
   },
   "outputs": [
    {
     "data": {
      "text/plain": [
       "'far'"
      ]
     },
     "execution_count": 38,
     "metadata": {},
     "output_type": "execute_result"
    }
   ],
   "source": [
    "all_words_from_tfidf[165]"
   ]
  },
  {
   "cell_type": "markdown",
   "metadata": {},
   "source": [
    "Use stemmed_unstemmed_dict to get the unstemmed version of the word"
   ]
  },
  {
   "cell_type": "code",
   "execution_count": 39,
   "metadata": {
    "collapsed": false
   },
   "outputs": [
    {
     "data": {
      "text/plain": [
       "'father'"
      ]
     },
     "execution_count": 39,
     "metadata": {},
     "output_type": "execute_result"
    }
   ],
   "source": [
    "stemmed_unstemmed_dict['father']"
   ]
  },
  {
   "cell_type": "markdown",
   "metadata": {},
   "source": [
    "<li> So if we want to extract the 5 most important words/terms/features from each cluster  \n",
    "<li> We retrieve the indices of these words\n",
    "<li> Instead of argmax, we use argsort to get the indices that would sort the array  \n",
    "<li> However, argsort is sorted in an ascedning order  \n",
    "<li> So indices of the 5 most important words(which have higher number) are located in the last 5 places of the array"
   ]
  },
  {
   "cell_type": "markdown",
   "metadata": {},
   "source": [
    "Again, take cluster 0 as an example"
   ]
  },
  {
   "cell_type": "code",
   "execution_count": 40,
   "metadata": {
    "collapsed": true
   },
   "outputs": [],
   "source": [
    "orderedCentroids = clusters.cluster_centers_.argsort() "
   ]
  },
  {
   "cell_type": "code",
   "execution_count": 41,
   "metadata": {
    "collapsed": false
   },
   "outputs": [
    {
     "data": {
      "text/plain": [
       "array([417, 240, 152, 483, 402])"
      ]
     },
     "execution_count": 41,
     "metadata": {},
     "output_type": "execute_result"
    }
   ],
   "source": [
    "# Step 1 \n",
    "# [0,:-6:-1] extract the max 5 values' indices of cluster 0\n",
    "orderedCentroids[0,:-6:-1]"
   ]
  },
  {
   "cell_type": "code",
   "execution_count": 42,
   "metadata": {
    "collapsed": false
   },
   "outputs": [
    {
     "data": {
      "text/plain": [
       "'far'"
      ]
     },
     "execution_count": 42,
     "metadata": {},
     "output_type": "execute_result"
    }
   ],
   "source": [
    "# Step 2\n",
    "# Use all_words_from_tfidf to get the actual words  \n",
    "# This word is stemmed\n",
    "all_words_from_tfidf[165]"
   ]
  },
  {
   "cell_type": "code",
   "execution_count": 43,
   "metadata": {
    "collapsed": false
   },
   "outputs": [
    {
     "data": {
      "text/plain": [
       "'father'"
      ]
     },
     "execution_count": 43,
     "metadata": {},
     "output_type": "execute_result"
    }
   ],
   "source": [
    "# Step 3\n",
    "# Use stemmed_unstemmed_dict to get the unstemmed version of the word\n",
    "stemmed_unstemmed_dict['father']"
   ]
  },
  {
   "cell_type": "code",
   "execution_count": 44,
   "metadata": {
    "collapsed": true
   },
   "outputs": [],
   "source": [
    "# Base on above three steps, we define this function to extract keywords\n",
    "def print_cluster_keywords(cluster_ID):   \n",
    "    print (\"Cluster \" + str(cluster_ID)  + \" top 5 keywords: \" , end=\"\")   \n",
    "    \n",
    "    cluster_keywords_dict[cluster_ID] = []\n",
    "    top5_keywords_index = orderedCentroids[cluster_ID, :-6:-1] # step 1\n",
    "    for index in top5_keywords_index:     \n",
    "        stemmed_word = all_words_from_tfidf[index] # step 2\n",
    "        unstemmed_word = stemmed_unstemmed_dict[stemmed_word] # step 3\n",
    "        cluster_keywords_dict[cluster_ID].append(unstemmed_word)\n",
    "    print (\", \".join(cluster_keywords_dict[cluster_ID]))   "
   ]
  },
  {
   "cell_type": "code",
   "execution_count": 45,
   "metadata": {
    "collapsed": true
   },
   "outputs": [],
   "source": [
    "# Retrieve movies names by cluster Id\n",
    "def print_cluster_movies(cluster_ID):\n",
    "    moives_in_cluster = df2.loc[cluster_ID]['MovieName'].values.tolist()\n",
    "    print (\"Cluster \" + str(cluster_ID) + \" has \" + str(len(moives_in_cluster)) + \" movies: \") \n",
    "    print (\", \".join(moives_in_cluster))\n",
    "    print ()"
   ]
  },
  {
   "cell_type": "markdown",
   "metadata": {},
   "source": [
    "**Print out cluster info**"
   ]
  },
  {
   "cell_type": "code",
   "execution_count": 46,
   "metadata": {
    "collapsed": false,
    "scrolled": false
   },
   "outputs": [
    {
     "name": "stdout",
     "output_type": "stream",
     "text": [
      "<Movie Plots Clustering Result by KMeans>\n",
      "Cluster 0 top 5 keywords: soldiers, kill, escaped, War, ship\n",
      "Cluster 0 has 62 movies: \n",
      "Schindler's List(1993), The Lord of the Rings: The Return of the King(2003), The Good, the Bad and the Ugly(1966), The Lord of the Rings: The Fellowship of the Ring(2001), Star Wars: Episode V - The Empire Strikes Back(1980), The Lord of the Rings: The Two Towers(2002), One Flew Over the Cuckoo's Nest(1975), Seven Samurai(1954), Star Wars: Episode IV - A New Hope(1977), The Silence of the Lambs(1991), Saving Private Ryan(1998), The Green Mile(1999), Casablanca(1942), Raiders of the Lost Ark(1981), Terminator 2(1991), Apocalypse Now(1979), Alien(1979), The Great Dictator(1940), Dr. Strangelove or: How I Learned to Stop Worrying and Love the Bomb(1964), Paths of Glory(1957), WALL·E(2008), Blade Runner 2049(2017), Aliens(1986), Das Boot(1981), Star Wars: Episode VI - Return of the Jedi(1983), Lawrence of Arabia(1962), Full Metal Jacket(1987), Inglourious Basterds(2009), Monty Python and the Holy Grail(1975), Metropolis(1927), Dunkirk(2017), Indiana Jones and the Last Crusade(1989), Up(2009), Downfall(2004), Die Hard(1988), The Great Escape(1963), Chinatown(1974), Judgment at Nuremberg(1961), Inside Out(2015), The Bridge on the River Kwai(1957), The General(1926), The Deer Hunter(1978), The Thing(1982), Finding Nemo(2003), Hacksaw Ridge(2016), How to Train Your Dragon(2010), The Passion of Joan of Arc(1928), Platoon(1986), A Wednesday(2008), The Grand Budapest Hotel(2014), Thor: Ragnarok(2017), Jurassic Park(1993), Mad Max: Fury Road(2015), Butch Cassidy and the Sundance Kid(1969), Harry Potter and the Deathly Hallows: Part 2(2011), The Bourne Ultimatum(2007), Star Wars: The Force Awakens(2015), The Wizard of Oz(1939), Jaws(1975), Twelve Monkeys(1995), The Battle of Algiers(1966), Pirates of the Caribbean: The Curse of the Black Pearl(2003)\n",
      "\n",
      "Cluster 1 top 5 keywords: father, family, son, friend, man\n",
      "Cluster 1 has 95 movies: \n",
      "The Shawshank Redemption(1994), The Godfather(1972), The Godfather: Part II(1974), 12 Angry Men(1957), Forrest Gump(1994), Goodfellas(1990), City of God(2002), Life Is Beautiful(1997), Léon: The Professional(1994), Interstellar(2014), City Lights(1931), The Intouchables(2011), The Pianist(2002), Gladiator(2000), Sunset Blvd.(1950), Cinema Paradiso(1988), Grave of the Fireflies(1988), American Beauty(1999), Oldeuboi(2003), Witness for the Prosecution(1957), Once Upon a Time in America(1984), Dangal(2016), Citizen Kane(1941), Braveheart(1995), M(1931), Requiem for a Dream(2000), Amélie(2001), Taare Zameen Par(2007), Kimi no na wa.(2016), Amadeus(1984), Double Indemnity(1944), Eternal Sunshine of the Spotless Mind(2004), Singin' in the Rain(1952), 3 Idiots(2009), Bicycle Thieves(1948), Good Will Hunting(1997), Jagten(2012), The Apartment(1960), A Separation(2011), The Treasure of the Sierra Madre(1948), Raging Bull(1980), Children of Heaven(1997), My Neighbor Totoro(1988), Incendies(2010), Ran(1985), The Secret in Their Eyes(2009), On the Waterfront(1954), Lock, Stock and Two Smoking Barrels(1998), Mr. Smith Goes to Washington(1939), A Beautiful Mind(2001), The Elephant Man(1980), Warrior(2011), Trainspotting(1996), Gran Torino(2008), Gone with the Wind(1939), The Sixth Sense(1999), Andrei Rublev(1966), Tokyo Story(1953), There Will Be Blood(2007), Cool Hand Luke(1967), Rebecca(1940), Rang De Basanti(2006), Mary and Max(2009), Into the Wild(2007), Life of Brian(1979), It Happened One Night(1934), Hotel Rwanda(2004), Network(1976), In the Name of the Father(1993), Stand by Me(1986), Ben-Hur(1959), Persona(1966), Memories of Murder(2003), 12 Years a Slave(2013), Million Dollar Baby(2004), Spotlight(2015), Hachi: A Dog's Tale(2009), Before Sunrise(1995), The Nights of Cabiria(1957), The Grapes of Wrath(1940), Catch Me If You Can(2002), Diabolique(1955), Touch of Evil(1958), Monsters, Inc.(2001), Donnie Darko(2001), Barry Lyndon(1975), Annie Hall(1977), Groundhog Day(1993), Munna Bhai M.B.B.S.(2003), The Best Years of Our Lives(1946), Paris, Texas(1984), In the Mood for Love(2000), The Help(2011), Dead Poets Society(1989), Beauty and the Beast(1991)\n",
      "\n",
      "Cluster 2 top 5 keywords: saying, car, asks, man, police\n",
      "Cluster 2 has 81 movies: \n",
      "The Dark Knight(2008), Pulp Fiction(1994), Fight Club(1999), Inception(2010), The Matrix(1999), Se7en(1995), It's a Wonderful Life(1946), The Usual Suspects(1995), Spirited Away(2001), American History X(1998), Once Upon a Time in the West(1968), Psycho(1960), The Departed(2006), Rear Window(1954), Back to the Future(1985), Whiplash(2014), The Prestige(2006), The Lion King(1994), Memento(2000), The Lives of Others(2006), Django Unchained(2012), The Shining(1980), The Dark Knight Rises(2012), Princess Mononoke(1997), Vertigo(1958), North by Northwest(1959), Reservoir Dogs(1992), A Clockwork Orange(1971), Taxi Driver(1976), To Kill a Mockingbird(1962), 2001: A Space Odyssey(1968), Toy Story(1995), The Sting(1973), Toy Story 3(2010), Snatch(2000), For a Few Dollars More(1965), L.A. Confidential(1997), Scarface(1983), Rashômon(1950), All About Eve(1950), Yojimbo(1961), Batman Begins(2005), Some Like It Hot(1959), Unforgiven(1992), Heat(1995), The Third Man(1949), Pan's Labyrinth(2006), The Gold Rush(1925), Howl's Moving Castle(2004), The Seventh Seal(1957), Room(2015), Casino(1995), Blade Runner(1982), V for Vendetta(2005), The Wolf of Wall Street(2013), Wild Strawberries(1957), Dial M for Murder(1954), Sunrise(1927), Fargo(1996), No Country for Old Men(2007), The Big Lebowski(1998), Kill Bill: Vol. 1(2003), Gone Girl(2014), Shutter Island(2010), La La Land(2016), Logan(2017), The Wages of Fear(1953), Rush(2013), Stalker(1979), The Truman Show(1998), Amores Perros(2000), The Princess Bride(1987), The Maltese Falcon(1941), Paper Moon(1973), Prisoners(2013), Rocky(1976), Gandhi(1982), The Terminator(1984), Infernal Affairs(2002), Ah-ga-ssi(2016), Dog Day Afternoon(1975)\n",
      "\n"
     ]
    }
   ],
   "source": [
    "print (\"<Movie Plots Clustering Result by KMeans>\")\n",
    "\n",
    "cluster_keywords_dict = {} # Put clusters and their top 5 unstemmed words into one dict\n",
    "for cluster_ID in range(num_of_clusters):\n",
    "    print_cluster_keywords(cluster_ID)\n",
    "    print_cluster_movies(cluster_ID)   "
   ]
  },
  {
   "cell_type": "markdown",
   "metadata": {},
   "source": [
    "### 4.2. Validation - Plot KMeans Result"
   ]
  },
  {
   "cell_type": "markdown",
   "metadata": {},
   "source": [
    "** What is PCA?**   \n",
    "PCA is principal component analysis.   \n",
    "In layman's terms, it reduces higher dimensions to a lower dimension.   \n",
    "A 238 * 510 matrix is impossible to plot, so we reduce it to 2 dimensions.   \n",
    "After PCA, each movie will have two components available for use."
   ]
  },
  {
   "cell_type": "code",
   "execution_count": 47,
   "metadata": {
    "collapsed": false
   },
   "outputs": [],
   "source": [
    "from sklearn import decomposition\n",
    "\n",
    "# Build the model\n",
    "pca = decomposition.PCA(n_components=2)\n",
    "\n",
    "# pca does not accept sparse matrix\n",
    "# so, we transform the tfidfMatrix object to an array\n",
    "tfidfMatrixArray = tfidfMatrix.toarray()"
   ]
  },
  {
   "cell_type": "code",
   "execution_count": 48,
   "metadata": {
    "collapsed": false
   },
   "outputs": [
    {
     "data": {
      "text/plain": [
       "array([[ 0.        ,  0.03947226,  0.        , ...,  0.07729889,\n",
       "         0.        ,  0.01729865],\n",
       "       [ 0.        ,  0.        ,  0.0401982 , ...,  0.07075319,\n",
       "         0.        ,  0.06333516],\n",
       "       [ 0.        ,  0.        ,  0.02478961, ...,  0.05235887,\n",
       "         0.        ,  0.03905781],\n",
       "       ..., \n",
       "       [ 0.        ,  0.        ,  0.        , ...,  0.        ,\n",
       "         0.        ,  0.18352899],\n",
       "       [ 0.05951702,  0.04837972,  0.05382762, ...,  0.11369093,\n",
       "         0.        ,  0.04240464],\n",
       "       [ 0.        ,  0.        ,  0.        , ...,  0.        ,\n",
       "         0.        ,  0.        ]])"
      ]
     },
     "execution_count": 48,
     "metadata": {},
     "output_type": "execute_result"
    }
   ],
   "source": [
    "# Inspect\n",
    "tfidfMatrixArray"
   ]
  },
  {
   "cell_type": "code",
   "execution_count": 49,
   "metadata": {
    "collapsed": true
   },
   "outputs": [],
   "source": [
    "# Fit the model \n",
    "pca.fit(tfidfMatrixArray)\n",
    "\n",
    "# Apply dimensionality reduction to it\n",
    "X = pca.transform(tfidfMatrixArray)"
   ]
  },
  {
   "cell_type": "markdown",
   "metadata": {},
   "source": [
    "After dimensionality reduction, every plot/document will have two numbers  \n",
    "Instead of the 510 features/words/terms, now each plot is represented by 2 numbers(components)"
   ]
  },
  {
   "cell_type": "code",
   "execution_count": 50,
   "metadata": {
    "collapsed": false
   },
   "outputs": [
    {
     "data": {
      "text/plain": [
       "(238, 2)"
      ]
     },
     "execution_count": 50,
     "metadata": {},
     "output_type": "execute_result"
    }
   ],
   "source": [
    "X.shape"
   ]
  },
  {
   "cell_type": "markdown",
   "metadata": {},
   "source": [
    "This following line means after dimensionality reduction  \n",
    "Movie 1 'The Shawshank Redemption(1994)' has  these two components with those values"
   ]
  },
  {
   "cell_type": "code",
   "execution_count": 51,
   "metadata": {
    "collapsed": false
   },
   "outputs": [
    {
     "data": {
      "text/plain": [
       "array([-0.02528112,  0.01870743])"
      ]
     },
     "execution_count": 51,
     "metadata": {},
     "output_type": "execute_result"
    }
   ],
   "source": [
    "X[0]"
   ]
  },
  {
   "cell_type": "markdown",
   "metadata": {},
   "source": [
    "Extract the two components' values to 2 lists"
   ]
  },
  {
   "cell_type": "code",
   "execution_count": 52,
   "metadata": {
    "collapsed": true
   },
   "outputs": [],
   "source": [
    "# First components' values in a list\n",
    "xCoordinate = X[:, 0]\n",
    "# Second components' values in a list\n",
    "yCoordinate = X[:, 1]"
   ]
  },
  {
   "cell_type": "code",
   "execution_count": 53,
   "metadata": {
    "collapsed": false
   },
   "outputs": [
    {
     "data": {
      "text/plain": [
       "array([-0.02528112, -0.05271232, -0.08137742,  0.14855685, -0.0155926 ])"
      ]
     },
     "execution_count": 53,
     "metadata": {},
     "output_type": "execute_result"
    }
   ],
   "source": [
    "# Inspect, first five movie's First Component's values after PCA\n",
    "xCoordinate[:5]"
   ]
  },
  {
   "cell_type": "code",
   "execution_count": 54,
   "metadata": {
    "collapsed": false
   },
   "outputs": [
    {
     "data": {
      "text/plain": [
       "array([ 0.01870743, -0.03964529, -0.08723515,  0.22846966, -0.08702718])"
      ]
     },
     "execution_count": 54,
     "metadata": {},
     "output_type": "execute_result"
    }
   ],
   "source": [
    "# Inspect, first five movie's Second Component's values after PCA\n",
    "yCoordinate[:5]"
   ]
  },
  {
   "cell_type": "code",
   "execution_count": 55,
   "metadata": {
    "collapsed": false
   },
   "outputs": [],
   "source": [
    "# Create a data frame with PCA cluster results\n",
    "PCA = pd.DataFrame(dict(xCoordinate=xCoordinate, yCoordinate=yCoordinate, Cluster=df2.cluster, MovieName=df2.MovieName)) "
   ]
  },
  {
   "cell_type": "code",
   "execution_count": 56,
   "metadata": {
    "collapsed": false
   },
   "outputs": [
    {
     "data": {
      "text/html": [
       "<div>\n",
       "<style>\n",
       "    .dataframe thead tr:only-child th {\n",
       "        text-align: right;\n",
       "    }\n",
       "\n",
       "    .dataframe thead th {\n",
       "        text-align: left;\n",
       "    }\n",
       "\n",
       "    .dataframe tbody tr th {\n",
       "        vertical-align: top;\n",
       "    }\n",
       "</style>\n",
       "<table border=\"1\" class=\"dataframe\">\n",
       "  <thead>\n",
       "    <tr style=\"text-align: right;\">\n",
       "      <th></th>\n",
       "      <th>Cluster</th>\n",
       "      <th>MovieName</th>\n",
       "      <th>xCoordinate</th>\n",
       "      <th>yCoordinate</th>\n",
       "    </tr>\n",
       "    <tr>\n",
       "      <th>cluster</th>\n",
       "      <th></th>\n",
       "      <th></th>\n",
       "      <th></th>\n",
       "      <th></th>\n",
       "    </tr>\n",
       "  </thead>\n",
       "  <tbody>\n",
       "    <tr>\n",
       "      <th>1</th>\n",
       "      <td>1</td>\n",
       "      <td>The Shawshank Redemption(1994)</td>\n",
       "      <td>-0.025281</td>\n",
       "      <td>0.018707</td>\n",
       "    </tr>\n",
       "    <tr>\n",
       "      <th>1</th>\n",
       "      <td>1</td>\n",
       "      <td>The Godfather(1972)</td>\n",
       "      <td>-0.052712</td>\n",
       "      <td>-0.039645</td>\n",
       "    </tr>\n",
       "    <tr>\n",
       "      <th>1</th>\n",
       "      <td>1</td>\n",
       "      <td>The Godfather: Part II(1974)</td>\n",
       "      <td>-0.081377</td>\n",
       "      <td>-0.087235</td>\n",
       "    </tr>\n",
       "    <tr>\n",
       "      <th>2</th>\n",
       "      <td>2</td>\n",
       "      <td>The Dark Knight(2008)</td>\n",
       "      <td>0.148557</td>\n",
       "      <td>0.228470</td>\n",
       "    </tr>\n",
       "    <tr>\n",
       "      <th>1</th>\n",
       "      <td>1</td>\n",
       "      <td>12 Angry Men(1957)</td>\n",
       "      <td>-0.015593</td>\n",
       "      <td>-0.087027</td>\n",
       "    </tr>\n",
       "  </tbody>\n",
       "</table>\n",
       "</div>"
      ],
      "text/plain": [
       "         Cluster                       MovieName  xCoordinate  yCoordinate\n",
       "cluster                                                                   \n",
       "1              1  The Shawshank Redemption(1994)    -0.025281     0.018707\n",
       "1              1             The Godfather(1972)    -0.052712    -0.039645\n",
       "1              1    The Godfather: Part II(1974)    -0.081377    -0.087235\n",
       "2              2           The Dark Knight(2008)     0.148557     0.228470\n",
       "1              1              12 Angry Men(1957)    -0.015593    -0.087027"
      ]
     },
     "execution_count": 56,
     "metadata": {},
     "output_type": "execute_result"
    }
   ],
   "source": [
    "PCA[:5]"
   ]
  },
  {
   "cell_type": "code",
   "execution_count": 57,
   "metadata": {
    "collapsed": false
   },
   "outputs": [],
   "source": [
    "# Build a dict with clusters and colors for plotting the clusters\n",
    "cluster_colors_dict = {0:'#800000',1:'#D2B4DE',2:'#85C1E9',3:'#48C9B0',4:'#FFC300'}"
   ]
  },
  {
   "cell_type": "code",
   "execution_count": 58,
   "metadata": {
    "collapsed": false
   },
   "outputs": [
    {
     "data": {
      "image/png": "[encoded data removed]",
      "text/plain": [
       "<matplotlib.figure.Figure at 0x10fe82320>"
      ]
     },
     "metadata": {},
     "output_type": "display_data"
    }
   ],
   "source": [
    "import matplotlib.pyplot as plt\n",
    "%matplotlib inline \n",
    "\n",
    "# Set up the figure\n",
    "figure, axis = plt.subplots(figsize=(16, 9))\n",
    "\n",
    "groups = PCA.groupby(PCA.Cluster)\n",
    "for cluster_ID, group in groups: # unpack group\n",
    "    axis.plot(group.xCoordinate, group.yCoordinate, marker='o',  linestyle='', ms=12,\n",
    "            label=str(cluster_ID) +  str(cluster_keywords_dict[cluster_ID]),  color=cluster_colors_dict[cluster_ID],\n",
    "            mec='none')\n",
    "\n",
    "# Show legend with only 1 point, position is right bottom.\n",
    "axis.legend(numpoints=1,loc=4)  \n",
    "\n",
    "# Show the plot\n",
    "plt.show() "
   ]
  },
  {
   "cell_type": "code",
   "execution_count": 59,
   "metadata": {
    "collapsed": true
   },
   "outputs": [],
   "source": [
    "plt.close()"
   ]
  },
  {
   "cell_type": "markdown",
   "metadata": {},
   "source": [
    "<li> Indeed, cluster 2 and 3 are very very close.   \n",
    "<li> Cluster 0 and cluster 1 cover a lost of movies.   \n",
    "<li> But cluster 1's movies may not have a lot of shared similarities since they scattered all over the place."
   ]
  },
  {
   "cell_type": "markdown",
   "metadata": {},
   "source": [
    "## Step 5: Topic Modeling - Using Latent Dirichlet Allocation"
   ]
  },
  {
   "cell_type": "markdown",
   "metadata": {},
   "source": [
    "### 5.1 The Basics"
   ]
  },
  {
   "cell_type": "markdown",
   "metadata": {},
   "source": [
    "**What is topic modeling?** \n",
    "<li> a method for finding a group of words (i.e topic) from a collection of documents that best represents the information in the collection. \n",
    "<li> a form of text mining – a way to obtain recurring patterns of words in textual material."
   ]
  },
  {
   "cell_type": "markdown",
   "metadata": {},
   "source": [
    "**What is Latent Dirichlet Allocation?**   \n",
    "Latent Dirichlet Allocation (LDA) model is a technique used to obtain topic models."
   ]
  },
  {
   "cell_type": "markdown",
   "metadata": {},
   "source": [
    "** How does Latent Dirichlet Allocation work?**\n",
    "\n",
    "See this example:\n",
    "\n",
    "Document 1: I had a peanut butter sandwich for breakfast.   \n",
    "Document 2: I like to eat almonds, peanuts and walnuts.    \n",
    "Document 3: My neighbor got a little dog yesterday.   \n",
    "Document 4: Cats and dogs are mortal enemies.   \n",
    "Document 5: You mustn’t feed peanuts to your dog.\n",
    "\n",
    "LDA may produce the following results:   \n",
    "Topic 1: 30% peanuts, 15% almonds, 10% breakfast… (this topic deals with food)    \n",
    "Topic 2: 20% dogs, 10% cats, 5% peanuts… (this topic deals with pets or animals)   \n",
    "\n",
    "Document 1: 100% Topic 1   \n",
    "Document 2: 100% Topic 1   \n",
    "Document 3: 100% Topic 2  \n",
    "Document 4: 100% Topic 2  \n",
    "Document 5: 70% Topic 1, 30% Topic 2"
   ]
  },
  {
   "cell_type": "markdown",
   "metadata": {},
   "source": [
    "**How does LDA perform this process?**\n",
    "1. Prepare the Document Term Matrix(DTM) - frequency of words in a particular document\n",
    "![](1.png)   \n",
    "\n",
    "2. Fit the LDA model with DTM (topic parameter is set to 2)   \n",
    "*lda_model.fit(DTM)*\n",
    "\n",
    "3. Transform the DTM   \n",
    "*lda_model.transform(DTM)*\n",
    "\n",
    "4. After transformation, we get two matrices from LDA   \n",
    "4.1 lda_model.topic\\_word_ saves the first matrix which has the shape of (2 topics * 28 words)   \n",
    "Blank cells also have percentage numbers but those numbers are very small    \n",
    "Highlighted red numbers denote that those words that convey the topic the best\n",
    "![](2.png) \n",
    "4.2 lda_model.doc\\_topic_ saves the second matrix which has the shape of (5 docs * 2 topics)\n",
    "![](3.png) "
   ]
  },
  {
   "cell_type": "markdown",
   "metadata": {},
   "source": [
    "Once we know how it works, now we can use LDA on movie plots"
   ]
  },
  {
   "cell_type": "markdown",
   "metadata": {},
   "source": [
    "Make a new copy of the dataframe,reset index, drop the 'cluster' column"
   ]
  },
  {
   "cell_type": "code",
   "execution_count": 60,
   "metadata": {
    "collapsed": false
   },
   "outputs": [],
   "source": [
    "df3 = df2.copy()\n",
    "df3.index= range(238)\n",
    "df3 = df3.drop('cluster', axis = 1)"
   ]
  },
  {
   "cell_type": "markdown",
   "metadata": {},
   "source": [
    "<li> LDA model accepts an array-like or sparse matrix \n",
    "<li> It should be a Document Term Matrix(DTM)\n",
    "<li> Its shape should (n_samples, n_features), so we cannot reuse the tfidfMatrix\n",
    "<li> We need to rebuilt a DTM which also has moive plots as rows and all words as columns\n",
    "<li> But the value would be the frequency of each word used in each movie plot"
   ]
  },
  {
   "cell_type": "markdown",
   "metadata": {},
   "source": [
    "Build a new dict which has every word as keys and their positional column index as values   \n",
    "e.g. {'abandon': 1,'abl': 2,'accept': 3,'accompani': 4, 'act': 5}"
   ]
  },
  {
   "cell_type": "code",
   "execution_count": 61,
   "metadata": {
    "collapsed": false
   },
   "outputs": [],
   "source": [
    "word_columnIndex_dict = {}\n",
    "for x in range(len(all_words_from_tfidf)):\n",
    "    word_columnIndex_dict[all_words_from_tfidf[x]] = x"
   ]
  },
  {
   "cell_type": "code",
   "execution_count": 62,
   "metadata": {
    "collapsed": false
   },
   "outputs": [
    {
     "data": {
      "text/plain": [
       "{'abandon': 0,\n",
       " 'abl': 1,\n",
       " 'accept': 2,\n",
       " 'accompani': 3,\n",
       " 'act': 4,\n",
       " 'action': 5,\n",
       " 'actual': 6,\n",
       " 'address': 7,\n",
       " 'admit': 8,\n",
       " 'agre': 9,\n",
       " 'aliv': 10,\n",
       " 'allow': 11,\n",
       " 'alon': 12,\n",
       " 'alreadi': 13,\n",
       " 'alway': 14,\n",
       " 'angri': 15,\n",
       " 'anoth': 16,\n",
       " 'answer': 17,\n",
       " 'anyon': 18,\n",
       " 'anyth': 19,\n",
       " 'apart': 20,\n",
       " 'apolog': 21,\n",
       " 'appar': 22,\n",
       " 'appear': 23,\n",
       " 'approach': 24,\n",
       " 'area': 25,\n",
       " 'arm': 26,\n",
       " 'armi': 27,\n",
       " 'arrang': 28,\n",
       " 'arrest': 29,\n",
       " 'arriv': 30,\n",
       " 'ask': 31,\n",
       " 'assist': 32,\n",
       " 'attack': 33,\n",
       " 'attempt': 34,\n",
       " 'attend': 35,\n",
       " 'attent': 36,\n",
       " 'avoid': 37,\n",
       " 'away': 38,\n",
       " 'bad': 39,\n",
       " 'bar': 40,\n",
       " 'battl': 41,\n",
       " 'beat': 42,\n",
       " 'beauti': 43,\n",
       " 'becom': 44,\n",
       " 'bed': 45,\n",
       " 'beg': 46,\n",
       " 'begin': 47,\n",
       " 'believ': 48,\n",
       " 'best': 49,\n",
       " 'better': 50,\n",
       " 'big': 51,\n",
       " 'black': 52,\n",
       " 'blood': 53,\n",
       " 'blow': 54,\n",
       " 'board': 55,\n",
       " 'bodi': 56,\n",
       " 'book': 57,\n",
       " 'box': 58,\n",
       " 'boy': 59,\n",
       " 'break': 60,\n",
       " 'bring': 61,\n",
       " 'broken': 62,\n",
       " 'brother': 63,\n",
       " 'brought': 64,\n",
       " 'build': 65,\n",
       " 'burn': 66,\n",
       " 'busi': 67,\n",
       " 'buy': 68,\n",
       " 'ca': 69,\n",
       " 'calm': 70,\n",
       " 'captur': 71,\n",
       " 'car': 72,\n",
       " 'care': 73,\n",
       " 'carri': 74,\n",
       " 'case': 75,\n",
       " 'catch': 76,\n",
       " 'caught': 77,\n",
       " 'caus': 78,\n",
       " 'chanc': 79,\n",
       " 'chang': 80,\n",
       " 'charg': 81,\n",
       " 'chase': 82,\n",
       " 'check': 83,\n",
       " 'child': 84,\n",
       " 'children': 85,\n",
       " 'citi': 86,\n",
       " 'claim': 87,\n",
       " 'clean': 88,\n",
       " 'clear': 89,\n",
       " 'climb': 90,\n",
       " 'close': 91,\n",
       " 'cloth': 92,\n",
       " 'collaps': 93,\n",
       " 'collect': 94,\n",
       " 'come': 95,\n",
       " 'command': 96,\n",
       " 'complet': 97,\n",
       " 'concern': 98,\n",
       " 'confess': 99,\n",
       " 'confront': 100,\n",
       " 'contact': 101,\n",
       " 'contain': 102,\n",
       " 'continu': 103,\n",
       " 'control': 104,\n",
       " 'convers': 105,\n",
       " 'convinc': 106,\n",
       " 'corner': 107,\n",
       " 'coupl': 108,\n",
       " 'cover': 109,\n",
       " 'crash': 110,\n",
       " 'creat': 111,\n",
       " 'cri': 112,\n",
       " 'cross': 113,\n",
       " 'crowd': 114,\n",
       " 'cut': 115,\n",
       " 'danger': 116,\n",
       " 'dark': 117,\n",
       " 'daughter': 118,\n",
       " 'day': 119,\n",
       " 'dead': 120,\n",
       " 'deal': 121,\n",
       " 'death': 122,\n",
       " 'decid': 123,\n",
       " 'demand': 124,\n",
       " 'depart': 125,\n",
       " 'desper': 126,\n",
       " 'despit': 127,\n",
       " 'destroy': 128,\n",
       " 'die': 129,\n",
       " 'differ': 130,\n",
       " 'direct': 131,\n",
       " 'disappear': 132,\n",
       " 'discov': 133,\n",
       " 'discuss': 134,\n",
       " 'doctor': 135,\n",
       " 'door': 136,\n",
       " 'draw': 137,\n",
       " 'dream': 138,\n",
       " 'dress': 139,\n",
       " 'drink': 140,\n",
       " 'drive': 141,\n",
       " 'drop': 142,\n",
       " 'earlier': 143,\n",
       " 'eat': 144,\n",
       " 'els': 145,\n",
       " 'emerg': 146,\n",
       " 'empti': 147,\n",
       " 'encount': 148,\n",
       " 'end': 149,\n",
       " 'enter': 150,\n",
       " 'entir': 151,\n",
       " 'escap': 152,\n",
       " 'eventu': 153,\n",
       " 'everi': 154,\n",
       " 'everyon': 155,\n",
       " 'everyth': 156,\n",
       " 'evid': 157,\n",
       " 'explain': 158,\n",
       " 'eye': 159,\n",
       " 'face': 160,\n",
       " 'fact': 161,\n",
       " 'fail': 162,\n",
       " 'fall': 163,\n",
       " 'famili': 164,\n",
       " 'far': 165,\n",
       " 'father': 166,\n",
       " 'fear': 167,\n",
       " 'feel': 168,\n",
       " 'fight': 169,\n",
       " 'figur': 170,\n",
       " 'film': 171,\n",
       " 'final': 172,\n",
       " 'finish': 173,\n",
       " 'flee': 174,\n",
       " 'fli': 175,\n",
       " 'floor': 176,\n",
       " 'follow': 177,\n",
       " 'food': 178,\n",
       " 'forc': 179,\n",
       " 'form': 180,\n",
       " 'free': 181,\n",
       " 'friend': 182,\n",
       " 'game': 183,\n",
       " 'gave': 184,\n",
       " 'girl': 185,\n",
       " 'given': 186,\n",
       " 'goe': 187,\n",
       " 'gone': 188,\n",
       " 'good': 189,\n",
       " 'got': 190,\n",
       " 'grab': 191,\n",
       " 'great': 192,\n",
       " 'ground': 193,\n",
       " 'group': 194,\n",
       " 'grow': 195,\n",
       " 'guard': 196,\n",
       " 'gun': 197,\n",
       " 'hand': 198,\n",
       " 'hang': 199,\n",
       " 'happen': 200,\n",
       " 'happi': 201,\n",
       " 'hard': 202,\n",
       " 'head': 203,\n",
       " 'hear': 204,\n",
       " 'heard': 205,\n",
       " 'help': 206,\n",
       " 'hidden': 207,\n",
       " 'hide': 208,\n",
       " 'high': 209,\n",
       " 'hit': 210,\n",
       " 'hold': 211,\n",
       " 'hole': 212,\n",
       " 'home': 213,\n",
       " 'hope': 214,\n",
       " 'hospit': 215,\n",
       " 'hour': 216,\n",
       " 'hous': 217,\n",
       " 'howev': 218,\n",
       " 'human': 219,\n",
       " 'husband': 220,\n",
       " 'idea': 221,\n",
       " 'ignor': 222,\n",
       " 'immedi': 223,\n",
       " 'includ': 224,\n",
       " 'inform': 225,\n",
       " 'initi': 226,\n",
       " 'insid': 227,\n",
       " 'insist': 228,\n",
       " 'instead': 229,\n",
       " 'instruct': 230,\n",
       " 'intend': 231,\n",
       " 'introduc': 232,\n",
       " 'investig': 233,\n",
       " 'invit': 234,\n",
       " 'involv': 235,\n",
       " 'job': 236,\n",
       " 'john': 237,\n",
       " 'join': 238,\n",
       " 'jump': 239,\n",
       " 'kill': 240,\n",
       " 'kiss': 241,\n",
       " 'knock': 242,\n",
       " 'know': 243,\n",
       " 'known': 244,\n",
       " 'land': 245,\n",
       " 'larg': 246,\n",
       " 'late': 247,\n",
       " 'later': 248,\n",
       " 'lead': 249,\n",
       " 'learn': 250,\n",
       " 'led': 251,\n",
       " 'left': 252,\n",
       " 'leg': 253,\n",
       " 'let': 254,\n",
       " 'lie': 255,\n",
       " 'life': 256,\n",
       " 'light': 257,\n",
       " 'like': 258,\n",
       " 'line': 259,\n",
       " 'listen': 260,\n",
       " 'littl': 261,\n",
       " 'live': 262,\n",
       " 'local': 263,\n",
       " 'locat': 264,\n",
       " 'lock': 265,\n",
       " 'long': 266,\n",
       " 'longer': 267,\n",
       " 'look': 268,\n",
       " 'lose': 269,\n",
       " 'lost': 270,\n",
       " 'love': 271,\n",
       " 'main': 272,\n",
       " 'man': 273,\n",
       " 'manag': 274,\n",
       " 'mani': 275,\n",
       " 'mark': 276,\n",
       " 'marri': 277,\n",
       " 'mean': 278,\n",
       " 'meanwhil': 279,\n",
       " 'meet': 280,\n",
       " 'member': 281,\n",
       " 'memori': 282,\n",
       " 'men': 283,\n",
       " 'mention': 284,\n",
       " 'met': 285,\n",
       " 'mind': 286,\n",
       " 'minut': 287,\n",
       " 'miss': 288,\n",
       " 'moment': 289,\n",
       " 'money': 290,\n",
       " 'month': 291,\n",
       " 'morn': 292,\n",
       " 'mother': 293,\n",
       " 'movi': 294,\n",
       " 'murder': 295,\n",
       " 'near': 296,\n",
       " 'nearbi': 297,\n",
       " 'need': 298,\n",
       " 'new': 299,\n",
       " 'news': 300,\n",
       " 'night': 301,\n",
       " 'note': 302,\n",
       " 'noth': 303,\n",
       " 'notic': 304,\n",
       " 'number': 305,\n",
       " 'object': 306,\n",
       " 'offer': 307,\n",
       " 'offic': 308,\n",
       " 'old': 309,\n",
       " 'open': 310,\n",
       " 'order': 311,\n",
       " 'outsid': 312,\n",
       " 'pain': 313,\n",
       " 'paper': 314,\n",
       " 'parent': 315,\n",
       " 'parti': 316,\n",
       " 'pass': 317,\n",
       " 'past': 318,\n",
       " 'pay': 319,\n",
       " 'peopl': 320,\n",
       " 'perform': 321,\n",
       " 'person': 322,\n",
       " 'phone': 323,\n",
       " 'pick': 324,\n",
       " 'pictur': 325,\n",
       " 'piec': 326,\n",
       " 'place': 327,\n",
       " 'plan': 328,\n",
       " 'play': 329,\n",
       " 'point': 330,\n",
       " 'polic': 331,\n",
       " 'posit': 332,\n",
       " 'possibl': 333,\n",
       " 'power': 334,\n",
       " 'prepar': 335,\n",
       " 'present': 336,\n",
       " 'previous': 337,\n",
       " 'prison': 338,\n",
       " 'privat': 339,\n",
       " 'promis': 340,\n",
       " 'protect': 341,\n",
       " 'prove': 342,\n",
       " 'provid': 343,\n",
       " 'public': 344,\n",
       " 'pull': 345,\n",
       " 'pursu': 346,\n",
       " 'push': 347,\n",
       " 'question': 348,\n",
       " 'quick': 349,\n",
       " 'quiet': 350,\n",
       " 'quit': 351,\n",
       " 'reach': 352,\n",
       " 'read': 353,\n",
       " 'readi': 354,\n",
       " 'real': 355,\n",
       " 'realiz': 356,\n",
       " 'realli': 357,\n",
       " 'reason': 358,\n",
       " 'receiv': 359,\n",
       " 'recogn': 360,\n",
       " 'refus': 361,\n",
       " 'relationship': 362,\n",
       " 'releas': 363,\n",
       " 'reluct': 364,\n",
       " 'remain': 365,\n",
       " 'rememb': 366,\n",
       " 'remind': 367,\n",
       " 'remov': 368,\n",
       " 'repli': 369,\n",
       " 'report': 370,\n",
       " 'rescu': 371,\n",
       " 'respond': 372,\n",
       " 'respons': 373,\n",
       " 'rest': 374,\n",
       " 'result': 375,\n",
       " 'retriev': 376,\n",
       " 'return': 377,\n",
       " 'reveal': 378,\n",
       " 'ride': 379,\n",
       " 'right': 380,\n",
       " 'ring': 381,\n",
       " 'road': 382,\n",
       " 'room': 383,\n",
       " 'run': 384,\n",
       " 'rush': 385,\n",
       " 'safe': 386,\n",
       " 'save': 387,\n",
       " 'say': 388,\n",
       " 'scene': 389,\n",
       " 'school': 390,\n",
       " 'scream': 391,\n",
       " 'search': 392,\n",
       " 'second': 393,\n",
       " 'secret': 394,\n",
       " 'secur': 395,\n",
       " 'seen': 396,\n",
       " 'send': 397,\n",
       " 'sent': 398,\n",
       " 'set': 399,\n",
       " 'sever': 400,\n",
       " 'share': 401,\n",
       " 'ship': 402,\n",
       " 'shock': 403,\n",
       " 'shoot': 404,\n",
       " 'short': 405,\n",
       " 'shot': 406,\n",
       " 'sign': 407,\n",
       " 'simpli': 408,\n",
       " 'sinc': 409,\n",
       " 'sister': 410,\n",
       " 'sit': 411,\n",
       " 'sleep': 412,\n",
       " 'slowli': 413,\n",
       " 'small': 414,\n",
       " 'smile': 415,\n",
       " 'sneak': 416,\n",
       " 'soldier': 417,\n",
       " 'someon': 418,\n",
       " 'someth': 419,\n",
       " 'son': 420,\n",
       " 'soon': 421,\n",
       " 'sound': 422,\n",
       " 'speak': 423,\n",
       " 'spend': 424,\n",
       " 'spot': 425,\n",
       " 'stand': 426,\n",
       " 'start': 427,\n",
       " 'state': 428,\n",
       " 'station': 429,\n",
       " 'stay': 430,\n",
       " 'steal': 431,\n",
       " 'step': 432,\n",
       " 'stop': 433,\n",
       " 'store': 434,\n",
       " 'stori': 435,\n",
       " 'street': 436,\n",
       " 'struggl': 437,\n",
       " 'success': 438,\n",
       " 'sudden': 439,\n",
       " 'suffer': 440,\n",
       " 'suggest': 441,\n",
       " 'support': 442,\n",
       " 'sure': 443,\n",
       " 'surpris': 444,\n",
       " 'surround': 445,\n",
       " 'surviv': 446,\n",
       " 'tabl': 447,\n",
       " 'taken': 448,\n",
       " 'talk': 449,\n",
       " 'tear': 450,\n",
       " 'thank': 451,\n",
       " 'thing': 452,\n",
       " 'think': 453,\n",
       " 'thought': 454,\n",
       " 'threaten': 455,\n",
       " 'throw': 456,\n",
       " 'tie': 457,\n",
       " 'togeth': 458,\n",
       " 'told': 459,\n",
       " 'took': 460,\n",
       " 'touch': 461,\n",
       " 'town': 462,\n",
       " 'track': 463,\n",
       " 'train': 464,\n",
       " 'trap': 465,\n",
       " 'travel': 466,\n",
       " 'tri': 467,\n",
       " 'troubl': 468,\n",
       " 'true': 469,\n",
       " 'turn': 470,\n",
       " 'unabl': 471,\n",
       " 'understand': 472,\n",
       " 'unit': 473,\n",
       " 'upset': 474,\n",
       " 'use': 475,\n",
       " 'visit': 476,\n",
       " 'voic': 477,\n",
       " 'wait': 478,\n",
       " 'wake': 479,\n",
       " 'walk': 480,\n",
       " 'wall': 481,\n",
       " 'want': 482,\n",
       " 'war': 483,\n",
       " 'warn': 484,\n",
       " 'watch': 485,\n",
       " 'water': 486,\n",
       " 'way': 487,\n",
       " 'wear': 488,\n",
       " 'week': 489,\n",
       " 'went': 490,\n",
       " 'wife': 491,\n",
       " 'win': 492,\n",
       " 'window': 493,\n",
       " 'wish': 494,\n",
       " 'wit': 495,\n",
       " 'wo': 496,\n",
       " 'woman': 497,\n",
       " 'women': 498,\n",
       " 'wonder': 499,\n",
       " 'word': 500,\n",
       " 'work': 501,\n",
       " 'world': 502,\n",
       " 'worri': 503,\n",
       " 'wound': 504,\n",
       " 'write': 505,\n",
       " 'wrong': 506,\n",
       " 'year': 507,\n",
       " 'yell': 508,\n",
       " 'young': 509}"
      ]
     },
     "execution_count": 62,
     "metadata": {},
     "output_type": "execute_result"
    }
   ],
   "source": [
    "# Inspect\n",
    "word_columnIndex_dict"
   ]
  },
  {
   "cell_type": "code",
   "execution_count": 63,
   "metadata": {
    "collapsed": true
   },
   "outputs": [],
   "source": [
    "plot_word_matrix = []\n",
    "for plot in df3.MoviePlot:\n",
    "    current_plot_word_freq = [0] * len(all_words_from_tfidf)\n",
    "    current_plot_stemmed_words = tokenize_and_stem(plot)\n",
    "    for word in current_plot_stemmed_words:\n",
    "        if word in all_words_from_tfidf:\n",
    "            current_plot_word_freq[word_columnIndex_dict[word]] += 1\n",
    "    current_plot_word_freq = np.asarray(current_plot_word_freq)\n",
    "    plot_word_matrix.append(current_plot_word_freq)\n",
    "plot_word_matrix = np.asarray(plot_word_matrix)"
   ]
  },
  {
   "cell_type": "code",
   "execution_count": 64,
   "metadata": {
    "collapsed": false
   },
   "outputs": [
    {
     "data": {
      "text/plain": [
       "array([[0, 2, 0, ..., 5, 0, 1],\n",
       "       [0, 0, 2, ..., 5, 0, 4],\n",
       "       [0, 0, 1, ..., 3, 0, 2],\n",
       "       ..., \n",
       "       [0, 0, 0, ..., 0, 0, 4],\n",
       "       [1, 1, 1, ..., 3, 0, 1],\n",
       "       [0, 0, 0, ..., 0, 0, 0]])"
      ]
     },
     "execution_count": 64,
     "metadata": {},
     "output_type": "execute_result"
    }
   ],
   "source": [
    "# Inspect\n",
    "plot_word_matrix\n",
    "# Take the first number \"2\" for instance, it means word 'able' was in movie The Shawshank Redemption(1994) 2 times"
   ]
  },
  {
   "cell_type": "markdown",
   "metadata": {},
   "source": [
    "Now we use LDA on the matrix"
   ]
  },
  {
   "cell_type": "code",
   "execution_count": 65,
   "metadata": {
    "collapsed": false
   },
   "outputs": [
    {
     "name": "stderr",
     "output_type": "stream",
     "text": [
      "INFO:lda:n_documents: 238\n",
      "INFO:lda:vocab_size: 510\n",
      "INFO:lda:n_words: 98065\n",
      "INFO:lda:n_topics: 3\n",
      "INFO:lda:n_iter: 500\n",
      "INFO:lda:<0> log likelihood: -707413\n",
      "INFO:lda:<10> log likelihood: -674215\n",
      "INFO:lda:<20> log likelihood: -655063\n",
      "INFO:lda:<30> log likelihood: -649617\n",
      "INFO:lda:<40> log likelihood: -646689\n",
      "INFO:lda:<50> log likelihood: -643864\n",
      "INFO:lda:<60> log likelihood: -642264\n",
      "INFO:lda:<70> log likelihood: -640508\n",
      "INFO:lda:<80> log likelihood: -639111\n",
      "INFO:lda:<90> log likelihood: -637721\n",
      "INFO:lda:<100> log likelihood: -636285\n",
      "INFO:lda:<110> log likelihood: -634876\n",
      "INFO:lda:<120> log likelihood: -634235\n",
      "INFO:lda:<130> log likelihood: -633601\n",
      "INFO:lda:<140> log likelihood: -632394\n",
      "INFO:lda:<150> log likelihood: -632245\n",
      "INFO:lda:<160> log likelihood: -631761\n",
      "INFO:lda:<170> log likelihood: -631165\n",
      "INFO:lda:<180> log likelihood: -631131\n",
      "INFO:lda:<190> log likelihood: -630674\n",
      "INFO:lda:<200> log likelihood: -630531\n",
      "INFO:lda:<210> log likelihood: -630447\n",
      "INFO:lda:<220> log likelihood: -630032\n",
      "INFO:lda:<230> log likelihood: -628950\n",
      "INFO:lda:<240> log likelihood: -628498\n",
      "INFO:lda:<250> log likelihood: -628505\n",
      "INFO:lda:<260> log likelihood: -628319\n",
      "INFO:lda:<270> log likelihood: -628151\n",
      "INFO:lda:<280> log likelihood: -628257\n",
      "INFO:lda:<290> log likelihood: -627954\n",
      "INFO:lda:<300> log likelihood: -627152\n",
      "INFO:lda:<310> log likelihood: -627623\n",
      "INFO:lda:<320> log likelihood: -626857\n",
      "INFO:lda:<330> log likelihood: -626718\n",
      "INFO:lda:<340> log likelihood: -626938\n",
      "INFO:lda:<350> log likelihood: -627385\n",
      "INFO:lda:<360> log likelihood: -626791\n",
      "INFO:lda:<370> log likelihood: -626577\n",
      "INFO:lda:<380> log likelihood: -626364\n",
      "INFO:lda:<390> log likelihood: -626132\n",
      "INFO:lda:<400> log likelihood: -625261\n",
      "INFO:lda:<410> log likelihood: -624755\n",
      "INFO:lda:<420> log likelihood: -624276\n",
      "INFO:lda:<430> log likelihood: -624064\n",
      "INFO:lda:<440> log likelihood: -624754\n",
      "INFO:lda:<450> log likelihood: -624249\n",
      "INFO:lda:<460> log likelihood: -624204\n",
      "INFO:lda:<470> log likelihood: -623940\n",
      "INFO:lda:<480> log likelihood: -624118\n",
      "INFO:lda:<490> log likelihood: -624189\n",
      "INFO:lda:<499> log likelihood: -623777\n"
     ]
    },
    {
     "data": {
      "text/plain": [
       "<lda.lda.LDA at 0x10fe82e48>"
      ]
     },
     "execution_count": 65,
     "metadata": {},
     "output_type": "execute_result"
    }
   ],
   "source": [
    "import lda\n",
    "\n",
    "# Build the model, we want  3 topics and iterate 500 times\n",
    "model = lda.LDA(n_topics=3, n_iter=500, random_state=1)\n",
    "\n",
    "# Fit the model with the matrix\n",
    "model.fit(plot_word_matrix)\n"
   ]
  },
  {
   "cell_type": "markdown",
   "metadata": {},
   "source": [
    "<li> \"model.topic\\_word\\_\" saves the importance of all words in each topic"
   ]
  },
  {
   "cell_type": "code",
   "execution_count": 66,
   "metadata": {
    "collapsed": false,
    "scrolled": false
   },
   "outputs": [],
   "source": [
    "topic_word_matrix = model.topic_word_ "
   ]
  },
  {
   "cell_type": "markdown",
   "metadata": {},
   "source": [
    " <li> The shape of \"model.topic\\_word\\_\" is (3 topics * 510 keywords)"
   ]
  },
  {
   "cell_type": "code",
   "execution_count": 67,
   "metadata": {
    "collapsed": false
   },
   "outputs": [
    {
     "data": {
      "text/plain": [
       "(3, 510)"
      ]
     },
     "execution_count": 67,
     "metadata": {},
     "output_type": "execute_result"
    }
   ],
   "source": [
    "# There are 3 topics and 510 keywords\n",
    "topic_word_matrix.shape"
   ]
  },
  {
   "cell_type": "markdown",
   "metadata": {},
   "source": [
    "<li> \"model.doc\\_topic\\_\" saves the importance of each plot in all topics"
   ]
  },
  {
   "cell_type": "code",
   "execution_count": 68,
   "metadata": {
    "collapsed": false
   },
   "outputs": [],
   "source": [
    "plot_topic_matrix = model.doc_topic_"
   ]
  },
  {
   "cell_type": "markdown",
   "metadata": {},
   "source": [
    "<li> The shape of \"model.doc\\_topic\\_\" is (238 documents * 3 topics)"
   ]
  },
  {
   "cell_type": "code",
   "execution_count": 69,
   "metadata": {
    "collapsed": false
   },
   "outputs": [
    {
     "data": {
      "text/plain": [
       "(238, 3)"
      ]
     },
     "execution_count": 69,
     "metadata": {},
     "output_type": "execute_result"
    }
   ],
   "source": [
    "# There are 238 movie plot and 3 movie topics\n",
    "plot_topic_matrix.shape"
   ]
  },
  {
   "cell_type": "markdown",
   "metadata": {},
   "source": [
    "### 5.2 Analyze LDA Result"
   ]
  },
  {
   "cell_type": "markdown",
   "metadata": {},
   "source": [
    "<li> LDA does not have the same 'clusters.labels_.tolist()' function that KMeans has.   \n",
    "<li> To see which movie is in which topic, we need to do the following:"
   ]
  },
  {
   "cell_type": "markdown",
   "metadata": {},
   "source": [
    "**Where can we read that information? **   \n",
    "\n",
    "From the 'plot_topic_matrix'   \n",
    "Take moive plot 0 'The Shawshank Redemption(1994)' as an example:   \n",
    "These five numbers denotes the this movie plot's topic coverage in five different topics"
   ]
  },
  {
   "cell_type": "code",
   "execution_count": 70,
   "metadata": {
    "collapsed": false
   },
   "outputs": [
    {
     "data": {
      "text/plain": [
       "array([ 0.48534834,  0.18843392,  0.32621774])"
      ]
     },
     "execution_count": 70,
     "metadata": {},
     "output_type": "execute_result"
    }
   ],
   "source": [
    "plot_topic_matrix[0] "
   ]
  },
  {
   "cell_type": "markdown",
   "metadata": {},
   "source": [
    "So to get which movie towards most to which topic, we find the max value:"
   ]
  },
  {
   "cell_type": "code",
   "execution_count": 71,
   "metadata": {
    "collapsed": false
   },
   "outputs": [
    {
     "data": {
      "text/plain": [
       "0.48534834077236566"
      ]
     },
     "execution_count": 71,
     "metadata": {},
     "output_type": "execute_result"
    }
   ],
   "source": [
    "plot_topic_matrix[0].max()"
   ]
  },
  {
   "cell_type": "markdown",
   "metadata": {},
   "source": [
    "But we need to index of the actual topic :"
   ]
  },
  {
   "cell_type": "code",
   "execution_count": 72,
   "metadata": {
    "collapsed": false
   },
   "outputs": [
    {
     "data": {
      "text/plain": [
       "0"
      ]
     },
     "execution_count": 72,
     "metadata": {},
     "output_type": "execute_result"
    }
   ],
   "source": [
    "plot_topic_matrix[0].argmax()  # 1 means movie 0 returns the highest probability on topic 1"
   ]
  },
  {
   "cell_type": "markdown",
   "metadata": {},
   "source": [
    "Now we know, 'The Shawshank Redemption(1994)' is in topic 1"
   ]
  },
  {
   "cell_type": "markdown",
   "metadata": {},
   "source": [
    "Do the above for all movies"
   ]
  },
  {
   "cell_type": "markdown",
   "metadata": {},
   "source": [
    "Set up a dict that has this structure {topic_Id: [list of movie names]}"
   ]
  },
  {
   "cell_type": "code",
   "execution_count": 73,
   "metadata": {
    "collapsed": false
   },
   "outputs": [],
   "source": [
    "topic_movieName_dict = {}\n",
    "\n",
    "for ith_row in range(len(plot_topic_matrix)):\n",
    "    topic_ID = plot_topic_matrix[ith_row].argmax()\n",
    "    if topic_ID not in topic_movieName_dict:\n",
    "        topic_movieName_dict[topic_ID] = [df3.MovieName[ith_row]]\n",
    "    else:\n",
    "        topic_movieName_dict[topic_ID].append(df3.MovieName[ith_row])"
   ]
  },
  {
   "cell_type": "code",
   "execution_count": 74,
   "metadata": {
    "collapsed": false
   },
   "outputs": [
    {
     "data": {
      "text/plain": [
       "{0: ['The Shawshank Redemption(1994)',\n",
       "  'The Godfather(1972)',\n",
       "  'The Godfather: Part II(1974)',\n",
       "  '12 Angry Men(1957)',\n",
       "  \"Schindler's List(1993)\",\n",
       "  'Pulp Fiction(1994)',\n",
       "  'Fight Club(1999)',\n",
       "  'Forrest Gump(1994)',\n",
       "  'Inception(2010)',\n",
       "  \"One Flew Over the Cuckoo's Nest(1975)\",\n",
       "  'Goodfellas(1990)',\n",
       "  'City of God(2002)',\n",
       "  'Se7en(1995)',\n",
       "  \"It's a Wonderful Life(1946)\",\n",
       "  'Life Is Beautiful(1997)',\n",
       "  'Léon: The Professional(1994)',\n",
       "  'Interstellar(2014)',\n",
       "  'The Green Mile(1999)',\n",
       "  'Psycho(1960)',\n",
       "  'Casablanca(1942)',\n",
       "  'City Lights(1931)',\n",
       "  'The Intouchables(2011)',\n",
       "  'The Pianist(2002)',\n",
       "  'Whiplash(2014)',\n",
       "  'Gladiator(2000)',\n",
       "  'The Prestige(2006)',\n",
       "  'Memento(2000)',\n",
       "  'Sunset Blvd.(1950)',\n",
       "  'Cinema Paradiso(1988)',\n",
       "  'The Lives of Others(2006)',\n",
       "  'Grave of the Fireflies(1988)',\n",
       "  'American Beauty(1999)',\n",
       "  'Blade Runner 2049(2017)',\n",
       "  'Oldeuboi(2003)',\n",
       "  'Witness for the Prosecution(1957)',\n",
       "  'Once Upon a Time in America(1984)',\n",
       "  'Dangal(2016)',\n",
       "  'Citizen Kane(1941)',\n",
       "  'Vertigo(1958)',\n",
       "  'Braveheart(1995)',\n",
       "  'M(1931)',\n",
       "  'Requiem for a Dream(2000)',\n",
       "  'Amélie(2001)',\n",
       "  'Taare Zameen Par(2007)',\n",
       "  'Kimi no na wa.(2016)',\n",
       "  'A Clockwork Orange(1971)',\n",
       "  'Amadeus(1984)',\n",
       "  'Double Indemnity(1944)',\n",
       "  'Eternal Sunshine of the Spotless Mind(2004)',\n",
       "  'Taxi Driver(1976)',\n",
       "  'To Kill a Mockingbird(1962)',\n",
       "  \"Singin' in the Rain(1952)\",\n",
       "  '3 Idiots(2009)',\n",
       "  'The Sting(1973)',\n",
       "  'Bicycle Thieves(1948)',\n",
       "  'Good Will Hunting(1997)',\n",
       "  'Jagten(2012)',\n",
       "  'Scarface(1983)',\n",
       "  'The Apartment(1960)',\n",
       "  'Metropolis(1927)',\n",
       "  'A Separation(2011)',\n",
       "  'All About Eve(1950)',\n",
       "  'Up(2009)',\n",
       "  'Batman Begins(2005)',\n",
       "  'Some Like It Hot(1959)',\n",
       "  'The Treasure of the Sierra Madre(1948)',\n",
       "  'Unforgiven(1992)',\n",
       "  'Raging Bull(1980)',\n",
       "  'Children of Heaven(1997)',\n",
       "  'Chinatown(1974)',\n",
       "  \"Pan's Labyrinth(2006)\",\n",
       "  'My Neighbor Totoro(1988)',\n",
       "  'Incendies(2010)',\n",
       "  'Ran(1985)',\n",
       "  'Judgment at Nuremberg(1961)',\n",
       "  'The Secret in Their Eyes(2009)',\n",
       "  'Inside Out(2015)',\n",
       "  'On the Waterfront(1954)',\n",
       "  'Room(2015)',\n",
       "  'Lock, Stock and Two Smoking Barrels(1998)',\n",
       "  'Mr. Smith Goes to Washington(1939)',\n",
       "  'A Beautiful Mind(2001)',\n",
       "  'Casino(1995)',\n",
       "  'The Elephant Man(1980)',\n",
       "  'V for Vendetta(2005)',\n",
       "  'The Wolf of Wall Street(2013)',\n",
       "  'Wild Strawberries(1957)',\n",
       "  'Warrior(2011)',\n",
       "  'Dial M for Murder(1954)',\n",
       "  'Trainspotting(1996)',\n",
       "  'Gran Torino(2008)',\n",
       "  'Gone with the Wind(1939)',\n",
       "  'The Deer Hunter(1978)',\n",
       "  'Sunrise(1927)',\n",
       "  'The Sixth Sense(1999)',\n",
       "  'Andrei Rublev(1966)',\n",
       "  'Tokyo Story(1953)',\n",
       "  'There Will Be Blood(2007)',\n",
       "  'Cool Hand Luke(1967)',\n",
       "  'Rebecca(1940)',\n",
       "  'Hacksaw Ridge(2016)',\n",
       "  'How to Train Your Dragon(2010)',\n",
       "  'Rang De Basanti(2006)',\n",
       "  'Mary and Max(2009)',\n",
       "  'Gone Girl(2014)',\n",
       "  'Shutter Island(2010)',\n",
       "  'Into the Wild(2007)',\n",
       "  'La La Land(2016)',\n",
       "  'Life of Brian(1979)',\n",
       "  'It Happened One Night(1934)',\n",
       "  'Logan(2017)',\n",
       "  'Hotel Rwanda(2004)',\n",
       "  'Network(1976)',\n",
       "  'In the Name of the Father(1993)',\n",
       "  'Stand by Me(1986)',\n",
       "  'Rush(2013)',\n",
       "  'The Grand Budapest Hotel(2014)',\n",
       "  'Ben-Hur(1959)',\n",
       "  'Persona(1966)',\n",
       "  'Memories of Murder(2003)',\n",
       "  '12 Years a Slave(2013)',\n",
       "  'Million Dollar Baby(2004)',\n",
       "  'Spotlight(2015)',\n",
       "  'The Truman Show(1998)',\n",
       "  'Amores Perros(2000)',\n",
       "  \"Hachi: A Dog's Tale(2009)\",\n",
       "  'Before Sunrise(1995)',\n",
       "  'The Princess Bride(1987)',\n",
       "  'The Maltese Falcon(1941)',\n",
       "  'Paper Moon(1973)',\n",
       "  'Prisoners(2013)',\n",
       "  'The Nights of Cabiria(1957)',\n",
       "  'The Grapes of Wrath(1940)',\n",
       "  'Rocky(1976)',\n",
       "  'Catch Me If You Can(2002)',\n",
       "  'Diabolique(1955)',\n",
       "  'Touch of Evil(1958)',\n",
       "  'Monsters, Inc.(2001)',\n",
       "  'Gandhi(1982)',\n",
       "  'Donnie Darko(2001)',\n",
       "  'Barry Lyndon(1975)',\n",
       "  'Annie Hall(1977)',\n",
       "  'The Wizard of Oz(1939)',\n",
       "  'Groundhog Day(1993)',\n",
       "  'Munna Bhai M.B.B.S.(2003)',\n",
       "  'The Best Years of Our Lives(1946)',\n",
       "  'Paris, Texas(1984)',\n",
       "  'In the Mood for Love(2000)',\n",
       "  'The Help(2011)',\n",
       "  'Dead Poets Society(1989)',\n",
       "  'Beauty and the Beast(1991)',\n",
       "  'Ah-ga-ssi(2016)',\n",
       "  'Dog Day Afternoon(1975)'],\n",
       " 1: ['The Dark Knight(2008)',\n",
       "  'The Matrix(1999)',\n",
       "  'Spirited Away(2001)',\n",
       "  'American History X(1998)',\n",
       "  'Once Upon a Time in the West(1968)',\n",
       "  'Rear Window(1954)',\n",
       "  'Terminator 2(1991)',\n",
       "  'Back to the Future(1985)',\n",
       "  'The Lion King(1994)',\n",
       "  'Alien(1979)',\n",
       "  'Paths of Glory(1957)',\n",
       "  'Django Unchained(2012)',\n",
       "  'The Shining(1980)',\n",
       "  'The Dark Knight Rises(2012)',\n",
       "  'Princess Mononoke(1997)',\n",
       "  'North by Northwest(1959)',\n",
       "  '2001: A Space Odyssey(1968)',\n",
       "  'Toy Story(1995)',\n",
       "  'Toy Story 3(2010)',\n",
       "  'Snatch(2000)',\n",
       "  'L.A. Confidential(1997)',\n",
       "  'Rashômon(1950)',\n",
       "  'Yojimbo(1961)',\n",
       "  'Heat(1995)',\n",
       "  'The Third Man(1949)',\n",
       "  'The Gold Rush(1925)',\n",
       "  \"Howl's Moving Castle(2004)\",\n",
       "  'The Seventh Seal(1957)',\n",
       "  'Blade Runner(1982)',\n",
       "  'The General(1926)',\n",
       "  'Fargo(1996)',\n",
       "  'The Thing(1982)',\n",
       "  'No Country for Old Men(2007)',\n",
       "  'The Big Lebowski(1998)',\n",
       "  'Finding Nemo(2003)',\n",
       "  'Kill Bill: Vol. 1(2003)',\n",
       "  'The Wages of Fear(1953)',\n",
       "  'Mad Max: Fury Road(2015)',\n",
       "  'Stalker(1979)',\n",
       "  'The Terminator(1984)'],\n",
       " 2: ['The Lord of the Rings: The Return of the King(2003)',\n",
       "  'The Good, the Bad and the Ugly(1966)',\n",
       "  'The Lord of the Rings: The Fellowship of the Ring(2001)',\n",
       "  'Star Wars: Episode V - The Empire Strikes Back(1980)',\n",
       "  'The Lord of the Rings: The Two Towers(2002)',\n",
       "  'Seven Samurai(1954)',\n",
       "  'Star Wars: Episode IV - A New Hope(1977)',\n",
       "  'The Silence of the Lambs(1991)',\n",
       "  'The Usual Suspects(1995)',\n",
       "  'Saving Private Ryan(1998)',\n",
       "  'Raiders of the Lost Ark(1981)',\n",
       "  'The Departed(2006)',\n",
       "  'Apocalypse Now(1979)',\n",
       "  'The Great Dictator(1940)',\n",
       "  'Dr. Strangelove or: How I Learned to Stop Worrying and Love the Bomb(1964)',\n",
       "  'WALL·E(2008)',\n",
       "  'Aliens(1986)',\n",
       "  'Das Boot(1981)',\n",
       "  'Star Wars: Episode VI - Return of the Jedi(1983)',\n",
       "  'Reservoir Dogs(1992)',\n",
       "  'Lawrence of Arabia(1962)',\n",
       "  'Full Metal Jacket(1987)',\n",
       "  'Inglourious Basterds(2009)',\n",
       "  'Monty Python and the Holy Grail(1975)',\n",
       "  'For a Few Dollars More(1965)',\n",
       "  'Dunkirk(2017)',\n",
       "  'Indiana Jones and the Last Crusade(1989)',\n",
       "  'Downfall(2004)',\n",
       "  'Die Hard(1988)',\n",
       "  'The Great Escape(1963)',\n",
       "  'The Bridge on the River Kwai(1957)',\n",
       "  'The Passion of Joan of Arc(1928)',\n",
       "  'Platoon(1986)',\n",
       "  'A Wednesday(2008)',\n",
       "  'Thor: Ragnarok(2017)',\n",
       "  'Jurassic Park(1993)',\n",
       "  'Butch Cassidy and the Sundance Kid(1969)',\n",
       "  'Harry Potter and the Deathly Hallows: Part 2(2011)',\n",
       "  'The Bourne Ultimatum(2007)',\n",
       "  'Star Wars: The Force Awakens(2015)',\n",
       "  'Jaws(1975)',\n",
       "  'Twelve Monkeys(1995)',\n",
       "  'Infernal Affairs(2002)',\n",
       "  'The Battle of Algiers(1966)',\n",
       "  'Pirates of the Caribbean: The Curse of the Black Pearl(2003)']}"
      ]
     },
     "execution_count": 74,
     "metadata": {},
     "output_type": "execute_result"
    }
   ],
   "source": [
    "# Inspect\n",
    "topic_movieName_dict"
   ]
  },
  {
   "cell_type": "markdown",
   "metadata": {},
   "source": [
    "For better visualization, we use a table to overview it"
   ]
  },
  {
   "cell_type": "code",
   "execution_count": 75,
   "metadata": {
    "collapsed": false
   },
   "outputs": [],
   "source": [
    "topic_movie_df = pd.DataFrame( [[k, v] for k, a in topic_movieName_dict.items() for v in a], columns=['Topic', 'MovieName'])"
   ]
  },
  {
   "cell_type": "code",
   "execution_count": 76,
   "metadata": {
    "collapsed": false
   },
   "outputs": [
    {
     "data": {
      "text/html": [
       "<div>\n",
       "<style>\n",
       "    .dataframe thead tr:only-child th {\n",
       "        text-align: right;\n",
       "    }\n",
       "\n",
       "    .dataframe thead th {\n",
       "        text-align: left;\n",
       "    }\n",
       "\n",
       "    .dataframe tbody tr th {\n",
       "        vertical-align: top;\n",
       "    }\n",
       "</style>\n",
       "<table border=\"1\" class=\"dataframe\">\n",
       "  <thead>\n",
       "    <tr style=\"text-align: right;\">\n",
       "      <th></th>\n",
       "      <th>Topic</th>\n",
       "      <th>MovieName</th>\n",
       "    </tr>\n",
       "  </thead>\n",
       "  <tbody>\n",
       "    <tr>\n",
       "      <th>0</th>\n",
       "      <td>0</td>\n",
       "      <td>The Shawshank Redemption(1994)</td>\n",
       "    </tr>\n",
       "    <tr>\n",
       "      <th>1</th>\n",
       "      <td>0</td>\n",
       "      <td>The Godfather(1972)</td>\n",
       "    </tr>\n",
       "    <tr>\n",
       "      <th>2</th>\n",
       "      <td>0</td>\n",
       "      <td>The Godfather: Part II(1974)</td>\n",
       "    </tr>\n",
       "    <tr>\n",
       "      <th>3</th>\n",
       "      <td>0</td>\n",
       "      <td>12 Angry Men(1957)</td>\n",
       "    </tr>\n",
       "    <tr>\n",
       "      <th>4</th>\n",
       "      <td>0</td>\n",
       "      <td>Schindler's List(1993)</td>\n",
       "    </tr>\n",
       "  </tbody>\n",
       "</table>\n",
       "</div>"
      ],
      "text/plain": [
       "   Topic                       MovieName\n",
       "0      0  The Shawshank Redemption(1994)\n",
       "1      0             The Godfather(1972)\n",
       "2      0    The Godfather: Part II(1974)\n",
       "3      0              12 Angry Men(1957)\n",
       "4      0          Schindler's List(1993)"
      ]
     },
     "execution_count": 76,
     "metadata": {},
     "output_type": "execute_result"
    }
   ],
   "source": [
    "# Inspect\n",
    "topic_movie_df[:5]"
   ]
  },
  {
   "cell_type": "markdown",
   "metadata": {},
   "source": [
    "Join these two dfs on movie names"
   ]
  },
  {
   "cell_type": "code",
   "execution_count": 77,
   "metadata": {
    "collapsed": false
   },
   "outputs": [],
   "source": [
    "df4 = df3.merge(topic_movie_df,on = 'MovieName')"
   ]
  },
  {
   "cell_type": "code",
   "execution_count": 78,
   "metadata": {
    "collapsed": false
   },
   "outputs": [
    {
     "data": {
      "text/html": [
       "<div>\n",
       "<style>\n",
       "    .dataframe thead tr:only-child th {\n",
       "        text-align: right;\n",
       "    }\n",
       "\n",
       "    .dataframe thead th {\n",
       "        text-align: left;\n",
       "    }\n",
       "\n",
       "    .dataframe tbody tr th {\n",
       "        vertical-align: top;\n",
       "    }\n",
       "</style>\n",
       "<table border=\"1\" class=\"dataframe\">\n",
       "  <thead>\n",
       "    <tr style=\"text-align: right;\">\n",
       "      <th></th>\n",
       "      <th>MovieId</th>\n",
       "      <th>Ranking</th>\n",
       "      <th>MovieName</th>\n",
       "      <th>MoviePlot</th>\n",
       "      <th>Topic</th>\n",
       "    </tr>\n",
       "  </thead>\n",
       "  <tbody>\n",
       "    <tr>\n",
       "      <th>0</th>\n",
       "      <td>tt0111161</td>\n",
       "      <td>1</td>\n",
       "      <td>The Shawshank Redemption(1994)</td>\n",
       "      <td>In 1947, Andy Dufresne (Tim Robbins), a banker...</td>\n",
       "      <td>0</td>\n",
       "    </tr>\n",
       "    <tr>\n",
       "      <th>1</th>\n",
       "      <td>tt0068646</td>\n",
       "      <td>2</td>\n",
       "      <td>The Godfather(1972)</td>\n",
       "      <td>In late summer 1945, guests are gathered for t...</td>\n",
       "      <td>0</td>\n",
       "    </tr>\n",
       "    <tr>\n",
       "      <th>2</th>\n",
       "      <td>tt0071562</td>\n",
       "      <td>3</td>\n",
       "      <td>The Godfather: Part II(1974)</td>\n",
       "      <td>The Godfather Part II presents two parallel st...</td>\n",
       "      <td>0</td>\n",
       "    </tr>\n",
       "    <tr>\n",
       "      <th>3</th>\n",
       "      <td>tt0468569</td>\n",
       "      <td>4</td>\n",
       "      <td>The Dark Knight(2008)</td>\n",
       "      <td>The movie begins with a gang of men with clown...</td>\n",
       "      <td>1</td>\n",
       "    </tr>\n",
       "    <tr>\n",
       "      <th>4</th>\n",
       "      <td>tt0050083</td>\n",
       "      <td>5</td>\n",
       "      <td>12 Angry Men(1957)</td>\n",
       "      <td>In a New York City courthouse, an eighteen-yea...</td>\n",
       "      <td>0</td>\n",
       "    </tr>\n",
       "  </tbody>\n",
       "</table>\n",
       "</div>"
      ],
      "text/plain": [
       "     MovieId  Ranking                       MovieName  \\\n",
       "0  tt0111161        1  The Shawshank Redemption(1994)   \n",
       "1  tt0068646        2             The Godfather(1972)   \n",
       "2  tt0071562        3    The Godfather: Part II(1974)   \n",
       "3  tt0468569        4           The Dark Knight(2008)   \n",
       "4  tt0050083        5              12 Angry Men(1957)   \n",
       "\n",
       "                                           MoviePlot  Topic  \n",
       "0  In 1947, Andy Dufresne (Tim Robbins), a banker...      0  \n",
       "1  In late summer 1945, guests are gathered for t...      0  \n",
       "2  The Godfather Part II presents two parallel st...      0  \n",
       "3  The movie begins with a gang of men with clown...      1  \n",
       "4  In a New York City courthouse, an eighteen-yea...      0  "
      ]
     },
     "execution_count": 78,
     "metadata": {},
     "output_type": "execute_result"
    }
   ],
   "source": [
    "# Inspect\n",
    "df4[:5]"
   ]
  },
  {
   "cell_type": "code",
   "execution_count": 79,
   "metadata": {
    "collapsed": true
   },
   "outputs": [],
   "source": [
    "# define a funtion to print top 5 keywords per topic ID\n",
    "def print_topic_keywords(topic_ID):\n",
    "    print (\"Topic \" + str(topic_ID)  + \" top 5 keywords: \" , end=\"\") \n",
    "    \n",
    "    topic_keywords_dict[topic_ID] = []\n",
    "    top5_keywords_index = topic_word_matrix[topic_ID].argsort()[:-6:-1]\n",
    "    for index in top5_keywords_index:\n",
    "        stemmed_word = all_words_from_tfidf[index] \n",
    "        unstemmed_word = stemmed_unstemmed_dict[stemmed_word] \n",
    "        topic_keywords_dict[topic_ID].append(unstemmed_word)\n",
    "   \n",
    "    print (\", \".join(topic_keywords_dict[topic_ID]))"
   ]
  },
  {
   "cell_type": "code",
   "execution_count": 80,
   "metadata": {
    "collapsed": true
   },
   "outputs": [],
   "source": [
    "# define a function to print all movies in that topic\n",
    "def print_topic_movies(topic_ID):\n",
    "    print (\"Topic \" + str(topic_ID) + \" has \" + str(len(topic_movieName_dict[topic_ID])) + \" movies : \" )\n",
    "    print (', '.join(topic_movieName_dict[topic_ID]))  \n",
    "    print ()"
   ]
  },
  {
   "cell_type": "markdown",
   "metadata": {},
   "source": [
    "Print out topic info"
   ]
  },
  {
   "cell_type": "code",
   "execution_count": 81,
   "metadata": {
    "collapsed": false
   },
   "outputs": [
    {
     "name": "stdout",
     "output_type": "stream",
     "text": [
      "<Movie Clustering Result by LDA>\n",
      "Topic 0 top 5 keywords: day, man, home, father, night\n",
      "Topic 0 has 153 movies : \n",
      "The Shawshank Redemption(1994), The Godfather(1972), The Godfather: Part II(1974), 12 Angry Men(1957), Schindler's List(1993), Pulp Fiction(1994), Fight Club(1999), Forrest Gump(1994), Inception(2010), One Flew Over the Cuckoo's Nest(1975), Goodfellas(1990), City of God(2002), Se7en(1995), It's a Wonderful Life(1946), Life Is Beautiful(1997), Léon: The Professional(1994), Interstellar(2014), The Green Mile(1999), Psycho(1960), Casablanca(1942), City Lights(1931), The Intouchables(2011), The Pianist(2002), Whiplash(2014), Gladiator(2000), The Prestige(2006), Memento(2000), Sunset Blvd.(1950), Cinema Paradiso(1988), The Lives of Others(2006), Grave of the Fireflies(1988), American Beauty(1999), Blade Runner 2049(2017), Oldeuboi(2003), Witness for the Prosecution(1957), Once Upon a Time in America(1984), Dangal(2016), Citizen Kane(1941), Vertigo(1958), Braveheart(1995), M(1931), Requiem for a Dream(2000), Amélie(2001), Taare Zameen Par(2007), Kimi no na wa.(2016), A Clockwork Orange(1971), Amadeus(1984), Double Indemnity(1944), Eternal Sunshine of the Spotless Mind(2004), Taxi Driver(1976), To Kill a Mockingbird(1962), Singin' in the Rain(1952), 3 Idiots(2009), The Sting(1973), Bicycle Thieves(1948), Good Will Hunting(1997), Jagten(2012), Scarface(1983), The Apartment(1960), Metropolis(1927), A Separation(2011), All About Eve(1950), Up(2009), Batman Begins(2005), Some Like It Hot(1959), The Treasure of the Sierra Madre(1948), Unforgiven(1992), Raging Bull(1980), Children of Heaven(1997), Chinatown(1974), Pan's Labyrinth(2006), My Neighbor Totoro(1988), Incendies(2010), Ran(1985), Judgment at Nuremberg(1961), The Secret in Their Eyes(2009), Inside Out(2015), On the Waterfront(1954), Room(2015), Lock, Stock and Two Smoking Barrels(1998), Mr. Smith Goes to Washington(1939), A Beautiful Mind(2001), Casino(1995), The Elephant Man(1980), V for Vendetta(2005), The Wolf of Wall Street(2013), Wild Strawberries(1957), Warrior(2011), Dial M for Murder(1954), Trainspotting(1996), Gran Torino(2008), Gone with the Wind(1939), The Deer Hunter(1978), Sunrise(1927), The Sixth Sense(1999), Andrei Rublev(1966), Tokyo Story(1953), There Will Be Blood(2007), Cool Hand Luke(1967), Rebecca(1940), Hacksaw Ridge(2016), How to Train Your Dragon(2010), Rang De Basanti(2006), Mary and Max(2009), Gone Girl(2014), Shutter Island(2010), Into the Wild(2007), La La Land(2016), Life of Brian(1979), It Happened One Night(1934), Logan(2017), Hotel Rwanda(2004), Network(1976), In the Name of the Father(1993), Stand by Me(1986), Rush(2013), The Grand Budapest Hotel(2014), Ben-Hur(1959), Persona(1966), Memories of Murder(2003), 12 Years a Slave(2013), Million Dollar Baby(2004), Spotlight(2015), The Truman Show(1998), Amores Perros(2000), Hachi: A Dog's Tale(2009), Before Sunrise(1995), The Princess Bride(1987), The Maltese Falcon(1941), Paper Moon(1973), Prisoners(2013), The Nights of Cabiria(1957), The Grapes of Wrath(1940), Rocky(1976), Catch Me If You Can(2002), Diabolique(1955), Touch of Evil(1958), Monsters, Inc.(2001), Gandhi(1982), Donnie Darko(2001), Barry Lyndon(1975), Annie Hall(1977), The Wizard of Oz(1939), Groundhog Day(1993), Munna Bhai M.B.B.S.(2003), The Best Years of Our Lives(1946), Paris, Texas(1984), In the Mood for Love(2000), The Help(2011), Dead Poets Society(1989), Beauty and the Beast(1991), Ah-ga-ssi(2016), Dog Day Afternoon(1975)\n",
      "\n",
      "Topic 1 top 5 keywords: saying, asks, looks, car, room\n",
      "Topic 1 has 40 movies : \n",
      "The Dark Knight(2008), The Matrix(1999), Spirited Away(2001), American History X(1998), Once Upon a Time in the West(1968), Rear Window(1954), Terminator 2(1991), Back to the Future(1985), The Lion King(1994), Alien(1979), Paths of Glory(1957), Django Unchained(2012), The Shining(1980), The Dark Knight Rises(2012), Princess Mononoke(1997), North by Northwest(1959), 2001: A Space Odyssey(1968), Toy Story(1995), Toy Story 3(2010), Snatch(2000), L.A. Confidential(1997), Rashômon(1950), Yojimbo(1961), Heat(1995), The Third Man(1949), The Gold Rush(1925), Howl's Moving Castle(2004), The Seventh Seal(1957), Blade Runner(1982), The General(1926), Fargo(1996), The Thing(1982), No Country for Old Men(2007), The Big Lebowski(1998), Finding Nemo(2003), Kill Bill: Vol. 1(2003), The Wages of Fear(1953), Mad Max: Fury Road(2015), Stalker(1979), The Terminator(1984)\n",
      "\n",
      "Topic 2 top 5 keywords: kill, men, orders, escaped, officers\n",
      "Topic 2 has 45 movies : \n",
      "The Lord of the Rings: The Return of the King(2003), The Good, the Bad and the Ugly(1966), The Lord of the Rings: The Fellowship of the Ring(2001), Star Wars: Episode V - The Empire Strikes Back(1980), The Lord of the Rings: The Two Towers(2002), Seven Samurai(1954), Star Wars: Episode IV - A New Hope(1977), The Silence of the Lambs(1991), The Usual Suspects(1995), Saving Private Ryan(1998), Raiders of the Lost Ark(1981), The Departed(2006), Apocalypse Now(1979), The Great Dictator(1940), Dr. Strangelove or: How I Learned to Stop Worrying and Love the Bomb(1964), WALL·E(2008), Aliens(1986), Das Boot(1981), Star Wars: Episode VI - Return of the Jedi(1983), Reservoir Dogs(1992), Lawrence of Arabia(1962), Full Metal Jacket(1987), Inglourious Basterds(2009), Monty Python and the Holy Grail(1975), For a Few Dollars More(1965), Dunkirk(2017), Indiana Jones and the Last Crusade(1989), Downfall(2004), Die Hard(1988), The Great Escape(1963), The Bridge on the River Kwai(1957), The Passion of Joan of Arc(1928), Platoon(1986), A Wednesday(2008), Thor: Ragnarok(2017), Jurassic Park(1993), Butch Cassidy and the Sundance Kid(1969), Harry Potter and the Deathly Hallows: Part 2(2011), The Bourne Ultimatum(2007), Star Wars: The Force Awakens(2015), Jaws(1975), Twelve Monkeys(1995), Infernal Affairs(2002), The Battle of Algiers(1966), Pirates of the Caribbean: The Curse of the Black Pearl(2003)\n",
      "\n"
     ]
    }
   ],
   "source": [
    "print (\"<Movie Clustering Result by LDA>\")\n",
    "\n",
    "topic_keywords_dict = {}\n",
    "\n",
    "for topic_ID in range(len(topic_word_matrix)):\n",
    "    print_topic_keywords(topic_ID)\n",
    "    print_topic_movies(topic_ID)"
   ]
  }
 ],
 "metadata": {
  "kernelspec": {
   "display_name": "Python 3",
   "language": "python",
   "name": "python3"
  },
  "language_info": {
   "codemirror_mode": {
    "name": "ipython",
    "version": 3
   },
   "file_extension": ".py",
   "mimetype": "text/x-python",
   "name": "python",
   "nbconvert_exporter": "python",
   "pygments_lexer": "ipython3",
   "version": "3.6.0"
  }
 },
 "nbformat": 4,
 "nbformat_minor": 0
}
