{
 "cells": [
  {
   "cell_type": "markdown",
   "metadata": {},
   "source": [
    "# Midterm take-home"
   ]
  },
  {
   "cell_type": "markdown",
   "metadata": {},
   "source": [
    "<p>Instructions\n",
    "<ol>\n",
    "<li>Download the file <i>appointments.csv</i> into the same folder as the current Jupyter notebook\n",
    "<li>Run the code below and then answer the questions\n",
    "</ol></p>"
   ]
  },
  {
   "cell_type": "markdown",
   "metadata": {},
   "source": [
    "<b>Penalties:</b> You will incur penalties if:\n",
    "<ul>\n",
    "<li>Your answer is different from the correct one</li>\n",
    "<li>Your code is unncessarily slow</li>\n",
    "<li>Your code is longer than specified</li>\n",
    "<li>You will be penalized if, in an attempt to limit the lines of code, you make your code too hard to read or too slow -- for example, by copy-pasting pieces of code in the same line instead of declaring a variable in one line and using the variable in another.\n",
    "</ul>"
   ]
  },
  {
   "cell_type": "code",
   "execution_count": 1,
   "metadata": {
    "collapsed": false
   },
   "outputs": [],
   "source": [
    "import pandas as pd\n",
    "import numpy as np\n",
    "df = pd.read_csv('appointments.csv', index_col=0)"
   ]
  },
  {
   "cell_type": "markdown",
   "metadata": {},
   "source": [
    "## Data Description"
   ]
  },
  {
   "cell_type": "code",
   "execution_count": 2,
   "metadata": {
    "collapsed": false
   },
   "outputs": [
    {
     "data": {
      "text/plain": [
       "41631"
      ]
     },
     "execution_count": 2,
     "metadata": {},
     "output_type": "execute_result"
    }
   ],
   "source": [
    "len(df)"
   ]
  },
  {
   "cell_type": "markdown",
   "metadata": {},
   "source": [
    "This is an appointment data set for an undisclosed outpatient clinic. One row corresponds to an appointment. Each appointment is characterized by the following attributes:\n",
    "<ul>\n",
    "<li><b>AppointmentID</b>: The unique identifier of the appointment.\n",
    "<li><b>MRN</b>: The unique identifier of the patient (MRN = Medical Record Number).\n",
    "<li><b>Appt Date</b>: The date when the appointment took place.\n",
    "<li><b>Appt Time</b>: The time (expressed in minutes after midnight) when the appointment took place.\n",
    "<li><b>Appointment Status</b>: The outcome of the appointment. \n",
    "    <ul>\n",
    "    <li><i>Arrived</i>: the appointment took place regularly.\n",
    "    <li><i>Cancelled</i>: the appointment was cancelled by the patient before taking place. \n",
    "    <li><i>Bumped</i>: the appointment was cancelled by the provider.\n",
    "    <li><i>No Show</i>: the patient did not show up for the appointment.\n",
    "    <li><i>Pending</i>: the appointment did not take place yet in the moment when the data was pulled.\n",
    "    </ul>\n",
    "<li><b>Time When Appt Arrived</b>: The time (expressed in minutes after midnight) when the patient checked in on the appointment day.\n",
    "<li><b>Date When Appt Scheduled</b>: The day when the appointment was scheduled\n",
    "<li><b>CAN or BMP Date</b>: If the appointment was cancelled or bumped, the date when this even happened.\n",
    "<li><b>Provider ID</b>: The id of the provider scheduled to see the patient.\n",
    "<li><b>Gender</b>: The patient's gender.\n",
    "<li><b>Patient Age at Appt Date</b>: The age of the patient at Appt Date.\n",
    "<li><b>Marital Status</b>: The patient's marital status.\n",
    "<li><b>Employment status</b>: The patient's employment status.\n",
    "</ul>"
   ]
  },
  {
   "cell_type": "markdown",
   "metadata": {},
   "source": [
    "## Question 1 (2 pts, $\\le$ 3 lines of code)"
   ]
  },
  {
   "cell_type": "markdown",
   "metadata": {},
   "source": [
    "Find whether marital status and gender affect the probability of no-show. First, you will need to make a copy of df without the appointments whose outcome is different from no-show or arrived. Then, for each existing combination of marital status and gender, find the number of appointments and their probability of no-show. <b>Use at most 3 lines of code</b>."
   ]
  },
  {
   "cell_type": "code",
   "execution_count": 3,
   "metadata": {
    "collapsed": false
   },
   "outputs": [],
   "source": [
    "dfcopy = df[(df['Appointment Status'] == 'No Show') | (df['Appointment Status'] == 'Arrived')].copy()"
   ]
  },
  {
   "cell_type": "code",
   "execution_count": 4,
   "metadata": {
    "collapsed": false,
    "scrolled": true
   },
   "outputs": [],
   "source": [
    "dfcopy['No Show'] = dfcopy['Appointment Status'] == 'No Show'"
   ]
  },
  {
   "cell_type": "code",
   "execution_count": 36,
   "metadata": {
    "collapsed": false
   },
   "outputs": [
    {
     "data": {
      "text/html": [
       "<div>\n",
       "<style>\n",
       "    .dataframe thead tr:only-child th {\n",
       "        text-align: right;\n",
       "    }\n",
       "\n",
       "    .dataframe thead th {\n",
       "        text-align: left;\n",
       "    }\n",
       "\n",
       "    .dataframe tbody tr th {\n",
       "        vertical-align: top;\n",
       "    }\n",
       "</style>\n",
       "<table border=\"1\" class=\"dataframe\">\n",
       "  <thead>\n",
       "    <tr>\n",
       "      <th></th>\n",
       "      <th></th>\n",
       "      <th colspan=\"2\" halign=\"left\">No Show</th>\n",
       "    </tr>\n",
       "    <tr>\n",
       "      <th></th>\n",
       "      <th></th>\n",
       "      <th>Number of No Show</th>\n",
       "      <th>Probability of No Show</th>\n",
       "    </tr>\n",
       "    <tr>\n",
       "      <th>Marital Status</th>\n",
       "      <th>Gender</th>\n",
       "      <th></th>\n",
       "      <th></th>\n",
       "    </tr>\n",
       "  </thead>\n",
       "  <tbody>\n",
       "    <tr>\n",
       "      <th rowspan=\"2\" valign=\"top\">DIVORCED</th>\n",
       "      <th>F</th>\n",
       "      <td>379</td>\n",
       "      <td>0.157392</td>\n",
       "    </tr>\n",
       "    <tr>\n",
       "      <th>M</th>\n",
       "      <td>91</td>\n",
       "      <td>0.172023</td>\n",
       "    </tr>\n",
       "    <tr>\n",
       "      <th>LIFE PARTNER</th>\n",
       "      <th>F</th>\n",
       "      <td>2</td>\n",
       "      <td>0.095238</td>\n",
       "    </tr>\n",
       "    <tr>\n",
       "      <th rowspan=\"2\" valign=\"top\">MARRIED</th>\n",
       "      <th>F</th>\n",
       "      <td>868</td>\n",
       "      <td>0.100719</td>\n",
       "    </tr>\n",
       "    <tr>\n",
       "      <th>M</th>\n",
       "      <td>463</td>\n",
       "      <td>0.127478</td>\n",
       "    </tr>\n",
       "    <tr>\n",
       "      <th rowspan=\"2\" valign=\"top\">SEPARATED</th>\n",
       "      <th>F</th>\n",
       "      <td>187</td>\n",
       "      <td>0.267143</td>\n",
       "    </tr>\n",
       "    <tr>\n",
       "      <th>M</th>\n",
       "      <td>42</td>\n",
       "      <td>0.250000</td>\n",
       "    </tr>\n",
       "    <tr>\n",
       "      <th rowspan=\"2\" valign=\"top\">SINGLE</th>\n",
       "      <th>F</th>\n",
       "      <td>1171</td>\n",
       "      <td>0.199116</td>\n",
       "    </tr>\n",
       "    <tr>\n",
       "      <th>M</th>\n",
       "      <td>514</td>\n",
       "      <td>0.219377</td>\n",
       "    </tr>\n",
       "    <tr>\n",
       "      <th rowspan=\"2\" valign=\"top\">UNKNOWN</th>\n",
       "      <th>F</th>\n",
       "      <td>9</td>\n",
       "      <td>0.409091</td>\n",
       "    </tr>\n",
       "    <tr>\n",
       "      <th>M</th>\n",
       "      <td>4</td>\n",
       "      <td>0.285714</td>\n",
       "    </tr>\n",
       "    <tr>\n",
       "      <th rowspan=\"2\" valign=\"top\">WIDOW</th>\n",
       "      <th>F</th>\n",
       "      <td>287</td>\n",
       "      <td>0.150419</td>\n",
       "    </tr>\n",
       "    <tr>\n",
       "      <th>M</th>\n",
       "      <td>25</td>\n",
       "      <td>0.183824</td>\n",
       "    </tr>\n",
       "  </tbody>\n",
       "</table>\n",
       "</div>"
      ],
      "text/plain": [
       "                                No Show                       \n",
       "                      Number of No Show Probability of No Show\n",
       "Marital Status Gender                                         \n",
       "DIVORCED       F                    379               0.157392\n",
       "               M                     91               0.172023\n",
       "LIFE PARTNER   F                      2               0.095238\n",
       "MARRIED        F                    868               0.100719\n",
       "               M                    463               0.127478\n",
       "SEPARATED      F                    187               0.267143\n",
       "               M                     42               0.250000\n",
       "SINGLE         F                   1171               0.199116\n",
       "               M                    514               0.219377\n",
       "UNKNOWN        F                      9               0.409091\n",
       "               M                      4               0.285714\n",
       "WIDOW          F                    287               0.150419\n",
       "               M                     25               0.183824"
      ]
     },
     "execution_count": 36,
     "metadata": {},
     "output_type": "execute_result"
    }
   ],
   "source": [
    "dfcopy.groupby(by = ['Marital Status','Gender']).agg({'No Show': [lambda se: len(se[se.values == True]), 'mean']}).rename(columns = {'<lambda>':'Number of No Show','mean':'Probability of No Show'})"
   ]
  },
  {
   "cell_type": "markdown",
   "metadata": {},
   "source": [
    "## Question 2 (2 pts, $\\le$ 3 lines of code)"
   ]
  },
  {
   "cell_type": "markdown",
   "metadata": {},
   "source": [
    "<p>Using the data frame constructed in Q1, find whether the lead time to the appointment affects the probability of no-show. The lead time to the appointment is the number of days elapsed from the moment when the appointment was requested to the appointment date. </p>\n",
    "<p>Find the no-show probability and number of appointments for each of the following lead time intervals (pay attention to the interval boundaries):\n",
    "<ul>\n",
    "<li>$\\le$ 10 days\n",
    "<li>between 11 and 20 days\n",
    "<li>between 21 and 30 days\n",
    "<li>over 30 days\n",
    "</ul>\n",
    "<p> <b>Use at most 3 lines of code</b>. Hint: You may find the function pd.cut helpful.</p>"
   ]
  },
  {
   "cell_type": "code",
   "execution_count": 6,
   "metadata": {
    "collapsed": false
   },
   "outputs": [],
   "source": [
    "dfcopy['leadTime'] = (pd.to_datetime(dfcopy['Appt Date']) - pd.to_datetime(dfcopy['Date When Appt Scheduled'])).dt.days"
   ]
  },
  {
   "cell_type": "code",
   "execution_count": 7,
   "metadata": {
    "collapsed": false
   },
   "outputs": [],
   "source": [
    "dfcopy['LeadTimeInterval'] = pd.cut(dfcopy.leadTime, [0, 11, 21, 31, dfcopy.leadTime.max() + 1], right=False, labels=['≤ 10 days','between 11 and 20 days','between 21 and 30 days','over 30 days'])"
   ]
  },
  {
   "cell_type": "code",
   "execution_count": 8,
   "metadata": {
    "collapsed": false
   },
   "outputs": [
    {
     "data": {
      "text/html": [
       "<div>\n",
       "<style>\n",
       "    .dataframe thead tr:only-child th {\n",
       "        text-align: right;\n",
       "    }\n",
       "\n",
       "    .dataframe thead th {\n",
       "        text-align: left;\n",
       "    }\n",
       "\n",
       "    .dataframe tbody tr th {\n",
       "        vertical-align: top;\n",
       "    }\n",
       "</style>\n",
       "<table border=\"1\" class=\"dataframe\">\n",
       "  <thead>\n",
       "    <tr>\n",
       "      <th></th>\n",
       "      <th colspan=\"2\" halign=\"left\">No Show</th>\n",
       "    </tr>\n",
       "    <tr>\n",
       "      <th></th>\n",
       "      <th>Number of No Show</th>\n",
       "      <th>Probability of No Show</th>\n",
       "    </tr>\n",
       "    <tr>\n",
       "      <th>LeadTimeInterval</th>\n",
       "      <th></th>\n",
       "      <th></th>\n",
       "    </tr>\n",
       "  </thead>\n",
       "  <tbody>\n",
       "    <tr>\n",
       "      <th>≤ 10 days</th>\n",
       "      <td>587</td>\n",
       "      <td>0.106341</td>\n",
       "    </tr>\n",
       "    <tr>\n",
       "      <th>between 11 and 20 days</th>\n",
       "      <td>553</td>\n",
       "      <td>0.151300</td>\n",
       "    </tr>\n",
       "    <tr>\n",
       "      <th>between 21 and 30 days</th>\n",
       "      <td>515</td>\n",
       "      <td>0.163856</td>\n",
       "    </tr>\n",
       "    <tr>\n",
       "      <th>over 30 days</th>\n",
       "      <td>2391</td>\n",
       "      <td>0.169864</td>\n",
       "    </tr>\n",
       "  </tbody>\n",
       "</table>\n",
       "</div>"
      ],
      "text/plain": [
       "                                 No Show                       \n",
       "                       Number of No Show Probability of No Show\n",
       "LeadTimeInterval                                               \n",
       "≤ 10 days                            587               0.106341\n",
       "between 11 and 20 days               553               0.151300\n",
       "between 21 and 30 days               515               0.163856\n",
       "over 30 days                        2391               0.169864"
      ]
     },
     "execution_count": 8,
     "metadata": {},
     "output_type": "execute_result"
    }
   ],
   "source": [
    "dfcopy.groupby('LeadTimeInterval').agg({'No Show': [lambda se: len(se[se.values == True]), 'mean']}).rename(columns = {'<lambda>':'Number of No Show','mean':'Probability of No Show'})"
   ]
  },
  {
   "cell_type": "markdown",
   "metadata": {},
   "source": [
    "## Question 3 (6 pts, $\\le$ 8 lines of code not including comments, $\\le$ 20 words of explanation)"
   ]
  },
  {
   "cell_type": "markdown",
   "metadata": {},
   "source": [
    "<p>Using the data frame constructed in Q1, find whether the no-show probability of a given appointment is affected by the patient's no-show behavior prior to that appointment. Do not consider first-time appointments. </p>\n",
    "\n",
    "<p>Present your results with one table and then discuss it in at most 20 words. Make sure that your table is easy to understand; for example, try to use descriptive column headers.</p>\n",
    "\n",
    "<p> This problem is left vague on purpose. In particular, how to analyze past no-show behavior is up to you. No help will be given to answer this question, aside from clarifications on the wording and on the data. </p>"
   ]
  },
  {
   "cell_type": "markdown",
   "metadata": {},
   "source": [
    "##### Group data by patients and aggregate on their Appointment Status.     \n",
    "For instance, if certain patient has 3 appointments, then his/her Appointment Status behavior list will look like    \n",
    "[No Show, No Show, Arrived]"
   ]
  },
  {
   "cell_type": "code",
   "execution_count": 40,
   "metadata": {
    "collapsed": false
   },
   "outputs": [
    {
     "data": {
      "text/html": [
       "<div>\n",
       "<style>\n",
       "    .dataframe thead tr:only-child th {\n",
       "        text-align: right;\n",
       "    }\n",
       "\n",
       "    .dataframe thead th {\n",
       "        text-align: left;\n",
       "    }\n",
       "\n",
       "    .dataframe tbody tr th {\n",
       "        vertical-align: top;\n",
       "    }\n",
       "</style>\n",
       "<table border=\"1\" class=\"dataframe\">\n",
       "  <thead>\n",
       "    <tr style=\"text-align: right;\">\n",
       "      <th></th>\n",
       "      <th>AppointmentID</th>\n",
       "      <th>MRN</th>\n",
       "      <th>Appt Date</th>\n",
       "      <th>Appt Time</th>\n",
       "      <th>Appointment Status</th>\n",
       "      <th>Time When Appt Arrived</th>\n",
       "      <th>Date When Appt Scheduled</th>\n",
       "      <th>CAN or BMP Date</th>\n",
       "      <th>Provider ID</th>\n",
       "      <th>Gender</th>\n",
       "      <th>Patient Age at Appt Date</th>\n",
       "      <th>Marital Status</th>\n",
       "      <th>Employment Status</th>\n",
       "      <th>No Show</th>\n",
       "      <th>leadTime</th>\n",
       "      <th>LeadTimeInterval</th>\n",
       "    </tr>\n",
       "  </thead>\n",
       "  <tbody>\n",
       "    <tr>\n",
       "      <th>1</th>\n",
       "      <td>2</td>\n",
       "      <td>7264</td>\n",
       "      <td>2013-11-14</td>\n",
       "      <td>780</td>\n",
       "      <td>Arrived</td>\n",
       "      <td>759.0</td>\n",
       "      <td>2013-05-20</td>\n",
       "      <td>NaN</td>\n",
       "      <td>15</td>\n",
       "      <td>F</td>\n",
       "      <td>33</td>\n",
       "      <td>MARRIED</td>\n",
       "      <td>NOT EMPLOYED</td>\n",
       "      <td>False</td>\n",
       "      <td>178</td>\n",
       "      <td>over 30 days</td>\n",
       "    </tr>\n",
       "    <tr>\n",
       "      <th>2</th>\n",
       "      <td>3</td>\n",
       "      <td>9903</td>\n",
       "      <td>2013-10-16</td>\n",
       "      <td>720</td>\n",
       "      <td>Arrived</td>\n",
       "      <td>708.0</td>\n",
       "      <td>2013-06-12</td>\n",
       "      <td>NaN</td>\n",
       "      <td>15</td>\n",
       "      <td>F</td>\n",
       "      <td>40</td>\n",
       "      <td>MARRIED</td>\n",
       "      <td>EMPLOYED FULL TIME</td>\n",
       "      <td>False</td>\n",
       "      <td>126</td>\n",
       "      <td>over 30 days</td>\n",
       "    </tr>\n",
       "    <tr>\n",
       "      <th>3</th>\n",
       "      <td>4</td>\n",
       "      <td>9588</td>\n",
       "      <td>2012-12-13</td>\n",
       "      <td>720</td>\n",
       "      <td>Arrived</td>\n",
       "      <td>712.0</td>\n",
       "      <td>2012-11-19</td>\n",
       "      <td>NaN</td>\n",
       "      <td>15</td>\n",
       "      <td>F</td>\n",
       "      <td>25</td>\n",
       "      <td>SINGLE</td>\n",
       "      <td>EMPLOYED FULL TIME</td>\n",
       "      <td>False</td>\n",
       "      <td>24</td>\n",
       "      <td>between 21 and 30 days</td>\n",
       "    </tr>\n",
       "    <tr>\n",
       "      <th>5</th>\n",
       "      <td>6</td>\n",
       "      <td>4706</td>\n",
       "      <td>2013-07-04</td>\n",
       "      <td>720</td>\n",
       "      <td>Arrived</td>\n",
       "      <td>713.0</td>\n",
       "      <td>2013-06-24</td>\n",
       "      <td>NaN</td>\n",
       "      <td>15</td>\n",
       "      <td>F</td>\n",
       "      <td>26</td>\n",
       "      <td>SINGLE</td>\n",
       "      <td>EMPLOYED FULL TIME</td>\n",
       "      <td>False</td>\n",
       "      <td>10</td>\n",
       "      <td>≤ 10 days</td>\n",
       "    </tr>\n",
       "    <tr>\n",
       "      <th>7</th>\n",
       "      <td>8</td>\n",
       "      <td>5786</td>\n",
       "      <td>2013-05-09</td>\n",
       "      <td>630</td>\n",
       "      <td>Arrived</td>\n",
       "      <td>621.0</td>\n",
       "      <td>2013-05-07</td>\n",
       "      <td>NaN</td>\n",
       "      <td>15</td>\n",
       "      <td>F</td>\n",
       "      <td>50</td>\n",
       "      <td>MARRIED</td>\n",
       "      <td>EMPLOYED PART TIME</td>\n",
       "      <td>False</td>\n",
       "      <td>2</td>\n",
       "      <td>≤ 10 days</td>\n",
       "    </tr>\n",
       "    <tr>\n",
       "      <th>9</th>\n",
       "      <td>10</td>\n",
       "      <td>2429</td>\n",
       "      <td>2012-07-26</td>\n",
       "      <td>690</td>\n",
       "      <td>Arrived</td>\n",
       "      <td>708.0</td>\n",
       "      <td>2011-07-28</td>\n",
       "      <td>NaN</td>\n",
       "      <td>15</td>\n",
       "      <td>F</td>\n",
       "      <td>37</td>\n",
       "      <td>SINGLE</td>\n",
       "      <td>EMPLOYED FULL TIME</td>\n",
       "      <td>False</td>\n",
       "      <td>364</td>\n",
       "      <td>over 30 days</td>\n",
       "    </tr>\n",
       "    <tr>\n",
       "      <th>10</th>\n",
       "      <td>11</td>\n",
       "      <td>9592</td>\n",
       "      <td>2012-12-13</td>\n",
       "      <td>600</td>\n",
       "      <td>Arrived</td>\n",
       "      <td>601.0</td>\n",
       "      <td>2012-07-05</td>\n",
       "      <td>NaN</td>\n",
       "      <td>15</td>\n",
       "      <td>F</td>\n",
       "      <td>24</td>\n",
       "      <td>SINGLE</td>\n",
       "      <td>EMPLOYED PART TIME</td>\n",
       "      <td>False</td>\n",
       "      <td>161</td>\n",
       "      <td>over 30 days</td>\n",
       "    </tr>\n",
       "    <tr>\n",
       "      <th>12</th>\n",
       "      <td>13</td>\n",
       "      <td>5802</td>\n",
       "      <td>2012-12-25</td>\n",
       "      <td>600</td>\n",
       "      <td>Arrived</td>\n",
       "      <td>594.0</td>\n",
       "      <td>2012-12-03</td>\n",
       "      <td>NaN</td>\n",
       "      <td>15</td>\n",
       "      <td>F</td>\n",
       "      <td>22</td>\n",
       "      <td>SINGLE</td>\n",
       "      <td>NOT EMPLOYED</td>\n",
       "      <td>False</td>\n",
       "      <td>22</td>\n",
       "      <td>between 21 and 30 days</td>\n",
       "    </tr>\n",
       "    <tr>\n",
       "      <th>15</th>\n",
       "      <td>16</td>\n",
       "      <td>1177</td>\n",
       "      <td>2012-05-10</td>\n",
       "      <td>660</td>\n",
       "      <td>Arrived</td>\n",
       "      <td>661.0</td>\n",
       "      <td>2011-10-27</td>\n",
       "      <td>NaN</td>\n",
       "      <td>15</td>\n",
       "      <td>M</td>\n",
       "      <td>74</td>\n",
       "      <td>MARRIED</td>\n",
       "      <td>RETIRED</td>\n",
       "      <td>False</td>\n",
       "      <td>196</td>\n",
       "      <td>over 30 days</td>\n",
       "    </tr>\n",
       "    <tr>\n",
       "      <th>19</th>\n",
       "      <td>20</td>\n",
       "      <td>411</td>\n",
       "      <td>2011-12-22</td>\n",
       "      <td>690</td>\n",
       "      <td>Arrived</td>\n",
       "      <td>689.0</td>\n",
       "      <td>2011-08-22</td>\n",
       "      <td>NaN</td>\n",
       "      <td>15</td>\n",
       "      <td>F</td>\n",
       "      <td>26</td>\n",
       "      <td>SINGLE</td>\n",
       "      <td>EMPLOYED PART TIME</td>\n",
       "      <td>False</td>\n",
       "      <td>122</td>\n",
       "      <td>over 30 days</td>\n",
       "    </tr>\n",
       "    <tr>\n",
       "      <th>20</th>\n",
       "      <td>21</td>\n",
       "      <td>9437</td>\n",
       "      <td>2011-12-22</td>\n",
       "      <td>720</td>\n",
       "      <td>Arrived</td>\n",
       "      <td>732.0</td>\n",
       "      <td>2011-12-20</td>\n",
       "      <td>NaN</td>\n",
       "      <td>15</td>\n",
       "      <td>F</td>\n",
       "      <td>22</td>\n",
       "      <td>SINGLE</td>\n",
       "      <td>NOT EMPLOYED</td>\n",
       "      <td>False</td>\n",
       "      <td>2</td>\n",
       "      <td>≤ 10 days</td>\n",
       "    </tr>\n",
       "    <tr>\n",
       "      <th>22</th>\n",
       "      <td>23</td>\n",
       "      <td>12197</td>\n",
       "      <td>2011-12-08</td>\n",
       "      <td>660</td>\n",
       "      <td>Arrived</td>\n",
       "      <td>703.0</td>\n",
       "      <td>2011-05-11</td>\n",
       "      <td>NaN</td>\n",
       "      <td>15</td>\n",
       "      <td>F</td>\n",
       "      <td>47</td>\n",
       "      <td>MARRIED</td>\n",
       "      <td>EMPLOYED FULL TIME</td>\n",
       "      <td>False</td>\n",
       "      <td>211</td>\n",
       "      <td>over 30 days</td>\n",
       "    </tr>\n",
       "    <tr>\n",
       "      <th>24</th>\n",
       "      <td>25</td>\n",
       "      <td>3741</td>\n",
       "      <td>2011-09-08</td>\n",
       "      <td>660</td>\n",
       "      <td>No Show</td>\n",
       "      <td>NaN</td>\n",
       "      <td>2010-09-16</td>\n",
       "      <td>NaN</td>\n",
       "      <td>15</td>\n",
       "      <td>F</td>\n",
       "      <td>55</td>\n",
       "      <td>DIVORCED</td>\n",
       "      <td>RETIRED</td>\n",
       "      <td>True</td>\n",
       "      <td>357</td>\n",
       "      <td>over 30 days</td>\n",
       "    </tr>\n",
       "    <tr>\n",
       "      <th>25</th>\n",
       "      <td>26</td>\n",
       "      <td>7077</td>\n",
       "      <td>2011-04-14</td>\n",
       "      <td>690</td>\n",
       "      <td>Arrived</td>\n",
       "      <td>669.0</td>\n",
       "      <td>2010-12-23</td>\n",
       "      <td>NaN</td>\n",
       "      <td>15</td>\n",
       "      <td>F</td>\n",
       "      <td>34</td>\n",
       "      <td>MARRIED</td>\n",
       "      <td>EMPLOYED FULL TIME</td>\n",
       "      <td>False</td>\n",
       "      <td>112</td>\n",
       "      <td>over 30 days</td>\n",
       "    </tr>\n",
       "    <tr>\n",
       "      <th>26</th>\n",
       "      <td>27</td>\n",
       "      <td>12665</td>\n",
       "      <td>2011-03-10</td>\n",
       "      <td>810</td>\n",
       "      <td>Arrived</td>\n",
       "      <td>804.0</td>\n",
       "      <td>2010-11-19</td>\n",
       "      <td>NaN</td>\n",
       "      <td>15</td>\n",
       "      <td>F</td>\n",
       "      <td>43</td>\n",
       "      <td>MARRIED</td>\n",
       "      <td>EMPLOYED FULL TIME</td>\n",
       "      <td>False</td>\n",
       "      <td>111</td>\n",
       "      <td>over 30 days</td>\n",
       "    </tr>\n",
       "    <tr>\n",
       "      <th>27</th>\n",
       "      <td>28</td>\n",
       "      <td>10610</td>\n",
       "      <td>2011-03-10</td>\n",
       "      <td>780</td>\n",
       "      <td>Arrived</td>\n",
       "      <td>795.0</td>\n",
       "      <td>2010-08-12</td>\n",
       "      <td>NaN</td>\n",
       "      <td>15</td>\n",
       "      <td>F</td>\n",
       "      <td>42</td>\n",
       "      <td>MARRIED</td>\n",
       "      <td>EMPLOYED FULL TIME</td>\n",
       "      <td>False</td>\n",
       "      <td>210</td>\n",
       "      <td>over 30 days</td>\n",
       "    </tr>\n",
       "    <tr>\n",
       "      <th>28</th>\n",
       "      <td>29</td>\n",
       "      <td>10317</td>\n",
       "      <td>2011-01-27</td>\n",
       "      <td>660</td>\n",
       "      <td>Arrived</td>\n",
       "      <td>664.0</td>\n",
       "      <td>2010-01-21</td>\n",
       "      <td>NaN</td>\n",
       "      <td>15</td>\n",
       "      <td>F</td>\n",
       "      <td>26</td>\n",
       "      <td>MARRIED</td>\n",
       "      <td>EMPLOYED FULL TIME</td>\n",
       "      <td>False</td>\n",
       "      <td>371</td>\n",
       "      <td>over 30 days</td>\n",
       "    </tr>\n",
       "    <tr>\n",
       "      <th>32</th>\n",
       "      <td>33</td>\n",
       "      <td>7655</td>\n",
       "      <td>2013-09-30</td>\n",
       "      <td>600</td>\n",
       "      <td>Arrived</td>\n",
       "      <td>592.0</td>\n",
       "      <td>2013-09-16</td>\n",
       "      <td>NaN</td>\n",
       "      <td>15</td>\n",
       "      <td>F</td>\n",
       "      <td>42</td>\n",
       "      <td>SINGLE</td>\n",
       "      <td>EMPLOYED FULL TIME</td>\n",
       "      <td>False</td>\n",
       "      <td>14</td>\n",
       "      <td>between 11 and 20 days</td>\n",
       "    </tr>\n",
       "    <tr>\n",
       "      <th>33</th>\n",
       "      <td>34</td>\n",
       "      <td>3225</td>\n",
       "      <td>2012-11-22</td>\n",
       "      <td>720</td>\n",
       "      <td>Arrived</td>\n",
       "      <td>718.0</td>\n",
       "      <td>2012-09-18</td>\n",
       "      <td>NaN</td>\n",
       "      <td>15</td>\n",
       "      <td>F</td>\n",
       "      <td>31</td>\n",
       "      <td>MARRIED</td>\n",
       "      <td>EMPLOYED FULL TIME</td>\n",
       "      <td>False</td>\n",
       "      <td>65</td>\n",
       "      <td>over 30 days</td>\n",
       "    </tr>\n",
       "    <tr>\n",
       "      <th>34</th>\n",
       "      <td>35</td>\n",
       "      <td>3895</td>\n",
       "      <td>2012-05-10</td>\n",
       "      <td>690</td>\n",
       "      <td>Arrived</td>\n",
       "      <td>680.0</td>\n",
       "      <td>2011-11-07</td>\n",
       "      <td>NaN</td>\n",
       "      <td>15</td>\n",
       "      <td>F</td>\n",
       "      <td>29</td>\n",
       "      <td>SINGLE</td>\n",
       "      <td>EMPLOYED FULL TIME</td>\n",
       "      <td>False</td>\n",
       "      <td>185</td>\n",
       "      <td>over 30 days</td>\n",
       "    </tr>\n",
       "  </tbody>\n",
       "</table>\n",
       "</div>"
      ],
      "text/plain": [
       "    AppointmentID    MRN   Appt Date  Appt Time Appointment Status  \\\n",
       "1               2   7264  2013-11-14        780            Arrived   \n",
       "2               3   9903  2013-10-16        720            Arrived   \n",
       "3               4   9588  2012-12-13        720            Arrived   \n",
       "5               6   4706  2013-07-04        720            Arrived   \n",
       "7               8   5786  2013-05-09        630            Arrived   \n",
       "9              10   2429  2012-07-26        690            Arrived   \n",
       "10             11   9592  2012-12-13        600            Arrived   \n",
       "12             13   5802  2012-12-25        600            Arrived   \n",
       "15             16   1177  2012-05-10        660            Arrived   \n",
       "19             20    411  2011-12-22        690            Arrived   \n",
       "20             21   9437  2011-12-22        720            Arrived   \n",
       "22             23  12197  2011-12-08        660            Arrived   \n",
       "24             25   3741  2011-09-08        660            No Show   \n",
       "25             26   7077  2011-04-14        690            Arrived   \n",
       "26             27  12665  2011-03-10        810            Arrived   \n",
       "27             28  10610  2011-03-10        780            Arrived   \n",
       "28             29  10317  2011-01-27        660            Arrived   \n",
       "32             33   7655  2013-09-30        600            Arrived   \n",
       "33             34   3225  2012-11-22        720            Arrived   \n",
       "34             35   3895  2012-05-10        690            Arrived   \n",
       "\n",
       "    Time When Appt Arrived Date When Appt Scheduled CAN or BMP Date  \\\n",
       "1                    759.0               2013-05-20             NaN   \n",
       "2                    708.0               2013-06-12             NaN   \n",
       "3                    712.0               2012-11-19             NaN   \n",
       "5                    713.0               2013-06-24             NaN   \n",
       "7                    621.0               2013-05-07             NaN   \n",
       "9                    708.0               2011-07-28             NaN   \n",
       "10                   601.0               2012-07-05             NaN   \n",
       "12                   594.0               2012-12-03             NaN   \n",
       "15                   661.0               2011-10-27             NaN   \n",
       "19                   689.0               2011-08-22             NaN   \n",
       "20                   732.0               2011-12-20             NaN   \n",
       "22                   703.0               2011-05-11             NaN   \n",
       "24                     NaN               2010-09-16             NaN   \n",
       "25                   669.0               2010-12-23             NaN   \n",
       "26                   804.0               2010-11-19             NaN   \n",
       "27                   795.0               2010-08-12             NaN   \n",
       "28                   664.0               2010-01-21             NaN   \n",
       "32                   592.0               2013-09-16             NaN   \n",
       "33                   718.0               2012-09-18             NaN   \n",
       "34                   680.0               2011-11-07             NaN   \n",
       "\n",
       "    Provider ID Gender  Patient Age at Appt Date Marital Status  \\\n",
       "1            15      F                        33        MARRIED   \n",
       "2            15      F                        40        MARRIED   \n",
       "3            15      F                        25         SINGLE   \n",
       "5            15      F                        26         SINGLE   \n",
       "7            15      F                        50        MARRIED   \n",
       "9            15      F                        37         SINGLE   \n",
       "10           15      F                        24         SINGLE   \n",
       "12           15      F                        22         SINGLE   \n",
       "15           15      M                        74        MARRIED   \n",
       "19           15      F                        26         SINGLE   \n",
       "20           15      F                        22         SINGLE   \n",
       "22           15      F                        47        MARRIED   \n",
       "24           15      F                        55       DIVORCED   \n",
       "25           15      F                        34        MARRIED   \n",
       "26           15      F                        43        MARRIED   \n",
       "27           15      F                        42        MARRIED   \n",
       "28           15      F                        26        MARRIED   \n",
       "32           15      F                        42         SINGLE   \n",
       "33           15      F                        31        MARRIED   \n",
       "34           15      F                        29         SINGLE   \n",
       "\n",
       "     Employment Status  No Show  leadTime        LeadTimeInterval  \n",
       "1         NOT EMPLOYED    False       178            over 30 days  \n",
       "2   EMPLOYED FULL TIME    False       126            over 30 days  \n",
       "3   EMPLOYED FULL TIME    False        24  between 21 and 30 days  \n",
       "5   EMPLOYED FULL TIME    False        10               ≤ 10 days  \n",
       "7   EMPLOYED PART TIME    False         2               ≤ 10 days  \n",
       "9   EMPLOYED FULL TIME    False       364            over 30 days  \n",
       "10  EMPLOYED PART TIME    False       161            over 30 days  \n",
       "12        NOT EMPLOYED    False        22  between 21 and 30 days  \n",
       "15             RETIRED    False       196            over 30 days  \n",
       "19  EMPLOYED PART TIME    False       122            over 30 days  \n",
       "20        NOT EMPLOYED    False         2               ≤ 10 days  \n",
       "22  EMPLOYED FULL TIME    False       211            over 30 days  \n",
       "24             RETIRED     True       357            over 30 days  \n",
       "25  EMPLOYED FULL TIME    False       112            over 30 days  \n",
       "26  EMPLOYED FULL TIME    False       111            over 30 days  \n",
       "27  EMPLOYED FULL TIME    False       210            over 30 days  \n",
       "28  EMPLOYED FULL TIME    False       371            over 30 days  \n",
       "32  EMPLOYED FULL TIME    False        14  between 11 and 20 days  \n",
       "33  EMPLOYED FULL TIME    False        65            over 30 days  \n",
       "34  EMPLOYED FULL TIME    False       185            over 30 days  "
      ]
     },
     "execution_count": 40,
     "metadata": {},
     "output_type": "execute_result"
    }
   ],
   "source": [
    "dfcopy.head(20)"
   ]
  },
  {
   "cell_type": "code",
   "execution_count": 41,
   "metadata": {
    "collapsed": true
   },
   "outputs": [],
   "source": [
    "# Line 1\n",
    "df2 = dfcopy.groupby('MRN').agg({'Appointment Status' : lambda se: [se.values]})['Appointment Status']"
   ]
  },
  {
   "cell_type": "code",
   "execution_count": 33,
   "metadata": {
    "collapsed": false
   },
   "outputs": [],
   "source": [
    "# Line 1\n",
    "df2 = dfcopy.groupby('MRN').agg({'Appointment Status' : lambda se: [se.values]})['Appointment Status'].apply(lambda listOflist: listOflist[0]).to_frame().reset_index()"
   ]
  },
  {
   "cell_type": "code",
   "execution_count": 34,
   "metadata": {
    "collapsed": false
   },
   "outputs": [
    {
     "data": {
      "text/html": [
       "<div>\n",
       "<style>\n",
       "    .dataframe thead tr:only-child th {\n",
       "        text-align: right;\n",
       "    }\n",
       "\n",
       "    .dataframe thead th {\n",
       "        text-align: left;\n",
       "    }\n",
       "\n",
       "    .dataframe tbody tr th {\n",
       "        vertical-align: top;\n",
       "    }\n",
       "</style>\n",
       "<table border=\"1\" class=\"dataframe\">\n",
       "  <thead>\n",
       "    <tr style=\"text-align: right;\">\n",
       "      <th></th>\n",
       "      <th>MRN</th>\n",
       "      <th>Appointment Status</th>\n",
       "    </tr>\n",
       "  </thead>\n",
       "  <tbody>\n",
       "    <tr>\n",
       "      <th>0</th>\n",
       "      <td>0</td>\n",
       "      <td>[Arrived]</td>\n",
       "    </tr>\n",
       "  </tbody>\n",
       "</table>\n",
       "</div>"
      ],
      "text/plain": [
       "   MRN Appointment Status\n",
       "0    0          [Arrived]"
      ]
     },
     "execution_count": 34,
     "metadata": {},
     "output_type": "execute_result"
    }
   ],
   "source": [
    "# This line is for data display\n",
    "df2[:1] "
   ]
  },
  {
   "cell_type": "markdown",
   "metadata": {},
   "source": [
    "Remove patients that had 'Arrived' in all of their appointments, because we want to find out prior 'No-show' impact on following appointment, therefor he/she must had not 'arrived' all of his appointment "
   ]
  },
  {
   "cell_type": "code",
   "execution_count": 11,
   "metadata": {
    "collapsed": false
   },
   "outputs": [],
   "source": [
    "# Line 2\n",
    "df2['NoShow'] = df2['Appointment Status'].apply(lambda row: True if 'No Show' in row else False )"
   ]
  },
  {
   "cell_type": "code",
   "execution_count": 12,
   "metadata": {
    "collapsed": false
   },
   "outputs": [],
   "source": [
    "# Line 3\n",
    "df2 =  df2[df2.NoShow == True]"
   ]
  },
  {
   "cell_type": "markdown",
   "metadata": {},
   "source": [
    "Remove patients that had only one appointment "
   ]
  },
  {
   "cell_type": "code",
   "execution_count": 23,
   "metadata": {
    "collapsed": false
   },
   "outputs": [],
   "source": [
    "# Line 4\n",
    "df2['OneRecord'] = df2['Appointment Status'].apply(lambda row: True if len(row) == 1 else False)"
   ]
  },
  {
   "cell_type": "code",
   "execution_count": 24,
   "metadata": {
    "collapsed": true
   },
   "outputs": [],
   "source": [
    "# Line 5\n",
    "df2 = df2[(df2.OneRecord == False)]"
   ]
  },
  {
   "cell_type": "code",
   "execution_count": 25,
   "metadata": {
    "collapsed": false
   },
   "outputs": [
    {
     "data": {
      "text/html": [
       "<div>\n",
       "<style>\n",
       "    .dataframe thead tr:only-child th {\n",
       "        text-align: right;\n",
       "    }\n",
       "\n",
       "    .dataframe thead th {\n",
       "        text-align: left;\n",
       "    }\n",
       "\n",
       "    .dataframe tbody tr th {\n",
       "        vertical-align: top;\n",
       "    }\n",
       "</style>\n",
       "<table border=\"1\" class=\"dataframe\">\n",
       "  <thead>\n",
       "    <tr style=\"text-align: right;\">\n",
       "      <th></th>\n",
       "      <th>MRN</th>\n",
       "      <th>Appointment Status</th>\n",
       "      <th>OneRecord</th>\n",
       "    </tr>\n",
       "  </thead>\n",
       "  <tbody>\n",
       "    <tr>\n",
       "      <th>2</th>\n",
       "      <td>4</td>\n",
       "      <td>[Arrived, Arrived]</td>\n",
       "      <td>False</td>\n",
       "    </tr>\n",
       "  </tbody>\n",
       "</table>\n",
       "</div>"
      ],
      "text/plain": [
       "   MRN  Appointment Status  OneRecord\n",
       "2    4  [Arrived, Arrived]      False"
      ]
     },
     "execution_count": 25,
     "metadata": {},
     "output_type": "execute_result"
    }
   ],
   "source": [
    "# This line is for data display\n",
    "df2[:1] "
   ]
  },
  {
   "cell_type": "markdown",
   "metadata": {},
   "source": [
    "Extract the 'Appointment Status' column and convert the record to a list of appointment behaviors pairs.    \n",
    "If certain patient has an appointment status list [No Show, No Show, Arrived], then his visiting pattern is [[No Show, No Show],[No Show, Arrived]]     "
   ]
  },
  {
   "cell_type": "code",
   "execution_count": 26,
   "metadata": {
    "collapsed": false
   },
   "outputs": [],
   "source": [
    "# Line 6\n",
    "se = df2['Appointment Status'].apply(lambda row: [[row[i], row[i+1]] for i in range(len(row) - 1)])"
   ]
  },
  {
   "cell_type": "code",
   "execution_count": 27,
   "metadata": {
    "collapsed": false
   },
   "outputs": [
    {
     "data": {
      "text/plain": [
       "[['Arrived', 'Arrived']]"
      ]
     },
     "execution_count": 27,
     "metadata": {},
     "output_type": "execute_result"
    }
   ],
   "source": [
    "# Certain patient's appointment pattern. This line is for display only\n",
    "se[:1].values[0] "
   ]
  },
  {
   "cell_type": "markdown",
   "metadata": {},
   "source": [
    "Taking every patient's visiting patterns out and place them as rows in a new DataFrame   \n",
    "This DataFrame will look like   \n",
    "Previous\t     ThisTime   \n",
    "No Show\t         No Show   \n",
    "No Show\t         Arrived"
   ]
  },
  {
   "cell_type": "code",
   "execution_count": 28,
   "metadata": {
    "collapsed": true
   },
   "outputs": [],
   "source": [
    "# Line 7\n",
    "df3 = pd.DataFrame(sum(se.values.tolist(), []), columns = ['PreviousTime','ThisTime'])"
   ]
  },
  {
   "cell_type": "code",
   "execution_count": 29,
   "metadata": {
    "collapsed": false
   },
   "outputs": [
    {
     "data": {
      "text/html": [
       "<div>\n",
       "<style>\n",
       "    .dataframe thead tr:only-child th {\n",
       "        text-align: right;\n",
       "    }\n",
       "\n",
       "    .dataframe thead th {\n",
       "        text-align: left;\n",
       "    }\n",
       "\n",
       "    .dataframe tbody tr th {\n",
       "        vertical-align: top;\n",
       "    }\n",
       "</style>\n",
       "<table border=\"1\" class=\"dataframe\">\n",
       "  <thead>\n",
       "    <tr style=\"text-align: right;\">\n",
       "      <th></th>\n",
       "      <th>PreviousTime</th>\n",
       "      <th>ThisTime</th>\n",
       "    </tr>\n",
       "  </thead>\n",
       "  <tbody>\n",
       "    <tr>\n",
       "      <th>0</th>\n",
       "      <td>Arrived</td>\n",
       "      <td>Arrived</td>\n",
       "    </tr>\n",
       "  </tbody>\n",
       "</table>\n",
       "</div>"
      ],
      "text/plain": [
       "  PreviousTime ThisTime\n",
       "0      Arrived  Arrived"
      ]
     },
     "execution_count": 29,
     "metadata": {},
     "output_type": "execute_result"
    }
   ],
   "source": [
    "# This line is for display only\n",
    "df3[:1]"
   ]
  },
  {
   "cell_type": "markdown",
   "metadata": {},
   "source": [
    "We groupby patients' prior behavior and then compute the no-show probability given that behavior.    \n",
    "We can see 'No Show Probability Of This Time' is much higher if prior behavior is 'No-show' than prior behavior is 'Arrived'"
   ]
  },
  {
   "cell_type": "code",
   "execution_count": 31,
   "metadata": {
    "collapsed": false
   },
   "outputs": [
    {
     "data": {
      "text/html": [
       "<div>\n",
       "<style>\n",
       "    .dataframe thead tr:only-child th {\n",
       "        text-align: right;\n",
       "    }\n",
       "\n",
       "    .dataframe thead th {\n",
       "        text-align: left;\n",
       "    }\n",
       "\n",
       "    .dataframe tbody tr th {\n",
       "        vertical-align: top;\n",
       "    }\n",
       "</style>\n",
       "<table border=\"1\" class=\"dataframe\">\n",
       "  <thead>\n",
       "    <tr style=\"text-align: right;\">\n",
       "      <th></th>\n",
       "      <th>No Show Probability Of This Time</th>\n",
       "    </tr>\n",
       "    <tr>\n",
       "      <th>PreviousTime</th>\n",
       "      <th></th>\n",
       "    </tr>\n",
       "  </thead>\n",
       "  <tbody>\n",
       "    <tr>\n",
       "      <th>Arrived</th>\n",
       "      <td>0.125890</td>\n",
       "    </tr>\n",
       "    <tr>\n",
       "      <th>No Show</th>\n",
       "      <td>0.292938</td>\n",
       "    </tr>\n",
       "  </tbody>\n",
       "</table>\n",
       "</div>"
      ],
      "text/plain": [
       "              No Show Probability Of This Time\n",
       "PreviousTime                                  \n",
       "Arrived                               0.125890\n",
       "No Show                               0.292938"
      ]
     },
     "execution_count": 31,
     "metadata": {},
     "output_type": "execute_result"
    }
   ],
   "source": [
    "# Line 8\n",
    "df3.groupby('PreviousTime')['ThisTime'].agg(lambda se: len(se[se.values == 'No Show']) / float(len(se))).to_frame('No Show Probability Of This Time')"
   ]
  },
  {
   "cell_type": "markdown",
   "metadata": {},
   "source": [
    "#### Discussion of findings on the table :\n",
    "#### Population-wise,the 'No-show' probability of a given appointment is affected by the patient's no-show behavior prior to that appointment."
   ]
  }
 ],
 "metadata": {
  "kernelspec": {
   "display_name": "Python 2",
   "language": "python",
   "name": "python2"
  },
  "language_info": {
   "codemirror_mode": {
    "name": "ipython",
    "version": 2
   },
   "file_extension": ".py",
   "mimetype": "text/x-python",
   "name": "python",
   "nbconvert_exporter": "python",
   "pygments_lexer": "ipython2",
   "version": "2.7.11"
  }
 },
 "nbformat": 4,
 "nbformat_minor": 0
}
