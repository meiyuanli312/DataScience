{
 "cells": [
  {
   "cell_type": "markdown",
   "metadata": {},
   "source": [
    "# Midterm take-home"
   ]
  },
  {
   "cell_type": "markdown",
   "metadata": {},
   "source": [
    "<p>Instructions\n",
    "<ol>\n",
    "<li>Download the file <i>appointments.csv</i> into the same folder as the current Jupyter notebook\n",
    "<li>Run the code below and then answer the questions\n",
    "</ol></p>"
   ]
  },
  {
   "cell_type": "markdown",
   "metadata": {},
   "source": [
    "<b>Penalties:</b> You will incur penalties if:\n",
    "<ul>\n",
    "<li>Your answer is different from the correct one</li>\n",
    "<li>Your code is unncessarily slow</li>\n",
    "<li>Your code is longer than specified</li>\n",
    "<li>You will be penalized if, in an attempt to limit the lines of code, you make your code too hard to read or too slow -- for example, by copy-pasting pieces of code in the same line instead of declaring a variable in one line and using the variable in another.\n",
    "</ul>"
   ]
  },
  {
   "cell_type": "code",
   "execution_count": 1,
   "metadata": {
    "collapsed": false
   },
   "outputs": [],
   "source": [
    "import pandas as pd\n",
    "import numpy as np\n",
    "df = pd.read_csv('appointments.csv', index_col=0)"
   ]
  },
  {
   "cell_type": "markdown",
   "metadata": {},
   "source": [
    "## Data Description"
   ]
  },
  {
   "cell_type": "code",
   "execution_count": 2,
   "metadata": {
    "collapsed": false
   },
   "outputs": [
    {
     "data": {
      "text/plain": [
       "41631"
      ]
     },
     "execution_count": 2,
     "metadata": {},
     "output_type": "execute_result"
    }
   ],
   "source": [
    "len(df)"
   ]
  },
  {
   "cell_type": "markdown",
   "metadata": {},
   "source": [
    "This is an appointment data set for an undisclosed outpatient clinic. One row corresponds to an appointment. Each appointment is characterized by the following attributes:\n",
    "<ul>\n",
    "<li><b>AppointmentID</b>: The unique identifier of the appointment.\n",
    "<li><b>MRN</b>: The unique identifier of the patient (MRN = Medical Record Number).\n",
    "<li><b>Appt Date</b>: The date when the appointment took place.\n",
    "<li><b>Appt Time</b>: The time (expressed in minutes after midnight) when the appointment took place.\n",
    "<li><b>Appointment Status</b>: The outcome of the appointment. \n",
    "    <ul>\n",
    "    <li><i>Arrived</i>: the appointment took place regularly.\n",
    "    <li><i>Cancelled</i>: the appointment was cancelled by the patient before taking place. \n",
    "    <li><i>Bumped</i>: the appointment was cancelled by the provider.\n",
    "    <li><i>No Show</i>: the patient did not show up for the appointment.\n",
    "    <li><i>Pending</i>: the appointment did not take place yet in the moment when the data was pulled.\n",
    "    </ul>\n",
    "<li><b>Time When Appt Arrived</b>: The time (expressed in minutes after midnight) when the patient checked in on the appointment day.\n",
    "<li><b>Date When Appt Scheduled</b>: The day when the appointment was scheduled\n",
    "<li><b>CAN or BMP Date</b>: If the appointment was cancelled or bumped, the date when this even happened.\n",
    "<li><b>Provider ID</b>: The id of the provider scheduled to see the patient.\n",
    "<li><b>Gender</b>: The patient's gender.\n",
    "<li><b>Patient Age at Appt Date</b>: The age of the patient at Appt Date.\n",
    "<li><b>Marital Status</b>: The patient's marital status.\n",
    "<li><b>Employment status</b>: The patient's employment status.\n",
    "</ul>"
   ]
  },
  {
   "cell_type": "markdown",
   "metadata": {},
   "source": [
    "## Question 1 (2 pts, $\\le$ 3 lines of code)"
   ]
  },
  {
   "cell_type": "markdown",
   "metadata": {},
   "source": [
    "Find whether marital status and gender affect the probability of no-show. First, you will need to make a copy of df without the appointments whose outcome is different from no-show or arrived. Then, for each existing combination of marital status and gender, find the number of appointments and their probability of no-show. <b>Use at most 3 lines of code</b>."
   ]
  },
  {
   "cell_type": "code",
   "execution_count": 3,
   "metadata": {
    "collapsed": false
   },
   "outputs": [],
   "source": [
    "dfcopy = df[(df['Appointment Status'] == 'No Show') | (df['Appointment Status'] == 'Arrived')].copy()"
   ]
  },
  {
   "cell_type": "code",
   "execution_count": 4,
   "metadata": {
    "collapsed": false,
    "scrolled": true
   },
   "outputs": [],
   "source": [
    "dfcopy['No Show'] = dfcopy['Appointment Status'] == 'No Show'"
   ]
  },
  {
   "cell_type": "code",
   "execution_count": 5,
   "metadata": {
    "collapsed": false
   },
   "outputs": [
    {
     "data": {
      "text/html": [
       "<div>\n",
       "<style>\n",
       "    .dataframe thead tr:only-child th {\n",
       "        text-align: right;\n",
       "    }\n",
       "\n",
       "    .dataframe thead th {\n",
       "        text-align: left;\n",
       "    }\n",
       "\n",
       "    .dataframe tbody tr th {\n",
       "        vertical-align: top;\n",
       "    }\n",
       "</style>\n",
       "<table border=\"1\" class=\"dataframe\">\n",
       "  <thead>\n",
       "    <tr>\n",
       "      <th></th>\n",
       "      <th></th>\n",
       "      <th colspan=\"3\" halign=\"left\">No Show</th>\n",
       "    </tr>\n",
       "    <tr>\n",
       "      <th></th>\n",
       "      <th></th>\n",
       "      <th>Number of No Show</th>\n",
       "      <th>Total Number of Appointments</th>\n",
       "      <th>Probability of No Show</th>\n",
       "    </tr>\n",
       "    <tr>\n",
       "      <th>Marital Status</th>\n",
       "      <th>Gender</th>\n",
       "      <th></th>\n",
       "      <th></th>\n",
       "      <th></th>\n",
       "    </tr>\n",
       "  </thead>\n",
       "  <tbody>\n",
       "    <tr>\n",
       "      <th rowspan=\"2\" valign=\"top\">DIVORCED</th>\n",
       "      <th>F</th>\n",
       "      <td>379</td>\n",
       "      <td>2408</td>\n",
       "      <td>0.157392</td>\n",
       "    </tr>\n",
       "    <tr>\n",
       "      <th>M</th>\n",
       "      <td>91</td>\n",
       "      <td>529</td>\n",
       "      <td>0.172023</td>\n",
       "    </tr>\n",
       "    <tr>\n",
       "      <th>LIFE PARTNER</th>\n",
       "      <th>F</th>\n",
       "      <td>2</td>\n",
       "      <td>21</td>\n",
       "      <td>0.095238</td>\n",
       "    </tr>\n",
       "    <tr>\n",
       "      <th rowspan=\"2\" valign=\"top\">MARRIED</th>\n",
       "      <th>F</th>\n",
       "      <td>868</td>\n",
       "      <td>8618</td>\n",
       "      <td>0.100719</td>\n",
       "    </tr>\n",
       "    <tr>\n",
       "      <th>M</th>\n",
       "      <td>463</td>\n",
       "      <td>3632</td>\n",
       "      <td>0.127478</td>\n",
       "    </tr>\n",
       "    <tr>\n",
       "      <th rowspan=\"2\" valign=\"top\">SEPARATED</th>\n",
       "      <th>F</th>\n",
       "      <td>187</td>\n",
       "      <td>700</td>\n",
       "      <td>0.267143</td>\n",
       "    </tr>\n",
       "    <tr>\n",
       "      <th>M</th>\n",
       "      <td>42</td>\n",
       "      <td>168</td>\n",
       "      <td>0.250000</td>\n",
       "    </tr>\n",
       "    <tr>\n",
       "      <th rowspan=\"2\" valign=\"top\">SINGLE</th>\n",
       "      <th>F</th>\n",
       "      <td>1171</td>\n",
       "      <td>5881</td>\n",
       "      <td>0.199116</td>\n",
       "    </tr>\n",
       "    <tr>\n",
       "      <th>M</th>\n",
       "      <td>514</td>\n",
       "      <td>2343</td>\n",
       "      <td>0.219377</td>\n",
       "    </tr>\n",
       "    <tr>\n",
       "      <th rowspan=\"2\" valign=\"top\">UNKNOWN</th>\n",
       "      <th>F</th>\n",
       "      <td>9</td>\n",
       "      <td>22</td>\n",
       "      <td>0.409091</td>\n",
       "    </tr>\n",
       "    <tr>\n",
       "      <th>M</th>\n",
       "      <td>4</td>\n",
       "      <td>14</td>\n",
       "      <td>0.285714</td>\n",
       "    </tr>\n",
       "    <tr>\n",
       "      <th rowspan=\"2\" valign=\"top\">WIDOW</th>\n",
       "      <th>F</th>\n",
       "      <td>287</td>\n",
       "      <td>1908</td>\n",
       "      <td>0.150419</td>\n",
       "    </tr>\n",
       "    <tr>\n",
       "      <th>M</th>\n",
       "      <td>25</td>\n",
       "      <td>136</td>\n",
       "      <td>0.183824</td>\n",
       "    </tr>\n",
       "  </tbody>\n",
       "</table>\n",
       "</div>"
      ],
      "text/plain": [
       "                                No Show                               \\\n",
       "                      Number of No Show Total Number of Appointments   \n",
       "Marital Status Gender                                                  \n",
       "DIVORCED       F                    379                         2408   \n",
       "               M                     91                          529   \n",
       "LIFE PARTNER   F                      2                           21   \n",
       "MARRIED        F                    868                         8618   \n",
       "               M                    463                         3632   \n",
       "SEPARATED      F                    187                          700   \n",
       "               M                     42                          168   \n",
       "SINGLE         F                   1171                         5881   \n",
       "               M                    514                         2343   \n",
       "UNKNOWN        F                      9                           22   \n",
       "               M                      4                           14   \n",
       "WIDOW          F                    287                         1908   \n",
       "               M                     25                          136   \n",
       "\n",
       "                                              \n",
       "                      Probability of No Show  \n",
       "Marital Status Gender                         \n",
       "DIVORCED       F                    0.157392  \n",
       "               M                    0.172023  \n",
       "LIFE PARTNER   F                    0.095238  \n",
       "MARRIED        F                    0.100719  \n",
       "               M                    0.127478  \n",
       "SEPARATED      F                    0.267143  \n",
       "               M                    0.250000  \n",
       "SINGLE         F                    0.199116  \n",
       "               M                    0.219377  \n",
       "UNKNOWN        F                    0.409091  \n",
       "               M                    0.285714  \n",
       "WIDOW          F                    0.150419  \n",
       "               M                    0.183824  "
      ]
     },
     "execution_count": 5,
     "metadata": {},
     "output_type": "execute_result"
    }
   ],
   "source": [
    "dfcopy.groupby(by = ['Marital Status','Gender']).agg({'No Show': [lambda se: len(se[se.values == True]),'size', 'mean']}).rename(columns = {'<lambda>':'Number of No Show','size':'Total Number of Appointments','mean':'Probability of No Show'})"
   ]
  },
  {
   "cell_type": "markdown",
   "metadata": {},
   "source": [
    "## Question 2 (2 pts, $\\le$ 3 lines of code)"
   ]
  },
  {
   "cell_type": "markdown",
   "metadata": {},
   "source": [
    "<p>Using the data frame constructed in Q1, find whether the lead time to the appointment affects the probability of no-show. The lead time to the appointment is the number of days elapsed from the moment when the appointment was requested to the appointment date. </p>\n",
    "<p>Find the no-show probability and number of appointments for each of the following lead time intervals (pay attention to the interval boundaries):\n",
    "<ul>\n",
    "<li>$\\le$ 10 days\n",
    "<li>between 11 and 20 days\n",
    "<li>between 21 and 30 days\n",
    "<li>over 30 days\n",
    "</ul>\n",
    "<p> <b>Use at most 3 lines of code</b>. Hint: You may find the function pd.cut helpful.</p>"
   ]
  },
  {
   "cell_type": "code",
   "execution_count": 6,
   "metadata": {
    "collapsed": false
   },
   "outputs": [],
   "source": [
    "dfcopy['leadTime'] = (pd.to_datetime(dfcopy['Appt Date']) - pd.to_datetime(dfcopy['Date When Appt Scheduled'])).dt.days"
   ]
  },
  {
   "cell_type": "code",
   "execution_count": 7,
   "metadata": {
    "collapsed": true
   },
   "outputs": [],
   "source": [
    "dfcopy['LeadTimeInterval'] = pd.cut(dfcopy.leadTime, [0, 11, 21, 31, dfcopy.leadTime.max() + 1], right = False, labels=['≤ 10 days','between 11 and 20 days','between 21 and 30 days','over 30 days'])"
   ]
  },
  {
   "cell_type": "code",
   "execution_count": 8,
   "metadata": {
    "collapsed": false
   },
   "outputs": [
    {
     "data": {
      "text/html": [
       "<div>\n",
       "<style>\n",
       "    .dataframe thead tr:only-child th {\n",
       "        text-align: right;\n",
       "    }\n",
       "\n",
       "    .dataframe thead th {\n",
       "        text-align: left;\n",
       "    }\n",
       "\n",
       "    .dataframe tbody tr th {\n",
       "        vertical-align: top;\n",
       "    }\n",
       "</style>\n",
       "<table border=\"1\" class=\"dataframe\">\n",
       "  <thead>\n",
       "    <tr>\n",
       "      <th></th>\n",
       "      <th colspan=\"3\" halign=\"left\">No Show</th>\n",
       "    </tr>\n",
       "    <tr>\n",
       "      <th></th>\n",
       "      <th>Number of No Show</th>\n",
       "      <th>Total Number of Appointments</th>\n",
       "      <th>Probability of No Show</th>\n",
       "    </tr>\n",
       "    <tr>\n",
       "      <th>LeadTimeInterval</th>\n",
       "      <th></th>\n",
       "      <th></th>\n",
       "      <th></th>\n",
       "    </tr>\n",
       "  </thead>\n",
       "  <tbody>\n",
       "    <tr>\n",
       "      <th>≤ 10 days</th>\n",
       "      <td>587</td>\n",
       "      <td>5520</td>\n",
       "      <td>0.106341</td>\n",
       "    </tr>\n",
       "    <tr>\n",
       "      <th>between 11 and 20 days</th>\n",
       "      <td>553</td>\n",
       "      <td>3655</td>\n",
       "      <td>0.151300</td>\n",
       "    </tr>\n",
       "    <tr>\n",
       "      <th>between 21 and 30 days</th>\n",
       "      <td>515</td>\n",
       "      <td>3143</td>\n",
       "      <td>0.163856</td>\n",
       "    </tr>\n",
       "    <tr>\n",
       "      <th>over 30 days</th>\n",
       "      <td>2391</td>\n",
       "      <td>14076</td>\n",
       "      <td>0.169864</td>\n",
       "    </tr>\n",
       "  </tbody>\n",
       "</table>\n",
       "</div>"
      ],
      "text/plain": [
       "                                 No Show                               \\\n",
       "                       Number of No Show Total Number of Appointments   \n",
       "LeadTimeInterval                                                        \n",
       "≤ 10 days                            587                         5520   \n",
       "between 11 and 20 days               553                         3655   \n",
       "between 21 and 30 days               515                         3143   \n",
       "over 30 days                        2391                        14076   \n",
       "\n",
       "                                               \n",
       "                       Probability of No Show  \n",
       "LeadTimeInterval                               \n",
       "≤ 10 days                            0.106341  \n",
       "between 11 and 20 days               0.151300  \n",
       "between 21 and 30 days               0.163856  \n",
       "over 30 days                         0.169864  "
      ]
     },
     "execution_count": 8,
     "metadata": {},
     "output_type": "execute_result"
    }
   ],
   "source": [
    "dfcopy.groupby('LeadTimeInterval').agg({'No Show': [lambda se: len(se[se.values == True]),'size', 'mean']}).rename(columns = {'<lambda>':'Number of No Show','size':'Total Number of Appointments','mean':'Probability of No Show'})"
   ]
  },
  {
   "cell_type": "markdown",
   "metadata": {},
   "source": [
    "## Question 3 (6 pts, $\\le$ 8 lines of code not including comments, $\\le$ 20 words of explanation)"
   ]
  },
  {
   "cell_type": "markdown",
   "metadata": {},
   "source": [
    "<p>Using the data frame constructed in Q1, find whether the no-show probability of a given appointment is affected by the patient's no-show behavior prior to that appointment. Do not consider first-time appointments. </p>\n",
    "\n",
    "<p>Present your results with one table and then discuss it in at most 20 words. Make sure that your table is easy to understand; for example, try to use descriptive column headers.</p>\n",
    "\n",
    "<p> This problem is left vague on purpose. In particular, how to analyze past no-show behavior is up to you. No help will be given to answer this question, aside from clarifications on the wording and on the data. </p>"
   ]
  },
  {
   "cell_type": "markdown",
   "metadata": {},
   "source": [
    "##### Group data by patients and aggregate on their Appointment Status based on  patient's appointment date   \n",
    "For instance, if certain patient has 3 appointments, then his/her Appointment Status behavior list will look like   \n",
    "[No Show, No Show, Arrived]"
   ]
  },
  {
   "cell_type": "code",
   "execution_count": 9,
   "metadata": {
    "collapsed": false
   },
   "outputs": [],
   "source": [
    "# Line 1\n",
    "df2 = dfcopy.sort_values(by = 'Appt Date').groupby('MRN').agg({'Appointment Status' : lambda ApptStatus: [ApptStatus.values],'Appt Date':lambda ApptDate: [ApptDate.values]})"
   ]
  },
  {
   "cell_type": "code",
   "execution_count": 10,
   "metadata": {
    "collapsed": false
   },
   "outputs": [
    {
     "data": {
      "text/html": [
       "<div>\n",
       "<style>\n",
       "    .dataframe thead tr:only-child th {\n",
       "        text-align: right;\n",
       "    }\n",
       "\n",
       "    .dataframe thead th {\n",
       "        text-align: left;\n",
       "    }\n",
       "\n",
       "    .dataframe tbody tr th {\n",
       "        vertical-align: top;\n",
       "    }\n",
       "</style>\n",
       "<table border=\"1\" class=\"dataframe\">\n",
       "  <thead>\n",
       "    <tr style=\"text-align: right;\">\n",
       "      <th></th>\n",
       "      <th>Appt Date</th>\n",
       "      <th>Appointment Status</th>\n",
       "    </tr>\n",
       "    <tr>\n",
       "      <th>MRN</th>\n",
       "      <th></th>\n",
       "      <th></th>\n",
       "    </tr>\n",
       "  </thead>\n",
       "  <tbody>\n",
       "    <tr>\n",
       "      <th>0</th>\n",
       "      <td>[[2011-09-02]]</td>\n",
       "      <td>[[Arrived]]</td>\n",
       "    </tr>\n",
       "    <tr>\n",
       "      <th>2</th>\n",
       "      <td>[[2012-07-02]]</td>\n",
       "      <td>[[Arrived]]</td>\n",
       "    </tr>\n",
       "    <tr>\n",
       "      <th>4</th>\n",
       "      <td>[[2011-03-25, 2011-04-27]]</td>\n",
       "      <td>[[Arrived, Arrived]]</td>\n",
       "    </tr>\n",
       "    <tr>\n",
       "      <th>6</th>\n",
       "      <td>[[2011-04-06]]</td>\n",
       "      <td>[[Arrived]]</td>\n",
       "    </tr>\n",
       "    <tr>\n",
       "      <th>7</th>\n",
       "      <td>[[2011-06-21, 2012-07-02, 2013-07-01]]</td>\n",
       "      <td>[[Arrived, Arrived, Arrived]]</td>\n",
       "    </tr>\n",
       "  </tbody>\n",
       "</table>\n",
       "</div>"
      ],
      "text/plain": [
       "                                  Appt Date             Appointment Status\n",
       "MRN                                                                       \n",
       "0                            [[2011-09-02]]                    [[Arrived]]\n",
       "2                            [[2012-07-02]]                    [[Arrived]]\n",
       "4                [[2011-03-25, 2011-04-27]]           [[Arrived, Arrived]]\n",
       "6                            [[2011-04-06]]                    [[Arrived]]\n",
       "7    [[2011-06-21, 2012-07-02, 2013-07-01]]  [[Arrived, Arrived, Arrived]]"
      ]
     },
     "execution_count": 10,
     "metadata": {},
     "output_type": "execute_result"
    }
   ],
   "source": [
    "# This line is for data display\n",
    "df2[:5]"
   ]
  },
  {
   "cell_type": "markdown",
   "metadata": {},
   "source": [
    "Transform each patient's Appointment Status for later use   \n",
    "[[Arrived, Arrived, Arrived]] will become [Arrived, Arrived, Arrived]"
   ]
  },
  {
   "cell_type": "code",
   "execution_count": 11,
   "metadata": {
    "collapsed": false
   },
   "outputs": [],
   "source": [
    "# Line 2\n",
    "df3 = df2['Appointment Status'].apply(lambda listOflist: listOflist[0]).to_frame()"
   ]
  },
  {
   "cell_type": "code",
   "execution_count": 12,
   "metadata": {
    "collapsed": false
   },
   "outputs": [
    {
     "data": {
      "text/html": [
       "<div>\n",
       "<style>\n",
       "    .dataframe thead tr:only-child th {\n",
       "        text-align: right;\n",
       "    }\n",
       "\n",
       "    .dataframe thead th {\n",
       "        text-align: left;\n",
       "    }\n",
       "\n",
       "    .dataframe tbody tr th {\n",
       "        vertical-align: top;\n",
       "    }\n",
       "</style>\n",
       "<table border=\"1\" class=\"dataframe\">\n",
       "  <thead>\n",
       "    <tr style=\"text-align: right;\">\n",
       "      <th></th>\n",
       "      <th>Appointment Status</th>\n",
       "    </tr>\n",
       "    <tr>\n",
       "      <th>MRN</th>\n",
       "      <th></th>\n",
       "    </tr>\n",
       "  </thead>\n",
       "  <tbody>\n",
       "    <tr>\n",
       "      <th>0</th>\n",
       "      <td>[Arrived]</td>\n",
       "    </tr>\n",
       "    <tr>\n",
       "      <th>2</th>\n",
       "      <td>[Arrived]</td>\n",
       "    </tr>\n",
       "    <tr>\n",
       "      <th>4</th>\n",
       "      <td>[Arrived, Arrived]</td>\n",
       "    </tr>\n",
       "    <tr>\n",
       "      <th>6</th>\n",
       "      <td>[Arrived]</td>\n",
       "    </tr>\n",
       "    <tr>\n",
       "      <th>7</th>\n",
       "      <td>[Arrived, Arrived, Arrived]</td>\n",
       "    </tr>\n",
       "  </tbody>\n",
       "</table>\n",
       "</div>"
      ],
      "text/plain": [
       "              Appointment Status\n",
       "MRN                             \n",
       "0                      [Arrived]\n",
       "2                      [Arrived]\n",
       "4             [Arrived, Arrived]\n",
       "6                      [Arrived]\n",
       "7    [Arrived, Arrived, Arrived]"
      ]
     },
     "execution_count": 12,
     "metadata": {},
     "output_type": "execute_result"
    }
   ],
   "source": [
    "# This line is for data display\n",
    "df3[:5]"
   ]
  },
  {
   "cell_type": "markdown",
   "metadata": {},
   "source": [
    "Remove patients that had only one appointment "
   ]
  },
  {
   "cell_type": "code",
   "execution_count": 13,
   "metadata": {
    "collapsed": false
   },
   "outputs": [],
   "source": [
    "# Line 3\n",
    "df3['OneRecord'] = df3['Appointment Status'].apply(lambda row: True if len(row) == 1 else False)"
   ]
  },
  {
   "cell_type": "code",
   "execution_count": 14,
   "metadata": {
    "collapsed": false
   },
   "outputs": [],
   "source": [
    "# Line 4\n",
    "df4 = df3[df3.OneRecord == False].drop('OneRecord', axis = 1)"
   ]
  },
  {
   "cell_type": "code",
   "execution_count": 15,
   "metadata": {
    "collapsed": false
   },
   "outputs": [
    {
     "data": {
      "text/html": [
       "<div>\n",
       "<style>\n",
       "    .dataframe thead tr:only-child th {\n",
       "        text-align: right;\n",
       "    }\n",
       "\n",
       "    .dataframe thead th {\n",
       "        text-align: left;\n",
       "    }\n",
       "\n",
       "    .dataframe tbody tr th {\n",
       "        vertical-align: top;\n",
       "    }\n",
       "</style>\n",
       "<table border=\"1\" class=\"dataframe\">\n",
       "  <thead>\n",
       "    <tr style=\"text-align: right;\">\n",
       "      <th></th>\n",
       "      <th>Appointment Status</th>\n",
       "    </tr>\n",
       "    <tr>\n",
       "      <th>MRN</th>\n",
       "      <th></th>\n",
       "    </tr>\n",
       "  </thead>\n",
       "  <tbody>\n",
       "    <tr>\n",
       "      <th>4</th>\n",
       "      <td>[Arrived, Arrived]</td>\n",
       "    </tr>\n",
       "    <tr>\n",
       "      <th>7</th>\n",
       "      <td>[Arrived, Arrived, Arrived]</td>\n",
       "    </tr>\n",
       "    <tr>\n",
       "      <th>8</th>\n",
       "      <td>[No Show, Arrived, Arrived, Arrived, Arrived, ...</td>\n",
       "    </tr>\n",
       "    <tr>\n",
       "      <th>11</th>\n",
       "      <td>[No Show, Arrived]</td>\n",
       "    </tr>\n",
       "    <tr>\n",
       "      <th>17</th>\n",
       "      <td>[Arrived, Arrived]</td>\n",
       "    </tr>\n",
       "  </tbody>\n",
       "</table>\n",
       "</div>"
      ],
      "text/plain": [
       "                                    Appointment Status\n",
       "MRN                                                   \n",
       "4                                   [Arrived, Arrived]\n",
       "7                          [Arrived, Arrived, Arrived]\n",
       "8    [No Show, Arrived, Arrived, Arrived, Arrived, ...\n",
       "11                                  [No Show, Arrived]\n",
       "17                                  [Arrived, Arrived]"
      ]
     },
     "execution_count": 15,
     "metadata": {},
     "output_type": "execute_result"
    }
   ],
   "source": [
    "# This line is for data display\n",
    "df4[:5] "
   ]
  },
  {
   "cell_type": "markdown",
   "metadata": {},
   "source": [
    "Extract the 'Appointment Status' column and convert the record to a list of appointment behaviors tuples.    \n",
    "If certain patient has an appointment status list [No Show, No Show, Arrived], then his visiting pattern is [[No Show, No Show],[No Show, Arrived]]     "
   ]
  },
  {
   "cell_type": "code",
   "execution_count": 16,
   "metadata": {
    "collapsed": false
   },
   "outputs": [],
   "source": [
    "# Line 5\n",
    "df5 = df4['Appointment Status'].apply(lambda row: [[row[i], row[i+1]] for i in range(len(row) - 1)]).to_frame('Behavior Tuples')"
   ]
  },
  {
   "cell_type": "code",
   "execution_count": 17,
   "metadata": {
    "collapsed": false
   },
   "outputs": [
    {
     "data": {
      "text/html": [
       "<div>\n",
       "<style>\n",
       "    .dataframe thead tr:only-child th {\n",
       "        text-align: right;\n",
       "    }\n",
       "\n",
       "    .dataframe thead th {\n",
       "        text-align: left;\n",
       "    }\n",
       "\n",
       "    .dataframe tbody tr th {\n",
       "        vertical-align: top;\n",
       "    }\n",
       "</style>\n",
       "<table border=\"1\" class=\"dataframe\">\n",
       "  <thead>\n",
       "    <tr style=\"text-align: right;\">\n",
       "      <th></th>\n",
       "      <th>Behavior Tuples</th>\n",
       "    </tr>\n",
       "    <tr>\n",
       "      <th>MRN</th>\n",
       "      <th></th>\n",
       "    </tr>\n",
       "  </thead>\n",
       "  <tbody>\n",
       "    <tr>\n",
       "      <th>4</th>\n",
       "      <td>[[Arrived, Arrived]]</td>\n",
       "    </tr>\n",
       "    <tr>\n",
       "      <th>7</th>\n",
       "      <td>[[Arrived, Arrived], [Arrived, Arrived]]</td>\n",
       "    </tr>\n",
       "    <tr>\n",
       "      <th>8</th>\n",
       "      <td>[[No Show, Arrived], [Arrived, Arrived], [Arri...</td>\n",
       "    </tr>\n",
       "    <tr>\n",
       "      <th>11</th>\n",
       "      <td>[[No Show, Arrived]]</td>\n",
       "    </tr>\n",
       "    <tr>\n",
       "      <th>17</th>\n",
       "      <td>[[Arrived, Arrived]]</td>\n",
       "    </tr>\n",
       "  </tbody>\n",
       "</table>\n",
       "</div>"
      ],
      "text/plain": [
       "                                       Behavior Tuples\n",
       "MRN                                                   \n",
       "4                                 [[Arrived, Arrived]]\n",
       "7             [[Arrived, Arrived], [Arrived, Arrived]]\n",
       "8    [[No Show, Arrived], [Arrived, Arrived], [Arri...\n",
       "11                                [[No Show, Arrived]]\n",
       "17                                [[Arrived, Arrived]]"
      ]
     },
     "execution_count": 17,
     "metadata": {},
     "output_type": "execute_result"
    }
   ],
   "source": [
    "df5[:5]"
   ]
  },
  {
   "cell_type": "markdown",
   "metadata": {},
   "source": [
    "Using a trick, 'sum(listoflist, [])' to put every patient's appointment behavior tuples in one list   \n",
    "This list will look like   \n",
    "[['Arrived', 'Arrived'],   \n",
    " ['Arrived', 'Arrived'],   \n",
    " ['Arrived', 'Arrived'],.....]"
   ]
  },
  {
   "cell_type": "code",
   "execution_count": 18,
   "metadata": {
    "collapsed": false
   },
   "outputs": [],
   "source": [
    "listOfAllBehaviorTuples = sum(df5['Behavior Tuples'].tolist(),[])"
   ]
  },
  {
   "cell_type": "code",
   "execution_count": 19,
   "metadata": {
    "collapsed": false
   },
   "outputs": [
    {
     "data": {
      "text/plain": [
       "[['Arrived', 'Arrived'],\n",
       " ['Arrived', 'Arrived'],\n",
       " ['Arrived', 'Arrived'],\n",
       " ['No Show', 'Arrived'],\n",
       " ['Arrived', 'Arrived']]"
      ]
     },
     "execution_count": 19,
     "metadata": {},
     "output_type": "execute_result"
    }
   ],
   "source": [
    "listOfAllBehaviorTuples[:5]"
   ]
  },
  {
   "cell_type": "markdown",
   "metadata": {},
   "source": [
    "Feed the list to a new DataFrame"
   ]
  },
  {
   "cell_type": "code",
   "execution_count": 20,
   "metadata": {
    "collapsed": false
   },
   "outputs": [],
   "source": [
    "# Line 6\n",
    "df6 = pd.DataFrame(listOfAllBehaviorTuples, columns = ['PreviousTime','ThisTime'])"
   ]
  },
  {
   "cell_type": "code",
   "execution_count": 21,
   "metadata": {
    "collapsed": false
   },
   "outputs": [
    {
     "data": {
      "text/html": [
       "<div>\n",
       "<style>\n",
       "    .dataframe thead tr:only-child th {\n",
       "        text-align: right;\n",
       "    }\n",
       "\n",
       "    .dataframe thead th {\n",
       "        text-align: left;\n",
       "    }\n",
       "\n",
       "    .dataframe tbody tr th {\n",
       "        vertical-align: top;\n",
       "    }\n",
       "</style>\n",
       "<table border=\"1\" class=\"dataframe\">\n",
       "  <thead>\n",
       "    <tr style=\"text-align: right;\">\n",
       "      <th></th>\n",
       "      <th>PreviousTime</th>\n",
       "      <th>ThisTime</th>\n",
       "    </tr>\n",
       "  </thead>\n",
       "  <tbody>\n",
       "    <tr>\n",
       "      <th>0</th>\n",
       "      <td>Arrived</td>\n",
       "      <td>Arrived</td>\n",
       "    </tr>\n",
       "    <tr>\n",
       "      <th>1</th>\n",
       "      <td>Arrived</td>\n",
       "      <td>Arrived</td>\n",
       "    </tr>\n",
       "    <tr>\n",
       "      <th>2</th>\n",
       "      <td>Arrived</td>\n",
       "      <td>Arrived</td>\n",
       "    </tr>\n",
       "    <tr>\n",
       "      <th>3</th>\n",
       "      <td>No Show</td>\n",
       "      <td>Arrived</td>\n",
       "    </tr>\n",
       "    <tr>\n",
       "      <th>4</th>\n",
       "      <td>Arrived</td>\n",
       "      <td>Arrived</td>\n",
       "    </tr>\n",
       "  </tbody>\n",
       "</table>\n",
       "</div>"
      ],
      "text/plain": [
       "  PreviousTime ThisTime\n",
       "0      Arrived  Arrived\n",
       "1      Arrived  Arrived\n",
       "2      Arrived  Arrived\n",
       "3      No Show  Arrived\n",
       "4      Arrived  Arrived"
      ]
     },
     "execution_count": 21,
     "metadata": {},
     "output_type": "execute_result"
    }
   ],
   "source": [
    "# This line is for display only\n",
    "df6[:5]"
   ]
  },
  {
   "cell_type": "markdown",
   "metadata": {},
   "source": [
    "We groupby patients' prior behavior and then compute the no-show probability given that behavior.    \n",
    "We can see 'No Show Probability Of This Time' is much higher if prior behavior is 'No-show' than prior behavior is 'Arrived'"
   ]
  },
  {
   "cell_type": "code",
   "execution_count": 22,
   "metadata": {
    "collapsed": false
   },
   "outputs": [
    {
     "data": {
      "text/html": [
       "<div>\n",
       "<style>\n",
       "    .dataframe thead tr:only-child th {\n",
       "        text-align: right;\n",
       "    }\n",
       "\n",
       "    .dataframe thead th {\n",
       "        text-align: left;\n",
       "    }\n",
       "\n",
       "    .dataframe tbody tr th {\n",
       "        vertical-align: top;\n",
       "    }\n",
       "</style>\n",
       "<table border=\"1\" class=\"dataframe\">\n",
       "  <thead>\n",
       "    <tr style=\"text-align: right;\">\n",
       "      <th></th>\n",
       "      <th>No Show Probability of This Time</th>\n",
       "    </tr>\n",
       "    <tr>\n",
       "      <th>PreviousTime</th>\n",
       "      <th></th>\n",
       "    </tr>\n",
       "  </thead>\n",
       "  <tbody>\n",
       "    <tr>\n",
       "      <th>Arrived</th>\n",
       "      <td>0.135453</td>\n",
       "    </tr>\n",
       "    <tr>\n",
       "      <th>No Show</th>\n",
       "      <td>0.308345</td>\n",
       "    </tr>\n",
       "  </tbody>\n",
       "</table>\n",
       "</div>"
      ],
      "text/plain": [
       "              No Show Probability of This Time\n",
       "PreviousTime                                  \n",
       "Arrived                               0.135453\n",
       "No Show                               0.308345"
      ]
     },
     "execution_count": 22,
     "metadata": {},
     "output_type": "execute_result"
    }
   ],
   "source": [
    "# Line 7\n",
    "df6.groupby('PreviousTime').agg({'ThisTime' :lambda thisTimese: len(thisTimese[thisTimese.values == 'No Show']) / float(len(thisTimese))}).rename(columns = {'ThisTime':'No Show Probability of This Time' })"
   ]
  },
  {
   "cell_type": "markdown",
   "metadata": {},
   "source": [
    "#### Discussion of findings on the table :\n",
    "#### Population-wise,the 'No-show' probability of a given appointment is affected by the patient's no-show behavior prior to that appointment."
   ]
  }
 ],
 "metadata": {
  "kernelspec": {
   "display_name": "Python 2",
   "language": "python",
   "name": "python2"
  },
  "language_info": {
   "codemirror_mode": {
    "name": "ipython",
    "version": 2
   },
   "file_extension": ".py",
   "mimetype": "text/x-python",
   "name": "python",
   "nbconvert_exporter": "python",
   "pygments_lexer": "ipython2",
   "version": "2.7.11"
  }
 },
 "nbformat": 4,
 "nbformat_minor": 0
}
